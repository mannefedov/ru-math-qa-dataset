{
 "cells": [
  {
   "cell_type": "code",
   "execution_count": 147,
   "metadata": {},
   "outputs": [],
   "source": [
    "from numpy.random import randint\n",
    "from random import choice\n",
    "# import pickle\n",
    "import dill as pickle"
   ]
  },
  {
   "cell_type": "code",
   "execution_count": 2,
   "metadata": {},
   "outputs": [],
   "source": [
    "mnames = list(open('names_male_imeniteln.txt').read().splitlines())\n",
    "fnames = list(open('names_female_imeniteln.txt').read().splitlines())"
   ]
  },
  {
   "cell_type": "code",
   "execution_count": 148,
   "metadata": {},
   "outputs": [],
   "source": [
    "fpat = pickle.load(open('pattern.pkl', 'rb'))"
   ]
  },
  {
   "cell_type": "code",
   "execution_count": 93,
   "metadata": {},
   "outputs": [],
   "source": [
    "fpat = []"
   ]
  },
  {
   "cell_type": "code",
   "execution_count": 149,
   "metadata": {},
   "outputs": [
    {
     "data": {
      "text/plain": [
       "[({'cn1': 0, 'qn1': 0},\n",
       "  'Витя и Катя взяли из пакетика {cn1} конфетки.',\n",
       "  'Сколько взяла Катя, если Витя взял {qn1}?',\n",
       "  <function __main__.get_answer>,\n",
       "  'cn1 - qn1'),\n",
       " ({'cn1': 0, 'qn1': 0},\n",
       "  'Настя и Катя взяли из ящика {cn1} конфетки.',\n",
       "  'Сколько конфет взяла Катя, если Настя взяла {qn1}?',\n",
       "  <function __main__.get_answer>,\n",
       "  'cn1 - qn1'),\n",
       " ({'cn1': 0, 'qn1': 0},\n",
       "  'Вика и Пётр вместе сорвали с дерева {cn1} ягод.',\n",
       "  'Сколько ягод у Вики, если Пётр сорвал {qn1}?',\n",
       "  <function __main__.get_answer>,\n",
       "  'cn1 - qn1'),\n",
       " ({'cn1': 0, 'qn1': 0},\n",
       "  'Полина и Петя сорвали с дерева {cn1} орехов.',\n",
       "  'Сколько орехов у Пети, если Полина сорвала {qn1}?',\n",
       "  <function __main__.get_answer>,\n",
       "  'cn1 - qn1'),\n",
       " ({'cn1': 0, 'cn2': 0},\n",
       "  'У Тани было {cn1} куклы. У Жени - {cn2} куклы.',\n",
       "  'Сколько кукол у девочек?',\n",
       "  <function __main__.get_answer>,\n",
       "  'cn1 + cn2'),\n",
       " ({'cn1': 0, 'cn2': 0},\n",
       "  'У Маши было {cn1} куклы. У Жени - {cn2} куклы.',\n",
       "  'Сколько кукол у них вместе?',\n",
       "  <function __main__.get_answer>,\n",
       "  'cn1 + cn2'),\n",
       " ({'cn1': 0, 'cn2': 0},\n",
       "  'У Маши было {cn1} брелков. У Насти было {cn2} брелков.',\n",
       "  'Сколько у них брелков?',\n",
       "  <function __main__.get_answer>,\n",
       "  'cn1 + cn2'),\n",
       " ({'cn1': 0, 'cn2': 0},\n",
       "  'Юля собрала {cn1} орехов, а Леша собрал {cn2}.',\n",
       "  'Сколько орехов собрали Юля и Леша вместе?',\n",
       "  <function __main__.get_answer>,\n",
       "  'cn1 + cn2'),\n",
       " ({'cn1': 0, 'cn2': 0},\n",
       "  'Юля собрала {cn1} яблок, а Андрей собрал {cn2}.',\n",
       "  'Сколько яблок у Юли и Андрея?',\n",
       "  <function __main__.get_answer>,\n",
       "  'cn1 + cn2'),\n",
       " ({'cn1': 0, 'qn1': 0},\n",
       "  'Виктор и Кристина вместе взяли из коробки {cn1} конфет.',\n",
       "  'Сколько взял Виктор, если Кристина взяла {qn1}?',\n",
       "  <function __main__.get_answer>,\n",
       "  'cn1 - qn1'),\n",
       " ({'cn1': 0, 'cn2': 0},\n",
       "  'У девятиклассника Сергея было {cn1} монет. Он дал второкласснику Володе, который потерял свои деньги на обед, {cn2} монеты.',\n",
       "  'Сколько монет осталось у Сергея?',\n",
       "  <function __main__.get_answer>,\n",
       "  'cn1 - cn2'),\n",
       " ({'cn1': 0, 'cn2': 0},\n",
       "  'У Сереги {cn1} монет. Он одолжил Володе, который потерял свои деньги на обед, {cn2} монеты.',\n",
       "  'Сколько монет осталось у Сереги?',\n",
       "  <function __main__.get_answer>,\n",
       "  'cn1 - cn2'),\n",
       " ({'cn1': 0, 'cn2': 0},\n",
       "  'У Влада {cn1} монет. Он одолжил Володе, который потерял свои деньги на обед, {cn2} монеты.',\n",
       "  'Сколько монет осталось у Влада?',\n",
       "  <function __main__.get_answer>,\n",
       "  'cn1 - cn2'),\n",
       " ({'cn1': 0, 'cn2': 0},\n",
       "  \"У Димы было {cn1} рублей. Он одолжил Мише из 5 'А' {cn2} рублей.\",\n",
       "  'Сколько денег у него теперь?',\n",
       "  <function __main__.get_answer>,\n",
       "  'cn1 - cn2'),\n",
       " ({'cn1': 0, 'cn2': 0},\n",
       "  'У Коли было {cn1} рублей. Он дал своему однокласснику {cn2} рублей.',\n",
       "  'Сколько у него осталось?',\n",
       "  <function __main__.get_answer>,\n",
       "  'cn1 - cn2'),\n",
       " ({'qn1': 0, 'qn2': 0},\n",
       "  '',\n",
       "  'Какое число больше {qn1} на {qn2}',\n",
       "  <function __main__.get_answer>,\n",
       "  'qn1 + qn2'),\n",
       " ({'qn1': 0, 'qn2': 0},\n",
       "  '',\n",
       "  'Какое число меньше {qn1} на {qn2}',\n",
       "  <function __main__.get_answer>,\n",
       "  'qn1 - qn2'),\n",
       " ({'qn1': 0, 'qn2': 0},\n",
       "  '',\n",
       "  'Какое число меньше {qn1} в {qn2} раз',\n",
       "  <function __main__.get_answer>,\n",
       "  'qn1/qn2'),\n",
       " ({'qn1': 0, 'qn2': 0},\n",
       "  '',\n",
       "  'Какое число больше {qn1} в {qn2} раз',\n",
       "  <function __main__.get_answer>,\n",
       "  'qn1*qn2'),\n",
       " ({'qn1': 0, 'qn2': 0},\n",
       "  '',\n",
       "  'Какое число превосходит {qn1} в {qn2} раз',\n",
       "  <function __main__.get_answer>,\n",
       "  'qn1*qn2'),\n",
       " ({'cn1': 0, 'cn2': 0},\n",
       "  'Джон поел в буфете на {cn1} рублей. У него осталось ещё {cn2} рублей.',\n",
       "  'Сколько у него было до похода в буфет?',\n",
       "  <function __main__.get_answer>,\n",
       "  'cn1+cn2'),\n",
       " ({'cn1': 0, 'cn2': 0},\n",
       "  'Обед в столовой обошелся Семёну в {cn1} рублей. После этого у него осталось ещё {cn2} рублей.',\n",
       "  'Сколько рублей было у Семёна до похода в столовую?',\n",
       "  <function __main__.get_answer>,\n",
       "  'cn1+cn2'),\n",
       " ({'cn1': 0, 'cn2': 0},\n",
       "  'У Толи было {cn1} рублей. После похода в кафе у него осталось {cn2}.',\n",
       "  'Сколько он потратил в кафе?',\n",
       "  <function __main__.get_answer>,\n",
       "  'cn1-cn2'),\n",
       " ({'cn1': 0, 'cn2': 0},\n",
       "  'У Толи было {cn1} рублей. После похода в кафе у него осталось {cn2}.',\n",
       "  'Сколько он потратил?',\n",
       "  <function __main__.get_answer>,\n",
       "  'cn1-cn2'),\n",
       " ({'cn1': 0, 'cn2': 0},\n",
       "  'Вечером на катке катались дети. В 9 вечера {cn1} самых младших ушли домой. На катке осталось {cn2} детей.',\n",
       "  'Сколько детей было на катке до 9 вечера?',\n",
       "  <function __main__.get_answer>,\n",
       "  'cn1+cn2'),\n",
       " ({'cn1': 0, 'cn2': 0},\n",
       "  'Вечером на катке катались {cn1} людей.  Потом какое-то количество ушло домой. На катке осталось {cn2} людей.',\n",
       "  'Сколько людей было на катке изначально?',\n",
       "  <function __main__.get_answer>,\n",
       "  'cn1+cn2'),\n",
       " ({'cn1': 0, 'cn2': 0},\n",
       "  'Вечером 22 декабря на катке в парке каталось {cn1} людей.  К 9 вечера часть людей разошлась по домам. На катке осталось {cn2} людей.',\n",
       "  'Сколько людей ушло к 9 вечера?',\n",
       "  <function __main__.get_answer>,\n",
       "  'cn1-cn2'),\n",
       " ({'cn1': 0, 'qn1': 0},\n",
       "  'На цирковой арене выступали собачки, кошки и 1 дрессировщица. Всего на арене было {cn1} животных.',\n",
       "  'Сколько собак выступало на арене, если кошек было {qn1}?',\n",
       "  <function __main__.get_answer>,\n",
       "  'cn1-qn1'),\n",
       " ({'cn1': 0, 'qn1': 0},\n",
       "  'На цирковой арене выступали собаки, кошки и дрессировщик. Всего на арене находилось {cn1} животных.',\n",
       "  'Сколько кошек выступало на арене, если собак было на {qn1} больше?',\n",
       "  <function __main__.get_answer>,\n",
       "  '(cn1-qn1)/2'),\n",
       " ({'cn1': 0, 'qn1': 0},\n",
       "  'Первая комната на {cn1} м меньше в ширину, чем вторая.',\n",
       "  'Чему равна ширина первой комнаты, если ширина второй равна {qn1}?',\n",
       "  <function __main__.get_answer>,\n",
       "  'qn1 - cn1'),\n",
       " ({'cn1': 0, 'qn1': 0},\n",
       "  'Первая комната на {cn1} метров больше в ширину, чем вторая.',\n",
       "  'Чему равна ширина первой комнаты, если ширина второй равна {qn1} метров?',\n",
       "  <function __main__.get_answer>,\n",
       "  'qn1 + cn1'),\n",
       " ({'cn1': 0, 'cn2': 0},\n",
       "  'Длина первой комнаты - {cn1} метра. Вторая комната в {cn2} раза длиннее.',\n",
       "  'Какова длина второй комнаты?',\n",
       "  <function __main__.get_answer>,\n",
       "  'cn1 * cn2'),\n",
       " ({'cn1': 0, 'cn2': 0},\n",
       "  'Длина первой комнаты - {cn1} метра. Вторая комната в {cn2} раза длиннее.',\n",
       "  'Чему равна сумма их длин?',\n",
       "  <function __main__.get_answer>,\n",
       "  'cn1 + (cn1 * cn2)'),\n",
       " ({'cn1': 0, 'cn2': 0},\n",
       "  'Длина первой комнаты - {cn1} м. Вторая комната в длинее неё ровно в {cn2} раза',\n",
       "  'Чему равна сумма длин двух комнат?',\n",
       "  <function __main__.get_answer>,\n",
       "  'cn1 + (cn1 * cn2)'),\n",
       " ({'cn1': 0, 'qn1': 0},\n",
       "  'Вторая палка в {cn1} раза длинее первой.',\n",
       "  'Чему равна сумма длин двух палок, если длина второй равна {qn1} м?',\n",
       "  <function __main__.get_answer>,\n",
       "  'qn1 + (qn1/cn1)'),\n",
       " ({'cn1': 0, 'cn2': 0, 'cn3': 0},\n",
       "  'У Вани есть {cn1} овечки, {cn2} хрюшки и {cn3} коровы.',\n",
       "  'Сколько всего животных у Вани?',\n",
       "  <function __main__.get_answer>,\n",
       "  'cn1+cn2+cn3'),\n",
       " ({'cn1': 0, 'cn2': 0, 'cn3': 0},\n",
       "  'В сарае живёт {cn1} овечки, {cn2} хрюшки и {cn3} коровы.',\n",
       "  'Сколько всего животных в сарае?',\n",
       "  <function __main__.get_answer>,\n",
       "  'cn1+cn2+cn3'),\n",
       " ({'cn1': 0, 'cn2': 0, 'cn3': 0, 'cn4': 0},\n",
       "  'На ферме живёт {cn1} свиньи, {cn2} коров, {cn3} лошадей и {cn4} коз.',\n",
       "  'Сколько всего домашних животных живёт на ферме?',\n",
       "  <function __main__.get_answer>,\n",
       "  'cn1+cn2+cn3+cn4'),\n",
       " ({'cn1': 0, 'cn2': 0, 'cn3': 0, 'cn4': 0},\n",
       "  'На ферме живёт {cn1} домашних животных. Из них {cn2} коров, {cn3} лошадей, {cn4} коз, а остальные - свиньи.',\n",
       "  'Сколько всего свиней на ферме?',\n",
       "  <function __main__.get_answer>,\n",
       "  'cn1-(cn2+cn3+cn4)'),\n",
       " ({'cn1': 0, 'qn1': 0},\n",
       "  'На пасеке {cn1} ульев.',\n",
       "  'Сколько всего пчёл на пасеке, если в каждом улье живёт по {qn1} пчел?',\n",
       "  <function __main__.get_answer>,\n",
       "  'cn1*qn1'),\n",
       " ({'cn1': 0, 'cn2': 0, 'cn3': 0},\n",
       "  'На огороде {cn1} грядок с морковкой. На каждой грядке {cn2} рядов. В каждом ряде {cn3} морковок.',\n",
       "  'Сколько всего морковок растён на огороде?',\n",
       "  <function __main__.get_answer>,\n",
       "  'cn1*cn2*cn3'),\n",
       " ({'cn1': 0, 'cn2': 0, 'cn3': 0},\n",
       "  'За книгу, альбом и ручку Света заплатила {cn1} рублей. Альбом стоил {cn2} рублей, а ручка {cn3}.',\n",
       "  'Сколько рублей стоила книга?',\n",
       "  <function __main__.get_answer>,\n",
       "  'cn1-(cn2+cn3)'),\n",
       " ({'cn1': 0, 'cn2': 0, 'cn3': 0},\n",
       "  'За пенал, точилку и маркеры Андрей заплатил {cn1} руб. Пенал стоил {cn2} руб, а точилка {cn3}.',\n",
       "  'Сколько Андрей заплатил за маркеры?',\n",
       "  <function __main__.get_answer>,\n",
       "  'cn1-(cn2+cn3)'),\n",
       " ({'cn1': 0, 'qn1': 0, 'qn2': 0},\n",
       "  'За пенал, стёрки и маркеры Андрей заплатил {cn1} руб.',\n",
       "  'Сколько Андрей заплатил за маркеры, если пенал стоил {qn1} руб, а стёрки {qn2}?',\n",
       "  <function __main__.get_answer>,\n",
       "  'cn1-(cn2+cn3)'),\n",
       " ({'cn1': 0, 'qn1': 0, 'qn2': 0, 'qn3': 0},\n",
       "  'Альбина из 2А купила книгу, альбом и {cn1} ручек.',\n",
       "  'Сколько всего денег она потратила, если альбом стоил {qn1} руб, книга стоила {qn2} руб, а каждая ручка - {qn3} руб?',\n",
       "  <function __main__.get_answer>,\n",
       "  '(cn1*qn3)+qn1+qn2'),\n",
       " ({'cn1': 0, 'cn2': 0, 'cn3': 0},\n",
       "  'Нина купила мюсли и {cn1} пачки творога. Мюсли стоили {cn2} рублей, а каждая пачка творога - {cn3} рублей.',\n",
       "  'Сколько рублей Нина заплатила за покупку?',\n",
       "  <function __main__.get_answer>,\n",
       "  'cn2+(cn1*cn3)'),\n",
       " ({'qn1': 0, 'qn2': 0, 'qn3': 0},\n",
       "  '',\n",
       "  'Чему равна сумма {qn1}, {qn2} и {qn3}?',\n",
       "  <function __main__.get_answer>,\n",
       "  'qn1+qn2+qn3'),\n",
       " ({'qn1': 0, 'qn2': 0, 'qn3': 0},\n",
       "  '',\n",
       "  'Чему равна сумма трёх чисел: {qn1}, {qn2} и {qn3}?',\n",
       "  <function __main__.get_answer>,\n",
       "  'qn1+qn2+qn3'),\n",
       " ({'qn1': 0, 'qn2': 0, 'qn3': 0},\n",
       "  '',\n",
       "  'Какое число получится, если сложить {qn1}, {qn2} и {qn3}?',\n",
       "  <function __main__.get_answer>,\n",
       "  'qn1+qn2+qn3'),\n",
       " ({'qn1': 0, 'qn2': 0, 'qn3': 0, 'qn4': 0},\n",
       "  '',\n",
       "  'Чему равен результат сложения {qn1}, {qn2}, {qn3} и {qn4}?',\n",
       "  <function __main__.get_answer>,\n",
       "  'qn1+qn2+qn3+qn4'),\n",
       " ({'qn1': 0, 'qn2': 0},\n",
       "  '',\n",
       "  'Чему равен результат произведения {qn1} и {qn2}?',\n",
       "  <function __main__.get_answer>,\n",
       "  'qn1*qn2'),\n",
       " ({'qn1': 0, 'qn2': 0},\n",
       "  '',\n",
       "  'Сколько будет {qn1} умножить на {qn2}?',\n",
       "  <function __main__.get_answer>,\n",
       "  'qn1*qn2'),\n",
       " ({'qn1': 0, 'qn2': 0, 'qn3': 0},\n",
       "  '',\n",
       "  'Сколько получится, если {qn1} поделить на {qn2}, а затем прибавить {qn3}?',\n",
       "  <function __main__.get_answer>,\n",
       "  '(qn1/qn2)+qn3')]"
      ]
     },
     "execution_count": 149,
     "metadata": {},
     "output_type": "execute_result"
    }
   ],
   "source": [
    "fpat"
   ]
  },
  {
   "cell_type": "code",
   "execution_count": 103,
   "metadata": {},
   "outputs": [],
   "source": [
    "\n",
    "# nums = {'cn1':0, 'qn1':0}\n",
    "# # names = ['mname', 'fname']\n",
    "# co = 'Полина и Петя сорвали с дерева {cn1} орехов.'\n",
    "# q = 'Сколько орехов у Пети, если Полина сорвала {qn1}?'\n",
    "# formula = 'cn1 - qn1'\n",
    "\n",
    "# def get_answer(nums):\n",
    "#     a = nums['cn1'] - nums['qn1']\n",
    "#     return a\n",
    "# fpat.append((nums, co, q, get_answer, formula))"
   ]
  },
  {
   "cell_type": "code",
   "execution_count": 114,
   "metadata": {},
   "outputs": [
    {
     "name": "stdout",
     "output_type": "stream",
     "text": [
      "('У Маши было 42 брелков. У Насти было 160 брелков.', 'Сколько у них брелков?', 202)\n"
     ]
    }
   ],
   "source": [
    "\n",
    "nums = {'cn1':0, 'cn2':0}\n",
    "\n",
    "co = \"У Маши было {cn1} брелков. У Насти было {cn2} брелков.\"\n",
    "q = \"Сколько у них брелков?\"\n",
    "\n",
    "formula = 'cn1 + cn2'\n",
    "def get_answer(nums):\n",
    "    a = nums['cn1'] + nums['cn2']\n",
    "    return a\n",
    "print(gen_new(*(nums, co, q, get_answer, formula)))\n"
   ]
  },
  {
   "cell_type": "code",
   "execution_count": 115,
   "metadata": {},
   "outputs": [],
   "source": [
    "fpat.append((nums, co, q, get_answer, formula))"
   ]
  },
  {
   "cell_type": "code",
   "execution_count": 120,
   "metadata": {},
   "outputs": [
    {
     "name": "stdout",
     "output_type": "stream",
     "text": [
      "('Юля собрала 161 яблок, а Андрей собрал 156.', 'Сколько яблок у Юли и Андрея?', 317)\n"
     ]
    }
   ],
   "source": [
    "\n",
    "nums = {'cn1':0, 'cn2':0}\n",
    "\n",
    "co = \"Юля собрала {cn1} яблок, а Андрей собрал {cn2}.\"\n",
    "q = \"Сколько яблок у Юли и Андрея?\"\n",
    "\n",
    "formula = 'cn1 + cn2'\n",
    "def get_answer(nums):\n",
    "    a = nums['cn1'] + nums['cn2']\n",
    "    return a\n",
    "print(gen_new(*(nums, co, q, get_answer, formula)))"
   ]
  },
  {
   "cell_type": "code",
   "execution_count": 123,
   "metadata": {},
   "outputs": [
    {
     "name": "stdout",
     "output_type": "stream",
     "text": [
      "('Виктор и Кристина вместе взяли из коробки 127 конфет.', 'Сколько взял Виктор, если Кристина взяла 9?', 118)\n"
     ]
    }
   ],
   "source": [
    "\n",
    "nums = {'cn1':0, 'qn1':0}\n",
    "\n",
    "co = \"Виктор и Кристина вместе взяли из коробки {cn1} конфет.\"\n",
    "q = \"Сколько взял Виктор, если Кристина взяла {qn1}?\"\n",
    "\n",
    "formula = 'cn1 - qn1'\n",
    "def get_answer(nums):\n",
    "    a = nums['cn1'] - nums['qn1']\n",
    "    return a\n",
    "print(gen_new(*(nums, co, q, get_answer, formula)))"
   ]
  },
  {
   "cell_type": "code",
   "execution_count": 138,
   "metadata": {},
   "outputs": [
    {
     "name": "stdout",
     "output_type": "stream",
     "text": [
      "('У Коли было 138 рублей. Он дал своему однокласснику 70 рублей.', 'Сколько у него осталось?', 68)\n"
     ]
    }
   ],
   "source": [
    "\n",
    "nums = {'cn1':0, 'cn2':0}\n",
    "\n",
    "co = \"У Коли было {cn1} рублей. Он дал своему однокласснику {cn2} рублей.\"\n",
    "q = \"Сколько у него осталось?\"\n",
    "\n",
    "formula = 'cn1 - cn2'\n",
    "def get_answer(nums):\n",
    "    a = nums['cn1'] - nums['cn2']\n",
    "    return a\n",
    "print(gen_new(*(nums, co, q, get_answer, formula)))"
   ]
  },
  {
   "cell_type": "code",
   "execution_count": 35,
   "metadata": {},
   "outputs": [
    {
     "name": "stdout",
     "output_type": "stream",
     "text": [
      "('', 'Какое число превосходит 104 в 49 раз', 5096)\n"
     ]
    }
   ],
   "source": [
    "\n",
    "nums = {'qn1':0, 'qn2':0}\n",
    "\n",
    "co = \"\"\n",
    "q = \"Какое число превосходит {qn1} в {qn2} раз\"\n",
    "\n",
    "formula = 'qn1*qn2'\n",
    "def get_answer(nums):\n",
    "    a = nums['qn1']*nums['qn2']\n",
    "    return a\n",
    "\n",
    "print(gen_new(*(nums, co, q, get_answer, formula)))"
   ]
  },
  {
   "cell_type": "code",
   "execution_count": 48,
   "metadata": {},
   "outputs": [
    {
     "name": "stdout",
     "output_type": "stream",
     "text": [
      "('Обед в столовой обошелся Семёну в 346 рублей. После этого у него осталось ещё 169 рублей.', 'Сколько рублей было у Семёна до похода в столовую?', 515)\n"
     ]
    }
   ],
   "source": [
    "\n",
    "nums = {'cn1':0, 'cn2':0}\n",
    "\n",
    "co = \"Обед в столовой обошелся Семёну в {cn1} рублей. После этого у него осталось ещё {cn2} рублей.\"\n",
    "q = \"Сколько рублей было у Семёна до похода в столовую?\"\n",
    "\n",
    "\n",
    "formula = 'cn1+cn2'\n",
    "def get_answer(nums):\n",
    "    a = nums['cn1']+nums['cn2']\n",
    "    return a\n",
    "\n",
    "print(gen_new(*(nums, co, q, get_answer, formula)))"
   ]
  },
  {
   "cell_type": "code",
   "execution_count": 55,
   "metadata": {},
   "outputs": [
    {
     "name": "stdout",
     "output_type": "stream",
     "text": [
      "('У Толи было 174 рублей. После похода в кафе у него осталось 113.', 'Сколько он потратил?', 61)\n"
     ]
    }
   ],
   "source": [
    "\n",
    "nums = {'cn1':0, 'cn2':0}\n",
    "\n",
    "co = \"У Толи было {cn1} рублей. После похода в кафе у него осталось {cn2}.\"\n",
    "q = \"Сколько он потратил?\"\n",
    "\n",
    "\n",
    "formula = 'cn1-cn2'\n",
    "def get_answer(nums):\n",
    "    a = nums['cn1']-nums['cn2']\n",
    "    return a\n",
    "\n",
    "print(gen_new(*(nums, co, q, get_answer, formula)))"
   ]
  },
  {
   "cell_type": "code",
   "execution_count": 66,
   "metadata": {},
   "outputs": [
    {
     "name": "stdout",
     "output_type": "stream",
     "text": [
      "('Вечером 22 декабря на катке в парке каталось 328 людей.  К 9 вечера часть людей разошлась по домам. На катке осталось 320 людей.', 'Сколько людей ушло к 9 вечера?', 8)\n"
     ]
    }
   ],
   "source": [
    "\n",
    "nums = {'cn1':0, 'cn2':0}\n",
    "\n",
    "co = \"Вечером 22 декабря на катке в парке каталось {cn1} людей.  К 9 вечера часть людей разошлась по домам. На катке осталось {cn2} людей.\"\n",
    "q = \"Сколько людей ушло к 9 вечера?\"\n",
    "\n",
    "\n",
    "formula = 'cn1-cn2'\n",
    "def get_answer(nums):\n",
    "    a = nums['cn1']-nums['cn2']\n",
    "    return a\n",
    "\n",
    "print(gen_new(*(nums, co, q, get_answer, formula)))"
   ]
  },
  {
   "cell_type": "code",
   "execution_count": 76,
   "metadata": {},
   "outputs": [
    {
     "name": "stdout",
     "output_type": "stream",
     "text": [
      "('На цирковой арене выступали собаки, кошки и дрессировщик. Всего на арене находилось 394 животных.', 'Сколько кошек выступало на арене, если собак было на 210 больше?', 92)\n"
     ]
    }
   ],
   "source": [
    "\n",
    "\n",
    "nums = {'cn1':0, 'qn1':0}\n",
    "\n",
    "co = \"На цирковой арене выступали собаки, кошки и дрессировщик. Всего на арене находилось {cn1} животных.\"\n",
    "q = \"Сколько кошек выступало на арене, если собак было на {qn1} больше?\"\n",
    "\n",
    "\n",
    "formula = '(cn1-qn1)/2'\n",
    "def get_answer(nums):\n",
    "    a = (nums['cn1']-nums['qn1'])/2\n",
    "    return a\n",
    "\n",
    "print(gen_new(*(nums, co, q, get_answer, formula)))"
   ]
  },
  {
   "cell_type": "code",
   "execution_count": 117,
   "metadata": {},
   "outputs": [
    {
     "name": "stdout",
     "output_type": "stream",
     "text": [
      "('Длина первой комнаты - 16 метра. Вторая комната в 2 раза длиннее.', 'Чему равна сумма их длин?', 48)\n"
     ]
    }
   ],
   "source": [
    "\n",
    "\n",
    "\n",
    "\n",
    "nums = {'cn1':0, 'cn2':0,}\n",
    "\n",
    "co = \"Длина первой комнаты - {cn1} метра. Вторая комната в {cn2} раза длиннее.\"\n",
    "q = \"Чему равна сумма их длин?\"\n",
    "\n",
    "\n",
    "formula = 'cn1 + (cn1 * cn2)'\n",
    "def get_answer(nums):\n",
    "    a = (nums['cn1']+(nums['cn2']*nums['cn1']))\n",
    "    return a\n",
    "\n",
    "print(gen_new(*(nums, co, q, get_answer, formula, 100)))"
   ]
  },
  {
   "cell_type": "code",
   "execution_count": 136,
   "metadata": {},
   "outputs": [
    {
     "name": "stdout",
     "output_type": "stream",
     "text": [
      "('Вторая палка в 20 раза длинее первой.', 'Чему равна сумма длин двух палок, если длина второй равна 60 м?', 63)\n"
     ]
    }
   ],
   "source": [
    "\n",
    "\n",
    "\n",
    "\n",
    "nums = {'cn1':0, 'qn1':0,}\n",
    "\n",
    "co = \"Вторая палка в {cn1} раза длинее первой.\"\n",
    "q = \"Чему равна сумма длин двух палок, если длина второй равна {qn1} м?\"\n",
    "\n",
    "\n",
    "formula = 'qn1 + (qn1/cn1)'\n",
    "def get_answer(nums):\n",
    "    a = (nums['qn1']+(nums['qn1']/nums['cn1']))\n",
    "    return a\n",
    "\n",
    "print(gen_new(*(nums, co, q, get_answer, formula, 200)))"
   ]
  },
  {
   "cell_type": "code",
   "execution_count": 164,
   "metadata": {},
   "outputs": [
    {
     "name": "stdout",
     "output_type": "stream",
     "text": [
      "('На огороде 6 грядок с морковкой. На каждой грядке 4 рядов. В каждом ряде 24 морковок.', 'Сколько всего морковок растён на огороде?', 576)\n"
     ]
    }
   ],
   "source": [
    "\n",
    "\n",
    "\n",
    "nums = {'cn1':0, 'cn2':0, \"cn3\":0}\n",
    "\n",
    "co = \"На огороде {cn1} грядок с капустой. На каждой грядке {cn2} рядов. В каждом ряде {cn3} морковок.\"\n",
    "q = \"Сколько всего морковок растён на огороде?\"\n",
    "\n",
    "\n",
    "formula = 'cn1*cn2*cn3'\n",
    "def get_answer(nums):\n",
    "    a = (nums['cn1']*nums['cn2']*nums[\"cn3\"])\n",
    "    return a\n",
    "\n",
    "print(gen_new(*(nums, co, q, get_answer, formula, 600)))"
   ]
  },
  {
   "cell_type": "code",
   "execution_count": null,
   "metadata": {},
   "outputs": [],
   "source": [
    " \t\t60"
   ]
  },
  {
   "cell_type": "code",
   "execution_count": 201,
   "metadata": {},
   "outputs": [
    {
     "name": "stdout",
     "output_type": "stream",
     "text": [
      "('', 'Сколько получится, если 396 поделить на 132, а затем прибавить 10?', 13)\n"
     ]
    }
   ],
   "source": [
    "\n",
    "\n",
    "\n",
    "nums = {'qn1':0, 'qn2':0, \"qn3\":0}\n",
    "\n",
    "co = \"\"\n",
    "q = \"Сколько получится, если {qn1} поделить на {qn2}, а затем прибавить {qn3}?\"\n",
    "\n",
    "\n",
    "formula = '(qn1/qn2)+qn3'\n",
    "def get_answer(nums):\n",
    "    a = (nums['qn1']/nums['qn2'])+nums['qn3']\n",
    "    return a\n",
    "\n",
    "print(gen_new(*(nums, co, q, get_answer, formula, 200)))"
   ]
  },
  {
   "cell_type": "code",
   "execution_count": 163,
   "metadata": {},
   "outputs": [
    {
     "name": "stdout",
     "output_type": "stream",
     "text": [
      "('У Ани 10 листочков. А у Димы в 5 раз больше.', 'Сколько листочков у них вместе?', 60)\n"
     ]
    }
   ],
   "source": [
    "\n",
    "\n",
    "\n",
    "nums = {'cn2':0, 'cn1':0}\n",
    "\n",
    "co = \"У Ани {cn1} листочков. А у Димы в {cn2} раз больше.\"\n",
    "q = \"Сколько листочков у них вместе?\"\n",
    "\n",
    "\n",
    "formula = '(cn1*cn2)+cn1'\n",
    "def get_answer(nums):\n",
    "    a = (nums['cn1']*nums['cn2'])+nums['cn1']\n",
    "    return a\n",
    "\n",
    "print(gen_new(*(nums, co, q, get_answer, formula, 200)))"
   ]
  },
  {
   "cell_type": "code",
   "execution_count": 183,
   "metadata": {},
   "outputs": [
    {
     "name": "stdout",
     "output_type": "stream",
     "text": [
      "('Аня, Витя и Майа строили домики из конструктора. Аня использовала 191 деталей, Витя использовал на 168 деталей меньше, чем Аня, а Майа - на 65 больше, чем Витя.', 'Какое количество деталей использовала Майа?', 88)\n"
     ]
    }
   ],
   "source": [
    "\n",
    "\n",
    "\n",
    "\n",
    "\n",
    "nums = {'cn2':0, 'cn1':0, 'cn3':0}\n",
    "\n",
    "co = \"Аня, Витя и Майа строили домики из конструктора. Аня использовала {cn1} деталей, Витя использовал на {cn2} деталей меньше, чем Аня, а Майа - на {cn3} больше, чем Витя.\"\n",
    "q = \"Какое количество деталей использовала Майа?\"\n",
    "\n",
    "\n",
    "formula = '(cn1-cn2)+cn3'\n",
    "def get_answer(nums):\n",
    "    b = (nums['cn1']-nums['cn2'])\n",
    "    if not b:\n",
    "        return 0\n",
    "    a = b+nums['cn3']\n",
    "    return a\n",
    "\n",
    "print(gen_new(*(nums, co, q, get_answer, formula, 200)))"
   ]
  },
  {
   "cell_type": "code",
   "execution_count": 194,
   "metadata": {},
   "outputs": [
    {
     "name": "stdout",
     "output_type": "stream",
     "text": [
      "('Сергею сейчас 3 лет. Ане - 13 года. А Марии - 1.', 'Сколько лет Мите, если известно, что ему столько, сколько остальным ребятам вместе взятым?', 17)\n"
     ]
    }
   ],
   "source": [
    "\n",
    "\n",
    "\n",
    "\n",
    "\n",
    "\n",
    "nums = {'cn2':0, 'cn1':0, 'cn3':0}\n",
    "\n",
    "co = \"Сергею сейчас {cn1} лет. Ане - {cn2} года. А Марии - {cn3}.\"\n",
    "q = \"Сколько лет Мите, если известно, что ему столько, сколько остальным ребятам вместе взятым?\"\n",
    "\n",
    "\n",
    "formula = '(cn1+cn2)+cn3'\n",
    "def get_answer(nums):\n",
    "    \n",
    "    \n",
    "    a = nums['cn1']+nums['cn2']+nums['cn3']\n",
    "    return a\n",
    "\n",
    "print(gen_new(*(nums, co, q, get_answer, formula, 30)))"
   ]
  },
  {
   "cell_type": "code",
   "execution_count": 210,
   "metadata": {},
   "outputs": [
    {
     "name": "stdout",
     "output_type": "stream",
     "text": [
      "('Тузик съел 16 граммов корма в субботу и 185 граммов корма в воскресенье.', 'Сколько корма съел Тузик за субботу и воскресенье?', 201)\n"
     ]
    }
   ],
   "source": [
    "\n",
    "nums = {'cn1':0, 'cn2':0}\n",
    "\n",
    "co = \"Тузик съел {cn1} граммов корма в субботу и {cn2} граммов корма в воскресенье.\"\n",
    "q = \"Сколько корма съел Тузик за субботу и воскресенье?\"\n",
    "\n",
    "\n",
    "formula = 'cn1+cn2'\n",
    "def get_answer(nums):\n",
    "    \n",
    "    \n",
    "    a = nums['cn1']+nums['cn2']\n",
    "    return a\n",
    "\n",
    "print(gen_new(*(nums, co, q, get_answer, formula, 500)))"
   ]
  },
  {
   "cell_type": "code",
   "execution_count": 221,
   "metadata": {},
   "outputs": [
    {
     "name": "stdout",
     "output_type": "stream",
     "text": [
      "('Костя и Миша купили 4 пломбира (по два каждому), стоимостью 10 руб, 1 руб, 58 руб и 7 руб.', 'Сколько мальчики заплатили за мороженое?', 76)\n"
     ]
    }
   ],
   "source": [
    "\t\t210\n",
    "\n",
    "nums = {'cn1':0, 'cn2':0, \"cn3\":0, \"cn4\":0}\n",
    "\n",
    "co = \"Костя и Миша купили 4 пломбира (по два каждому), стоимостью {cn1} руб, {cn2} руб, {cn3} руб и {cn4} руб.\"\n",
    "q = \"Сколько мальчики заплатили за мороженое?\"\n",
    "\n",
    "\n",
    "formula = 'cn1+cn2+cn3+cn4'\n",
    "def get_answer(nums):\n",
    "    \n",
    "    \n",
    "    a = nums['cn1']+nums['cn2']+nums[\"cn3\"]+nums[\"cn4\"]\n",
    "    return a\n",
    "\n",
    "print(gen_new(*(nums, co, q, get_answer, formula, 100)))"
   ]
  },
  {
   "cell_type": "code",
   "execution_count": 247,
   "metadata": {},
   "outputs": [
    {
     "name": "stdout",
     "output_type": "stream",
     "text": [
      "('У первого видеоролика 50 просмотров. У второго - 25 просмотров.', 'Чему равно общее количество просмотров этих двух роликов?', 75)\n"
     ]
    }
   ],
   "source": [
    "\n",
    "nums = {'cn1':0, 'cn2':0}\n",
    "\n",
    "co = \"У первого видеоролика {cn1} просмотров. У второго - {cn2} просмотров.\"\n",
    "q = \"Чему равно общее количество просмотров этих двух роликов?\"\n",
    "\n",
    "\n",
    "formula = 'cn1+сn2'\n",
    "def get_answer(nums):\n",
    "    \n",
    "    \n",
    "    a = nums['cn1']+nums['cn2']\n",
    "    return a\n",
    "\n",
    "print(gen_new(*(nums, co, q, get_answer, formula, 100)))"
   ]
  },
  {
   "cell_type": "code",
   "execution_count": 261,
   "metadata": {},
   "outputs": [
    {
     "name": "stdout",
     "output_type": "stream",
     "text": [
      "('Алик собрал 61 яиц. Под них у него было заготовлено 4 пустыx коробок. В каждую коробку помещается 20 яиц.', 'Сколько яиц не хватает Алику, чтобы заполнить все коробки?', 19)\n"
     ]
    }
   ],
   "source": [
    "\n",
    "nums = {'cn1':0, 'cn2':0, 'cn3':0}\n",
    "\n",
    "co = \"Алик собрал {cn1} яиц. Под них у него было заготовлено {cn2} пустыx коробок. В каждую коробку помещается {cn3} яиц.\"\n",
    "q = \"Сколько яиц не хватает Алику, чтобы заполнить все коробки?\"\n",
    "\n",
    "\n",
    "formula = '(cn2*сn3)-cn1'\n",
    "def get_answer(nums):\n",
    "    \n",
    "    \n",
    "    a = (nums['cn2']*nums['cn3'])-nums['cn1']\n",
    "    return a\n",
    "\n",
    "print(gen_new(*(nums, co, q, get_answer, formula, 100)))"
   ]
  },
  {
   "cell_type": "code",
   "execution_count": 271,
   "metadata": {},
   "outputs": [
    {
     "name": "stdout",
     "output_type": "stream",
     "text": [
      "('Из ёмкости, в которой было 86 л воды, зачерпнули два ведра для полива.', 'Сколько литров воды осталось в ёмкости, если в каждом ведре было 19 л?', 48)\n"
     ]
    }
   ],
   "source": [
    "\n",
    "nums = {'cn1':0, 'qn1':0, }\n",
    "\n",
    "co = \"Из ёмкости, в которой было {cn1} л воды, зачерпнули два ведра для полива.\"\n",
    "q = \"Сколько литров воды осталось в ёмкости, если в каждом ведре было {qn1} л?\"\n",
    "\n",
    "\n",
    "formula = ''\n",
    "def get_answer(nums):\n",
    "    \n",
    "    \n",
    "    a = nums['cn1']-(nums['qn1']*2)\n",
    "    return a\n",
    "\n",
    "print(gen_new(*(nums, co, q, get_answer, formula, 100)))"
   ]
  },
  {
   "cell_type": "code",
   "execution_count": 287,
   "metadata": {},
   "outputs": [
    {
     "name": "stdout",
     "output_type": "stream",
     "text": [
      "('В книжный магазин поступило 269 экземпляров сказок Пушкина. В первый день большую часть раскупили и в книжном осталось всего 75 экземпляров.', 'Сколько сказок купили в первый день?', 194)\n"
     ]
    }
   ],
   "source": [
    "\n",
    "\n",
    "\n",
    "nums = {'cn1':0, 'cn2':0 }\n",
    "\n",
    "co = \"В книжный магазин поступило {cn1} экземпляров сказок Пушкина. В первый день большую часть раскупили и в книжном осталось всего {cn2} экземпляров.\"\n",
    "q = \"Сколько сказок купили в первый день?\"\n",
    "\n",
    "\n",
    "formula = 'cn1-cn2'\n",
    "def get_answer(nums):\n",
    "    \n",
    "    \n",
    "    a = nums['cn1']-nums['cn2']\n",
    "    if (a-10) < nums['cn2']:\n",
    "        return 0\n",
    "    \n",
    "    return a\n",
    "\n",
    "print(gen_new(*(nums, co, q, get_answer, formula, 300)))"
   ]
  },
  {
   "cell_type": "code",
   "execution_count": 298,
   "metadata": {},
   "outputs": [
    {
     "name": "stdout",
     "output_type": "stream",
     "text": [
      "('У мамы в наборе для шитья лежало 283 пуговицы. Дочка взяла у мамы 267 пуговиц, но потом 168 вернула.', 'Сколько пуговиц осталось в наборе у мамы?', 184)\n"
     ]
    }
   ],
   "source": [
    "\n",
    "nums = {'cn1':0, 'cn2':0, 'cn3':0}\n",
    "\n",
    "co = \"У мамы в наборе для шитья лежало {cn1} пуговицы. Дочка взяла у мамы {cn2} пуговиц, но потом {cn3} вернула.\"\n",
    "q = \"Сколько пуговиц осталось в наборе у мамы?\"\n",
    "\n",
    "\n",
    "formula = 'cn1-cn2+cn3'\n",
    "def get_answer(nums):\n",
    "    \n",
    "    if nums['cn3'] > nums['cn2'] or nums['cn2'] > nums['cn1']:\n",
    "        return 0\n",
    "    a = nums['cn1']-nums['cn2']+nums['cn3']\n",
    "    \n",
    "    \n",
    "    return a\n",
    "\n",
    "print(gen_new(*(nums, co, q, get_answer, formula, 300)))"
   ]
  },
  {
   "cell_type": "code",
   "execution_count": 278,
   "metadata": {},
   "outputs": [
    {
     "data": {
      "text/plain": [
       "('Виктор и Кристина вместе взяли из коробки 1984 конфет.',\n",
       " 'Сколько взял Виктор, если Кристина взяла 131?',\n",
       " 1853)"
      ]
     },
     "execution_count": 278,
     "metadata": {},
     "output_type": "execute_result"
    }
   ],
   "source": [
    "gen_new(*fpat[9])"
   ]
  },
  {
   "cell_type": "code",
   "execution_count": 166,
   "metadata": {},
   "outputs": [
    {
     "data": {
      "text/plain": [
       "382"
      ]
     },
     "execution_count": 166,
     "metadata": {},
     "output_type": "execute_result"
    }
   ],
   "source": [
    "176+127+79"
   ]
  },
  {
   "cell_type": "code",
   "execution_count": 299,
   "metadata": {},
   "outputs": [],
   "source": [
    "fpat.append((nums, co, q, get_answer, formula))"
   ]
  },
  {
   "cell_type": "code",
   "execution_count": 300,
   "metadata": {},
   "outputs": [
    {
     "data": {
      "text/plain": [
       "800"
      ]
     },
     "execution_count": 300,
     "metadata": {},
     "output_type": "execute_result"
    }
   ],
   "source": [
    "len(fpat)*10"
   ]
  },
  {
   "cell_type": "code",
   "execution_count": 172,
   "metadata": {},
   "outputs": [],
   "source": [
    "fpat = fpat[:-1]"
   ]
  },
  {
   "cell_type": "code",
   "execution_count": 60,
   "metadata": {},
   "outputs": [
    {
     "data": {
      "text/plain": [
       "({'cn1': 0, 'cn2': 0},\n",
       " 'У Толи было {cn1} рублей. После похода в кафе у него осталось {cn2}.',\n",
       " 'Сколько он потратил?',\n",
       " <function __main__.get_answer>,\n",
       " 'cn1-cn2')"
      ]
     },
     "execution_count": 60,
     "metadata": {},
     "output_type": "execute_result"
    }
   ],
   "source": [
    "256=(X+24)+x; x=(256-24)/2"
   ]
  },
  {
   "cell_type": "code",
   "execution_count": 73,
   "metadata": {},
   "outputs": [
    {
     "data": {
      "text/plain": [
       "116.0"
      ]
     },
     "execution_count": 73,
     "metadata": {},
     "output_type": "execute_result"
    }
   ],
   "source": [
    "(256-24)/2"
   ]
  },
  {
   "cell_type": "code",
   "execution_count": 75,
   "metadata": {},
   "outputs": [
    {
     "data": {
      "text/plain": [
       "256.0"
      ]
     },
     "execution_count": 75,
     "metadata": {},
     "output_type": "execute_result"
    }
   ],
   "source": [
    "116.0+24+116"
   ]
  },
  {
   "cell_type": "code",
   "execution_count": 103,
   "metadata": {},
   "outputs": [
    {
     "data": {
      "text/plain": [
       "('Длина первой комнаты - 2 метра. Вторая комната в 384 раза длиннее.',\n",
       " 'Какова длина второй комнаты?',\n",
       " 10)"
      ]
     },
     "execution_count": 103,
     "metadata": {},
     "output_type": "execute_result"
    }
   ],
   "source": [
    "gen_new(*(nums, co, q, get_answer, formula, 10))"
   ]
  },
  {
   "cell_type": "code",
   "execution_count": 209,
   "metadata": {},
   "outputs": [
    {
     "data": {
      "text/plain": [
       "1060"
      ]
     },
     "execution_count": 209,
     "metadata": {},
     "output_type": "execute_result"
    }
   ],
   "source": [
    "len(fpat)*20"
   ]
  },
  {
   "cell_type": "code",
   "execution_count": 250,
   "metadata": {},
   "outputs": [],
   "source": [
    "pickle.dump(fpat, open('pattern.pkl', 'wb'))"
   ]
  },
  {
   "cell_type": "code",
   "execution_count": 277,
   "metadata": {},
   "outputs": [],
   "source": [
    "def gen_new(nums, c, q, get_answer, form, rang=10000):\n",
    "    c_len = len([n for n in nums if 'c' in n])\n",
    "    q_len = len([n for n in nums if 'q' in n])\n",
    "    \n",
    "    g_nums = {}\n",
    "#     names_d = {}\n",
    "#     for name in names:\n",
    "#         if 'fname' in name:\n",
    "#             names_d[name] = choice(fnames)\n",
    "#         elif 'mname' in name:\n",
    "#             names_d[name] = choice(mnames)\n",
    "            \n",
    "#     names = names_d\n",
    "    \n",
    "    for i in range(c_len):\n",
    "        g_nums['cn' + str(i+1)] = randint(1, rang)\n",
    "    \n",
    "    for i in range(q_len):\n",
    "        g_nums['qn' + str(i+1)] = randint(1, rang)\n",
    "    \n",
    "    \n",
    "    a = get_answer(g_nums)\n",
    "    \n",
    "    if (a > 1) and (not a%1) and (a <= rang):\n",
    "        return c.format(**g_nums), q.format(**g_nums), int(a)\n",
    "    else:\n",
    "        return gen_new(nums, c, q, get_answer, _, rang)\n",
    "    "
   ]
  },
  {
   "cell_type": "code",
   "execution_count": 114,
   "metadata": {},
   "outputs": [],
   "source": [
    "f = open('augmented_sents.txt', 'a')\n",
    "for i in range(5):\n",
    "    z = gen_new(c, q, nums)\n",
    "    f.write('\\t'.join(map(str, z)) + '\\n')\n",
    "\n",
    "    "
   ]
  },
  {
   "cell_type": "code",
   "execution_count": 115,
   "metadata": {},
   "outputs": [],
   "source": [
    "f.close()"
   ]
  },
  {
   "cell_type": "code",
   "execution_count": 160,
   "metadata": {},
   "outputs": [
    {
     "data": {
      "text/plain": [
       "[]"
      ]
     },
     "execution_count": 160,
     "metadata": {},
     "output_type": "execute_result"
    }
   ],
   "source": [
    "fnames"
   ]
  },
  {
   "cell_type": "code",
   "execution_count": null,
   "metadata": {},
   "outputs": [],
   "source": []
  }
 ],
 "metadata": {
  "kernelspec": {
   "display_name": "Python 3",
   "language": "python",
   "name": "python3"
  },
  "language_info": {
   "codemirror_mode": {
    "name": "ipython",
    "version": 3
   },
   "file_extension": ".py",
   "mimetype": "text/x-python",
   "name": "python",
   "nbconvert_exporter": "python",
   "pygments_lexer": "ipython3",
   "version": "3.5.2"
  }
 },
 "nbformat": 4,
 "nbformat_minor": 2
}
