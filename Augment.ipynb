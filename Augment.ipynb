{
 "cells": [
  {
   "cell_type": "code",
   "execution_count": 2,
   "metadata": {},
   "outputs": [],
   "source": [
    "from numpy.random import randint\n",
    "from random import choice\n",
    "# import pickle\n",
    "import dill as pickle"
   ]
  },
  {
   "cell_type": "code",
   "execution_count": 2,
   "metadata": {},
   "outputs": [],
   "source": [
    "mnames = list(open('names_male_imeniteln.txt').read().splitlines())\n",
    "fnames = list(open('names_female_imeniteln.txt').read().splitlines())"
   ]
  },
  {
   "cell_type": "code",
   "execution_count": 3,
   "metadata": {},
   "outputs": [],
   "source": [
    "fpat = pickle.load(open('pattern.pkl', 'rb'))"
   ]
  },
  {
   "cell_type": "code",
   "execution_count": 93,
   "metadata": {},
   "outputs": [],
   "source": [
    "fpat = []"
   ]
  },
  {
   "cell_type": "code",
   "execution_count": 102,
   "metadata": {},
   "outputs": [
    {
     "data": {
      "text/plain": [
       "[({'cn1': 0, 'qn1': 0},\n",
       "  'Витя и Катя взяли из пакетика {cn1} конфетки.',\n",
       "  'Сколько взяла Катя, если Витя взял {qn1}?',\n",
       "  <function __main__.get_answer>,\n",
       "  'cn1 - qn1'),\n",
       " ({'cn1': 0, 'qn1': 0},\n",
       "  'Настя и Катя взяли из ящика {cn1} конфетки.',\n",
       "  'Сколько конфет взяла Катя, если Настя взяла {qn1}?',\n",
       "  <function __main__.get_answer>,\n",
       "  'cn1 - qn1'),\n",
       " ({'cn1': 0, 'qn1': 0},\n",
       "  'Вика и Пётр вместе сорвали с дерева {cn1} ягод.',\n",
       "  'Сколько ягод у Вики, если Пётр сорвал {qn1}?',\n",
       "  <function __main__.get_answer>,\n",
       "  'cn1 - qn1')]"
      ]
     },
     "execution_count": 102,
     "metadata": {},
     "output_type": "execute_result"
    }
   ],
   "source": [
    "fpat"
   ]
  },
  {
   "cell_type": "code",
   "execution_count": 103,
   "metadata": {},
   "outputs": [],
   "source": [
    "\n",
    "# nums = {'cn1':0, 'qn1':0}\n",
    "# # names = ['mname', 'fname']\n",
    "# co = 'Полина и Петя сорвали с дерева {cn1} орехов.'\n",
    "# q = 'Сколько орехов у Пети, если Полина сорвала {qn1}?'\n",
    "# formula = 'cn1 - qn1'\n",
    "\n",
    "# def get_answer(nums):\n",
    "#     a = nums['cn1'] - nums['qn1']\n",
    "#     return a\n",
    "# fpat.append((nums, co, q, get_answer, formula))"
   ]
  },
  {
   "cell_type": "code",
   "execution_count": 114,
   "metadata": {},
   "outputs": [
    {
     "name": "stdout",
     "output_type": "stream",
     "text": [
      "('У Маши было 42 брелков. У Насти было 160 брелков.', 'Сколько у них брелков?', 202)\n"
     ]
    }
   ],
   "source": [
    "\n",
    "nums = {'cn1':0, 'cn2':0}\n",
    "\n",
    "co = \"У Маши было {cn1} брелков. У Насти было {cn2} брелков.\"\n",
    "q = \"Сколько у них брелков?\"\n",
    "\n",
    "formula = 'cn1 + cn2'\n",
    "def get_answer(nums):\n",
    "    a = nums['cn1'] + nums['cn2']\n",
    "    return a\n",
    "print(gen_new(*(nums, co, q, get_answer, formula)))\n"
   ]
  },
  {
   "cell_type": "code",
   "execution_count": 115,
   "metadata": {},
   "outputs": [],
   "source": [
    "fpat.append((nums, co, q, get_answer, formula))"
   ]
  },
  {
   "cell_type": "code",
   "execution_count": 120,
   "metadata": {},
   "outputs": [
    {
     "name": "stdout",
     "output_type": "stream",
     "text": [
      "('Юля собрала 161 яблок, а Андрей собрал 156.', 'Сколько яблок у Юли и Андрея?', 317)\n"
     ]
    }
   ],
   "source": [
    "\n",
    "nums = {'cn1':0, 'cn2':0}\n",
    "\n",
    "co = \"Юля собрала {cn1} яблок, а Андрей собрал {cn2}.\"\n",
    "q = \"Сколько яблок у Юли и Андрея?\"\n",
    "\n",
    "formula = 'cn1 + cn2'\n",
    "def get_answer(nums):\n",
    "    a = nums['cn1'] + nums['cn2']\n",
    "    return a\n",
    "print(gen_new(*(nums, co, q, get_answer, formula)))"
   ]
  },
  {
   "cell_type": "code",
   "execution_count": 123,
   "metadata": {},
   "outputs": [
    {
     "name": "stdout",
     "output_type": "stream",
     "text": [
      "('Виктор и Кристина вместе взяли из коробки 127 конфет.', 'Сколько взял Виктор, если Кристина взяла 9?', 118)\n"
     ]
    }
   ],
   "source": [
    "\n",
    "nums = {'cn1':0, 'qn1':0}\n",
    "\n",
    "co = \"Виктор и Кристина вместе взяли из коробки {cn1} конфет.\"\n",
    "q = \"Сколько взял Виктор, если Кристина взяла {qn1}?\"\n",
    "\n",
    "formula = 'cn1 - qn1'\n",
    "def get_answer(nums):\n",
    "    a = nums['cn1'] - nums['qn1']\n",
    "    return a\n",
    "print(gen_new(*(nums, co, q, get_answer, formula)))"
   ]
  },
  {
   "cell_type": "code",
   "execution_count": 138,
   "metadata": {},
   "outputs": [
    {
     "name": "stdout",
     "output_type": "stream",
     "text": [
      "('У Коли было 138 рублей. Он дал своему однокласснику 70 рублей.', 'Сколько у него осталось?', 68)\n"
     ]
    }
   ],
   "source": [
    "\n",
    "nums = {'cn1':0, 'cn2':0}\n",
    "\n",
    "co = \"У Коли было {cn1} рублей. Он дал своему однокласснику {cn2} рублей.\"\n",
    "q = \"Сколько у него осталось?\"\n",
    "\n",
    "formula = 'cn1 - cn2'\n",
    "def get_answer(nums):\n",
    "    a = nums['cn1'] - nums['cn2']\n",
    "    return a\n",
    "print(gen_new(*(nums, co, q, get_answer, formula)))"
   ]
  },
  {
   "cell_type": "code",
   "execution_count": 35,
   "metadata": {},
   "outputs": [
    {
     "name": "stdout",
     "output_type": "stream",
     "text": [
      "('', 'Какое число превосходит 104 в 49 раз', 5096)\n"
     ]
    }
   ],
   "source": [
    "\n",
    "nums = {'qn1':0, 'qn2':0}\n",
    "\n",
    "co = \"\"\n",
    "q = \"Какое число превосходит {qn1} в {qn2} раз\"\n",
    "\n",
    "formula = 'qn1*qn2'\n",
    "def get_answer(nums):\n",
    "    a = nums['qn1']*nums['qn2']\n",
    "    return a\n",
    "\n",
    "print(gen_new(*(nums, co, q, get_answer, formula)))"
   ]
  },
  {
   "cell_type": "code",
   "execution_count": 48,
   "metadata": {},
   "outputs": [
    {
     "name": "stdout",
     "output_type": "stream",
     "text": [
      "('Обед в столовой обошелся Семёну в 346 рублей. После этого у него осталось ещё 169 рублей.', 'Сколько рублей было у Семёна до похода в столовую?', 515)\n"
     ]
    }
   ],
   "source": [
    "\n",
    "nums = {'cn1':0, 'cn2':0}\n",
    "\n",
    "co = \"Обед в столовой обошелся Семёну в {cn1} рублей. После этого у него осталось ещё {cn2} рублей.\"\n",
    "q = \"Сколько рублей было у Семёна до похода в столовую?\"\n",
    "\n",
    "\n",
    "formula = 'cn1+cn2'\n",
    "def get_answer(nums):\n",
    "    a = nums['cn1']+nums['cn2']\n",
    "    return a\n",
    "\n",
    "print(gen_new(*(nums, co, q, get_answer, formula)))"
   ]
  },
  {
   "cell_type": "code",
   "execution_count": 55,
   "metadata": {},
   "outputs": [
    {
     "name": "stdout",
     "output_type": "stream",
     "text": [
      "('У Толи было 174 рублей. После похода в кафе у него осталось 113.', 'Сколько он потратил?', 61)\n"
     ]
    }
   ],
   "source": [
    "\n",
    "nums = {'cn1':0, 'cn2':0}\n",
    "\n",
    "co = \"У Толи было {cn1} рублей. После похода в кафе у него осталось {cn2}.\"\n",
    "q = \"Сколько он потратил?\"\n",
    "\n",
    "\n",
    "formula = 'cn1-cn2'\n",
    "def get_answer(nums):\n",
    "    a = nums['cn1']-nums['cn2']\n",
    "    return a\n",
    "\n",
    "print(gen_new(*(nums, co, q, get_answer, formula)))"
   ]
  },
  {
   "cell_type": "code",
   "execution_count": 66,
   "metadata": {},
   "outputs": [
    {
     "name": "stdout",
     "output_type": "stream",
     "text": [
      "('Вечером 22 декабря на катке в парке каталось 328 людей.  К 9 вечера часть людей разошлась по домам. На катке осталось 320 людей.', 'Сколько людей ушло к 9 вечера?', 8)\n"
     ]
    }
   ],
   "source": [
    "\n",
    "nums = {'cn1':0, 'cn2':0}\n",
    "\n",
    "co = \"Вечером 22 декабря на катке в парке каталось {cn1} людей.  К 9 вечера часть людей разошлась по домам. На катке осталось {cn2} людей.\"\n",
    "q = \"Сколько людей ушло к 9 вечера?\"\n",
    "\n",
    "\n",
    "formula = 'cn1-cn2'\n",
    "def get_answer(nums):\n",
    "    a = nums['cn1']-nums['cn2']\n",
    "    return a\n",
    "\n",
    "print(gen_new(*(nums, co, q, get_answer, formula)))"
   ]
  },
  {
   "cell_type": "code",
   "execution_count": 76,
   "metadata": {},
   "outputs": [
    {
     "name": "stdout",
     "output_type": "stream",
     "text": [
      "('На цирковой арене выступали собаки, кошки и дрессировщик. Всего на арене находилось 394 животных.', 'Сколько кошек выступало на арене, если собак было на 210 больше?', 92)\n"
     ]
    }
   ],
   "source": [
    "\n",
    "\n",
    "nums = {'cn1':0, 'qn1':0}\n",
    "\n",
    "co = \"На цирковой арене выступали собаки, кошки и дрессировщик. Всего на арене находилось {cn1} животных.\"\n",
    "q = \"Сколько кошек выступало на арене, если собак было на {qn1} больше?\"\n",
    "\n",
    "\n",
    "formula = '(cn1-qn1)/2'\n",
    "def get_answer(nums):\n",
    "    a = (nums['cn1']-nums['qn1'])/2\n",
    "    return a\n",
    "\n",
    "print(gen_new(*(nums, co, q, get_answer, formula)))"
   ]
  },
  {
   "cell_type": "code",
   "execution_count": 117,
   "metadata": {},
   "outputs": [
    {
     "name": "stdout",
     "output_type": "stream",
     "text": [
      "('Длина первой комнаты - 16 метра. Вторая комната в 2 раза длиннее.', 'Чему равна сумма их длин?', 48)\n"
     ]
    }
   ],
   "source": [
    "\n",
    "\n",
    "\n",
    "\n",
    "nums = {'cn1':0, 'cn2':0,}\n",
    "\n",
    "co = \"Длина первой комнаты - {cn1} метра. Вторая комната в {cn2} раза длиннее.\"\n",
    "q = \"Чему равна сумма их длин?\"\n",
    "\n",
    "\n",
    "formula = 'cn1 + (cn1 * cn2)'\n",
    "def get_answer(nums):\n",
    "    a = (nums['cn1']+(nums['cn2']*nums['cn1']))\n",
    "    return a\n",
    "\n",
    "print(gen_new(*(nums, co, q, get_answer, formula, 100)))"
   ]
  },
  {
   "cell_type": "code",
   "execution_count": 136,
   "metadata": {},
   "outputs": [
    {
     "name": "stdout",
     "output_type": "stream",
     "text": [
      "('Вторая палка в 20 раза длинее первой.', 'Чему равна сумма длин двух палок, если длина второй равна 60 м?', 63)\n"
     ]
    }
   ],
   "source": [
    "\n",
    "\n",
    "\n",
    "\n",
    "nums = {'cn1':0, 'qn1':0,}\n",
    "\n",
    "co = \"Вторая палка в {cn1} раза длинее первой.\"\n",
    "q = \"Чему равна сумма длин двух палок, если длина второй равна {qn1} м?\"\n",
    "\n",
    "\n",
    "formula = 'qn1 + (qn1/cn1)'\n",
    "def get_answer(nums):\n",
    "    a = (nums['qn1']+(nums['qn1']/nums['cn1']))\n",
    "    return a\n",
    "\n",
    "print(gen_new(*(nums, co, q, get_answer, formula, 200)))"
   ]
  },
  {
   "cell_type": "code",
   "execution_count": 164,
   "metadata": {},
   "outputs": [
    {
     "name": "stdout",
     "output_type": "stream",
     "text": [
      "('На огороде 6 грядок с морковкой. На каждой грядке 4 рядов. В каждом ряде 24 морковок.', 'Сколько всего морковок растён на огороде?', 576)\n"
     ]
    }
   ],
   "source": [
    "\n",
    "\n",
    "\n",
    "nums = {'cn1':0, 'cn2':0, \"cn3\":0}\n",
    "\n",
    "co = \"На огороде {cn1} грядок с капустой. На каждой грядке {cn2} рядов. В каждом ряде {cn3} морковок.\"\n",
    "q = \"Сколько всего морковок растён на огороде?\"\n",
    "\n",
    "\n",
    "formula = 'cn1*cn2*cn3'\n",
    "def get_answer(nums):\n",
    "    a = (nums['cn1']*nums['cn2']*nums[\"cn3\"])\n",
    "    return a\n",
    "\n",
    "print(gen_new(*(nums, co, q, get_answer, formula, 600)))"
   ]
  },
  {
   "cell_type": "code",
   "execution_count": null,
   "metadata": {},
   "outputs": [],
   "source": [
    " \t\t60"
   ]
  },
  {
   "cell_type": "code",
   "execution_count": 201,
   "metadata": {},
   "outputs": [
    {
     "name": "stdout",
     "output_type": "stream",
     "text": [
      "('', 'Сколько получится, если 396 поделить на 132, а затем прибавить 10?', 13)\n"
     ]
    }
   ],
   "source": [
    "\n",
    "\n",
    "\n",
    "nums = {'qn1':0, 'qn2':0, \"qn3\":0}\n",
    "\n",
    "co = \"\"\n",
    "q = \"Сколько получится, если {qn1} поделить на {qn2}, а затем прибавить {qn3}?\"\n",
    "\n",
    "\n",
    "formula = '(qn1/qn2)+qn3'\n",
    "def get_answer(nums):\n",
    "    a = (nums['qn1']/nums['qn2'])+nums['qn3']\n",
    "    return a\n",
    "\n",
    "print(gen_new(*(nums, co, q, get_answer, formula, 200)))"
   ]
  },
  {
   "cell_type": "code",
   "execution_count": 202,
   "metadata": {},
   "outputs": [],
   "source": [
    "fpat.append((nums, co, q, get_answer, formula))"
   ]
  },
  {
   "cell_type": "code",
   "execution_count": 203,
   "metadata": {},
   "outputs": [
    {
     "data": {
      "text/plain": [
       "530"
      ]
     },
     "execution_count": 203,
     "metadata": {},
     "output_type": "execute_result"
    }
   ],
   "source": [
    "len(fpat)*10"
   ]
  },
  {
   "cell_type": "code",
   "execution_count": 144,
   "metadata": {},
   "outputs": [],
   "source": [
    "# fpat = fpat[:-1]"
   ]
  },
  {
   "cell_type": "code",
   "execution_count": 60,
   "metadata": {},
   "outputs": [
    {
     "data": {
      "text/plain": [
       "({'cn1': 0, 'cn2': 0},\n",
       " 'У Толи было {cn1} рублей. После похода в кафе у него осталось {cn2}.',\n",
       " 'Сколько он потратил?',\n",
       " <function __main__.get_answer>,\n",
       " 'cn1-cn2')"
      ]
     },
     "execution_count": 60,
     "metadata": {},
     "output_type": "execute_result"
    }
   ],
   "source": [
    "256=(X+24)+x; x=(256-24)/2"
   ]
  },
  {
   "cell_type": "code",
   "execution_count": 73,
   "metadata": {},
   "outputs": [
    {
     "data": {
      "text/plain": [
       "116.0"
      ]
     },
     "execution_count": 73,
     "metadata": {},
     "output_type": "execute_result"
    }
   ],
   "source": [
    "(256-24)/2"
   ]
  },
  {
   "cell_type": "code",
   "execution_count": 75,
   "metadata": {},
   "outputs": [
    {
     "data": {
      "text/plain": [
       "256.0"
      ]
     },
     "execution_count": 75,
     "metadata": {},
     "output_type": "execute_result"
    }
   ],
   "source": [
    "116.0+24+116"
   ]
  },
  {
   "cell_type": "code",
   "execution_count": 103,
   "metadata": {},
   "outputs": [
    {
     "data": {
      "text/plain": [
       "('Длина первой комнаты - 2 метра. Вторая комната в 384 раза длиннее.',\n",
       " 'Какова длина второй комнаты?',\n",
       " 10)"
      ]
     },
     "execution_count": 103,
     "metadata": {},
     "output_type": "execute_result"
    }
   ],
   "source": [
    "gen_new(*(nums, co, q, get_answer, formula, 10))"
   ]
  },
  {
   "cell_type": "code",
   "execution_count": 209,
   "metadata": {},
   "outputs": [
    {
     "data": {
      "text/plain": [
       "1060"
      ]
     },
     "execution_count": 209,
     "metadata": {},
     "output_type": "execute_result"
    }
   ],
   "source": [
    "len(fpat)*20"
   ]
  },
  {
   "cell_type": "code",
   "execution_count": 204,
   "metadata": {},
   "outputs": [],
   "source": [
    "pickle.dump(fpat, open('pattern.pkl', 'wb'))"
   ]
  },
  {
   "cell_type": "code",
   "execution_count": 101,
   "metadata": {},
   "outputs": [],
   "source": [
    "def gen_new(nums, c, q, get_answer, form, rang=float('inf')):\n",
    "    c_len = len([n for n in nums if 'c' in n])\n",
    "    q_len = len([n for n in nums if 'q' in n])\n",
    "    \n",
    "    g_nums = {}\n",
    "#     names_d = {}\n",
    "#     for name in names:\n",
    "#         if 'fname' in name:\n",
    "#             names_d[name] = choice(fnames)\n",
    "#         elif 'mname' in name:\n",
    "#             names_d[name] = choice(mnames)\n",
    "            \n",
    "#     names = names_d\n",
    "    \n",
    "    for i in range(c_len):\n",
    "        g_nums['cn' + str(i+1)] = randint(1, 400)\n",
    "    \n",
    "    for i in range(q_len):\n",
    "        g_nums['qn' + str(i+1)] = randint(1, 400)\n",
    "    \n",
    "    \n",
    "    a = get_answer(g_nums)\n",
    "    \n",
    "    if (a > 1) and (not a%1) and (a <= rang):\n",
    "        return c.format(**g_nums), q.format(**g_nums), int(a)\n",
    "    else:\n",
    "        return gen_new(nums, c, q, get_answer, _, rang)\n",
    "    "
   ]
  },
  {
   "cell_type": "code",
   "execution_count": 114,
   "metadata": {},
   "outputs": [],
   "source": [
    "f = open('augmented_sents.txt', 'a')\n",
    "for i in range(5):\n",
    "    z = gen_new(c, q, nums)\n",
    "    f.write('\\t'.join(map(str, z)) + '\\n')\n",
    "\n",
    "    "
   ]
  },
  {
   "cell_type": "code",
   "execution_count": 115,
   "metadata": {},
   "outputs": [],
   "source": [
    "f.close()"
   ]
  },
  {
   "cell_type": "code",
   "execution_count": 160,
   "metadata": {},
   "outputs": [
    {
     "data": {
      "text/plain": [
       "[]"
      ]
     },
     "execution_count": 160,
     "metadata": {},
     "output_type": "execute_result"
    }
   ],
   "source": [
    "fnames"
   ]
  },
  {
   "cell_type": "code",
   "execution_count": null,
   "metadata": {},
   "outputs": [],
   "source": []
  }
 ],
 "metadata": {
  "kernelspec": {
   "display_name": "Python 3",
   "language": "python",
   "name": "python3"
  },
  "language_info": {
   "codemirror_mode": {
    "name": "ipython",
    "version": 3
   },
   "file_extension": ".py",
   "mimetype": "text/x-python",
   "name": "python",
   "nbconvert_exporter": "python",
   "pygments_lexer": "ipython3",
   "version": "3.5.2"
  }
 },
 "nbformat": 4,
 "nbformat_minor": 2
}
