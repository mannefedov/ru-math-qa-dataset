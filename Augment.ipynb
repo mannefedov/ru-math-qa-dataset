{
 "cells": [
  {
   "cell_type": "code",
   "execution_count": 1,
   "metadata": {},
   "outputs": [],
   "source": [
    "from numpy.random import randint\n",
    "from random import choice\n",
    "# import pickle\n",
    "import dill as pickle"
   ]
  },
  {
   "cell_type": "code",
   "execution_count": 5,
   "metadata": {},
   "outputs": [],
   "source": [
    "# mnames = list(open('names_male_imeniteln.txt').read().splitlines())\n",
    "# fnames = list(open('names_female_imeniteln.txt').read().splitlines())"
   ]
  },
  {
   "cell_type": "code",
   "execution_count": 6,
   "metadata": {},
   "outputs": [],
   "source": [
    "fpat = pickle.load(open('pattern.pkl', 'rb'))"
   ]
  },
  {
   "cell_type": "code",
   "execution_count": 93,
   "metadata": {},
   "outputs": [],
   "source": [
    "fpat = []"
   ]
  },
  {
   "cell_type": "code",
   "execution_count": 7,
   "metadata": {},
   "outputs": [
    {
     "data": {
      "text/plain": [
       "103"
      ]
     },
     "execution_count": 7,
     "metadata": {},
     "output_type": "execute_result"
    }
   ],
   "source": [
    "len(fpat)"
   ]
  },
  {
   "cell_type": "code",
   "execution_count": 103,
   "metadata": {},
   "outputs": [],
   "source": [
    "\n",
    "# nums = {'cn1':0, 'qn1':0}\n",
    "# # names = ['mname', 'fname']\n",
    "# co = 'Полина и Петя сорвали с дерева {cn1} орехов.'\n",
    "# q = 'Сколько орехов у Пети, если Полина сорвала {qn1}?'\n",
    "# formula = 'cn1 - qn1'\n",
    "\n",
    "# def get_answer(nums):\n",
    "#     a = nums['cn1'] - nums['qn1']\n",
    "#     return a\n",
    "# fpat.append((nums, co, q, get_answer, formula))"
   ]
  },
  {
   "cell_type": "code",
   "execution_count": 114,
   "metadata": {},
   "outputs": [
    {
     "name": "stdout",
     "output_type": "stream",
     "text": [
      "('У Маши было 42 брелков. У Насти было 160 брелков.', 'Сколько у них брелков?', 202)\n"
     ]
    }
   ],
   "source": [
    "\n",
    "nums = {'cn1':0, 'cn2':0}\n",
    "\n",
    "co = \"У Маши было {cn1} брелков. У Насти было {cn2} брелков.\"\n",
    "q = \"Сколько у них брелков?\"\n",
    "\n",
    "formula = 'cn1 + cn2'\n",
    "def get_answer(nums):\n",
    "    a = nums['cn1'] + nums['cn2']\n",
    "    return a\n",
    "print(gen_new(*(nums, co, q, get_answer, formula)))\n"
   ]
  },
  {
   "cell_type": "code",
   "execution_count": 115,
   "metadata": {},
   "outputs": [],
   "source": [
    "fpat.append((nums, co, q, get_answer, formula))"
   ]
  },
  {
   "cell_type": "code",
   "execution_count": 120,
   "metadata": {},
   "outputs": [
    {
     "name": "stdout",
     "output_type": "stream",
     "text": [
      "('Юля собрала 161 яблок, а Андрей собрал 156.', 'Сколько яблок у Юли и Андрея?', 317)\n"
     ]
    }
   ],
   "source": [
    "\n",
    "nums = {'cn1':0, 'cn2':0}\n",
    "\n",
    "co = \"Юля собрала {cn1} яблок, а Андрей собрал {cn2}.\"\n",
    "q = \"Сколько яблок у Юли и Андрея?\"\n",
    "\n",
    "formula = 'cn1 + cn2'\n",
    "def get_answer(nums):\n",
    "    a = nums['cn1'] + nums['cn2']\n",
    "    return a\n",
    "print(gen_new(*(nums, co, q, get_answer, formula)))"
   ]
  },
  {
   "cell_type": "code",
   "execution_count": 123,
   "metadata": {},
   "outputs": [
    {
     "name": "stdout",
     "output_type": "stream",
     "text": [
      "('Виктор и Кристина вместе взяли из коробки 127 конфет.', 'Сколько взял Виктор, если Кристина взяла 9?', 118)\n"
     ]
    }
   ],
   "source": [
    "\n",
    "nums = {'cn1':0, 'qn1':0}\n",
    "\n",
    "co = \"Виктор и Кристина вместе взяли из коробки {cn1} конфет.\"\n",
    "q = \"Сколько взял Виктор, если Кристина взяла {qn1}?\"\n",
    "\n",
    "formula = 'cn1 - qn1'\n",
    "def get_answer(nums):\n",
    "    a = nums['cn1'] - nums['qn1']\n",
    "    return a\n",
    "print(gen_new(*(nums, co, q, get_answer, formula)))"
   ]
  },
  {
   "cell_type": "code",
   "execution_count": 138,
   "metadata": {},
   "outputs": [
    {
     "name": "stdout",
     "output_type": "stream",
     "text": [
      "('У Коли было 138 рублей. Он дал своему однокласснику 70 рублей.', 'Сколько у него осталось?', 68)\n"
     ]
    }
   ],
   "source": [
    "\n",
    "nums = {'cn1':0, 'cn2':0}\n",
    "\n",
    "co = \"У Коли было {cn1} рублей. Он дал своему однокласснику {cn2} рублей.\"\n",
    "q = \"Сколько у него осталось?\"\n",
    "\n",
    "formula = 'cn1 - cn2'\n",
    "def get_answer(nums):\n",
    "    a = nums['cn1'] - nums['cn2']\n",
    "    return a\n",
    "print(gen_new(*(nums, co, q, get_answer, formula)))"
   ]
  },
  {
   "cell_type": "code",
   "execution_count": 35,
   "metadata": {},
   "outputs": [
    {
     "name": "stdout",
     "output_type": "stream",
     "text": [
      "('', 'Какое число превосходит 104 в 49 раз', 5096)\n"
     ]
    }
   ],
   "source": [
    "\n",
    "nums = {'qn1':0, 'qn2':0}\n",
    "\n",
    "co = \"\"\n",
    "q = \"Какое число превосходит {qn1} в {qn2} раз\"\n",
    "\n",
    "formula = 'qn1*qn2'\n",
    "def get_answer(nums):\n",
    "    a = nums['qn1']*nums['qn2']\n",
    "    return a\n",
    "\n",
    "print(gen_new(*(nums, co, q, get_answer, formula)))"
   ]
  },
  {
   "cell_type": "code",
   "execution_count": 48,
   "metadata": {},
   "outputs": [
    {
     "name": "stdout",
     "output_type": "stream",
     "text": [
      "('Обед в столовой обошелся Семёну в 346 рублей. После этого у него осталось ещё 169 рублей.', 'Сколько рублей было у Семёна до похода в столовую?', 515)\n"
     ]
    }
   ],
   "source": [
    "\n",
    "nums = {'cn1':0, 'cn2':0}\n",
    "\n",
    "co = \"Обед в столовой обошелся Семёну в {cn1} рублей. После этого у него осталось ещё {cn2} рублей.\"\n",
    "q = \"Сколько рублей было у Семёна до похода в столовую?\"\n",
    "\n",
    "\n",
    "formula = 'cn1+cn2'\n",
    "def get_answer(nums):\n",
    "    a = nums['cn1']+nums['cn2']\n",
    "    return a\n",
    "\n",
    "print(gen_new(*(nums, co, q, get_answer, formula)))"
   ]
  },
  {
   "cell_type": "code",
   "execution_count": 55,
   "metadata": {},
   "outputs": [
    {
     "name": "stdout",
     "output_type": "stream",
     "text": [
      "('У Толи было 174 рублей. После похода в кафе у него осталось 113.', 'Сколько он потратил?', 61)\n"
     ]
    }
   ],
   "source": [
    "\n",
    "nums = {'cn1':0, 'cn2':0}\n",
    "\n",
    "co = \"У Толи было {cn1} рублей. После похода в кафе у него осталось {cn2}.\"\n",
    "q = \"Сколько он потратил?\"\n",
    "\n",
    "\n",
    "formula = 'cn1-cn2'\n",
    "def get_answer(nums):\n",
    "    a = nums['cn1']-nums['cn2']\n",
    "    return a\n",
    "\n",
    "print(gen_new(*(nums, co, q, get_answer, formula)))"
   ]
  },
  {
   "cell_type": "code",
   "execution_count": 66,
   "metadata": {},
   "outputs": [
    {
     "name": "stdout",
     "output_type": "stream",
     "text": [
      "('Вечером 22 декабря на катке в парке каталось 328 людей.  К 9 вечера часть людей разошлась по домам. На катке осталось 320 людей.', 'Сколько людей ушло к 9 вечера?', 8)\n"
     ]
    }
   ],
   "source": [
    "\n",
    "nums = {'cn1':0, 'cn2':0}\n",
    "\n",
    "co = \"Вечером 22 декабря на катке в парке каталось {cn1} людей.  К 9 вечера часть людей разошлась по домам. На катке осталось {cn2} людей.\"\n",
    "q = \"Сколько людей ушло к 9 вечера?\"\n",
    "\n",
    "\n",
    "formula = 'cn1-cn2'\n",
    "def get_answer(nums):\n",
    "    a = nums['cn1']-nums['cn2']\n",
    "    return a\n",
    "\n",
    "print(gen_new(*(nums, co, q, get_answer, formula)))"
   ]
  },
  {
   "cell_type": "code",
   "execution_count": 76,
   "metadata": {},
   "outputs": [
    {
     "name": "stdout",
     "output_type": "stream",
     "text": [
      "('На цирковой арене выступали собаки, кошки и дрессировщик. Всего на арене находилось 394 животных.', 'Сколько кошек выступало на арене, если собак было на 210 больше?', 92)\n"
     ]
    }
   ],
   "source": [
    "\n",
    "\n",
    "nums = {'cn1':0, 'qn1':0}\n",
    "\n",
    "co = \"На цирковой арене выступали собаки, кошки и дрессировщик. Всего на арене находилось {cn1} животных.\"\n",
    "q = \"Сколько кошек выступало на арене, если собак было на {qn1} больше?\"\n",
    "\n",
    "\n",
    "formula = '(cn1-qn1)/2'\n",
    "def get_answer(nums):\n",
    "    a = (nums['cn1']-nums['qn1'])/2\n",
    "    return a\n",
    "\n",
    "print(gen_new(*(nums, co, q, get_answer, formula)))"
   ]
  },
  {
   "cell_type": "code",
   "execution_count": 117,
   "metadata": {},
   "outputs": [
    {
     "name": "stdout",
     "output_type": "stream",
     "text": [
      "('Длина первой комнаты - 16 метра. Вторая комната в 2 раза длиннее.', 'Чему равна сумма их длин?', 48)\n"
     ]
    }
   ],
   "source": [
    "\n",
    "\n",
    "\n",
    "\n",
    "nums = {'cn1':0, 'cn2':0,}\n",
    "\n",
    "co = \"Длина первой комнаты - {cn1} метра. Вторая комната в {cn2} раза длиннее.\"\n",
    "q = \"Чему равна сумма их длин?\"\n",
    "\n",
    "\n",
    "formula = 'cn1 + (cn1 * cn2)'\n",
    "def get_answer(nums):\n",
    "    a = (nums['cn1']+(nums['cn2']*nums['cn1']))\n",
    "    return a\n",
    "\n",
    "print(gen_new(*(nums, co, q, get_answer, formula, 100)))"
   ]
  },
  {
   "cell_type": "code",
   "execution_count": 136,
   "metadata": {},
   "outputs": [
    {
     "name": "stdout",
     "output_type": "stream",
     "text": [
      "('Вторая палка в 20 раза длинее первой.', 'Чему равна сумма длин двух палок, если длина второй равна 60 м?', 63)\n"
     ]
    }
   ],
   "source": [
    "\n",
    "\n",
    "\n",
    "\n",
    "nums = {'cn1':0, 'qn1':0,}\n",
    "\n",
    "co = \"Вторая палка в {cn1} раза длинее первой.\"\n",
    "q = \"Чему равна сумма длин двух палок, если длина второй равна {qn1} м?\"\n",
    "\n",
    "\n",
    "formula = 'qn1 + (qn1/cn1)'\n",
    "def get_answer(nums):\n",
    "    a = (nums['qn1']+(nums['qn1']/nums['cn1']))\n",
    "    return a\n",
    "\n",
    "print(gen_new(*(nums, co, q, get_answer, formula, 200)))"
   ]
  },
  {
   "cell_type": "code",
   "execution_count": 164,
   "metadata": {},
   "outputs": [
    {
     "name": "stdout",
     "output_type": "stream",
     "text": [
      "('На огороде 6 грядок с морковкой. На каждой грядке 4 рядов. В каждом ряде 24 морковок.', 'Сколько всего морковок растён на огороде?', 576)\n"
     ]
    }
   ],
   "source": [
    "\n",
    "\n",
    "\n",
    "nums = {'cn1':0, 'cn2':0, \"cn3\":0}\n",
    "\n",
    "co = \"На огороде {cn1} грядок с капустой. На каждой грядке {cn2} рядов. В каждом ряде {cn3} морковок.\"\n",
    "q = \"Сколько всего морковок растён на огороде?\"\n",
    "\n",
    "\n",
    "formula = 'cn1*cn2*cn3'\n",
    "def get_answer(nums):\n",
    "    a = (nums['cn1']*nums['cn2']*nums[\"cn3\"])\n",
    "    return a\n",
    "\n",
    "print(gen_new(*(nums, co, q, get_answer, formula, 600)))"
   ]
  },
  {
   "cell_type": "code",
   "execution_count": 201,
   "metadata": {},
   "outputs": [
    {
     "name": "stdout",
     "output_type": "stream",
     "text": [
      "('', 'Сколько получится, если 396 поделить на 132, а затем прибавить 10?', 13)\n"
     ]
    }
   ],
   "source": [
    "\n",
    "\n",
    "\n",
    "nums = {'qn1':0, 'qn2':0, \"qn3\":0}\n",
    "\n",
    "co = \"\"\n",
    "q = \"Сколько получится, если {qn1} поделить на {qn2}, а затем прибавить {qn3}?\"\n",
    "\n",
    "\n",
    "formula = '(qn1/qn2)+qn3'\n",
    "def get_answer(nums):\n",
    "    a = (nums['qn1']/nums['qn2'])+nums['qn3']\n",
    "    return a\n",
    "\n",
    "print(gen_new(*(nums, co, q, get_answer, formula, 200)))"
   ]
  },
  {
   "cell_type": "code",
   "execution_count": 163,
   "metadata": {},
   "outputs": [
    {
     "name": "stdout",
     "output_type": "stream",
     "text": [
      "('У Ани 10 листочков. А у Димы в 5 раз больше.', 'Сколько листочков у них вместе?', 60)\n"
     ]
    }
   ],
   "source": [
    "\n",
    "\n",
    "\n",
    "nums = {'cn2':0, 'cn1':0}\n",
    "\n",
    "co = \"У Ани {cn1} листочков. А у Димы в {cn2} раз больше.\"\n",
    "q = \"Сколько листочков у них вместе?\"\n",
    "\n",
    "\n",
    "formula = '(cn1*cn2)+cn1'\n",
    "def get_answer(nums):\n",
    "    a = (nums['cn1']*nums['cn2'])+nums['cn1']\n",
    "    return a\n",
    "\n",
    "print(gen_new(*(nums, co, q, get_answer, formula, 200)))"
   ]
  },
  {
   "cell_type": "code",
   "execution_count": 183,
   "metadata": {},
   "outputs": [
    {
     "name": "stdout",
     "output_type": "stream",
     "text": [
      "('Аня, Витя и Майа строили домики из конструктора. Аня использовала 191 деталей, Витя использовал на 168 деталей меньше, чем Аня, а Майа - на 65 больше, чем Витя.', 'Какое количество деталей использовала Майа?', 88)\n"
     ]
    }
   ],
   "source": [
    "\n",
    "\n",
    "\n",
    "\n",
    "\n",
    "nums = {'cn2':0, 'cn1':0, 'cn3':0}\n",
    "\n",
    "co = \"Аня, Витя и Майа строили домики из конструктора. Аня использовала {cn1} деталей, Витя использовал на {cn2} деталей меньше, чем Аня, а Майа - на {cn3} больше, чем Витя.\"\n",
    "q = \"Какое количество деталей использовала Майа?\"\n",
    "\n",
    "\n",
    "formula = '(cn1-cn2)+cn3'\n",
    "def get_answer(nums):\n",
    "    b = (nums['cn1']-nums['cn2'])\n",
    "    if not b:\n",
    "        return 0\n",
    "    a = b+nums['cn3']\n",
    "    return a\n",
    "\n",
    "print(gen_new(*(nums, co, q, get_answer, formula, 200)))"
   ]
  },
  {
   "cell_type": "code",
   "execution_count": 194,
   "metadata": {},
   "outputs": [
    {
     "name": "stdout",
     "output_type": "stream",
     "text": [
      "('Сергею сейчас 3 лет. Ане - 13 года. А Марии - 1.', 'Сколько лет Мите, если известно, что ему столько, сколько остальным ребятам вместе взятым?', 17)\n"
     ]
    }
   ],
   "source": [
    "\n",
    "\n",
    "\n",
    "\n",
    "\n",
    "\n",
    "nums = {'cn2':0, 'cn1':0, 'cn3':0}\n",
    "\n",
    "co = \"Сергею сейчас {cn1} лет. Ане - {cn2} года. А Марии - {cn3}.\"\n",
    "q = \"Сколько лет Мите, если известно, что ему столько, сколько остальным ребятам вместе взятым?\"\n",
    "\n",
    "\n",
    "formula = '(cn1+cn2)+cn3'\n",
    "def get_answer(nums):\n",
    "    \n",
    "    \n",
    "    a = nums['cn1']+nums['cn2']+nums['cn3']\n",
    "    return a\n",
    "\n",
    "print(gen_new(*(nums, co, q, get_answer, formula, 30)))"
   ]
  },
  {
   "cell_type": "code",
   "execution_count": 210,
   "metadata": {},
   "outputs": [
    {
     "name": "stdout",
     "output_type": "stream",
     "text": [
      "('Тузик съел 16 граммов корма в субботу и 185 граммов корма в воскресенье.', 'Сколько корма съел Тузик за субботу и воскресенье?', 201)\n"
     ]
    }
   ],
   "source": [
    "\n",
    "nums = {'cn1':0, 'cn2':0}\n",
    "\n",
    "co = \"Тузик съел {cn1} граммов корма в субботу и {cn2} граммов корма в воскресенье.\"\n",
    "q = \"Сколько корма съел Тузик за субботу и воскресенье?\"\n",
    "\n",
    "\n",
    "formula = 'cn1+cn2'\n",
    "def get_answer(nums):\n",
    "    \n",
    "    \n",
    "    a = nums['cn1']+nums['cn2']\n",
    "    return a\n",
    "\n",
    "print(gen_new(*(nums, co, q, get_answer, formula, 500)))"
   ]
  },
  {
   "cell_type": "code",
   "execution_count": 221,
   "metadata": {},
   "outputs": [
    {
     "name": "stdout",
     "output_type": "stream",
     "text": [
      "('Костя и Миша купили 4 пломбира (по два каждому), стоимостью 10 руб, 1 руб, 58 руб и 7 руб.', 'Сколько мальчики заплатили за мороженое?', 76)\n"
     ]
    }
   ],
   "source": [
    "\t\t210\n",
    "\n",
    "nums = {'cn1':0, 'cn2':0, \"cn3\":0, \"cn4\":0}\n",
    "\n",
    "co = \"Костя и Миша купили 4 пломбира (по два каждому), стоимостью {cn1} руб, {cn2} руб, {cn3} руб и {cn4} руб.\"\n",
    "q = \"Сколько мальчики заплатили за мороженое?\"\n",
    "\n",
    "\n",
    "formula = 'cn1+cn2+cn3+cn4'\n",
    "def get_answer(nums):\n",
    "    \n",
    "    \n",
    "    a = nums['cn1']+nums['cn2']+nums[\"cn3\"]+nums[\"cn4\"]\n",
    "    return a\n",
    "\n",
    "print(gen_new(*(nums, co, q, get_answer, formula, 100)))"
   ]
  },
  {
   "cell_type": "code",
   "execution_count": 247,
   "metadata": {},
   "outputs": [
    {
     "name": "stdout",
     "output_type": "stream",
     "text": [
      "('У первого видеоролика 50 просмотров. У второго - 25 просмотров.', 'Чему равно общее количество просмотров этих двух роликов?', 75)\n"
     ]
    }
   ],
   "source": [
    "\n",
    "nums = {'cn1':0, 'cn2':0}\n",
    "\n",
    "co = \"У первого видеоролика {cn1} просмотров. У второго - {cn2} просмотров.\"\n",
    "q = \"Чему равно общее количество просмотров этих двух роликов?\"\n",
    "\n",
    "\n",
    "formula = 'cn1+сn2'\n",
    "def get_answer(nums):\n",
    "    \n",
    "    \n",
    "    a = nums['cn1']+nums['cn2']\n",
    "    return a\n",
    "\n",
    "print(gen_new(*(nums, co, q, get_answer, formula, 100)))"
   ]
  },
  {
   "cell_type": "code",
   "execution_count": 261,
   "metadata": {},
   "outputs": [
    {
     "name": "stdout",
     "output_type": "stream",
     "text": [
      "('Алик собрал 61 яиц. Под них у него было заготовлено 4 пустыx коробок. В каждую коробку помещается 20 яиц.', 'Сколько яиц не хватает Алику, чтобы заполнить все коробки?', 19)\n"
     ]
    }
   ],
   "source": [
    "\n",
    "nums = {'cn1':0, 'cn2':0, 'cn3':0}\n",
    "\n",
    "co = \"Алик собрал {cn1} яиц. Под них у него было заготовлено {cn2} пустыx коробок. В каждую коробку помещается {cn3} яиц.\"\n",
    "q = \"Сколько яиц не хватает Алику, чтобы заполнить все коробки?\"\n",
    "\n",
    "\n",
    "formula = '(cn2*сn3)-cn1'\n",
    "def get_answer(nums):\n",
    "    \n",
    "    \n",
    "    a = (nums['cn2']*nums['cn3'])-nums['cn1']\n",
    "    return a\n",
    "\n",
    "print(gen_new(*(nums, co, q, get_answer, formula, 100)))"
   ]
  },
  {
   "cell_type": "code",
   "execution_count": 271,
   "metadata": {},
   "outputs": [
    {
     "name": "stdout",
     "output_type": "stream",
     "text": [
      "('Из ёмкости, в которой было 86 л воды, зачерпнули два ведра для полива.', 'Сколько литров воды осталось в ёмкости, если в каждом ведре было 19 л?', 48)\n"
     ]
    }
   ],
   "source": [
    "\n",
    "nums = {'cn1':0, 'qn1':0, }\n",
    "\n",
    "co = \"Из ёмкости, в которой было {cn1} л воды, зачерпнули два ведра для полива.\"\n",
    "q = \"Сколько литров воды осталось в ёмкости, если в каждом ведре было {qn1} л?\"\n",
    "\n",
    "\n",
    "formula = ''\n",
    "def get_answer(nums):\n",
    "    \n",
    "    \n",
    "    a = nums['cn1']-(nums['qn1']*2)\n",
    "    return a\n",
    "\n",
    "print(gen_new(*(nums, co, q, get_answer, formula, 100)))"
   ]
  },
  {
   "cell_type": "code",
   "execution_count": 287,
   "metadata": {},
   "outputs": [
    {
     "name": "stdout",
     "output_type": "stream",
     "text": [
      "('В книжный магазин поступило 269 экземпляров сказок Пушкина. В первый день большую часть раскупили и в книжном осталось всего 75 экземпляров.', 'Сколько сказок купили в первый день?', 194)\n"
     ]
    }
   ],
   "source": [
    "\n",
    "\n",
    "\n",
    "nums = {'cn1':0, 'cn2':0 }\n",
    "\n",
    "co = \"В книжный магазин поступило {cn1} экземпляров сказок Пушкина. В первый день большую часть раскупили и в книжном осталось всего {cn2} экземпляров.\"\n",
    "q = \"Сколько сказок купили в первый день?\"\n",
    "\n",
    "\n",
    "formula = 'cn1-cn2'\n",
    "def get_answer(nums):\n",
    "    \n",
    "    \n",
    "    a = nums['cn1']-nums['cn2']\n",
    "    if (a-10) < nums['cn2']:\n",
    "        return 0\n",
    "    \n",
    "    return a\n",
    "\n",
    "print(gen_new(*(nums, co, q, get_answer, formula, 300)))"
   ]
  },
  {
   "cell_type": "code",
   "execution_count": 298,
   "metadata": {},
   "outputs": [
    {
     "name": "stdout",
     "output_type": "stream",
     "text": [
      "('У мамы в наборе для шитья лежало 283 пуговицы. Дочка взяла у мамы 267 пуговиц, но потом 168 вернула.', 'Сколько пуговиц осталось в наборе у мамы?', 184)\n"
     ]
    }
   ],
   "source": [
    "\n",
    "nums = {'cn1':0, 'cn2':0, 'cn3':0}\n",
    "\n",
    "co = \"У мамы в наборе для шитья лежало {cn1} пуговицы. Дочка взяла у мамы {cn2} пуговиц, но потом {cn3} вернула.\"\n",
    "q = \"Сколько пуговиц осталось в наборе у мамы?\"\n",
    "\n",
    "\n",
    "formula = 'cn1-cn2+cn3'\n",
    "def get_answer(nums):\n",
    "    \n",
    "    if nums['cn3'] > nums['cn2'] or nums['cn2'] > nums['cn1']:\n",
    "        return 0\n",
    "    a = nums['cn1']-nums['cn2']+nums['cn3']\n",
    "    \n",
    "    \n",
    "    return a\n",
    "\n",
    "print(gen_new(*(nums, co, q, get_answer, formula, 300)))"
   ]
  },
  {
   "cell_type": "code",
   "execution_count": 222,
   "metadata": {},
   "outputs": [
    {
     "name": "stdout",
     "output_type": "stream",
     "text": [
      "('Хоккейная команда сыграла 12 матчей в рамках турнира. В 7 команда одержала победу, а в 1 - потерпела поражение.', 'Сколько матчей она провела вничью?', 4)\n"
     ]
    }
   ],
   "source": [
    "\n",
    "nums = {'cn1':0, 'cn2':0, 'cn3':0}\n",
    "\n",
    "co = \"Хоккейная команда сыграла {cn1} матчей в рамках турнира. В {cn2} команда одержала победу, а в {cn3} - потерпела поражение.\"\n",
    "q = \"Сколько матчей она провела вничью?\"\n",
    "\n",
    "\n",
    "formula = 'cn1-(cn2+cn3)'\n",
    "def get_answer(nums):\n",
    "    \n",
    "\n",
    "    a = nums['cn1']-(nums['cn2']+nums['cn3'])    \n",
    "    \n",
    "    return a\n",
    "\n",
    "print(gen_new(*(nums, co, q, get_answer, formula, 100)))"
   ]
  },
  {
   "cell_type": "code",
   "execution_count": 232,
   "metadata": {},
   "outputs": [
    {
     "name": "stdout",
     "output_type": "stream",
     "text": [
      "('Поезд должен был прибыть на вокзал в 7 часов 37 минут.', 'На сколько минут поезд опоздал, если в действительности он приехал только в 8 часов 34 минут?', 57)\n"
     ]
    }
   ],
   "source": [
    "\n",
    "\n",
    "nums = {'cn1':0, 'qn1':0,}\n",
    "\n",
    "co = \"Поезд должен был прибыть на вокзал в 7 часов {cn1} минут.\"\n",
    "q = \"На сколько минут поезд опоздал, если в действительности он приехал только в 8 часов {qn1} минут?\"\n",
    "\n",
    "\n",
    "formula = '(60-cn1)+qn1'\n",
    "def get_answer(nums):\n",
    "    \n",
    "    if nums['cn1'] > 59 or nums['qn1'] > 59:\n",
    "        return 0\n",
    "    \n",
    "        \n",
    "    a = (60-nums['cn1'])+nums['qn1']\n",
    "    \n",
    "    return a\n",
    "\n",
    "print(gen_new(*(nums, co, q, get_answer, formula, 100)))"
   ]
  },
  {
   "cell_type": "code",
   "execution_count": 252,
   "metadata": {},
   "outputs": [
    {
     "name": "stdout",
     "output_type": "stream",
     "text": [
      "('В шкафу 2 полок. На каждой полке лежит одинаковое количество рубашек. Всего в шкафу 8 рубашек.', 'Сколько рубашек лежит на каждой полке?', 4)\n"
     ]
    }
   ],
   "source": [
    "\n",
    "\n",
    "\n",
    "\n",
    "nums = {'cn1':0, 'cn2':0}\n",
    "\n",
    "co = \"В шкафу {cn1} полок. На каждой полке лежит одинаковое количество рубашек. Всего в шкафу {cn2} рубашек.\"\n",
    "q = \"Сколько рубашек лежит на каждой полке?\"\n",
    "\n",
    "\n",
    "formula = 'cn2/сn1'\n",
    "def get_answer(nums):\n",
    "    \n",
    "    if nums['cn1'] > 10:\n",
    "        return 0\n",
    "    \n",
    "    \n",
    "    a = nums['cn2']/nums['cn1']\n",
    "    \n",
    "    return a\n",
    "\n",
    "print(gen_new(*(nums, co, q, get_answer, formula, 100)))"
   ]
  },
  {
   "cell_type": "code",
   "execution_count": 265,
   "metadata": {},
   "outputs": [
    {
     "name": "stdout",
     "output_type": "stream",
     "text": [
      "('В главном зале театра 34 рядов. А в каждом ряду 22 кресел.', 'Сколько людей вмещает этот зал?', 748)\n"
     ]
    }
   ],
   "source": [
    "\n",
    "\n",
    "\n",
    "nums = {'cn1':0, 'cn2':0}\n",
    "\n",
    "co = \"В главном зале театра {cn1} рядов. А в каждом ряду {cn2} кресел.\"\n",
    "q = \"Сколько людей вмещает этот зал?\"\n",
    "\n",
    "\n",
    "formula = 'cn2*сn1'\n",
    "def get_answer(nums):\n",
    "    \n",
    "    if nums['cn1'] < 30 or nums['cn2'] < 10:\n",
    "        return 0\n",
    "    a = nums['cn2']*nums['cn1']\n",
    "    \n",
    "    return a\n",
    "\n",
    "print(gen_new(*(nums, co, q, get_answer, formula, 1000)))"
   ]
  },
  {
   "cell_type": "code",
   "execution_count": 307,
   "metadata": {},
   "outputs": [
    {
     "ename": "RecursionError",
     "evalue": "maximum recursion depth exceeded in comparison",
     "output_type": "error",
     "traceback": [
      "\u001b[0;31m---------------------------------------------------------------------------\u001b[0m",
      "\u001b[0;31mRecursionError\u001b[0m                            Traceback (most recent call last)",
      "\u001b[0;32m<ipython-input-307-26ca642fe45d>\u001b[0m in \u001b[0;36m<module>\u001b[0;34m()\u001b[0m\n\u001b[1;32m     16\u001b[0m     \u001b[0;32mreturn\u001b[0m \u001b[0ma\u001b[0m\u001b[0;34m\u001b[0m\u001b[0m\n\u001b[1;32m     17\u001b[0m \u001b[0;34m\u001b[0m\u001b[0m\n\u001b[0;32m---> 18\u001b[0;31m \u001b[0mprint\u001b[0m\u001b[0;34m(\u001b[0m\u001b[0mgen_new\u001b[0m\u001b[0;34m(\u001b[0m\u001b[0;34m*\u001b[0m\u001b[0;34m(\u001b[0m\u001b[0mnums\u001b[0m\u001b[0;34m,\u001b[0m \u001b[0mco\u001b[0m\u001b[0;34m,\u001b[0m \u001b[0mq\u001b[0m\u001b[0;34m,\u001b[0m \u001b[0mget_answer\u001b[0m\u001b[0;34m,\u001b[0m \u001b[0mformula\u001b[0m\u001b[0;34m,\u001b[0m \u001b[0;36m150\u001b[0m\u001b[0;34m)\u001b[0m\u001b[0;34m)\u001b[0m\u001b[0;34m)\u001b[0m\u001b[0;34m\u001b[0m\u001b[0m\n\u001b[0m",
      "\u001b[0;32m<ipython-input-213-3745fafa298b>\u001b[0m in \u001b[0;36mgen_new\u001b[0;34m(nums, c, q, get_answer, form, rang)\u001b[0m\n\u001b[1;32m     25\u001b[0m         \u001b[0;32mreturn\u001b[0m \u001b[0mc\u001b[0m\u001b[0;34m.\u001b[0m\u001b[0mformat\u001b[0m\u001b[0;34m(\u001b[0m\u001b[0;34m**\u001b[0m\u001b[0mg_nums\u001b[0m\u001b[0;34m)\u001b[0m\u001b[0;34m,\u001b[0m \u001b[0mq\u001b[0m\u001b[0;34m.\u001b[0m\u001b[0mformat\u001b[0m\u001b[0;34m(\u001b[0m\u001b[0;34m**\u001b[0m\u001b[0mg_nums\u001b[0m\u001b[0;34m)\u001b[0m\u001b[0;34m,\u001b[0m \u001b[0mint\u001b[0m\u001b[0;34m(\u001b[0m\u001b[0ma\u001b[0m\u001b[0;34m)\u001b[0m\u001b[0;34m\u001b[0m\u001b[0m\n\u001b[1;32m     26\u001b[0m     \u001b[0;32melse\u001b[0m\u001b[0;34m:\u001b[0m\u001b[0;34m\u001b[0m\u001b[0m\n\u001b[0;32m---> 27\u001b[0;31m         \u001b[0;32mreturn\u001b[0m \u001b[0mgen_new\u001b[0m\u001b[0;34m(\u001b[0m\u001b[0mnums\u001b[0m\u001b[0;34m,\u001b[0m \u001b[0mc\u001b[0m\u001b[0;34m,\u001b[0m \u001b[0mq\u001b[0m\u001b[0;34m,\u001b[0m \u001b[0mget_answer\u001b[0m\u001b[0;34m,\u001b[0m \u001b[0m_\u001b[0m\u001b[0;34m,\u001b[0m \u001b[0mrang\u001b[0m\u001b[0;34m)\u001b[0m\u001b[0;34m\u001b[0m\u001b[0m\n\u001b[0m\u001b[1;32m     28\u001b[0m \u001b[0;34m\u001b[0m\u001b[0m\n",
      "... last 1 frames repeated, from the frame below ...\n",
      "\u001b[0;32m<ipython-input-213-3745fafa298b>\u001b[0m in \u001b[0;36mgen_new\u001b[0;34m(nums, c, q, get_answer, form, rang)\u001b[0m\n\u001b[1;32m     25\u001b[0m         \u001b[0;32mreturn\u001b[0m \u001b[0mc\u001b[0m\u001b[0;34m.\u001b[0m\u001b[0mformat\u001b[0m\u001b[0;34m(\u001b[0m\u001b[0;34m**\u001b[0m\u001b[0mg_nums\u001b[0m\u001b[0;34m)\u001b[0m\u001b[0;34m,\u001b[0m \u001b[0mq\u001b[0m\u001b[0;34m.\u001b[0m\u001b[0mformat\u001b[0m\u001b[0;34m(\u001b[0m\u001b[0;34m**\u001b[0m\u001b[0mg_nums\u001b[0m\u001b[0;34m)\u001b[0m\u001b[0;34m,\u001b[0m \u001b[0mint\u001b[0m\u001b[0;34m(\u001b[0m\u001b[0ma\u001b[0m\u001b[0;34m)\u001b[0m\u001b[0;34m\u001b[0m\u001b[0m\n\u001b[1;32m     26\u001b[0m     \u001b[0;32melse\u001b[0m\u001b[0;34m:\u001b[0m\u001b[0;34m\u001b[0m\u001b[0m\n\u001b[0;32m---> 27\u001b[0;31m         \u001b[0;32mreturn\u001b[0m \u001b[0mgen_new\u001b[0m\u001b[0;34m(\u001b[0m\u001b[0mnums\u001b[0m\u001b[0;34m,\u001b[0m \u001b[0mc\u001b[0m\u001b[0;34m,\u001b[0m \u001b[0mq\u001b[0m\u001b[0;34m,\u001b[0m \u001b[0mget_answer\u001b[0m\u001b[0;34m,\u001b[0m \u001b[0m_\u001b[0m\u001b[0;34m,\u001b[0m \u001b[0mrang\u001b[0m\u001b[0;34m)\u001b[0m\u001b[0;34m\u001b[0m\u001b[0m\n\u001b[0m\u001b[1;32m     28\u001b[0m \u001b[0;34m\u001b[0m\u001b[0m\n",
      "\u001b[0;31mRecursionError\u001b[0m: maximum recursion depth exceeded in comparison"
     ]
    }
   ],
   "source": [
    "\t\t18\n",
    "nums = {'cn1':0,'cn2':0, 'qn1':0}\n",
    "\n",
    "co = \"Чтобы полить {cn2} грядок с редисом, Коле нужно {cn1} литров воды.\"\n",
    "q = \"Сколько литров воды нужно Коле, чтобы полить {qn1} таких грядок?\"\n",
    "\n",
    "\n",
    "formula = '(cn2/cn1)*qn1'\n",
    "def get_answer(nums):\n",
    "    \n",
    "    b = (nums['cn2']/nums['cn1'])\n",
    "    if b%1 or b==1 or nums['cn2']>nums['qn1']:\n",
    "        return 0\n",
    "    a = b*nums['qn1']\n",
    "    \n",
    "    return a\n",
    "\n",
    "print(gen_new(*(nums, co, q, get_answer, formula, 150)))"
   ]
  },
  {
   "cell_type": "code",
   "execution_count": 320,
   "metadata": {},
   "outputs": [
    {
     "name": "stdout",
     "output_type": "stream",
     "text": [
      "('В урожайные годы у белки в запасах находили до 132 грибов, а желудей — только 2.', 'Во сколько раз меньше белка заготавливает желудей, чем грибов?', 66)\n"
     ]
    }
   ],
   "source": [
    "\t\t500\n",
    "\n"
   ]
  },
  {
   "cell_type": "code",
   "execution_count": 332,
   "metadata": {},
   "outputs": [
    {
     "name": "stdout",
     "output_type": "stream",
     "text": [
      "('Рекомендуемое расстояние от глаз до экрана телевизора в 5 раза больше его диагонали.', 'Чему равняется рекомендуемое расстояние, если диагональ экрана равна 40 дюймов?', 200)\n"
     ]
    }
   ],
   "source": [
    "nums = {'cn1':0,'cn2':0, 'qn1':0}\n",
    "\n",
    "co = \"Рекомендуемое расстояние от глаз до экрана телевизора в {cn1} раза больше его диагонали.\"\n",
    "q = \"Чему равняется рекомендуемое расстояние, если диагональ экрана равна {qn1} дюймов?\"\n",
    "\n",
    "\n",
    "formula = '(cn1*qn1)'\n",
    "def get_answer(nums):\n",
    "    \n",
    "    b = (nums['cn1']*nums['qn1'])\n",
    "    if b%1 or b==nums['qn1'] or nums['cn1']>5:\n",
    "        return 0\n",
    "    a = b\n",
    "    \n",
    "    return a\n",
    "\n",
    "print(gen_new(*(nums, co, q, get_answer, formula, 500)))"
   ]
  },
  {
   "cell_type": "code",
   "execution_count": 339,
   "metadata": {},
   "outputs": [
    {
     "name": "stdout",
     "output_type": "stream",
     "text": [
      "('Акула за 2 минут проплывает 208 м. ', 'Какое расстояние она проплывает за 1 минуту?', 104)\n"
     ]
    }
   ],
   "source": [
    "\t\t100\n",
    "\n",
    "nums = {'cn1':0,'cn2':0, 'qn1':0}\n",
    "\n",
    "co = \"Акула за {cn1} минут проплывает {cn2} м. \"\n",
    "q = \"Какое расстояние она проплывает за 1 минуту?\"\n",
    "\n",
    "\n",
    "formula = '(cn2/cn1)'\n",
    "def get_answer(nums):\n",
    "    \n",
    "    b = (nums['cn2']/nums['cn1'])\n",
    "    if b%1 or b==nums['cn2']:\n",
    "        return 0\n",
    "    a = b\n",
    "    \n",
    "    return a\n",
    "\n",
    "print(gen_new(*(nums, co, q, get_answer, formula, 500)))"
   ]
  },
  {
   "cell_type": "code",
   "execution_count": 353,
   "metadata": {},
   "outputs": [
    {
     "name": "stdout",
     "output_type": "stream",
     "text": [
      "('Ахилес за час пробегает 74 км, а черепаха — на 49 км меньше. ', 'Сколько километров может пробежать черепаха за 1 час?', 25)\n"
     ]
    }
   ],
   "source": [
    "\n",
    "\n",
    "nums = {'cn1':0,'cn2':0, 'qn1':0}\n",
    "\n",
    "co = \"Ахилес за час пробегает {cn1} км, а черепаха — на {cn2} км меньше. \"\n",
    "q = \"Сколько километров может пробежать черепаха за 1 час?\"\n",
    "\n",
    "\n",
    "formula = '(cn2-cn1)'\n",
    "def get_answer(nums):\n",
    "    \n",
    "    b = (nums['cn1']-nums['cn2'])\n",
    "    if b==nums['cn1'] or nums['cn2'] < 30:\n",
    "        return 0\n",
    "    a = b\n",
    "    \n",
    "    return a\n",
    "\n",
    "print(gen_new(*(nums, co, q, get_answer, formula, 100)))"
   ]
  },
  {
   "cell_type": "code",
   "execution_count": 376,
   "metadata": {},
   "outputs": [
    {
     "name": "stdout",
     "output_type": "stream",
     "text": [
      "('В персональной коллекции Евгения собраны марки XIX и XX веков. Марок XX у него 453.', 'Сколько марок XIX века у него в коллекции, если всего марок 1239?', 786)\n"
     ]
    }
   ],
   "source": [
    "\t\t2\n",
    "\n",
    "nums = {'cn1':0,'cn2':0, 'qn1':0}\n",
    "\n",
    "co = \"В персональной коллекции Евгения собраны марки XIX и XX веков. Марок XX у него {cn1}.\"\n",
    "q = \"Сколько марок XIX века у него в коллекции, если всего марок {qn1}?\"\n",
    "\n",
    "\n",
    "formula = '(qn1-cn1)'\n",
    "def get_answer(nums):\n",
    "    \n",
    "    b = (nums['qn1']-nums['cn1'])\n",
    "    if b==nums['qn1']:\n",
    "        return 0\n",
    "    a = b\n",
    "    \n",
    "    return a\n",
    "\n",
    "print(gen_new(*(nums, co, q, get_answer, formula, 1500)))"
   ]
  },
  {
   "cell_type": "code",
   "execution_count": null,
   "metadata": {},
   "outputs": [],
   "source": [
    " \t159"
   ]
  },
  {
   "cell_type": "code",
   "execution_count": null,
   "metadata": {},
   "outputs": [],
   "source": []
  },
  {
   "cell_type": "code",
   "execution_count": null,
   "metadata": {},
   "outputs": [],
   "source": [
    "nums = {'cn1':0,'cn2':0, 'cn3':0, 'cn4':0}\n",
    "\n",
    "co = \"Утром в продуктовый магазин завезли {cn1} л яблочного сока и {cn2} л апельсинового. За день купили {cn3} л яблочного сока, а апельнового только {cn4} л.\"\n",
    "q = \"Сколько литров сока осталось в магазине? \"\n",
    "\n",
    "\n",
    "formula = '(cn1-cn3)+(cn2-cn4)'\n",
    "def get_answer(nums):\n",
    "    if (nums['cn3']-100) < nums['cn4']:\n",
    "        return 0\n",
    "    b = (nums['cn1']-nums['cn3'])+(nums['cn2']-nums['cn4'])\n",
    "    if b==(nums['cn1']+nums['cn2']) or nums['cn1'] < nums['cn3'] or  nums['cn2'] < nums['cn4']:\n",
    "        return 0\n",
    "    a = b\n",
    "    \n",
    "    return a\n",
    "\n",
    "print(gen_new(*(nums, co, q, get_answer, formula, 1500)))"
   ]
  },
  {
   "cell_type": "code",
   "execution_count": 31,
   "metadata": {},
   "outputs": [
    {
     "name": "stdout",
     "output_type": "stream",
     "text": [
      "('Каждый день в пекарне пекут 108 булочек с изюмом и 84 булочек с корицей.', 'Сколько всего булочек выпекают в пекарне за неделю?', 1344)\n"
     ]
    }
   ],
   "source": [
    "\n",
    "\n",
    "nums = {'cn1':0,'cn2':0, 'cn3':0, 'cn4':0}\n",
    "\n",
    "co = \"Каждый день в пекарне пекут {cn1} булочек с изюмом и {cn2} булочек с корицей.\"\n",
    "q = \"Сколько всего булочек выпекают в пекарне за неделю?\"\n",
    "\n",
    "\n",
    "formula = 'cn1+cn2'\n",
    "def get_answer(nums):\n",
    "    if (nums['cn1']) < 5 or nums['cn2'] < 5:\n",
    "        return 0\n",
    "    b = (nums['cn1']+nums['cn2'])*7\n",
    "    \n",
    "    a = b\n",
    "    \n",
    "    return a\n",
    "\n",
    "print(gen_new(*(nums, co, q, get_answer, formula, 1500)))"
   ]
  },
  {
   "cell_type": "code",
   "execution_count": 3,
   "metadata": {},
   "outputs": [
    {
     "name": "stdout",
     "output_type": "stream",
     "text": [
      "('Каждые 90 минут на канале показывают 5 рекламных роликов.', 'Сколько рекламных роликов покажут на канале за 12 часов?', 40)\n"
     ]
    }
   ],
   "source": [
    "\n",
    "nums = {'cn1':0,'cn2':0, 'cn3':0, 'cn4':0, 'qn1':0}\n",
    "\n",
    "co = \"Каждые {cn1} минут на канале показывают {cn2} рекламных роликов.\"\n",
    "q = \"Сколько рекламных роликов покажут на канале за {qn1} часов?\"\n",
    "\n",
    "\n",
    "formula = '(60/cn1)*qn1*cn2'\n",
    "def get_answer(nums):\n",
    "    \n",
    "    if nums['qn1'] > 24:\n",
    "        nums['qn1'] = randint(2, 24)\n",
    "    \n",
    "    if nums['cn2'] > 10:\n",
    "        nums['cn2'] = randint(2, 10)\n",
    "        \n",
    "    if nums['cn1'] > 100:\n",
    "        nums['cn1'] = randint(10, 100)\n",
    "        \n",
    "    b = (60/nums['cn1'])*nums['qn1']*nums['cn2']\n",
    "    if b%1:\n",
    "        return 0\n",
    "    if b <=0:\n",
    "        return 0\n",
    "    a = b\n",
    "    \n",
    "    return a\n",
    "\n",
    "print(gen_new(*(nums, co, q, get_answer, formula, 10000)))"
   ]
  },
  {
   "cell_type": "code",
   "execution_count": 78,
   "metadata": {},
   "outputs": [],
   "source": [
    "pickle.dump(fpat, open('pattern.pkl', 'wb'))"
   ]
  },
  {
   "cell_type": "code",
   "execution_count": null,
   "metadata": {},
   "outputs": [],
   "source": []
  },
  {
   "cell_type": "code",
   "execution_count": null,
   "metadata": {},
   "outputs": [],
   "source": []
  },
  {
   "cell_type": "code",
   "execution_count": 4,
   "metadata": {},
   "outputs": [
    {
     "ename": "NameError",
     "evalue": "name 'fpat' is not defined",
     "output_type": "error",
     "traceback": [
      "\u001b[0;31m---------------------------------------------------------------------------\u001b[0m",
      "\u001b[0;31mNameError\u001b[0m                                 Traceback (most recent call last)",
      "\u001b[0;32m<ipython-input-4-4c00bc124cff>\u001b[0m in \u001b[0;36m<module>\u001b[0;34m()\u001b[0m\n\u001b[0;32m----> 1\u001b[0;31m \u001b[0mfpat\u001b[0m\u001b[0;34m.\u001b[0m\u001b[0mappend\u001b[0m\u001b[0;34m(\u001b[0m\u001b[0;34m(\u001b[0m\u001b[0mnums\u001b[0m\u001b[0;34m,\u001b[0m \u001b[0mco\u001b[0m\u001b[0;34m,\u001b[0m \u001b[0mq\u001b[0m\u001b[0;34m,\u001b[0m \u001b[0mget_answer\u001b[0m\u001b[0;34m,\u001b[0m \u001b[0mformula\u001b[0m\u001b[0;34m)\u001b[0m\u001b[0;34m)\u001b[0m\u001b[0;34m\u001b[0m\u001b[0m\n\u001b[0m",
      "\u001b[0;31mNameError\u001b[0m: name 'fpat' is not defined"
     ]
    }
   ],
   "source": [
    "fpat.append((nums, co, q, get_answer, formula))"
   ]
  },
  {
   "cell_type": "code",
   "execution_count": 12,
   "metadata": {},
   "outputs": [
    {
     "data": {
      "text/plain": [
       "('Каждые 36 минут на канале показывают 6 рекламных роликов.',\n",
       " 'Сколько рекламных роликов покажут на канале за 13 часов?',\n",
       " 130)"
      ]
     },
     "execution_count": 12,
     "metadata": {},
     "output_type": "execute_result"
    }
   ],
   "source": [
    "gen_new(nums, co, q, get_answer, formula)"
   ]
  },
  {
   "cell_type": "code",
   "execution_count": 226,
   "metadata": {},
   "outputs": [],
   "source": [
    "def gen_new(nums, c, q, get_answer, form, rang=10000):\n",
    "    c_len = len([n for n in nums if 'c' in n])\n",
    "    q_len = len([n for n in nums if 'q' in n])\n",
    "    \n",
    "    g_nums = {}\n",
    "#     names_d = {}\n",
    "#     for name in names:\n",
    "#         if 'fname' in name:\n",
    "#             names_d[name] = choice(fnames)\n",
    "#         elif 'mname' in name:\n",
    "#             names_d[name] = choice(mnames)\n",
    "            \n",
    "#     names = names_d\n",
    "    \n",
    "    for i in range(c_len):\n",
    "        g_nums['cn' + str(i+1)] = randint(2, rang)\n",
    "    \n",
    "    for i in range(q_len):\n",
    "        g_nums['qn' + str(i+1)] = randint(2, rang)\n",
    "    \n",
    "#     print(g_nums)\n",
    "    a = get_answer(g_nums)\n",
    "#     print(g_nums)\n",
    "    if (a > 1) and (not a%1) and (a <= rang):\n",
    "        return c.format(**g_nums), q.format(**g_nums), int(a)\n",
    "    else:\n",
    "        return gen_new(nums, c, q, get_answer, _, rang)\n",
    "    "
   ]
  },
  {
   "cell_type": "code",
   "execution_count": 114,
   "metadata": {},
   "outputs": [],
   "source": [
    "f = open('augmented_sents_dev.txt', 'a')\n",
    "for i in range(5):\n",
    "    z = gen_new(c, q, nums)\n",
    "    f.write('\\t'.join(map(str, z)) + '\\n')\n",
    "\n",
    "    "
   ]
  },
  {
   "cell_type": "code",
   "execution_count": 1578,
   "metadata": {},
   "outputs": [],
   "source": [
    "f.close()"
   ]
  },
  {
   "cell_type": "code",
   "execution_count": 1063,
   "metadata": {},
   "outputs": [],
   "source": [
    "f = open('augmented_sents.txt', 'a')\n",
    "def write_augments(problems, f):\n",
    "    for problem in problems:\n",
    "        f.write('\\t'.join(map(str, problem)) + '\\n')\n",
    "    "
   ]
  },
  {
   "cell_type": "markdown",
   "metadata": {},
   "source": [
    "## DEV SET"
   ]
  },
  {
   "cell_type": "code",
   "execution_count": 10,
   "metadata": {},
   "outputs": [],
   "source": [
    "fpat = []"
   ]
  },
  {
   "cell_type": "code",
   "execution_count": 13,
   "metadata": {},
   "outputs": [
    {
     "name": "stdout",
     "output_type": "stream",
     "text": [
      "('За 1 день гортензия вырастает на 7 миллиметров.', 'На сколько миллиметров вырастет гортензия за 63 дней?', 441)\n"
     ]
    }
   ],
   "source": [
    "\n",
    "nums = {'cn1':0,'cn2':0, 'cn3':0, 'cn4':0, 'qn1':0}\n",
    "\n",
    "co = \"За 1 день гортензия вырастает на {cn1} миллиметров.\"\n",
    "q = \"На сколько миллиметров вырастет гортензия за {qn1} дней?\"\n",
    "\n",
    "\n",
    "formula = 'cn1*qn1'\n",
    "def get_answer(nums):\n",
    "    \n",
    "    if nums['qn1'] > 100:\n",
    "        nums['qn1'] = randint(2, 100)\n",
    "\n",
    "        \n",
    "    if nums['cn1'] > 10:\n",
    "        nums['cn1'] = randint(1, 10)\n",
    "        \n",
    "    b = nums['cn1']*nums['qn1']\n",
    "    \n",
    "    if b%1:\n",
    "        return 0\n",
    "    if b <=0:\n",
    "        return 0\n",
    "    a = b\n",
    "    \n",
    "    return a\n",
    "\n",
    "print(gen_new(*(nums, co, q, get_answer, formula, 10000)))"
   ]
  },
  {
   "cell_type": "code",
   "execution_count": 35,
   "metadata": {},
   "outputs": [
    {
     "name": "stdout",
     "output_type": "stream",
     "text": [
      "('В доме 20 этажей и 5 подъездов.', 'Сколько всего квартир в доме, если на каждом этаже в каждом подъезде 7 квартир?', 700)\n"
     ]
    }
   ],
   "source": [
    "\n",
    "nums = {'cn1':0,'cn2':0, 'cn3':0, 'cn4':0, 'qn1':0}\n",
    "\n",
    "co = \"В доме {cn1} этажей и {cn2} подъездов.\"\n",
    "q = \"Сколько всего квартир в доме, если на каждом этаже в каждом подъезде {qn1} квартир?\"\n",
    "\n",
    "\n",
    "formula = 'cn1*cn2*qn1'\n",
    "def get_answer(nums):\n",
    "    \n",
    "    if nums['qn1'] > 8:\n",
    "        nums['qn1'] = randint(2, 8)\n",
    "\n",
    "    if nums['cn1'] > 24:\n",
    "        nums['cn1'] = randint(2, 24)\n",
    "    \n",
    "    if nums['cn2'] > 6:\n",
    "        nums['cn2'] = randint(2, 6)\n",
    "        \n",
    "    b = nums['cn1']*nums['qn1']*nums['cn2']\n",
    "    \n",
    "    if b%1:\n",
    "        return 0\n",
    "    if b <=0:\n",
    "        return 0\n",
    "    a = b\n",
    "    \n",
    "    return a\n",
    "\n",
    "print(gen_new(*(nums, co, q, get_answer, formula, 10000)))"
   ]
  },
  {
   "cell_type": "code",
   "execution_count": 42,
   "metadata": {},
   "outputs": [
    {
     "name": "stdout",
     "output_type": "stream",
     "text": [
      "('В первом тайме футбольная команда забила 7 голов. А во втором - 10', 'Сколько голов команда забила за весь матч?', 17)\n"
     ]
    }
   ],
   "source": [
    "\n",
    "nums = {'cn1':0,'cn2':0, 'cn3':0, 'cn4':0, 'qn1':0}\n",
    "\n",
    "co = \"В первом тайме футбольная команда забила {cn1} голов. А во втором - {cn2}\"\n",
    "q = \"Сколько голов команда забила за весь матч?\"\n",
    "\n",
    "\n",
    "formula = 'cn1+cn2'\n",
    "def get_answer(nums):\n",
    "    \n",
    "\n",
    "    if nums['cn1'] > 30:\n",
    "        nums['cn1'] = randint(2, 30)\n",
    "    \n",
    "    if nums['cn2'] > 20:\n",
    "        nums['cn2'] = randint(1, 20)\n",
    "        \n",
    "    b = nums['cn1']+nums['cn2']\n",
    "    \n",
    "    if b%1:\n",
    "        return 0\n",
    "    if b <=0:\n",
    "        return 0\n",
    "    a = b\n",
    "    \n",
    "    return a\n",
    "\n",
    "print(gen_new(*(nums, co, q, get_answer, formula, 10000)))"
   ]
  },
  {
   "cell_type": "code",
   "execution_count": 57,
   "metadata": {},
   "outputs": [
    {
     "name": "stdout",
     "output_type": "stream",
     "text": [
      "('На прошлой неделе Женя весила 52 кг. Сейчас она весит 37 кг.', 'На сколько кг похудела Женя?', 15)\n"
     ]
    }
   ],
   "source": [
    "\n",
    "nums = {'cn1':0,'cn2':0, 'cn3':0, 'cn4':0, 'qn1':0}\n",
    "\n",
    "co = \"На прошлой неделе Женя весила {cn1} кг. Сейчас она весит {cn2} кг.\"\n",
    "q = \"На сколько кг похудела Женя?\"\n",
    "\n",
    "\n",
    "formula = 'cn1-cn2'\n",
    "def get_answer(nums):\n",
    "    \n",
    "\n",
    "    if nums['cn1'] > 80:\n",
    "        nums['cn1'] = randint(31, 90)\n",
    "    \n",
    "    if nums['cn2'] > 75:\n",
    "        nums['cn2'] = randint( nums['cn1']-20, nums['cn1'])\n",
    "        \n",
    "    b = nums['cn1']-nums['cn2']\n",
    "    \n",
    "    if b%1:\n",
    "        return 0\n",
    "    if b <=0:\n",
    "        return 0\n",
    "    a = b\n",
    "    \n",
    "    return a\n",
    "\n",
    "print(gen_new(*(nums, co, q, get_answer, formula, 10000)))"
   ]
  },
  {
   "cell_type": "code",
   "execution_count": 75,
   "metadata": {},
   "outputs": [
    {
     "name": "stdout",
     "output_type": "stream",
     "text": [
      "('Штат банка составлял 8253 сотрудников. Потом 3678 сократили и наняли 1550 новых.', 'Сколько теперь сотрудников в банке?', 6125)\n"
     ]
    }
   ],
   "source": [
    "\n",
    "nums = {'cn1':0,'cn2':0, 'cn3':0, 'cn4':0, 'qn1':0}\n",
    "\n",
    "co = \"Штат банка составлял {cn1} сотрудников. Потом {cn2} сократили и наняли {cn3} новых.\"\n",
    "q = \"Сколько теперь сотрудников в банке?\"\n",
    "\n",
    "\n",
    "formula = 'cn1-cn2'\n",
    "def get_answer(nums):\n",
    "    \n",
    "\n",
    "    if nums['cn1'] > 10000:\n",
    "        nums['cn1'] = randint(30,10000)\n",
    "    \n",
    "    if nums['cn2'] > 3000:\n",
    "        nums['cn2'] = randint(5, nums['cn1']-100)\n",
    "    \n",
    "    if nums['cn3'] > 10000:\n",
    "        nums['cn2'] = randint(30, 10000)\n",
    "        \n",
    "    b = (nums['cn1']-nums['cn2'])+nums['cn3']\n",
    "    \n",
    "    if b%1:\n",
    "        return 0\n",
    "    if b <=0:\n",
    "        return 0\n",
    "    a = b\n",
    "    \n",
    "    return a\n",
    "\n",
    "print(gen_new(*(nums, co, q, get_answer, formula, 10000)))"
   ]
  },
  {
   "cell_type": "code",
   "execution_count": 84,
   "metadata": {},
   "outputs": [
    {
     "name": "stdout",
     "output_type": "stream",
     "text": [
      "('Разрешение экрана составляет 13 на 592 пикселей?', 'Сколько всего пикселей на экране?', 7696)\n"
     ]
    }
   ],
   "source": [
    "\n",
    "nums = {'cn1':0,'cn2':0, 'cn3':0, 'cn4':0, 'qn1':0}\n",
    "\n",
    "co = \"Разрешение экрана составляет {cn1} на {cn2} пикселей?\"\n",
    "q = \"Сколько всего пикселей на экране?\"\n",
    "\n",
    "\n",
    "formula = 'cn1*cn2'\n",
    "def get_answer(nums):\n",
    "    \n",
    "\n",
    "    if nums['cn1'] > 4000:\n",
    "        nums['cn1'] = randint(100,4000)\n",
    "    \n",
    "    if nums['cn2'] > 1500:\n",
    "        nums['cn2'] = randint(50, 1500)\n",
    "    \n",
    "    \n",
    "    b = (nums['cn1']*nums['cn2'])\n",
    "    \n",
    "    if b%1:\n",
    "        return 0\n",
    "    if b <=0:\n",
    "        return 0\n",
    "    a = b\n",
    "    \n",
    "    return a\n",
    "\n",
    "print(gen_new(*(nums, co, q, get_answer, formula, 10000)))"
   ]
  },
  {
   "cell_type": "code",
   "execution_count": 92,
   "metadata": {},
   "outputs": [
    {
     "name": "stdout",
     "output_type": "stream",
     "text": [
      "('Скорость света примерно составляет 300 тысяч километров в секунду.', 'Сколько километров пройдет луч света за 25 секунд?', 7500000)\n"
     ]
    }
   ],
   "source": [
    "\n",
    "nums = {'cn1':0,'cn2':0, 'cn3':0, 'cn4':0, 'qn1':0}\n",
    "\n",
    "co = \"Скорость света примерно составляет 300 тысяч километров в секунду.\"\n",
    "q = \"Сколько километров пройдет луч света за {qn1} секунд?\"\n",
    "\n",
    "\n",
    "formula = '300000*qn1'\n",
    "def get_answer(nums):\n",
    "    \n",
    "    if nums['qn1'] > 30:\n",
    "        nums['qn1'] = randint(2, 30)\n",
    "    \n",
    "    \n",
    "    b = (nums['qn1']*300000)\n",
    "    \n",
    "    if b%1:\n",
    "        return 0\n",
    "    if b <=0:\n",
    "        return 0\n",
    "    a = b\n",
    "    \n",
    "    return a\n",
    "\n",
    "print(gen_new(*(nums, co, q, get_answer, formula, 100000000000)))"
   ]
  },
  {
   "cell_type": "code",
   "execution_count": 141,
   "metadata": {},
   "outputs": [
    {
     "name": "stdout",
     "output_type": "stream",
     "text": [
      "('В начальных классах 146-й средней школы 477 учеников. Во время сезонной эпидемии гриппа 9/9 учеников заболели.', 'Сколько учеников заболело гриппом?', 477)\n"
     ]
    }
   ],
   "source": [
    "\n",
    "nums = {'cn1':0,'cn2':0, 'cn3':0, 'cn4':0, 'qn1':0}\n",
    "\n",
    "co = \"В начальных классах {cn4}-й средней школы {cn1} учеников. Во время сезонной эпидемии гриппа {cn2}/{cn3} учеников заболели.\"\n",
    "q = \"Сколько учеников заболело гриппом?\"\n",
    "\n",
    "\n",
    "formula = '((cn1*cn2)\\cn3)'\n",
    "def get_answer(nums):\n",
    "    \n",
    "\n",
    "    if nums['cn1'] > 500:\n",
    "        nums['cn1'] = randint(30,500)\n",
    "    \n",
    "    if nums['cn2'] > 10:\n",
    "        nums['cn2'] = randint(2, 10)\n",
    "\n",
    "    if nums['cn3'] > 15:\n",
    "        nums['cn3'] = randint(2, 10)\n",
    "    if nums['cn4'] > 150:\n",
    "        nums['cn4'] = randint(2, 150)\n",
    "    \n",
    "    b = ((nums['cn1']*nums['cn2'])/nums['cn3'])\n",
    "    \n",
    "    if b%1:\n",
    "        return 0\n",
    "    if b <=0:\n",
    "        return 0\n",
    "    a = b\n",
    "    \n",
    "    return a\n",
    "\n",
    "print(gen_new(*(nums, co, q, get_answer, formula, 10000)))"
   ]
  },
  {
   "cell_type": "code",
   "execution_count": 148,
   "metadata": {},
   "outputs": [
    {
     "name": "stdout",
     "output_type": "stream",
     "text": [
      "('Каждого 20-го мужчину в деревне Семеновка зовут Иваном.', 'Сколько всего Иванов в деревне, если всего мужчин там 1260?', 63)\n"
     ]
    }
   ],
   "source": [
    "\n",
    "nums = {'cn1':0,'cn2':0, 'cn3':0, 'cn4':0, 'qn1':0}\n",
    "\n",
    "co = \"Каждого {cn1}-го мужчину в деревне Семеновка зовут Иваном.\"\n",
    "q = \"Сколько всего Иванов в деревне, если всего мужчин там {qn1}?\"\n",
    "\n",
    "\n",
    "formula = '((qn1\\cn1)'\n",
    "def get_answer(nums):\n",
    "    \n",
    "\n",
    "    if nums['cn1'] > 50:\n",
    "        nums['cn1'] = randint(2,50)\n",
    "    \n",
    "    \n",
    "    if nums['qn1'] > 1500:\n",
    "        nums['qn1'] = randint(100, 1500)\n",
    "    \n",
    "    b = ((nums['qn1'])/nums['cn1'])\n",
    "    \n",
    "    if b%1:\n",
    "        return 0\n",
    "    if b <=0:\n",
    "        return 0\n",
    "    a = b\n",
    "    \n",
    "    return a\n",
    "\n",
    "print(gen_new(*(nums, co, q, get_answer, formula, 10000)))"
   ]
  },
  {
   "cell_type": "code",
   "execution_count": 159,
   "metadata": {},
   "outputs": [
    {
     "name": "stdout",
     "output_type": "stream",
     "text": [
      "('Длина первой змеи 22 метров, а длина второй - 28.', 'На сколько первая змея короче второй?', 6)\n"
     ]
    }
   ],
   "source": [
    "\n",
    "nums = {'cn1':0,'cn2':0, 'cn3':0, 'cn4':0, 'qn1':0}\n",
    "\n",
    "co = \"Длина первой змеи {cn1} метров, а длина второй - {cn2}.\"\n",
    "q = \"На сколько первая змея короче второй?\"\n",
    "\n",
    "\n",
    "formula = '((сn2-cn1)'\n",
    "def get_answer(nums):\n",
    "    \n",
    "\n",
    "    if nums['cn1'] > 50:\n",
    "        nums['cn1'] = randint(2,50)\n",
    "    \n",
    "    \n",
    "    if nums['cn2'] > 50:\n",
    "        nums['cn2'] = randint(nums['cn1'], 50)\n",
    "    \n",
    "    b = ((nums['cn2'])-nums['cn1'])\n",
    "    \n",
    "    if b%1:\n",
    "        return 0\n",
    "    if b <=0:\n",
    "        return 0\n",
    "    a = b\n",
    "    \n",
    "    return a\n",
    "\n",
    "print(gen_new(*(nums, co, q, get_answer, formula, 10000)))"
   ]
  },
  {
   "cell_type": "code",
   "execution_count": 165,
   "metadata": {},
   "outputs": [
    {
     "name": "stdout",
     "output_type": "stream",
     "text": [
      "('Объем первого контейнера 106 кубических сантиметров, а второго - 424.', 'Во сколько раз объем второго контейнера превосходит объем первого?', 4)\n"
     ]
    }
   ],
   "source": [
    "\n",
    "nums = {'cn1':0,'cn2':0, 'cn3':0, 'cn4':0, 'qn1':0}\n",
    "\n",
    "co = \"Объем первого контейнера {cn1} кубических сантиметров, а второго - {cn2}.\"\n",
    "q = \"Во сколько раз объем второго контейнера превосходит объем первого?\"\n",
    "\n",
    "\n",
    "formula = '((сn2\\cn1)'\n",
    "def get_answer(nums):\n",
    "    \n",
    "\n",
    "    if nums['cn1'] > 500:\n",
    "        nums['cn1'] = randint(2,500)\n",
    "    \n",
    "    \n",
    "    if nums['cn2'] > 500:\n",
    "        nums['cn2'] = randint(nums['cn1'], 500)\n",
    "    \n",
    "    b = ((nums['cn2'])/nums['cn1'])\n",
    "    \n",
    "    if b%1:\n",
    "        return 0\n",
    "    if b <=0:\n",
    "        return 0\n",
    "    a = b\n",
    "    \n",
    "    return a\n",
    "\n",
    "print(gen_new(*(nums, co, q, get_answer, formula, 10000)))"
   ]
  },
  {
   "cell_type": "code",
   "execution_count": 171,
   "metadata": {},
   "outputs": [
    {
     "name": "stdout",
     "output_type": "stream",
     "text": [
      "('Общая толщина двух досок равна 487 мм. Толщина первой - 474 мм.', 'Чему равна толщина второй доски?', 13)\n"
     ]
    }
   ],
   "source": [
    "\n",
    "nums = {'cn1':0,'cn2':0, 'cn3':0, 'cn4':0, 'qn1':0}\n",
    "\n",
    "co = \"Общая толщина двух досок равна {cn1} мм. Толщина первой - {cn2} мм.\"\n",
    "q = \"Чему равна толщина второй доски?\"\n",
    "\n",
    "formula = '((сn1-cn2)'\n",
    "def get_answer(nums):\n",
    "    \n",
    "\n",
    "    if nums['cn1'] > 500:\n",
    "        nums['cn1'] = randint(2,500)\n",
    "    \n",
    "    \n",
    "    if nums['cn2'] > 500:\n",
    "        nums['cn2'] = randint(nums['cn1'], 500)\n",
    "    \n",
    "    b = (nums['cn1'])-nums['cn2']\n",
    "    \n",
    "    if b%1:\n",
    "        return 0\n",
    "    if b <=0:\n",
    "        return 0\n",
    "    a = b\n",
    "    \n",
    "    return a\n",
    "\n",
    "print(gen_new(*(nums, co, q, get_answer, formula, 10000)))"
   ]
  },
  {
   "cell_type": "code",
   "execution_count": 208,
   "metadata": {},
   "outputs": [
    {
     "name": "stdout",
     "output_type": "stream",
     "text": [
      "('Паром отправился в 17:46. А должен был отправиться в 14:54.', 'На сколько минут задержалось отправление парома?', 172)\n"
     ]
    }
   ],
   "source": [
    "\n",
    "nums = {'cn1':0,'cn2':0, 'cn3':0, 'cn4':0, 'qn1':0}\n",
    "\n",
    "co = \"Паром отправился в {cn1}:{cn2}. А должен был отправиться в {cn3}:{cn4}.\"\n",
    "q = \"На сколько минут задержалось отправление парома?\"\n",
    "\n",
    "formula = '((cn1-cn3)*60)+(cn2-cn4)'\n",
    "def get_answer(nums):\n",
    "    \n",
    "\n",
    "    nums['cn3'] = randint(0,23)\n",
    "    nums['cn1'] = randint(nums['cn3'],23)\n",
    "    nums['cn2'] = randint(10,59)\n",
    "    \n",
    "    nums['cn4'] = randint(10,59)\n",
    "    \n",
    "    b = ((nums['cn1']-nums['cn3'])*60)+(nums['cn2']-nums['cn4'])\n",
    "    \n",
    "    if b%1:\n",
    "        return 0\n",
    "    if b <=0:\n",
    "        return 0\n",
    "    a = b\n",
    "    \n",
    "    return a\n",
    "\n",
    "print(gen_new(*(nums, co, q, get_answer, formula, 10000)))"
   ]
  },
  {
   "cell_type": "code",
   "execution_count": 213,
   "metadata": {},
   "outputs": [
    {
     "name": "stdout",
     "output_type": "stream",
     "text": [
      "('В тарелке было 22 пельменей. Дима съел 3 пельменей. Витя съел 4 пельменей.', 'Сколько пельменей осталось в тарелке?', 15)\n"
     ]
    }
   ],
   "source": [
    "\n",
    "nums = {'cn1':0,'cn2':0, 'cn3':0, 'cn4':0, 'qn1':0}\n",
    "\n",
    "co = \"В тарелке было {cn1} пельменей. Дима съел {cn2} пельменей. Витя съел {cn3} пельменей.\"\n",
    "q = \"Сколько пельменей осталось в тарелке?\"\n",
    "\n",
    "formula = 'cn1-cn2-cn3'\n",
    "def get_answer(nums):\n",
    "    \n",
    "    nums['cn1'] = randint(10,70)\n",
    "    nums['cn3'] = randint(1, nums['cn1'])\n",
    "    nums['cn2'] = randint(1,nums['cn1'])\n",
    "    \n",
    "\n",
    "    \n",
    "    b = nums['cn1']-nums['cn2']-nums['cn3']\n",
    "    \n",
    "    if b%1:\n",
    "        return 0\n",
    "    if b <=0:\n",
    "        return 0\n",
    "    a = b\n",
    "    \n",
    "    return a\n",
    "\n",
    "print(gen_new(*(nums, co, q, get_answer, formula, 10000)))"
   ]
  },
  {
   "cell_type": "code",
   "execution_count": 224,
   "metadata": {},
   "outputs": [
    {
     "name": "stdout",
     "output_type": "stream",
     "text": [
      "{'cn2': 5516, 'cn3': 7123, 'cn4': 1665, 'qn1': 1428, 'cn1': 4793}\n",
      "{'cn2': 185, 'cn3': 207, 'cn4': 1665, 'qn1': 1428, 'cn1': 4793}\n",
      "('В ящике было 4793 предметов. Затем туда положили ещё 185 предметов. А после этого достали на 207 предметов больше.', 'Сколько предметов достали?', 392)\n"
     ]
    }
   ],
   "source": [
    "\n",
    "nums = {'cn1':0,'cn2':0, 'cn3':0, 'cn4':0, 'qn1':0}\n",
    "\n",
    "co = \"В ящике было {cn1} предметов. Затем туда положили ещё {cn2} предметов. А после этого достали на {cn3} предметов больше.\"\n",
    "q = \"Сколько предметов достали?\"\n",
    "\n",
    "formula = 'cn2+cn3'\n",
    "def get_answer(nums):\n",
    "    \n",
    "    nums['cn3'] = randint(5,517)\n",
    "    nums['cn2'] = randint(3,221)\n",
    "    \n",
    "\n",
    "    \n",
    "    b = nums['cn3']+nums['cn2']\n",
    "    if b%1:\n",
    "        return 0\n",
    "    if b <=0:\n",
    "        return 0\n",
    "    a = b\n",
    "    \n",
    "    return a\n",
    "\n",
    "print(gen_new(*(nums, co, q, get_answer, formula, 10000)))"
   ]
  },
  {
   "cell_type": "code",
   "execution_count": null,
   "metadata": {},
   "outputs": [],
   "source": [
    "\n",
    "nums = {'cn1':0,'cn2':0, 'cn3':0, 'cn4':0, 'qn1':0}\n",
    "\n",
    "co = \"В ящике было {cn1} предметов. Затем туда положили ещё {cn2} предметов. А после этого достали на {cn3} предметов больше.\"\n",
    "q = \"Сколько предметов достали?\"\n",
    "\n",
    "formula = 'cn2+cn3'\n",
    "def get_answer(nums):\n",
    "    \n",
    "    nums['cn3'] = randint(5,517)\n",
    "    nums['cn2'] = randint(3,221)\n",
    "    \n",
    "\n",
    "    \n",
    "    b = nums['cn3']+nums['cn2']\n",
    "    if b%1:\n",
    "        return 0\n",
    "    if b <=0:\n",
    "        return 0\n",
    "    a = b\n",
    "    \n",
    "    return a\n",
    "\n",
    "print(gen_new(*(nums, co, q, get_answer, formula, 10000)))"
   ]
  },
  {
   "cell_type": "code",
   "execution_count": 240,
   "metadata": {},
   "outputs": [
    {
     "name": "stdout",
     "output_type": "stream",
     "text": [
      "('Виктор купил журналов на 3025 рублей.', 'Сколько журналов он купил, если один журнал стоит 25 рублей?', 121)\n"
     ]
    }
   ],
   "source": [
    "\n",
    "nums = {'cn1':0,'cn2':0, 'cn3':0, 'cn4':0, 'qn1':0}\n",
    "\n",
    "co = \"Виктор купил журналов на {cn1} рублей.\"\n",
    "q = \"Сколько журналов он купил, если один журнал стоит {qn1} рублей?\"\n",
    "\n",
    "formula = 'cn1/qn1'\n",
    "def get_answer(nums):\n",
    "    \n",
    "    nums['cn1'] = randint(100, 5100)\n",
    "    nums['qn1'] = randint(10,220)\n",
    "    \n",
    "\n",
    "    \n",
    "    b = nums['cn1']/nums['qn1']\n",
    "    if b%1:\n",
    "        return 0\n",
    "    if b <=0:\n",
    "        return 0\n",
    "    a = b\n",
    "    \n",
    "    return a\n",
    "\n",
    "print(gen_new(*(nums, co, q, get_answer, formula, 10000)))"
   ]
  },
  {
   "cell_type": "code",
   "execution_count": 263,
   "metadata": {},
   "outputs": [
    {
     "name": "stdout",
     "output_type": "stream",
     "text": [
      "('Маргарита обменяла доллары на рубли по курсу 32 рублей за доллар. Изначально у неё было 20 тысяч рублей.', 'Сколько долларов получила Маргарита?', 625)\n"
     ]
    }
   ],
   "source": [
    "\n",
    "# nums = {'cn1':0,'cn2':0, 'cn3':0, 'cn4':0, 'qn1':0}\n",
    "\n",
    "co = \"Маргарита обменяла доллары на рубли по курсу {cn1} рублей за доллар. Изначально у неё было {cn2} тысяч рублей.\"\n",
    "q = \"Сколько долларов получила Маргарита?\"\n",
    "\n",
    "formula = '(cn2*1000)/сn1'\n",
    "def get_answer(nums):\n",
    "    \n",
    "    nums['cn1'] = randint(20, 98)\n",
    "    nums['cn2'] = randint(2,30)\n",
    "\n",
    "    \n",
    "    b = (nums['cn2']*1000)/nums['cn1']\n",
    "    if b%1:\n",
    "        return 0\n",
    "    if b <=0:\n",
    "        return 0\n",
    "    a = b\n",
    "    \n",
    "    return a\n",
    "\n",
    "print(gen_new(*(nums, co, q, get_answer, formula, 10000)))"
   ]
  },
  {
   "cell_type": "code",
   "execution_count": 283,
   "metadata": {},
   "outputs": [
    {
     "name": "stdout",
     "output_type": "stream",
     "text": [
      "('', 'Во сколько раз 3744 превосходит 12?', 312)\n"
     ]
    }
   ],
   "source": [
    "\n",
    "# nums = {'cn1':0,'cn2':0, 'cn3':0, 'cn4':0, 'qn1':0}\n",
    "\n",
    "co = \"\"\n",
    "q = \"Во сколько раз {qn1} превосходит {qn2}?\"\n",
    "\n",
    "formula = 'qn1/qn2'\n",
    "def get_answer(nums):\n",
    "    \n",
    "    nums['qn1'] = randint(20, 100000)\n",
    "    nums['qn2'] = randint(3,nums['qn1']/2)\n",
    "\n",
    "    b = nums['qn1']/nums['qn2']\n",
    "    if b%1:\n",
    "        return 0\n",
    "    if b <=0:\n",
    "        return 0\n",
    "    a = b\n",
    "    \n",
    "    return a\n",
    "\n",
    "print(gen_new(*(nums, co, q, get_answer, formula, 10000)))"
   ]
  },
  {
   "cell_type": "code",
   "execution_count": null,
   "metadata": {},
   "outputs": [],
   "source": [
    "\n",
    "# nums = {'cn1':0,'cn2':0, 'cn3':0, 'cn4':0, 'qn1':0}\n",
    "\n",
    "co = \"\"\n",
    "q = \"Во сколько раз {qn1} превосходит {qn2}?\"\n",
    "\n",
    "formula = 'qn1/qn2'\n",
    "def get_answer(nums):\n",
    "    \n",
    "    nums['qn1'] = randint(20, 100000)\n",
    "    nums['qn2'] = randint(3,nums['qn1']/2)\n",
    "\n",
    "    b = nums['qn1']/nums['qn2']\n",
    "    if b%1:\n",
    "        return 0\n",
    "    if b <=0:\n",
    "        return 0\n",
    "    a = b\n",
    "    \n",
    "    return a\n",
    "\n",
    "print(gen_new(*(nums, co, q, get_answer, formula, 10000)))"
   ]
  },
  {
   "cell_type": "code",
   "execution_count": 303,
   "metadata": {},
   "outputs": [
    {
     "name": "stdout",
     "output_type": "stream",
     "text": [
      "('В первый день выставку посетило 188 человек. Во второй день - в 3 раза больше, чем в первый. А в третий - на 368 больше, чем во второй.', 'Сколько человек посетило выставку в третий день?', 932)\n"
     ]
    }
   ],
   "source": [
    "\n",
    "# nums = {'cn1':0,'cn2':0, 'cn3':0, 'cn4':0, 'qn1':0}\n",
    "\n",
    "co = \"В первый день выставку посетило {cn1} человек. Во второй день - в {cn2} раза больше, чем в первый. А в третий - на {cn3} больше, чем во второй.\"\n",
    "q = \"Сколько человек посетило выставку в третий день?\" \n",
    "\n",
    "formula = '(cn1*cn2)+cn3'\n",
    "def get_answer(nums):\n",
    "    \n",
    "    nums['cn1'] = randint(20, 500)\n",
    "    nums['cn2'] = randint(2, 10)\n",
    "    nums['cn3'] = randint(5, 500)\n",
    "\n",
    "    b = (nums['cn1']*nums['cn2'])+nums['cn3']\n",
    "    if b%1:\n",
    "        return 0\n",
    "    if b <=0:\n",
    "        return 0\n",
    "    a = b\n",
    "    \n",
    "    return a\n",
    "\n",
    "print(gen_new(*(nums, co, q, get_answer, formula, 10000)))"
   ]
  },
  {
   "cell_type": "code",
   "execution_count": 318,
   "metadata": {},
   "outputs": [
    {
     "name": "stdout",
     "output_type": "stream",
     "text": [
      "('Полина сделала 10 упражнений. Петя сделал в 2 раза больше упражнений, чем Полина. А Саша сделала на 30 больше, чем Петя и Полина вместе.', 'Сколько всего упражнений они сделали?', 90)\n"
     ]
    }
   ],
   "source": [
    "\n",
    "# nums = {'cn1':0,'cn2':0, 'cn3':0, 'cn4':0, 'qn1':0}\n",
    "\n",
    "co = \"Полина сделала {cn1} упражнений. Петя сделал в {cn2} раза больше упражнений, чем Полина. А Саша сделала на {cn3} больше, чем Петя и Полина вместе.\"\n",
    "q = \"Сколько всего упражнений они сделали?\" \n",
    "\n",
    "formula = '((cn1+(cn1*cn2))*2)+cn3'\n",
    "def get_answer(nums):\n",
    "    \n",
    "    nums['cn1'] = randint(10, 50)\n",
    "    nums['cn2'] = randint(2, 5)\n",
    "    nums['cn3'] = randint(10, 50)\n",
    "\n",
    "\n",
    "    b = ((nums['cn1']+(nums['cn1']*nums['cn2']))*2)+nums['cn3']\n",
    "    if b%1:\n",
    "        return 0\n",
    "    if b <=0:\n",
    "        return 0\n",
    "    a = b\n",
    "    \n",
    "    return a\n",
    "\n",
    "print(gen_new(*(nums, co, q, get_answer, formula, 10000)))"
   ]
  },
  {
   "cell_type": "code",
   "execution_count": 325,
   "metadata": {},
   "outputs": [
    {
     "name": "stdout",
     "output_type": "stream",
     "text": [
      "('Фотограф городского журнала сделал 23 снимков парада Победы. В журнале опубликовали 13 его снимков, заплатив ему за каждый по 475 рублей.', 'Сколько денег получил фотограф?', 6175)\n"
     ]
    }
   ],
   "source": [
    "\n",
    "# nums = {'cn1':0,'cn2':0, 'cn3':0, 'cn4':0, 'qn1':0}\n",
    "\n",
    "co = \"Фотограф городского журнала сделал {cn1} снимков парада Победы. В журнале опубликовали {cn2} его снимков, заплатив ему за каждый по {cn3} рублей.\"\n",
    "q = \"Сколько денег получил фотограф?\" \n",
    "\n",
    "formula = 'cn2*cn3'\n",
    "def get_answer(nums):\n",
    "    \n",
    "    nums['cn1'] = randint(10, 500)\n",
    "    nums['cn2'] = randint(10, nums['cn1'])\n",
    "    nums['cn3'] = randint(100, 5000)\n",
    "\n",
    "\n",
    "    b = nums['cn2']*nums['cn3']\n",
    "    if b%1:\n",
    "        return 0\n",
    "    if b <=0:\n",
    "        return 0\n",
    "    a = b\n",
    "    \n",
    "    return a\n",
    "\n",
    "print(gen_new(*(nums, co, q, get_answer, formula, 10000)))"
   ]
  },
  {
   "cell_type": "code",
   "execution_count": 337,
   "metadata": {},
   "outputs": [
    {
     "name": "stdout",
     "output_type": "stream",
     "text": [
      "('Мне 22 лет, а моему брату 13 лет.', 'Сколько лет нашей маме, если она старше нас вместе взятых на 8 лет?', 43)\n"
     ]
    }
   ],
   "source": [
    "\n",
    "# nums = {'cn1':0,'cn2':0, 'cn3':0, 'cn4':0, 'qn1':0}\n",
    "\n",
    "co = \"Мне {cn1} лет, а моему брату {cn2} лет.\"\n",
    "q = \"Сколько лет нашей маме, если она старше нас вместе взятых на {qn1} лет?\" \n",
    "\n",
    "formula = '(cn1+cn2)+qn1'\n",
    "def get_answer(nums):\n",
    "    \n",
    "    nums['cn1'] = randint(5, 25)\n",
    "    nums['cn2'] = randint(3, 15)\n",
    "    nums['qn1'] = randint(3, 10)\n",
    "    if nums['cn1'] == nums['cn2']:\n",
    "        nums['cn1'] += randint(1, 3)\n",
    "\n",
    "    b = nums['cn1']+nums['cn2']+nums['qn1']\n",
    "    if (b - nums['cn1']) < 18 or (b - nums['cn2']) < 18:\n",
    "        return 0\n",
    "    if b%1:\n",
    "        return 0\n",
    "    if b <=0:\n",
    "        return 0\n",
    "    a = b\n",
    "    \n",
    "    return a\n",
    "\n",
    "print(gen_new(*(nums, co, q, get_answer, formula, 10000)))"
   ]
  },
  {
   "cell_type": "code",
   "execution_count": 356,
   "metadata": {},
   "outputs": [
    {
     "name": "stdout",
     "output_type": "stream",
     "text": [
      "('', 'Чему равна разница 38745 и 33218?', 5527)\n"
     ]
    }
   ],
   "source": [
    "\n",
    "# nums = {'cn1':0,'cn2':0, 'cn3':0, 'cn4':0, 'qn1':0}\n",
    "\n",
    "co = \"\"\n",
    "q = \"Чему равна разница {qn1} и {qn2}?\" \n",
    "\n",
    "formula = 'qn1-qn2'\n",
    "def get_answer(nums):\n",
    "    \n",
    "    nums['qn1'] = randint(1, 200000)\n",
    "    nums['qn2'] = randint(3, 323111)\n",
    "    \n",
    "    b = nums['qn1']-nums['qn2']\n",
    "    \n",
    "    if b%1:\n",
    "        return 0\n",
    "    if b <=0:\n",
    "        return 0\n",
    "    a = b\n",
    "    \n",
    "    return a\n",
    "\n",
    "print(gen_new(*(nums, co, q, get_answer, formula, 10000)))"
   ]
  },
  {
   "cell_type": "code",
   "execution_count": 401,
   "metadata": {},
   "outputs": [
    {
     "name": "stdout",
     "output_type": "stream",
     "text": [
      "('', 'Что получится, если разделить 70 на 14 и умножить результат на 50?', 250)\n"
     ]
    }
   ],
   "source": [
    "\n",
    "co = \"\"\n",
    "q = \"Что получится, если разделить {qn1} на {qn2} и умножить результат на {qn3}?\" \n",
    "\n",
    "formula = '(qn1/qn2)*qn3'\n",
    "def get_answer(nums):\n",
    "    \n",
    "    nums['qn1'] = randint(20, 100)\n",
    "    nums['qn2'] = randint(3, nums['qn1']/2)\n",
    "    nums['qn3'] = randint(1, 100)\n",
    "    if nums['qn1']%nums['qn2']:\n",
    "        return 0\n",
    "    \n",
    "    b = (nums['qn1']/nums['qn2'])*nums['qn3']\n",
    "    \n",
    "    if b%1:\n",
    "        return 0\n",
    "    if b <=0:\n",
    "        return 0\n",
    "    a = b\n",
    "    \n",
    "    return a\n",
    "\n",
    "print(gen_new(*(nums, co, q, get_answer, formula, 100000)))"
   ]
  },
  {
   "cell_type": "code",
   "execution_count": 413,
   "metadata": {},
   "outputs": [
    {
     "name": "stdout",
     "output_type": "stream",
     "text": [
      "('', 'Какое число мы получим, если из 8862 вычтем 3206 и прибавим к результату 408?', 6064)\n"
     ]
    }
   ],
   "source": [
    "\n",
    "co = \"\"\n",
    "q = \"Какое число мы получим, если из {qn1} вычтем {qn2} и прибавим к результату {qn3}?\" \n",
    "\n",
    "formula = '(qn1-qn2)+qn3'\n",
    "def get_answer(nums):\n",
    "    \n",
    "    nums['qn1'] = randint(2, 10000)\n",
    "    nums['qn2'] = randint(3, nums['qn1']-100)\n",
    "    nums['qn3'] = randint(2, 500)\n",
    "    \n",
    "    \n",
    "    b = (nums['qn1']-nums['qn2'])+nums['qn3']\n",
    "    \n",
    "    if b%1:\n",
    "        return 0\n",
    "    if b <=0:\n",
    "        return 0\n",
    "    a = b\n",
    "    \n",
    "    return a\n",
    "\n",
    "print(gen_new(*(nums, co, q, get_answer, formula, 100000)))"
   ]
  },
  {
   "cell_type": "code",
   "execution_count": 406,
   "metadata": {},
   "outputs": [
    {
     "data": {
      "text/plain": [
       "1667"
      ]
     },
     "execution_count": 406,
     "metadata": {},
     "output_type": "execute_result"
    }
   ],
   "source": [
    "1261+406"
   ]
  },
  {
   "cell_type": "code",
   "execution_count": 420,
   "metadata": {},
   "outputs": [
    {
     "data": {
      "text/plain": [
       "510"
      ]
     },
     "execution_count": 420,
     "metadata": {},
     "output_type": "execute_result"
    }
   ],
   "source": [
    "len(fpat)*15"
   ]
  },
  {
   "cell_type": "code",
   "execution_count": 414,
   "metadata": {},
   "outputs": [],
   "source": [
    "fpat.append((nums, co, q, get_answer, formula))"
   ]
  },
  {
   "cell_type": "code",
   "execution_count": 415,
   "metadata": {},
   "outputs": [],
   "source": [
    "pickle.dump(fpat, open('pattern_dev.pkl', 'wb'))"
   ]
  },
  {
   "cell_type": "code",
   "execution_count": null,
   "metadata": {},
   "outputs": [],
   "source": []
  },
  {
   "cell_type": "code",
   "execution_count": 473,
   "metadata": {},
   "outputs": [
    {
     "data": {
      "text/plain": [
       "({'cn1': 0, 'cn2': 0, 'cn3': 0, 'cn4': 0, 'qn1': 0},\n",
       " 'На прошлой неделе Женя весила {cn1} кг. Сейчас она весит {cn2} кг.',\n",
       " 'На сколько кг похудела Женя?',\n",
       " <function __main__.get_answer>,\n",
       " 'cn1-cn2')"
      ]
     },
     "execution_count": 473,
     "metadata": {},
     "output_type": "execute_result"
    }
   ],
   "source": [
    "ip = 5\n",
    "fpat[ip]"
   ]
  },
  {
   "cell_type": "code",
   "execution_count": 471,
   "metadata": {},
   "outputs": [
    {
     "data": {
      "text/plain": [
       "('В первом тайме футбольная команда забила 25 голов. А во втором - 1',\n",
       " 'Сколько голов команда забила за весь матч?',\n",
       " 26)"
      ]
     },
     "execution_count": 471,
     "metadata": {},
     "output_type": "execute_result"
    }
   ],
   "source": [
    "gen_new(*fpat[ip], 100000)"
   ]
  },
  {
   "cell_type": "code",
   "execution_count": 495,
   "metadata": {},
   "outputs": [
    {
     "data": {
      "text/plain": [
       "('Общая толщина двух досок равна 399 мм. Толщина первой - 313 мм.',\n",
       " 'Чему равна толщина второй доски?',\n",
       " 86)"
      ]
     },
     "execution_count": 495,
     "metadata": {},
     "output_type": "execute_result"
    }
   ],
   "source": [
    "gen_new(*fpat[ip], 100000)"
   ]
  },
  {
   "cell_type": "code",
   "execution_count": null,
   "metadata": {},
   "outputs": [],
   "source": [
    "def gen_n_new(pat, rang):\n",
    "    "
   ]
  },
  {
   "cell_type": "code",
   "execution_count": 499,
   "metadata": {
    "scrolled": true
   },
   "outputs": [
    {
     "name": "stdout",
     "output_type": "stream",
     "text": [
      "dce\n",
      "dce\n",
      "dce\n",
      "dce\n",
      "dce\n",
      "dce\n",
      "dce\n",
      "dce\n",
      "dce\n",
      "dce\n",
      "dce\n",
      "dce\n",
      "dce\n",
      "dce\n",
      "dce\n",
      "dce\n",
      "dce\n",
      "dce\n",
      "dce\n",
      "dce\n",
      "dce\n",
      "dce\n",
      "dce\n",
      "dce\n",
      "dce\n",
      "dce\n",
      "dce\n",
      "dce\n",
      "dce\n",
      "dce\n",
      "dce\n"
     ]
    }
   ],
   "source": [
    "problems = []\n",
    "exc = []\n",
    "for ip in range(len(fpat)):\n",
    "    pr = []\n",
    "    try:\n",
    "        for i in range(30):\n",
    "            pr.append(gen_new(*fpat[ip], 1000000))\n",
    "            if len(set(pr)) > 15:\n",
    "                problems += pr\n",
    "                print('dce')\n",
    "                break\n",
    "    except:\n",
    "        exc.append(ip)\n",
    "        continue"
   ]
  },
  {
   "cell_type": "code",
   "execution_count": 544,
   "metadata": {
    "scrolled": true
   },
   "outputs": [],
   "source": [
    "# pr = []\n",
    "for i in range(30):\n",
    "    pr.append(gen_new(*fpat[24], 1000))\n",
    "    if len(set(pr)) >=30:\n",
    "        \n",
    "        break"
   ]
  },
  {
   "cell_type": "code",
   "execution_count": 545,
   "metadata": {
    "scrolled": false
   },
   "outputs": [
    {
     "data": {
      "text/plain": [
       "[('Общая толщина двух досок равна 426 мм. Толщина первой - 264 мм.',\n",
       "  'Чему равна толщина второй доски?',\n",
       "  162),\n",
       " ('Общая толщина двух досок равна 416 мм. Толщина первой - 221 мм.',\n",
       "  'Чему равна толщина второй доски?',\n",
       "  195),\n",
       " ('Общая толщина двух досок равна 318 мм. Толщина первой - 144 мм.',\n",
       "  'Чему равна толщина второй доски?',\n",
       "  174),\n",
       " ('Общая толщина двух досок равна 233 мм. Толщина первой - 188 мм.',\n",
       "  'Чему равна толщина второй доски?',\n",
       "  45),\n",
       " ('Общая толщина двух досок равна 437 мм. Толщина первой - 63 мм.',\n",
       "  'Чему равна толщина второй доски?',\n",
       "  374),\n",
       " ('Общая толщина двух досок равна 485 мм. Толщина первой - 38 мм.',\n",
       "  'Чему равна толщина второй доски?',\n",
       "  447),\n",
       " ('Общая толщина двух досок равна 374 мм. Толщина первой - 65 мм.',\n",
       "  'Чему равна толщина второй доски?',\n",
       "  309),\n",
       " ('Общая толщина двух досок равна 453 мм. Толщина первой - 148 мм.',\n",
       "  'Чему равна толщина второй доски?',\n",
       "  305),\n",
       " ('Общая толщина двух досок равна 195 мм. Толщина первой - 193 мм.',\n",
       "  'Чему равна толщина второй доски?',\n",
       "  2),\n",
       " ('Общая толщина двух досок равна 291 мм. Толщина первой - 242 мм.',\n",
       "  'Чему равна толщина второй доски?',\n",
       "  49),\n",
       " ('Общая толщина двух досок равна 484 мм. Толщина первой - 11 мм.',\n",
       "  'Чему равна толщина второй доски?',\n",
       "  473),\n",
       " ('Общая толщина двух досок равна 430 мм. Толщина первой - 70 мм.',\n",
       "  'Чему равна толщина второй доски?',\n",
       "  360),\n",
       " ('Общая толщина двух досок равна 326 мм. Толщина первой - 180 мм.',\n",
       "  'Чему равна толщина второй доски?',\n",
       "  146),\n",
       " ('Общая толщина двух досок равна 489 мм. Толщина первой - 323 мм.',\n",
       "  'Чему равна толщина второй доски?',\n",
       "  166),\n",
       " ('Общая толщина двух досок равна 498 мм. Толщина первой - 381 мм.',\n",
       "  'Чему равна толщина второй доски?',\n",
       "  117),\n",
       " ('', 'Во сколько раз 14689 превосходит 397?', 37),\n",
       " ('', 'Во сколько раз 18758 превосходит 83?', 226),\n",
       " ('', 'Во сколько раз 4550 превосходит 650?', 7),\n",
       " ('', 'Во сколько раз 28 превосходит 7?', 4),\n",
       " ('', 'Во сколько раз 33804 превосходит 5634?', 6),\n",
       " ('', 'Во сколько раз 36346 превосходит 1069?', 34),\n",
       " ('', 'Во сколько раз 1599 превосходит 533?', 3),\n",
       " ('', 'Во сколько раз 136 превосходит 4?', 34),\n",
       " ('', 'Во сколько раз 12474 превосходит 33?', 378),\n",
       " ('', 'Во сколько раз 4350 превосходит 870?', 5),\n",
       " ('', 'Во сколько раз 288 превосходит 12?', 24),\n",
       " ('', 'Во сколько раз 1040 превосходит 8?', 130),\n",
       " ('', 'Во сколько раз 3528 превосходит 56?', 63),\n",
       " ('', 'Во сколько раз 94633 превосходит 1229?', 77),\n",
       " ('', 'Во сколько раз 23660 превосходит 91?', 260)]"
      ]
     },
     "execution_count": 545,
     "metadata": {},
     "output_type": "execute_result"
    }
   ],
   "source": [
    "pr"
   ]
  },
  {
   "cell_type": "code",
   "execution_count": 543,
   "metadata": {},
   "outputs": [
    {
     "data": {
      "text/plain": [
       "29"
      ]
     },
     "execution_count": 543,
     "metadata": {},
     "output_type": "execute_result"
    }
   ],
   "source": [
    "len(pr)"
   ]
  },
  {
   "cell_type": "code",
   "execution_count": 451,
   "metadata": {},
   "outputs": [
    {
     "data": {
      "text/plain": [
       "[('Каждый день мандарин вырастает на 8 мм.',\n",
       "  'На сколько мм вырастет мандарин за 23 дней?',\n",
       "  184),\n",
       " ('Каждый день мандарин вырастает на 3 мм.',\n",
       "  'На сколько мм вырастет мандарин за 74 дней?',\n",
       "  222),\n",
       " ('Каждый день мандарин вырастает на 3 мм.',\n",
       "  'На сколько мм вырастет мандарин за 40 дней?',\n",
       "  120),\n",
       " ('Каждый день мандарин вырастает на 5 мм.',\n",
       "  'На сколько мм вырастет мандарин за 45 дней?',\n",
       "  225),\n",
       " ('За 1 день гортензия вырастает на 1 миллиметров.',\n",
       "  'На сколько миллиметров вырастет гортензия за 67 дней?',\n",
       "  67)]"
      ]
     },
     "execution_count": 451,
     "metadata": {},
     "output_type": "execute_result"
    }
   ],
   "source": [
    "problems[-5:]"
   ]
  },
  {
   "cell_type": "code",
   "execution_count": 546,
   "metadata": {},
   "outputs": [],
   "source": [
    "problems += pr"
   ]
  },
  {
   "cell_type": "code",
   "execution_count": 556,
   "metadata": {},
   "outputs": [],
   "source": [
    "f = open('augmented_sents_dev.txt', 'a')\n",
    "def write_augments(problems, f):\n",
    "    for problem in problems:\n",
    "        f.write('\\t'.join(map(str, problem)) + '\\n')\n",
    "    f.close()\n",
    "write_augments(problems, f)"
   ]
  },
  {
   "cell_type": "code",
   "execution_count": 552,
   "metadata": {},
   "outputs": [],
   "source": [
    "f.close()"
   ]
  },
  {
   "cell_type": "code",
   "execution_count": null,
   "metadata": {},
   "outputs": [],
   "source": []
  },
  {
   "cell_type": "code",
   "execution_count": 548,
   "metadata": {},
   "outputs": [],
   "source": [
    "import pandas as pd"
   ]
  },
  {
   "cell_type": "code",
   "execution_count": 557,
   "metadata": {},
   "outputs": [],
   "source": [
    "data = pd.read_csv('augmented_sents_dev.txt', sep='\\t')"
   ]
  },
  {
   "cell_type": "code",
   "execution_count": 558,
   "metadata": {},
   "outputs": [
    {
     "data": {
      "text/plain": [
       "(527, 3)"
      ]
     },
     "execution_count": 558,
     "metadata": {},
     "output_type": "execute_result"
    }
   ],
   "source": [
    "data.shape"
   ]
  },
  {
   "cell_type": "markdown",
   "metadata": {},
   "source": [
    "## NO ANSWER QS"
   ]
  },
  {
   "cell_type": "code",
   "execution_count": 561,
   "metadata": {},
   "outputs": [],
   "source": [
    "def gen_new_bad(nums, c, q, get_answer, form, rang=10000):\n",
    "    c_len = len([n for n in nums if 'c' in n])\n",
    "    q_len = len([n for n in nums if 'q' in n])\n",
    "    \n",
    "    g_nums = {}\n",
    "#     names_d = {}\n",
    "#     for name in names:\n",
    "#         if 'fname' in name:\n",
    "#             names_d[name] = choice(fnames)\n",
    "#         elif 'mname' in name:\n",
    "#             names_d[name] = choice(mnames)\n",
    "            \n",
    "#     names = names_d\n",
    "    \n",
    "    for i in range(c_len):\n",
    "        g_nums['cn' + str(i+1)] = randint(2, rang)\n",
    "    \n",
    "    for i in range(q_len):\n",
    "        g_nums['qn' + str(i+1)] = randint(2, rang)\n",
    "    \n",
    "#     print(g_nums)\n",
    "    a = get_answer(g_nums)\n",
    "#     print(g_nums)\n",
    "    return c.format(**g_nums), q.format(**g_nums), int(a)\n",
    "    "
   ]
  },
  {
   "cell_type": "code",
   "execution_count": 570,
   "metadata": {},
   "outputs": [],
   "source": [
    "fpat_bad = []"
   ]
  },
  {
   "cell_type": "code",
   "execution_count": 569,
   "metadata": {},
   "outputs": [
    {
     "name": "stdout",
     "output_type": "stream",
     "text": [
      "('', 'На сколько 944 меньше 42107?', -1)\n"
     ]
    }
   ],
   "source": [
    "\n",
    "co = \"\"\n",
    "q = \"На сколько {qn1} меньше {qn2}?\" \n",
    "\n",
    "formula = 'nan'\n",
    "def get_answer(nums):\n",
    "    \n",
    "    nums['qn1'] = randint(2, 1000)\n",
    "    nums['qn2'] = randint(nums['qn1'], 100000)\n",
    "\n",
    "    return -1\n",
    "    \n",
    "    \n",
    "\n",
    "print(gen_new_bad(*(nums, co, q, get_answer, formula, 100000)))"
   ]
  },
  {
   "cell_type": "code",
   "execution_count": 579,
   "metadata": {},
   "outputs": [
    {
     "name": "stdout",
     "output_type": "stream",
     "text": [
      "('На полке лежит 69 книг.', 'Сколько всего страниц в этих книгах?', -1)\n"
     ]
    }
   ],
   "source": [
    "\n",
    "co = \"На полке лежит {cn1} книг.\"\n",
    "q = \"Сколько всего страниц в этих книгах?\" \n",
    "\n",
    "formula = 'nan'\n",
    "def get_answer(nums):\n",
    "    \n",
    "    nums['cn1'] = randint(2, 100)\n",
    "    \n",
    "\n",
    "    return -1\n",
    "    \n",
    "    \n",
    "\n",
    "print(gen_new_bad(*(nums, co, q, get_answer, formula, 100000)))"
   ]
  },
  {
   "cell_type": "code",
   "execution_count": 584,
   "metadata": {},
   "outputs": [
    {
     "name": "stdout",
     "output_type": "stream",
     "text": [
      "('У Альбины на 27 друзей больше, чем у Антона.', 'Сколько друзей у Альбины?', -1)\n"
     ]
    }
   ],
   "source": [
    "\n",
    "co = \"У Альбины на {cn1} друзей больше, чем у Антона.\"\n",
    "q = \"Сколько друзей у Альбины?\" \n",
    "\n",
    "formula = 'nan'\n",
    "def get_answer(nums):\n",
    "    \n",
    "    nums['cn1'] = randint(2, 30)\n",
    "    \n",
    "\n",
    "    return -1\n",
    "    \n",
    "    \n",
    "\n",
    "print(gen_new_bad(*(nums, co, q, get_answer, formula, 100000)))"
   ]
  },
  {
   "cell_type": "code",
   "execution_count": 588,
   "metadata": {},
   "outputs": [
    {
     "name": "stdout",
     "output_type": "stream",
     "text": [
      "('Петька съел 3 ягод смордины. А Мишка съел на 12 ягод больше.', 'Сколько лет Петьке и Мишке в сумме?', -1)\n"
     ]
    }
   ],
   "source": [
    "\n",
    "co = \"Петька съел {cn1} ягод смордины. А Мишка съел на {cn2} ягод больше.\"\n",
    "q = \"Сколько лет Петьке и Мишке в сумме?\" \n",
    "\n",
    "formula = 'nan'\n",
    "def get_answer(nums):\n",
    "    \n",
    "    nums['cn1'] = randint(2, 40)\n",
    "    nums['cn2'] = randint(2, 40)\n",
    "\n",
    "    return -1\n",
    "    \n",
    "    \n",
    "\n",
    "print(gen_new_bad(*(nums, co, q, get_answer, formula, 100000)))"
   ]
  },
  {
   "cell_type": "code",
   "execution_count": 591,
   "metadata": {},
   "outputs": [
    {
     "name": "stdout",
     "output_type": "stream",
     "text": [
      "('Первый автобус проезжает маршрут за 8 часов. А второй автобус едет со скоростью 70 км/ч.', 'На сколько км/ч второй автобус быстрее?', -1)\n"
     ]
    }
   ],
   "source": [
    "\n",
    "co = \"Первый автобус проезжает маршрут за {cn1} часов. А второй автобус едет со скоростью {cn2} км/ч.\"\n",
    "q = \"На сколько км/ч второй автобус быстрее?\" \n",
    "\n",
    "formula = 'nan'\n",
    "def get_answer(nums):\n",
    "    \n",
    "    nums['cn1'] = randint(2, 10)\n",
    "    nums['cn2'] = randint(2, 120)\n",
    "\n",
    "    return -1\n",
    "    \n",
    "    \n",
    "\n",
    "print(gen_new_bad(*(nums, co, q, get_answer, formula, 100000)))"
   ]
  },
  {
   "cell_type": "code",
   "execution_count": 592,
   "metadata": {},
   "outputs": [],
   "source": [
    "fpat_bad.append((nums, co, q, get_answer, formula))"
   ]
  },
  {
   "cell_type": "code",
   "execution_count": 593,
   "metadata": {},
   "outputs": [],
   "source": [
    "pickle.dump(fpat_bad, open('pattern_bad.pkl', 'wb'))"
   ]
  }
 ],
 "metadata": {
  "kernelspec": {
   "display_name": "Python 3",
   "language": "python",
   "name": "python3"
  },
  "language_info": {
   "codemirror_mode": {
    "name": "ipython",
    "version": 3
   },
   "file_extension": ".py",
   "mimetype": "text/x-python",
   "name": "python",
   "nbconvert_exporter": "python",
   "pygments_lexer": "ipython3",
   "version": "3.5.2"
  }
 },
 "nbformat": 4,
 "nbformat_minor": 2
}
