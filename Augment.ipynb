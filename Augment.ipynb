{
 "cells": [
  {
   "cell_type": "code",
   "execution_count": 1,
   "metadata": {},
   "outputs": [],
   "source": [
    "from numpy.random import randint\n",
    "from random import choice\n",
    "# import pickle\n",
    "import dill as pickle"
   ]
  },
  {
   "cell_type": "code",
   "execution_count": 5,
   "metadata": {},
   "outputs": [],
   "source": [
    "# mnames = list(open('names_male_imeniteln.txt').read().splitlines())\n",
    "# fnames = list(open('names_female_imeniteln.txt').read().splitlines())"
   ]
  },
  {
   "cell_type": "code",
   "execution_count": 6,
   "metadata": {},
   "outputs": [],
   "source": [
    "fpat = pickle.load(open('pattern.pkl', 'rb'))"
   ]
  },
  {
   "cell_type": "code",
   "execution_count": 93,
   "metadata": {},
   "outputs": [],
   "source": [
    "fpat = []"
   ]
  },
  {
   "cell_type": "code",
   "execution_count": 7,
   "metadata": {},
   "outputs": [
    {
     "data": {
      "text/plain": [
       "103"
      ]
     },
     "execution_count": 7,
     "metadata": {},
     "output_type": "execute_result"
    }
   ],
   "source": [
    "len(fpat)"
   ]
  },
  {
   "cell_type": "code",
   "execution_count": 103,
   "metadata": {},
   "outputs": [],
   "source": [
    "\n",
    "# nums = {'cn1':0, 'qn1':0}\n",
    "# # names = ['mname', 'fname']\n",
    "# co = 'Полина и Петя сорвали с дерева {cn1} орехов.'\n",
    "# q = 'Сколько орехов у Пети, если Полина сорвала {qn1}?'\n",
    "# formula = 'cn1 - qn1'\n",
    "\n",
    "# def get_answer(nums):\n",
    "#     a = nums['cn1'] - nums['qn1']\n",
    "#     return a\n",
    "# fpat.append((nums, co, q, get_answer, formula))"
   ]
  },
  {
   "cell_type": "code",
   "execution_count": 114,
   "metadata": {},
   "outputs": [
    {
     "name": "stdout",
     "output_type": "stream",
     "text": [
      "('У Маши было 42 брелков. У Насти было 160 брелков.', 'Сколько у них брелков?', 202)\n"
     ]
    }
   ],
   "source": [
    "\n",
    "nums = {'cn1':0, 'cn2':0}\n",
    "\n",
    "co = \"У Маши было {cn1} брелков. У Насти было {cn2} брелков.\"\n",
    "q = \"Сколько у них брелков?\"\n",
    "\n",
    "formula = 'cn1 + cn2'\n",
    "def get_answer(nums):\n",
    "    a = nums['cn1'] + nums['cn2']\n",
    "    return a\n",
    "print(gen_new(*(nums, co, q, get_answer, formula)))\n"
   ]
  },
  {
   "cell_type": "code",
   "execution_count": 115,
   "metadata": {},
   "outputs": [],
   "source": [
    "fpat.append((nums, co, q, get_answer, formula))"
   ]
  },
  {
   "cell_type": "code",
   "execution_count": 120,
   "metadata": {},
   "outputs": [
    {
     "name": "stdout",
     "output_type": "stream",
     "text": [
      "('Юля собрала 161 яблок, а Андрей собрал 156.', 'Сколько яблок у Юли и Андрея?', 317)\n"
     ]
    }
   ],
   "source": [
    "\n",
    "nums = {'cn1':0, 'cn2':0}\n",
    "\n",
    "co = \"Юля собрала {cn1} яблок, а Андрей собрал {cn2}.\"\n",
    "q = \"Сколько яблок у Юли и Андрея?\"\n",
    "\n",
    "formula = 'cn1 + cn2'\n",
    "def get_answer(nums):\n",
    "    a = nums['cn1'] + nums['cn2']\n",
    "    return a\n",
    "print(gen_new(*(nums, co, q, get_answer, formula)))"
   ]
  },
  {
   "cell_type": "code",
   "execution_count": 123,
   "metadata": {},
   "outputs": [
    {
     "name": "stdout",
     "output_type": "stream",
     "text": [
      "('Виктор и Кристина вместе взяли из коробки 127 конфет.', 'Сколько взял Виктор, если Кристина взяла 9?', 118)\n"
     ]
    }
   ],
   "source": [
    "\n",
    "nums = {'cn1':0, 'qn1':0}\n",
    "\n",
    "co = \"Виктор и Кристина вместе взяли из коробки {cn1} конфет.\"\n",
    "q = \"Сколько взял Виктор, если Кристина взяла {qn1}?\"\n",
    "\n",
    "formula = 'cn1 - qn1'\n",
    "def get_answer(nums):\n",
    "    a = nums['cn1'] - nums['qn1']\n",
    "    return a\n",
    "print(gen_new(*(nums, co, q, get_answer, formula)))"
   ]
  },
  {
   "cell_type": "code",
   "execution_count": 138,
   "metadata": {},
   "outputs": [
    {
     "name": "stdout",
     "output_type": "stream",
     "text": [
      "('У Коли было 138 рублей. Он дал своему однокласснику 70 рублей.', 'Сколько у него осталось?', 68)\n"
     ]
    }
   ],
   "source": [
    "\n",
    "nums = {'cn1':0, 'cn2':0}\n",
    "\n",
    "co = \"У Коли было {cn1} рублей. Он дал своему однокласснику {cn2} рублей.\"\n",
    "q = \"Сколько у него осталось?\"\n",
    "\n",
    "formula = 'cn1 - cn2'\n",
    "def get_answer(nums):\n",
    "    a = nums['cn1'] - nums['cn2']\n",
    "    return a\n",
    "print(gen_new(*(nums, co, q, get_answer, formula)))"
   ]
  },
  {
   "cell_type": "code",
   "execution_count": 35,
   "metadata": {},
   "outputs": [
    {
     "name": "stdout",
     "output_type": "stream",
     "text": [
      "('', 'Какое число превосходит 104 в 49 раз', 5096)\n"
     ]
    }
   ],
   "source": [
    "\n",
    "nums = {'qn1':0, 'qn2':0}\n",
    "\n",
    "co = \"\"\n",
    "q = \"Какое число превосходит {qn1} в {qn2} раз\"\n",
    "\n",
    "formula = 'qn1*qn2'\n",
    "def get_answer(nums):\n",
    "    a = nums['qn1']*nums['qn2']\n",
    "    return a\n",
    "\n",
    "print(gen_new(*(nums, co, q, get_answer, formula)))"
   ]
  },
  {
   "cell_type": "code",
   "execution_count": 48,
   "metadata": {},
   "outputs": [
    {
     "name": "stdout",
     "output_type": "stream",
     "text": [
      "('Обед в столовой обошелся Семёну в 346 рублей. После этого у него осталось ещё 169 рублей.', 'Сколько рублей было у Семёна до похода в столовую?', 515)\n"
     ]
    }
   ],
   "source": [
    "\n",
    "nums = {'cn1':0, 'cn2':0}\n",
    "\n",
    "co = \"Обед в столовой обошелся Семёну в {cn1} рублей. После этого у него осталось ещё {cn2} рублей.\"\n",
    "q = \"Сколько рублей было у Семёна до похода в столовую?\"\n",
    "\n",
    "\n",
    "formula = 'cn1+cn2'\n",
    "def get_answer(nums):\n",
    "    a = nums['cn1']+nums['cn2']\n",
    "    return a\n",
    "\n",
    "print(gen_new(*(nums, co, q, get_answer, formula)))"
   ]
  },
  {
   "cell_type": "code",
   "execution_count": 55,
   "metadata": {},
   "outputs": [
    {
     "name": "stdout",
     "output_type": "stream",
     "text": [
      "('У Толи было 174 рублей. После похода в кафе у него осталось 113.', 'Сколько он потратил?', 61)\n"
     ]
    }
   ],
   "source": [
    "\n",
    "nums = {'cn1':0, 'cn2':0}\n",
    "\n",
    "co = \"У Толи было {cn1} рублей. После похода в кафе у него осталось {cn2}.\"\n",
    "q = \"Сколько он потратил?\"\n",
    "\n",
    "\n",
    "formula = 'cn1-cn2'\n",
    "def get_answer(nums):\n",
    "    a = nums['cn1']-nums['cn2']\n",
    "    return a\n",
    "\n",
    "print(gen_new(*(nums, co, q, get_answer, formula)))"
   ]
  },
  {
   "cell_type": "code",
   "execution_count": 66,
   "metadata": {},
   "outputs": [
    {
     "name": "stdout",
     "output_type": "stream",
     "text": [
      "('Вечером 22 декабря на катке в парке каталось 328 людей.  К 9 вечера часть людей разошлась по домам. На катке осталось 320 людей.', 'Сколько людей ушло к 9 вечера?', 8)\n"
     ]
    }
   ],
   "source": [
    "\n",
    "nums = {'cn1':0, 'cn2':0}\n",
    "\n",
    "co = \"Вечером 22 декабря на катке в парке каталось {cn1} людей.  К 9 вечера часть людей разошлась по домам. На катке осталось {cn2} людей.\"\n",
    "q = \"Сколько людей ушло к 9 вечера?\"\n",
    "\n",
    "\n",
    "formula = 'cn1-cn2'\n",
    "def get_answer(nums):\n",
    "    a = nums['cn1']-nums['cn2']\n",
    "    return a\n",
    "\n",
    "print(gen_new(*(nums, co, q, get_answer, formula)))"
   ]
  },
  {
   "cell_type": "code",
   "execution_count": 76,
   "metadata": {},
   "outputs": [
    {
     "name": "stdout",
     "output_type": "stream",
     "text": [
      "('На цирковой арене выступали собаки, кошки и дрессировщик. Всего на арене находилось 394 животных.', 'Сколько кошек выступало на арене, если собак было на 210 больше?', 92)\n"
     ]
    }
   ],
   "source": [
    "\n",
    "\n",
    "nums = {'cn1':0, 'qn1':0}\n",
    "\n",
    "co = \"На цирковой арене выступали собаки, кошки и дрессировщик. Всего на арене находилось {cn1} животных.\"\n",
    "q = \"Сколько кошек выступало на арене, если собак было на {qn1} больше?\"\n",
    "\n",
    "\n",
    "formula = '(cn1-qn1)/2'\n",
    "def get_answer(nums):\n",
    "    a = (nums['cn1']-nums['qn1'])/2\n",
    "    return a\n",
    "\n",
    "print(gen_new(*(nums, co, q, get_answer, formula)))"
   ]
  },
  {
   "cell_type": "code",
   "execution_count": 117,
   "metadata": {},
   "outputs": [
    {
     "name": "stdout",
     "output_type": "stream",
     "text": [
      "('Длина первой комнаты - 16 метра. Вторая комната в 2 раза длиннее.', 'Чему равна сумма их длин?', 48)\n"
     ]
    }
   ],
   "source": [
    "\n",
    "\n",
    "\n",
    "\n",
    "nums = {'cn1':0, 'cn2':0,}\n",
    "\n",
    "co = \"Длина первой комнаты - {cn1} метра. Вторая комната в {cn2} раза длиннее.\"\n",
    "q = \"Чему равна сумма их длин?\"\n",
    "\n",
    "\n",
    "formula = 'cn1 + (cn1 * cn2)'\n",
    "def get_answer(nums):\n",
    "    a = (nums['cn1']+(nums['cn2']*nums['cn1']))\n",
    "    return a\n",
    "\n",
    "print(gen_new(*(nums, co, q, get_answer, formula, 100)))"
   ]
  },
  {
   "cell_type": "code",
   "execution_count": 136,
   "metadata": {},
   "outputs": [
    {
     "name": "stdout",
     "output_type": "stream",
     "text": [
      "('Вторая палка в 20 раза длинее первой.', 'Чему равна сумма длин двух палок, если длина второй равна 60 м?', 63)\n"
     ]
    }
   ],
   "source": [
    "\n",
    "\n",
    "\n",
    "\n",
    "nums = {'cn1':0, 'qn1':0,}\n",
    "\n",
    "co = \"Вторая палка в {cn1} раза длинее первой.\"\n",
    "q = \"Чему равна сумма длин двух палок, если длина второй равна {qn1} м?\"\n",
    "\n",
    "\n",
    "formula = 'qn1 + (qn1/cn1)'\n",
    "def get_answer(nums):\n",
    "    a = (nums['qn1']+(nums['qn1']/nums['cn1']))\n",
    "    return a\n",
    "\n",
    "print(gen_new(*(nums, co, q, get_answer, formula, 200)))"
   ]
  },
  {
   "cell_type": "code",
   "execution_count": 164,
   "metadata": {},
   "outputs": [
    {
     "name": "stdout",
     "output_type": "stream",
     "text": [
      "('На огороде 6 грядок с морковкой. На каждой грядке 4 рядов. В каждом ряде 24 морковок.', 'Сколько всего морковок растён на огороде?', 576)\n"
     ]
    }
   ],
   "source": [
    "\n",
    "\n",
    "\n",
    "nums = {'cn1':0, 'cn2':0, \"cn3\":0}\n",
    "\n",
    "co = \"На огороде {cn1} грядок с капустой. На каждой грядке {cn2} рядов. В каждом ряде {cn3} морковок.\"\n",
    "q = \"Сколько всего морковок растён на огороде?\"\n",
    "\n",
    "\n",
    "formula = 'cn1*cn2*cn3'\n",
    "def get_answer(nums):\n",
    "    a = (nums['cn1']*nums['cn2']*nums[\"cn3\"])\n",
    "    return a\n",
    "\n",
    "print(gen_new(*(nums, co, q, get_answer, formula, 600)))"
   ]
  },
  {
   "cell_type": "code",
   "execution_count": 201,
   "metadata": {},
   "outputs": [
    {
     "name": "stdout",
     "output_type": "stream",
     "text": [
      "('', 'Сколько получится, если 396 поделить на 132, а затем прибавить 10?', 13)\n"
     ]
    }
   ],
   "source": [
    "\n",
    "\n",
    "\n",
    "nums = {'qn1':0, 'qn2':0, \"qn3\":0}\n",
    "\n",
    "co = \"\"\n",
    "q = \"Сколько получится, если {qn1} поделить на {qn2}, а затем прибавить {qn3}?\"\n",
    "\n",
    "\n",
    "formula = '(qn1/qn2)+qn3'\n",
    "def get_answer(nums):\n",
    "    a = (nums['qn1']/nums['qn2'])+nums['qn3']\n",
    "    return a\n",
    "\n",
    "print(gen_new(*(nums, co, q, get_answer, formula, 200)))"
   ]
  },
  {
   "cell_type": "code",
   "execution_count": 163,
   "metadata": {},
   "outputs": [
    {
     "name": "stdout",
     "output_type": "stream",
     "text": [
      "('У Ани 10 листочков. А у Димы в 5 раз больше.', 'Сколько листочков у них вместе?', 60)\n"
     ]
    }
   ],
   "source": [
    "\n",
    "\n",
    "\n",
    "nums = {'cn2':0, 'cn1':0}\n",
    "\n",
    "co = \"У Ани {cn1} листочков. А у Димы в {cn2} раз больше.\"\n",
    "q = \"Сколько листочков у них вместе?\"\n",
    "\n",
    "\n",
    "formula = '(cn1*cn2)+cn1'\n",
    "def get_answer(nums):\n",
    "    a = (nums['cn1']*nums['cn2'])+nums['cn1']\n",
    "    return a\n",
    "\n",
    "print(gen_new(*(nums, co, q, get_answer, formula, 200)))"
   ]
  },
  {
   "cell_type": "code",
   "execution_count": 183,
   "metadata": {},
   "outputs": [
    {
     "name": "stdout",
     "output_type": "stream",
     "text": [
      "('Аня, Витя и Майа строили домики из конструктора. Аня использовала 191 деталей, Витя использовал на 168 деталей меньше, чем Аня, а Майа - на 65 больше, чем Витя.', 'Какое количество деталей использовала Майа?', 88)\n"
     ]
    }
   ],
   "source": [
    "\n",
    "\n",
    "\n",
    "\n",
    "\n",
    "nums = {'cn2':0, 'cn1':0, 'cn3':0}\n",
    "\n",
    "co = \"Аня, Витя и Майа строили домики из конструктора. Аня использовала {cn1} деталей, Витя использовал на {cn2} деталей меньше, чем Аня, а Майа - на {cn3} больше, чем Витя.\"\n",
    "q = \"Какое количество деталей использовала Майа?\"\n",
    "\n",
    "\n",
    "formula = '(cn1-cn2)+cn3'\n",
    "def get_answer(nums):\n",
    "    b = (nums['cn1']-nums['cn2'])\n",
    "    if not b:\n",
    "        return 0\n",
    "    a = b+nums['cn3']\n",
    "    return a\n",
    "\n",
    "print(gen_new(*(nums, co, q, get_answer, formula, 200)))"
   ]
  },
  {
   "cell_type": "code",
   "execution_count": 194,
   "metadata": {},
   "outputs": [
    {
     "name": "stdout",
     "output_type": "stream",
     "text": [
      "('Сергею сейчас 3 лет. Ане - 13 года. А Марии - 1.', 'Сколько лет Мите, если известно, что ему столько, сколько остальным ребятам вместе взятым?', 17)\n"
     ]
    }
   ],
   "source": [
    "\n",
    "\n",
    "\n",
    "\n",
    "\n",
    "\n",
    "nums = {'cn2':0, 'cn1':0, 'cn3':0}\n",
    "\n",
    "co = \"Сергею сейчас {cn1} лет. Ане - {cn2} года. А Марии - {cn3}.\"\n",
    "q = \"Сколько лет Мите, если известно, что ему столько, сколько остальным ребятам вместе взятым?\"\n",
    "\n",
    "\n",
    "formula = '(cn1+cn2)+cn3'\n",
    "def get_answer(nums):\n",
    "    \n",
    "    \n",
    "    a = nums['cn1']+nums['cn2']+nums['cn3']\n",
    "    return a\n",
    "\n",
    "print(gen_new(*(nums, co, q, get_answer, formula, 30)))"
   ]
  },
  {
   "cell_type": "code",
   "execution_count": 210,
   "metadata": {},
   "outputs": [
    {
     "name": "stdout",
     "output_type": "stream",
     "text": [
      "('Тузик съел 16 граммов корма в субботу и 185 граммов корма в воскресенье.', 'Сколько корма съел Тузик за субботу и воскресенье?', 201)\n"
     ]
    }
   ],
   "source": [
    "\n",
    "nums = {'cn1':0, 'cn2':0}\n",
    "\n",
    "co = \"Тузик съел {cn1} граммов корма в субботу и {cn2} граммов корма в воскресенье.\"\n",
    "q = \"Сколько корма съел Тузик за субботу и воскресенье?\"\n",
    "\n",
    "\n",
    "formula = 'cn1+cn2'\n",
    "def get_answer(nums):\n",
    "    \n",
    "    \n",
    "    a = nums['cn1']+nums['cn2']\n",
    "    return a\n",
    "\n",
    "print(gen_new(*(nums, co, q, get_answer, formula, 500)))"
   ]
  },
  {
   "cell_type": "code",
   "execution_count": 221,
   "metadata": {},
   "outputs": [
    {
     "name": "stdout",
     "output_type": "stream",
     "text": [
      "('Костя и Миша купили 4 пломбира (по два каждому), стоимостью 10 руб, 1 руб, 58 руб и 7 руб.', 'Сколько мальчики заплатили за мороженое?', 76)\n"
     ]
    }
   ],
   "source": [
    "\t\t210\n",
    "\n",
    "nums = {'cn1':0, 'cn2':0, \"cn3\":0, \"cn4\":0}\n",
    "\n",
    "co = \"Костя и Миша купили 4 пломбира (по два каждому), стоимостью {cn1} руб, {cn2} руб, {cn3} руб и {cn4} руб.\"\n",
    "q = \"Сколько мальчики заплатили за мороженое?\"\n",
    "\n",
    "\n",
    "formula = 'cn1+cn2+cn3+cn4'\n",
    "def get_answer(nums):\n",
    "    \n",
    "    \n",
    "    a = nums['cn1']+nums['cn2']+nums[\"cn3\"]+nums[\"cn4\"]\n",
    "    return a\n",
    "\n",
    "print(gen_new(*(nums, co, q, get_answer, formula, 100)))"
   ]
  },
  {
   "cell_type": "code",
   "execution_count": 247,
   "metadata": {},
   "outputs": [
    {
     "name": "stdout",
     "output_type": "stream",
     "text": [
      "('У первого видеоролика 50 просмотров. У второго - 25 просмотров.', 'Чему равно общее количество просмотров этих двух роликов?', 75)\n"
     ]
    }
   ],
   "source": [
    "\n",
    "nums = {'cn1':0, 'cn2':0}\n",
    "\n",
    "co = \"У первого видеоролика {cn1} просмотров. У второго - {cn2} просмотров.\"\n",
    "q = \"Чему равно общее количество просмотров этих двух роликов?\"\n",
    "\n",
    "\n",
    "formula = 'cn1+сn2'\n",
    "def get_answer(nums):\n",
    "    \n",
    "    \n",
    "    a = nums['cn1']+nums['cn2']\n",
    "    return a\n",
    "\n",
    "print(gen_new(*(nums, co, q, get_answer, formula, 100)))"
   ]
  },
  {
   "cell_type": "code",
   "execution_count": 261,
   "metadata": {},
   "outputs": [
    {
     "name": "stdout",
     "output_type": "stream",
     "text": [
      "('Алик собрал 61 яиц. Под них у него было заготовлено 4 пустыx коробок. В каждую коробку помещается 20 яиц.', 'Сколько яиц не хватает Алику, чтобы заполнить все коробки?', 19)\n"
     ]
    }
   ],
   "source": [
    "\n",
    "nums = {'cn1':0, 'cn2':0, 'cn3':0}\n",
    "\n",
    "co = \"Алик собрал {cn1} яиц. Под них у него было заготовлено {cn2} пустыx коробок. В каждую коробку помещается {cn3} яиц.\"\n",
    "q = \"Сколько яиц не хватает Алику, чтобы заполнить все коробки?\"\n",
    "\n",
    "\n",
    "formula = '(cn2*сn3)-cn1'\n",
    "def get_answer(nums):\n",
    "    \n",
    "    \n",
    "    a = (nums['cn2']*nums['cn3'])-nums['cn1']\n",
    "    return a\n",
    "\n",
    "print(gen_new(*(nums, co, q, get_answer, formula, 100)))"
   ]
  },
  {
   "cell_type": "code",
   "execution_count": 271,
   "metadata": {},
   "outputs": [
    {
     "name": "stdout",
     "output_type": "stream",
     "text": [
      "('Из ёмкости, в которой было 86 л воды, зачерпнули два ведра для полива.', 'Сколько литров воды осталось в ёмкости, если в каждом ведре было 19 л?', 48)\n"
     ]
    }
   ],
   "source": [
    "\n",
    "nums = {'cn1':0, 'qn1':0, }\n",
    "\n",
    "co = \"Из ёмкости, в которой было {cn1} л воды, зачерпнули два ведра для полива.\"\n",
    "q = \"Сколько литров воды осталось в ёмкости, если в каждом ведре было {qn1} л?\"\n",
    "\n",
    "\n",
    "formula = ''\n",
    "def get_answer(nums):\n",
    "    \n",
    "    \n",
    "    a = nums['cn1']-(nums['qn1']*2)\n",
    "    return a\n",
    "\n",
    "print(gen_new(*(nums, co, q, get_answer, formula, 100)))"
   ]
  },
  {
   "cell_type": "code",
   "execution_count": 287,
   "metadata": {},
   "outputs": [
    {
     "name": "stdout",
     "output_type": "stream",
     "text": [
      "('В книжный магазин поступило 269 экземпляров сказок Пушкина. В первый день большую часть раскупили и в книжном осталось всего 75 экземпляров.', 'Сколько сказок купили в первый день?', 194)\n"
     ]
    }
   ],
   "source": [
    "\n",
    "\n",
    "\n",
    "nums = {'cn1':0, 'cn2':0 }\n",
    "\n",
    "co = \"В книжный магазин поступило {cn1} экземпляров сказок Пушкина. В первый день большую часть раскупили и в книжном осталось всего {cn2} экземпляров.\"\n",
    "q = \"Сколько сказок купили в первый день?\"\n",
    "\n",
    "\n",
    "formula = 'cn1-cn2'\n",
    "def get_answer(nums):\n",
    "    \n",
    "    \n",
    "    a = nums['cn1']-nums['cn2']\n",
    "    if (a-10) < nums['cn2']:\n",
    "        return 0\n",
    "    \n",
    "    return a\n",
    "\n",
    "print(gen_new(*(nums, co, q, get_answer, formula, 300)))"
   ]
  },
  {
   "cell_type": "code",
   "execution_count": 298,
   "metadata": {},
   "outputs": [
    {
     "name": "stdout",
     "output_type": "stream",
     "text": [
      "('У мамы в наборе для шитья лежало 283 пуговицы. Дочка взяла у мамы 267 пуговиц, но потом 168 вернула.', 'Сколько пуговиц осталось в наборе у мамы?', 184)\n"
     ]
    }
   ],
   "source": [
    "\n",
    "nums = {'cn1':0, 'cn2':0, 'cn3':0}\n",
    "\n",
    "co = \"У мамы в наборе для шитья лежало {cn1} пуговицы. Дочка взяла у мамы {cn2} пуговиц, но потом {cn3} вернула.\"\n",
    "q = \"Сколько пуговиц осталось в наборе у мамы?\"\n",
    "\n",
    "\n",
    "formula = 'cn1-cn2+cn3'\n",
    "def get_answer(nums):\n",
    "    \n",
    "    if nums['cn3'] > nums['cn2'] or nums['cn2'] > nums['cn1']:\n",
    "        return 0\n",
    "    a = nums['cn1']-nums['cn2']+nums['cn3']\n",
    "    \n",
    "    \n",
    "    return a\n",
    "\n",
    "print(gen_new(*(nums, co, q, get_answer, formula, 300)))"
   ]
  },
  {
   "cell_type": "code",
   "execution_count": 222,
   "metadata": {},
   "outputs": [
    {
     "name": "stdout",
     "output_type": "stream",
     "text": [
      "('Хоккейная команда сыграла 12 матчей в рамках турнира. В 7 команда одержала победу, а в 1 - потерпела поражение.', 'Сколько матчей она провела вничью?', 4)\n"
     ]
    }
   ],
   "source": [
    "\n",
    "nums = {'cn1':0, 'cn2':0, 'cn3':0}\n",
    "\n",
    "co = \"Хоккейная команда сыграла {cn1} матчей в рамках турнира. В {cn2} команда одержала победу, а в {cn3} - потерпела поражение.\"\n",
    "q = \"Сколько матчей она провела вничью?\"\n",
    "\n",
    "\n",
    "formula = 'cn1-(cn2+cn3)'\n",
    "def get_answer(nums):\n",
    "    \n",
    "\n",
    "    a = nums['cn1']-(nums['cn2']+nums['cn3'])    \n",
    "    \n",
    "    return a\n",
    "\n",
    "print(gen_new(*(nums, co, q, get_answer, formula, 100)))"
   ]
  },
  {
   "cell_type": "code",
   "execution_count": 232,
   "metadata": {},
   "outputs": [
    {
     "name": "stdout",
     "output_type": "stream",
     "text": [
      "('Поезд должен был прибыть на вокзал в 7 часов 37 минут.', 'На сколько минут поезд опоздал, если в действительности он приехал только в 8 часов 34 минут?', 57)\n"
     ]
    }
   ],
   "source": [
    "\n",
    "\n",
    "nums = {'cn1':0, 'qn1':0,}\n",
    "\n",
    "co = \"Поезд должен был прибыть на вокзал в 7 часов {cn1} минут.\"\n",
    "q = \"На сколько минут поезд опоздал, если в действительности он приехал только в 8 часов {qn1} минут?\"\n",
    "\n",
    "\n",
    "formula = '(60-cn1)+qn1'\n",
    "def get_answer(nums):\n",
    "    \n",
    "    if nums['cn1'] > 59 or nums['qn1'] > 59:\n",
    "        return 0\n",
    "    \n",
    "        \n",
    "    a = (60-nums['cn1'])+nums['qn1']\n",
    "    \n",
    "    return a\n",
    "\n",
    "print(gen_new(*(nums, co, q, get_answer, formula, 100)))"
   ]
  },
  {
   "cell_type": "code",
   "execution_count": 252,
   "metadata": {},
   "outputs": [
    {
     "name": "stdout",
     "output_type": "stream",
     "text": [
      "('В шкафу 2 полок. На каждой полке лежит одинаковое количество рубашек. Всего в шкафу 8 рубашек.', 'Сколько рубашек лежит на каждой полке?', 4)\n"
     ]
    }
   ],
   "source": [
    "\n",
    "\n",
    "\n",
    "\n",
    "nums = {'cn1':0, 'cn2':0}\n",
    "\n",
    "co = \"В шкафу {cn1} полок. На каждой полке лежит одинаковое количество рубашек. Всего в шкафу {cn2} рубашек.\"\n",
    "q = \"Сколько рубашек лежит на каждой полке?\"\n",
    "\n",
    "\n",
    "formula = 'cn2/сn1'\n",
    "def get_answer(nums):\n",
    "    \n",
    "    if nums['cn1'] > 10:\n",
    "        return 0\n",
    "    \n",
    "    \n",
    "    a = nums['cn2']/nums['cn1']\n",
    "    \n",
    "    return a\n",
    "\n",
    "print(gen_new(*(nums, co, q, get_answer, formula, 100)))"
   ]
  },
  {
   "cell_type": "code",
   "execution_count": 265,
   "metadata": {},
   "outputs": [
    {
     "name": "stdout",
     "output_type": "stream",
     "text": [
      "('В главном зале театра 34 рядов. А в каждом ряду 22 кресел.', 'Сколько людей вмещает этот зал?', 748)\n"
     ]
    }
   ],
   "source": [
    "\n",
    "\n",
    "\n",
    "nums = {'cn1':0, 'cn2':0}\n",
    "\n",
    "co = \"В главном зале театра {cn1} рядов. А в каждом ряду {cn2} кресел.\"\n",
    "q = \"Сколько людей вмещает этот зал?\"\n",
    "\n",
    "\n",
    "formula = 'cn2*сn1'\n",
    "def get_answer(nums):\n",
    "    \n",
    "    if nums['cn1'] < 30 or nums['cn2'] < 10:\n",
    "        return 0\n",
    "    a = nums['cn2']*nums['cn1']\n",
    "    \n",
    "    return a\n",
    "\n",
    "print(gen_new(*(nums, co, q, get_answer, formula, 1000)))"
   ]
  },
  {
   "cell_type": "code",
   "execution_count": 307,
   "metadata": {},
   "outputs": [
    {
     "ename": "RecursionError",
     "evalue": "maximum recursion depth exceeded in comparison",
     "output_type": "error",
     "traceback": [
      "\u001b[0;31m---------------------------------------------------------------------------\u001b[0m",
      "\u001b[0;31mRecursionError\u001b[0m                            Traceback (most recent call last)",
      "\u001b[0;32m<ipython-input-307-26ca642fe45d>\u001b[0m in \u001b[0;36m<module>\u001b[0;34m()\u001b[0m\n\u001b[1;32m     16\u001b[0m     \u001b[0;32mreturn\u001b[0m \u001b[0ma\u001b[0m\u001b[0;34m\u001b[0m\u001b[0m\n\u001b[1;32m     17\u001b[0m \u001b[0;34m\u001b[0m\u001b[0m\n\u001b[0;32m---> 18\u001b[0;31m \u001b[0mprint\u001b[0m\u001b[0;34m(\u001b[0m\u001b[0mgen_new\u001b[0m\u001b[0;34m(\u001b[0m\u001b[0;34m*\u001b[0m\u001b[0;34m(\u001b[0m\u001b[0mnums\u001b[0m\u001b[0;34m,\u001b[0m \u001b[0mco\u001b[0m\u001b[0;34m,\u001b[0m \u001b[0mq\u001b[0m\u001b[0;34m,\u001b[0m \u001b[0mget_answer\u001b[0m\u001b[0;34m,\u001b[0m \u001b[0mformula\u001b[0m\u001b[0;34m,\u001b[0m \u001b[0;36m150\u001b[0m\u001b[0;34m)\u001b[0m\u001b[0;34m)\u001b[0m\u001b[0;34m)\u001b[0m\u001b[0;34m\u001b[0m\u001b[0m\n\u001b[0m",
      "\u001b[0;32m<ipython-input-213-3745fafa298b>\u001b[0m in \u001b[0;36mgen_new\u001b[0;34m(nums, c, q, get_answer, form, rang)\u001b[0m\n\u001b[1;32m     25\u001b[0m         \u001b[0;32mreturn\u001b[0m \u001b[0mc\u001b[0m\u001b[0;34m.\u001b[0m\u001b[0mformat\u001b[0m\u001b[0;34m(\u001b[0m\u001b[0;34m**\u001b[0m\u001b[0mg_nums\u001b[0m\u001b[0;34m)\u001b[0m\u001b[0;34m,\u001b[0m \u001b[0mq\u001b[0m\u001b[0;34m.\u001b[0m\u001b[0mformat\u001b[0m\u001b[0;34m(\u001b[0m\u001b[0;34m**\u001b[0m\u001b[0mg_nums\u001b[0m\u001b[0;34m)\u001b[0m\u001b[0;34m,\u001b[0m \u001b[0mint\u001b[0m\u001b[0;34m(\u001b[0m\u001b[0ma\u001b[0m\u001b[0;34m)\u001b[0m\u001b[0;34m\u001b[0m\u001b[0m\n\u001b[1;32m     26\u001b[0m     \u001b[0;32melse\u001b[0m\u001b[0;34m:\u001b[0m\u001b[0;34m\u001b[0m\u001b[0m\n\u001b[0;32m---> 27\u001b[0;31m         \u001b[0;32mreturn\u001b[0m \u001b[0mgen_new\u001b[0m\u001b[0;34m(\u001b[0m\u001b[0mnums\u001b[0m\u001b[0;34m,\u001b[0m \u001b[0mc\u001b[0m\u001b[0;34m,\u001b[0m \u001b[0mq\u001b[0m\u001b[0;34m,\u001b[0m \u001b[0mget_answer\u001b[0m\u001b[0;34m,\u001b[0m \u001b[0m_\u001b[0m\u001b[0;34m,\u001b[0m \u001b[0mrang\u001b[0m\u001b[0;34m)\u001b[0m\u001b[0;34m\u001b[0m\u001b[0m\n\u001b[0m\u001b[1;32m     28\u001b[0m \u001b[0;34m\u001b[0m\u001b[0m\n",
      "... last 1 frames repeated, from the frame below ...\n",
      "\u001b[0;32m<ipython-input-213-3745fafa298b>\u001b[0m in \u001b[0;36mgen_new\u001b[0;34m(nums, c, q, get_answer, form, rang)\u001b[0m\n\u001b[1;32m     25\u001b[0m         \u001b[0;32mreturn\u001b[0m \u001b[0mc\u001b[0m\u001b[0;34m.\u001b[0m\u001b[0mformat\u001b[0m\u001b[0;34m(\u001b[0m\u001b[0;34m**\u001b[0m\u001b[0mg_nums\u001b[0m\u001b[0;34m)\u001b[0m\u001b[0;34m,\u001b[0m \u001b[0mq\u001b[0m\u001b[0;34m.\u001b[0m\u001b[0mformat\u001b[0m\u001b[0;34m(\u001b[0m\u001b[0;34m**\u001b[0m\u001b[0mg_nums\u001b[0m\u001b[0;34m)\u001b[0m\u001b[0;34m,\u001b[0m \u001b[0mint\u001b[0m\u001b[0;34m(\u001b[0m\u001b[0ma\u001b[0m\u001b[0;34m)\u001b[0m\u001b[0;34m\u001b[0m\u001b[0m\n\u001b[1;32m     26\u001b[0m     \u001b[0;32melse\u001b[0m\u001b[0;34m:\u001b[0m\u001b[0;34m\u001b[0m\u001b[0m\n\u001b[0;32m---> 27\u001b[0;31m         \u001b[0;32mreturn\u001b[0m \u001b[0mgen_new\u001b[0m\u001b[0;34m(\u001b[0m\u001b[0mnums\u001b[0m\u001b[0;34m,\u001b[0m \u001b[0mc\u001b[0m\u001b[0;34m,\u001b[0m \u001b[0mq\u001b[0m\u001b[0;34m,\u001b[0m \u001b[0mget_answer\u001b[0m\u001b[0;34m,\u001b[0m \u001b[0m_\u001b[0m\u001b[0;34m,\u001b[0m \u001b[0mrang\u001b[0m\u001b[0;34m)\u001b[0m\u001b[0;34m\u001b[0m\u001b[0m\n\u001b[0m\u001b[1;32m     28\u001b[0m \u001b[0;34m\u001b[0m\u001b[0m\n",
      "\u001b[0;31mRecursionError\u001b[0m: maximum recursion depth exceeded in comparison"
     ]
    }
   ],
   "source": [
    "\t\t18\n",
    "nums = {'cn1':0,'cn2':0, 'qn1':0}\n",
    "\n",
    "co = \"Чтобы полить {cn2} грядок с редисом, Коле нужно {cn1} литров воды.\"\n",
    "q = \"Сколько литров воды нужно Коле, чтобы полить {qn1} таких грядок?\"\n",
    "\n",
    "\n",
    "formula = '(cn2/cn1)*qn1'\n",
    "def get_answer(nums):\n",
    "    \n",
    "    b = (nums['cn2']/nums['cn1'])\n",
    "    if b%1 or b==1 or nums['cn2']>nums['qn1']:\n",
    "        return 0\n",
    "    a = b*nums['qn1']\n",
    "    \n",
    "    return a\n",
    "\n",
    "print(gen_new(*(nums, co, q, get_answer, formula, 150)))"
   ]
  },
  {
   "cell_type": "code",
   "execution_count": 320,
   "metadata": {},
   "outputs": [
    {
     "name": "stdout",
     "output_type": "stream",
     "text": [
      "('В урожайные годы у белки в запасах находили до 132 грибов, а желудей — только 2.', 'Во сколько раз меньше белка заготавливает желудей, чем грибов?', 66)\n"
     ]
    }
   ],
   "source": [
    "\t\t500\n",
    "\n"
   ]
  },
  {
   "cell_type": "code",
   "execution_count": 332,
   "metadata": {},
   "outputs": [
    {
     "name": "stdout",
     "output_type": "stream",
     "text": [
      "('Рекомендуемое расстояние от глаз до экрана телевизора в 5 раза больше его диагонали.', 'Чему равняется рекомендуемое расстояние, если диагональ экрана равна 40 дюймов?', 200)\n"
     ]
    }
   ],
   "source": [
    "nums = {'cn1':0,'cn2':0, 'qn1':0}\n",
    "\n",
    "co = \"Рекомендуемое расстояние от глаз до экрана телевизора в {cn1} раза больше его диагонали.\"\n",
    "q = \"Чему равняется рекомендуемое расстояние, если диагональ экрана равна {qn1} дюймов?\"\n",
    "\n",
    "\n",
    "formula = '(cn1*qn1)'\n",
    "def get_answer(nums):\n",
    "    \n",
    "    b = (nums['cn1']*nums['qn1'])\n",
    "    if b%1 or b==nums['qn1'] or nums['cn1']>5:\n",
    "        return 0\n",
    "    a = b\n",
    "    \n",
    "    return a\n",
    "\n",
    "print(gen_new(*(nums, co, q, get_answer, formula, 500)))"
   ]
  },
  {
   "cell_type": "code",
   "execution_count": 339,
   "metadata": {},
   "outputs": [
    {
     "name": "stdout",
     "output_type": "stream",
     "text": [
      "('Акула за 2 минут проплывает 208 м. ', 'Какое расстояние она проплывает за 1 минуту?', 104)\n"
     ]
    }
   ],
   "source": [
    "\t\t100\n",
    "\n",
    "nums = {'cn1':0,'cn2':0, 'qn1':0}\n",
    "\n",
    "co = \"Акула за {cn1} минут проплывает {cn2} м. \"\n",
    "q = \"Какое расстояние она проплывает за 1 минуту?\"\n",
    "\n",
    "\n",
    "formula = '(cn2/cn1)'\n",
    "def get_answer(nums):\n",
    "    \n",
    "    b = (nums['cn2']/nums['cn1'])\n",
    "    if b%1 or b==nums['cn2']:\n",
    "        return 0\n",
    "    a = b\n",
    "    \n",
    "    return a\n",
    "\n",
    "print(gen_new(*(nums, co, q, get_answer, formula, 500)))"
   ]
  },
  {
   "cell_type": "code",
   "execution_count": 353,
   "metadata": {},
   "outputs": [
    {
     "name": "stdout",
     "output_type": "stream",
     "text": [
      "('Ахилес за час пробегает 74 км, а черепаха — на 49 км меньше. ', 'Сколько километров может пробежать черепаха за 1 час?', 25)\n"
     ]
    }
   ],
   "source": [
    "\n",
    "\n",
    "nums = {'cn1':0,'cn2':0, 'qn1':0}\n",
    "\n",
    "co = \"Ахилес за час пробегает {cn1} км, а черепаха — на {cn2} км меньше. \"\n",
    "q = \"Сколько километров может пробежать черепаха за 1 час?\"\n",
    "\n",
    "\n",
    "formula = '(cn2-cn1)'\n",
    "def get_answer(nums):\n",
    "    \n",
    "    b = (nums['cn1']-nums['cn2'])\n",
    "    if b==nums['cn1'] or nums['cn2'] < 30:\n",
    "        return 0\n",
    "    a = b\n",
    "    \n",
    "    return a\n",
    "\n",
    "print(gen_new(*(nums, co, q, get_answer, formula, 100)))"
   ]
  },
  {
   "cell_type": "code",
   "execution_count": 376,
   "metadata": {},
   "outputs": [
    {
     "name": "stdout",
     "output_type": "stream",
     "text": [
      "('В персональной коллекции Евгения собраны марки XIX и XX веков. Марок XX у него 453.', 'Сколько марок XIX века у него в коллекции, если всего марок 1239?', 786)\n"
     ]
    }
   ],
   "source": [
    "\t\t2\n",
    "\n",
    "nums = {'cn1':0,'cn2':0, 'qn1':0}\n",
    "\n",
    "co = \"В персональной коллекции Евгения собраны марки XIX и XX веков. Марок XX у него {cn1}.\"\n",
    "q = \"Сколько марок XIX века у него в коллекции, если всего марок {qn1}?\"\n",
    "\n",
    "\n",
    "formula = '(qn1-cn1)'\n",
    "def get_answer(nums):\n",
    "    \n",
    "    b = (nums['qn1']-nums['cn1'])\n",
    "    if b==nums['qn1']:\n",
    "        return 0\n",
    "    a = b\n",
    "    \n",
    "    return a\n",
    "\n",
    "print(gen_new(*(nums, co, q, get_answer, formula, 1500)))"
   ]
  },
  {
   "cell_type": "code",
   "execution_count": null,
   "metadata": {},
   "outputs": [],
   "source": [
    " \t159"
   ]
  },
  {
   "cell_type": "code",
   "execution_count": null,
   "metadata": {},
   "outputs": [],
   "source": []
  },
  {
   "cell_type": "code",
   "execution_count": null,
   "metadata": {},
   "outputs": [],
   "source": [
    "nums = {'cn1':0,'cn2':0, 'cn3':0, 'cn4':0}\n",
    "\n",
    "co = \"Утром в продуктовый магазин завезли {cn1} л яблочного сока и {cn2} л апельсинового. За день купили {cn3} л яблочного сока, а апельнового только {cn4} л.\"\n",
    "q = \"Сколько литров сока осталось в магазине? \"\n",
    "\n",
    "\n",
    "formula = '(cn1-cn3)+(cn2-cn4)'\n",
    "def get_answer(nums):\n",
    "    if (nums['cn3']-100) < nums['cn4']:\n",
    "        return 0\n",
    "    b = (nums['cn1']-nums['cn3'])+(nums['cn2']-nums['cn4'])\n",
    "    if b==(nums['cn1']+nums['cn2']) or nums['cn1'] < nums['cn3'] or  nums['cn2'] < nums['cn4']:\n",
    "        return 0\n",
    "    a = b\n",
    "    \n",
    "    return a\n",
    "\n",
    "print(gen_new(*(nums, co, q, get_answer, formula, 1500)))"
   ]
  },
  {
   "cell_type": "code",
   "execution_count": 31,
   "metadata": {},
   "outputs": [
    {
     "name": "stdout",
     "output_type": "stream",
     "text": [
      "('Каждый день в пекарне пекут 108 булочек с изюмом и 84 булочек с корицей.', 'Сколько всего булочек выпекают в пекарне за неделю?', 1344)\n"
     ]
    }
   ],
   "source": [
    "\n",
    "\n",
    "nums = {'cn1':0,'cn2':0, 'cn3':0, 'cn4':0}\n",
    "\n",
    "co = \"Каждый день в пекарне пекут {cn1} булочек с изюмом и {cn2} булочек с корицей.\"\n",
    "q = \"Сколько всего булочек выпекают в пекарне за неделю?\"\n",
    "\n",
    "\n",
    "formula = 'cn1+cn2'\n",
    "def get_answer(nums):\n",
    "    if (nums['cn1']) < 5 or nums['cn2'] < 5:\n",
    "        return 0\n",
    "    b = (nums['cn1']+nums['cn2'])*7\n",
    "    \n",
    "    a = b\n",
    "    \n",
    "    return a\n",
    "\n",
    "print(gen_new(*(nums, co, q, get_answer, formula, 1500)))"
   ]
  },
  {
   "cell_type": "code",
   "execution_count": 3,
   "metadata": {},
   "outputs": [
    {
     "name": "stdout",
     "output_type": "stream",
     "text": [
      "('Каждые 90 минут на канале показывают 5 рекламных роликов.', 'Сколько рекламных роликов покажут на канале за 12 часов?', 40)\n"
     ]
    }
   ],
   "source": [
    "\n",
    "nums = {'cn1':0,'cn2':0, 'cn3':0, 'cn4':0, 'qn1':0}\n",
    "\n",
    "co = \"Каждые {cn1} минут на канале показывают {cn2} рекламных роликов.\"\n",
    "q = \"Сколько рекламных роликов покажут на канале за {qn1} часов?\"\n",
    "\n",
    "\n",
    "formula = '(60/cn1)*qn1*cn2'\n",
    "def get_answer(nums):\n",
    "    \n",
    "    if nums['qn1'] > 24:\n",
    "        nums['qn1'] = randint(2, 24)\n",
    "    \n",
    "    if nums['cn2'] > 10:\n",
    "        nums['cn2'] = randint(2, 10)\n",
    "        \n",
    "    if nums['cn1'] > 100:\n",
    "        nums['cn1'] = randint(10, 100)\n",
    "        \n",
    "    b = (60/nums['cn1'])*nums['qn1']*nums['cn2']\n",
    "    if b%1:\n",
    "        return 0\n",
    "    if b <=0:\n",
    "        return 0\n",
    "    a = b\n",
    "    \n",
    "    return a\n",
    "\n",
    "print(gen_new(*(nums, co, q, get_answer, formula, 10000)))"
   ]
  },
  {
   "cell_type": "code",
   "execution_count": 78,
   "metadata": {},
   "outputs": [],
   "source": [
    "pickle.dump(fpat, open('pattern.pkl', 'wb'))"
   ]
  },
  {
   "cell_type": "code",
   "execution_count": null,
   "metadata": {},
   "outputs": [],
   "source": []
  },
  {
   "cell_type": "code",
   "execution_count": null,
   "metadata": {},
   "outputs": [],
   "source": []
  },
  {
   "cell_type": "code",
   "execution_count": 4,
   "metadata": {},
   "outputs": [
    {
     "ename": "NameError",
     "evalue": "name 'fpat' is not defined",
     "output_type": "error",
     "traceback": [
      "\u001b[0;31m---------------------------------------------------------------------------\u001b[0m",
      "\u001b[0;31mNameError\u001b[0m                                 Traceback (most recent call last)",
      "\u001b[0;32m<ipython-input-4-4c00bc124cff>\u001b[0m in \u001b[0;36m<module>\u001b[0;34m()\u001b[0m\n\u001b[0;32m----> 1\u001b[0;31m \u001b[0mfpat\u001b[0m\u001b[0;34m.\u001b[0m\u001b[0mappend\u001b[0m\u001b[0;34m(\u001b[0m\u001b[0;34m(\u001b[0m\u001b[0mnums\u001b[0m\u001b[0;34m,\u001b[0m \u001b[0mco\u001b[0m\u001b[0;34m,\u001b[0m \u001b[0mq\u001b[0m\u001b[0;34m,\u001b[0m \u001b[0mget_answer\u001b[0m\u001b[0;34m,\u001b[0m \u001b[0mformula\u001b[0m\u001b[0;34m)\u001b[0m\u001b[0;34m)\u001b[0m\u001b[0;34m\u001b[0m\u001b[0m\n\u001b[0m",
      "\u001b[0;31mNameError\u001b[0m: name 'fpat' is not defined"
     ]
    }
   ],
   "source": [
    "fpat.append((nums, co, q, get_answer, formula))"
   ]
  },
  {
   "cell_type": "code",
   "execution_count": 12,
   "metadata": {},
   "outputs": [
    {
     "data": {
      "text/plain": [
       "('Каждые 36 минут на канале показывают 6 рекламных роликов.',\n",
       " 'Сколько рекламных роликов покажут на канале за 13 часов?',\n",
       " 130)"
      ]
     },
     "execution_count": 12,
     "metadata": {},
     "output_type": "execute_result"
    }
   ],
   "source": [
    "gen_new(nums, co, q, get_answer, formula)"
   ]
  },
  {
   "cell_type": "code",
   "execution_count": 226,
   "metadata": {},
   "outputs": [],
   "source": [
    "def gen_new(nums, c, q, get_answer, form, rang=10000):\n",
    "    c_len = len([n for n in nums if 'c' in n])\n",
    "    q_len = len([n for n in nums if 'q' in n])\n",
    "    \n",
    "    g_nums = {}\n",
    "#     names_d = {}\n",
    "#     for name in names:\n",
    "#         if 'fname' in name:\n",
    "#             names_d[name] = choice(fnames)\n",
    "#         elif 'mname' in name:\n",
    "#             names_d[name] = choice(mnames)\n",
    "            \n",
    "#     names = names_d\n",
    "    \n",
    "    for i in range(c_len):\n",
    "        g_nums['cn' + str(i+1)] = randint(2, rang)\n",
    "    \n",
    "    for i in range(q_len):\n",
    "        g_nums['qn' + str(i+1)] = randint(2, rang)\n",
    "    \n",
    "#     print(g_nums)\n",
    "    a = get_answer(g_nums)\n",
    "#     print(g_nums)\n",
    "    if (a > 1) and (not a%1) and (a <= rang):\n",
    "        return c.format(**g_nums), q.format(**g_nums), int(a)\n",
    "    else:\n",
    "        return gen_new(nums, c, q, get_answer, _, rang)\n",
    "    "
   ]
  },
  {
   "cell_type": "code",
   "execution_count": 114,
   "metadata": {},
   "outputs": [],
   "source": [
    "f = open('augmented_sents_dev.txt', 'a')\n",
    "for i in range(5):\n",
    "    z = gen_new(c, q, nums)\n",
    "    f.write('\\t'.join(map(str, z)) + '\\n')\n",
    "\n",
    "    "
   ]
  },
  {
   "cell_type": "code",
   "execution_count": 1578,
   "metadata": {},
   "outputs": [],
   "source": [
    "f.close()"
   ]
  },
  {
   "cell_type": "code",
   "execution_count": 1063,
   "metadata": {},
   "outputs": [],
   "source": [
    "f = open('augmented_sents.txt', 'a')\n",
    "def write_augments(problems, f):\n",
    "    for problem in problems:\n",
    "        f.write('\\t'.join(map(str, problem)) + '\\n')\n",
    "    "
   ]
  },
  {
   "cell_type": "markdown",
   "metadata": {},
   "source": [
    "## DEV SET"
   ]
  },
  {
   "cell_type": "code",
   "execution_count": 10,
   "metadata": {},
   "outputs": [],
   "source": [
    "fpat = []"
   ]
  },
  {
   "cell_type": "code",
   "execution_count": 13,
   "metadata": {},
   "outputs": [
    {
     "name": "stdout",
     "output_type": "stream",
     "text": [
      "('За 1 день гортензия вырастает на 7 миллиметров.', 'На сколько миллиметров вырастет гортензия за 63 дней?', 441)\n"
     ]
    }
   ],
   "source": [
    "\n",
    "nums = {'cn1':0,'cn2':0, 'cn3':0, 'cn4':0, 'qn1':0}\n",
    "\n",
    "co = \"За 1 день гортензия вырастает на {cn1} миллиметров.\"\n",
    "q = \"На сколько миллиметров вырастет гортензия за {qn1} дней?\"\n",
    "\n",
    "\n",
    "formula = 'cn1*qn1'\n",
    "def get_answer(nums):\n",
    "    \n",
    "    if nums['qn1'] > 100:\n",
    "        nums['qn1'] = randint(2, 100)\n",
    "\n",
    "        \n",
    "    if nums['cn1'] > 10:\n",
    "        nums['cn1'] = randint(1, 10)\n",
    "        \n",
    "    b = nums['cn1']*nums['qn1']\n",
    "    \n",
    "    if b%1:\n",
    "        return 0\n",
    "    if b <=0:\n",
    "        return 0\n",
    "    a = b\n",
    "    \n",
    "    return a\n",
    "\n",
    "print(gen_new(*(nums, co, q, get_answer, formula, 10000)))"
   ]
  },
  {
   "cell_type": "code",
   "execution_count": 35,
   "metadata": {},
   "outputs": [
    {
     "name": "stdout",
     "output_type": "stream",
     "text": [
      "('В доме 20 этажей и 5 подъездов.', 'Сколько всего квартир в доме, если на каждом этаже в каждом подъезде 7 квартир?', 700)\n"
     ]
    }
   ],
   "source": [
    "\n",
    "nums = {'cn1':0,'cn2':0, 'cn3':0, 'cn4':0, 'qn1':0}\n",
    "\n",
    "co = \"В доме {cn1} этажей и {cn2} подъездов.\"\n",
    "q = \"Сколько всего квартир в доме, если на каждом этаже в каждом подъезде {qn1} квартир?\"\n",
    "\n",
    "\n",
    "formula = 'cn1*cn2*qn1'\n",
    "def get_answer(nums):\n",
    "    \n",
    "    if nums['qn1'] > 8:\n",
    "        nums['qn1'] = randint(2, 8)\n",
    "\n",
    "    if nums['cn1'] > 24:\n",
    "        nums['cn1'] = randint(2, 24)\n",
    "    \n",
    "    if nums['cn2'] > 6:\n",
    "        nums['cn2'] = randint(2, 6)\n",
    "        \n",
    "    b = nums['cn1']*nums['qn1']*nums['cn2']\n",
    "    \n",
    "    if b%1:\n",
    "        return 0\n",
    "    if b <=0:\n",
    "        return 0\n",
    "    a = b\n",
    "    \n",
    "    return a\n",
    "\n",
    "print(gen_new(*(nums, co, q, get_answer, formula, 10000)))"
   ]
  },
  {
   "cell_type": "code",
   "execution_count": 42,
   "metadata": {},
   "outputs": [
    {
     "name": "stdout",
     "output_type": "stream",
     "text": [
      "('В первом тайме футбольная команда забила 7 голов. А во втором - 10', 'Сколько голов команда забила за весь матч?', 17)\n"
     ]
    }
   ],
   "source": [
    "\n",
    "nums = {'cn1':0,'cn2':0, 'cn3':0, 'cn4':0, 'qn1':0}\n",
    "\n",
    "co = \"В первом тайме футбольная команда забила {cn1} голов. А во втором - {cn2}\"\n",
    "q = \"Сколько голов команда забила за весь матч?\"\n",
    "\n",
    "\n",
    "formula = 'cn1+cn2'\n",
    "def get_answer(nums):\n",
    "    \n",
    "\n",
    "    if nums['cn1'] > 30:\n",
    "        nums['cn1'] = randint(2, 30)\n",
    "    \n",
    "    if nums['cn2'] > 20:\n",
    "        nums['cn2'] = randint(1, 20)\n",
    "        \n",
    "    b = nums['cn1']+nums['cn2']\n",
    "    \n",
    "    if b%1:\n",
    "        return 0\n",
    "    if b <=0:\n",
    "        return 0\n",
    "    a = b\n",
    "    \n",
    "    return a\n",
    "\n",
    "print(gen_new(*(nums, co, q, get_answer, formula, 10000)))"
   ]
  },
  {
   "cell_type": "code",
   "execution_count": 57,
   "metadata": {},
   "outputs": [
    {
     "name": "stdout",
     "output_type": "stream",
     "text": [
      "('На прошлой неделе Женя весила 52 кг. Сейчас она весит 37 кг.', 'На сколько кг похудела Женя?', 15)\n"
     ]
    }
   ],
   "source": [
    "\n",
    "nums = {'cn1':0,'cn2':0, 'cn3':0, 'cn4':0, 'qn1':0}\n",
    "\n",
    "co = \"На прошлой неделе Женя весила {cn1} кг. Сейчас она весит {cn2} кг.\"\n",
    "q = \"На сколько кг похудела Женя?\"\n",
    "\n",
    "\n",
    "formula = 'cn1-cn2'\n",
    "def get_answer(nums):\n",
    "    \n",
    "\n",
    "    if nums['cn1'] > 80:\n",
    "        nums['cn1'] = randint(31, 90)\n",
    "    \n",
    "    if nums['cn2'] > 75:\n",
    "        nums['cn2'] = randint( nums['cn1']-20, nums['cn1'])\n",
    "        \n",
    "    b = nums['cn1']-nums['cn2']\n",
    "    \n",
    "    if b%1:\n",
    "        return 0\n",
    "    if b <=0:\n",
    "        return 0\n",
    "    a = b\n",
    "    \n",
    "    return a\n",
    "\n",
    "print(gen_new(*(nums, co, q, get_answer, formula, 10000)))"
   ]
  },
  {
   "cell_type": "code",
   "execution_count": 75,
   "metadata": {},
   "outputs": [
    {
     "name": "stdout",
     "output_type": "stream",
     "text": [
      "('Штат банка составлял 8253 сотрудников. Потом 3678 сократили и наняли 1550 новых.', 'Сколько теперь сотрудников в банке?', 6125)\n"
     ]
    }
   ],
   "source": [
    "\n",
    "nums = {'cn1':0,'cn2':0, 'cn3':0, 'cn4':0, 'qn1':0}\n",
    "\n",
    "co = \"Штат банка составлял {cn1} сотрудников. Потом {cn2} сократили и наняли {cn3} новых.\"\n",
    "q = \"Сколько теперь сотрудников в банке?\"\n",
    "\n",
    "\n",
    "formula = 'cn1-cn2'\n",
    "def get_answer(nums):\n",
    "    \n",
    "\n",
    "    if nums['cn1'] > 10000:\n",
    "        nums['cn1'] = randint(30,10000)\n",
    "    \n",
    "    if nums['cn2'] > 3000:\n",
    "        nums['cn2'] = randint(5, nums['cn1']-100)\n",
    "    \n",
    "    if nums['cn3'] > 10000:\n",
    "        nums['cn2'] = randint(30, 10000)\n",
    "        \n",
    "    b = (nums['cn1']-nums['cn2'])+nums['cn3']\n",
    "    \n",
    "    if b%1:\n",
    "        return 0\n",
    "    if b <=0:\n",
    "        return 0\n",
    "    a = b\n",
    "    \n",
    "    return a\n",
    "\n",
    "print(gen_new(*(nums, co, q, get_answer, formula, 10000)))"
   ]
  },
  {
   "cell_type": "code",
   "execution_count": 84,
   "metadata": {},
   "outputs": [
    {
     "name": "stdout",
     "output_type": "stream",
     "text": [
      "('Разрешение экрана составляет 13 на 592 пикселей?', 'Сколько всего пикселей на экране?', 7696)\n"
     ]
    }
   ],
   "source": [
    "\n",
    "nums = {'cn1':0,'cn2':0, 'cn3':0, 'cn4':0, 'qn1':0}\n",
    "\n",
    "co = \"Разрешение экрана составляет {cn1} на {cn2} пикселей?\"\n",
    "q = \"Сколько всего пикселей на экране?\"\n",
    "\n",
    "\n",
    "formula = 'cn1*cn2'\n",
    "def get_answer(nums):\n",
    "    \n",
    "\n",
    "    if nums['cn1'] > 4000:\n",
    "        nums['cn1'] = randint(100,4000)\n",
    "    \n",
    "    if nums['cn2'] > 1500:\n",
    "        nums['cn2'] = randint(50, 1500)\n",
    "    \n",
    "    \n",
    "    b = (nums['cn1']*nums['cn2'])\n",
    "    \n",
    "    if b%1:\n",
    "        return 0\n",
    "    if b <=0:\n",
    "        return 0\n",
    "    a = b\n",
    "    \n",
    "    return a\n",
    "\n",
    "print(gen_new(*(nums, co, q, get_answer, formula, 10000)))"
   ]
  },
  {
   "cell_type": "code",
   "execution_count": 92,
   "metadata": {},
   "outputs": [
    {
     "name": "stdout",
     "output_type": "stream",
     "text": [
      "('Скорость света примерно составляет 300 тысяч километров в секунду.', 'Сколько километров пройдет луч света за 25 секунд?', 7500000)\n"
     ]
    }
   ],
   "source": [
    "\n",
    "nums = {'cn1':0,'cn2':0, 'cn3':0, 'cn4':0, 'qn1':0}\n",
    "\n",
    "co = \"Скорость света примерно составляет 300 тысяч километров в секунду.\"\n",
    "q = \"Сколько километров пройдет луч света за {qn1} секунд?\"\n",
    "\n",
    "\n",
    "formula = '300000*qn1'\n",
    "def get_answer(nums):\n",
    "    \n",
    "    if nums['qn1'] > 30:\n",
    "        nums['qn1'] = randint(2, 30)\n",
    "    \n",
    "    \n",
    "    b = (nums['qn1']*300000)\n",
    "    \n",
    "    if b%1:\n",
    "        return 0\n",
    "    if b <=0:\n",
    "        return 0\n",
    "    a = b\n",
    "    \n",
    "    return a\n",
    "\n",
    "print(gen_new(*(nums, co, q, get_answer, formula, 100000000000)))"
   ]
  },
  {
   "cell_type": "code",
   "execution_count": 141,
   "metadata": {},
   "outputs": [
    {
     "name": "stdout",
     "output_type": "stream",
     "text": [
      "('В начальных классах 146-й средней школы 477 учеников. Во время сезонной эпидемии гриппа 9/9 учеников заболели.', 'Сколько учеников заболело гриппом?', 477)\n"
     ]
    }
   ],
   "source": [
    "\n",
    "nums = {'cn1':0,'cn2':0, 'cn3':0, 'cn4':0, 'qn1':0}\n",
    "\n",
    "co = \"В начальных классах {cn4}-й средней школы {cn1} учеников. Во время сезонной эпидемии гриппа {cn2}/{cn3} учеников заболели.\"\n",
    "q = \"Сколько учеников заболело гриппом?\"\n",
    "\n",
    "\n",
    "formula = '((cn1*cn2)\\cn3)'\n",
    "def get_answer(nums):\n",
    "    \n",
    "\n",
    "    if nums['cn1'] > 500:\n",
    "        nums['cn1'] = randint(30,500)\n",
    "    \n",
    "    if nums['cn2'] > 10:\n",
    "        nums['cn2'] = randint(2, 10)\n",
    "\n",
    "    if nums['cn3'] > 15:\n",
    "        nums['cn3'] = randint(2, 10)\n",
    "    if nums['cn4'] > 150:\n",
    "        nums['cn4'] = randint(2, 150)\n",
    "    \n",
    "    b = ((nums['cn1']*nums['cn2'])/nums['cn3'])\n",
    "    \n",
    "    if b%1:\n",
    "        return 0\n",
    "    if b <=0:\n",
    "        return 0\n",
    "    a = b\n",
    "    \n",
    "    return a\n",
    "\n",
    "print(gen_new(*(nums, co, q, get_answer, formula, 10000)))"
   ]
  },
  {
   "cell_type": "code",
   "execution_count": 148,
   "metadata": {},
   "outputs": [
    {
     "name": "stdout",
     "output_type": "stream",
     "text": [
      "('Каждого 20-го мужчину в деревне Семеновка зовут Иваном.', 'Сколько всего Иванов в деревне, если всего мужчин там 1260?', 63)\n"
     ]
    }
   ],
   "source": [
    "\n",
    "nums = {'cn1':0,'cn2':0, 'cn3':0, 'cn4':0, 'qn1':0}\n",
    "\n",
    "co = \"Каждого {cn1}-го мужчину в деревне Семеновка зовут Иваном.\"\n",
    "q = \"Сколько всего Иванов в деревне, если всего мужчин там {qn1}?\"\n",
    "\n",
    "\n",
    "formula = '((qn1\\cn1)'\n",
    "def get_answer(nums):\n",
    "    \n",
    "\n",
    "    if nums['cn1'] > 50:\n",
    "        nums['cn1'] = randint(2,50)\n",
    "    \n",
    "    \n",
    "    if nums['qn1'] > 1500:\n",
    "        nums['qn1'] = randint(100, 1500)\n",
    "    \n",
    "    b = ((nums['qn1'])/nums['cn1'])\n",
    "    \n",
    "    if b%1:\n",
    "        return 0\n",
    "    if b <=0:\n",
    "        return 0\n",
    "    a = b\n",
    "    \n",
    "    return a\n",
    "\n",
    "print(gen_new(*(nums, co, q, get_answer, formula, 10000)))"
   ]
  },
  {
   "cell_type": "code",
   "execution_count": 159,
   "metadata": {},
   "outputs": [
    {
     "name": "stdout",
     "output_type": "stream",
     "text": [
      "('Длина первой змеи 22 метров, а длина второй - 28.', 'На сколько первая змея короче второй?', 6)\n"
     ]
    }
   ],
   "source": [
    "\n",
    "nums = {'cn1':0,'cn2':0, 'cn3':0, 'cn4':0, 'qn1':0}\n",
    "\n",
    "co = \"Длина первой змеи {cn1} метров, а длина второй - {cn2}.\"\n",
    "q = \"На сколько первая змея короче второй?\"\n",
    "\n",
    "\n",
    "formula = '((сn2-cn1)'\n",
    "def get_answer(nums):\n",
    "    \n",
    "\n",
    "    if nums['cn1'] > 50:\n",
    "        nums['cn1'] = randint(2,50)\n",
    "    \n",
    "    \n",
    "    if nums['cn2'] > 50:\n",
    "        nums['cn2'] = randint(nums['cn1'], 50)\n",
    "    \n",
    "    b = ((nums['cn2'])-nums['cn1'])\n",
    "    \n",
    "    if b%1:\n",
    "        return 0\n",
    "    if b <=0:\n",
    "        return 0\n",
    "    a = b\n",
    "    \n",
    "    return a\n",
    "\n",
    "print(gen_new(*(nums, co, q, get_answer, formula, 10000)))"
   ]
  },
  {
   "cell_type": "code",
   "execution_count": 165,
   "metadata": {},
   "outputs": [
    {
     "name": "stdout",
     "output_type": "stream",
     "text": [
      "('Объем первого контейнера 106 кубических сантиметров, а второго - 424.', 'Во сколько раз объем второго контейнера превосходит объем первого?', 4)\n"
     ]
    }
   ],
   "source": [
    "\n",
    "nums = {'cn1':0,'cn2':0, 'cn3':0, 'cn4':0, 'qn1':0}\n",
    "\n",
    "co = \"Объем первого контейнера {cn1} кубических сантиметров, а второго - {cn2}.\"\n",
    "q = \"Во сколько раз объем второго контейнера превосходит объем первого?\"\n",
    "\n",
    "\n",
    "formula = '((сn2\\cn1)'\n",
    "def get_answer(nums):\n",
    "    \n",
    "\n",
    "    if nums['cn1'] > 500:\n",
    "        nums['cn1'] = randint(2,500)\n",
    "    \n",
    "    \n",
    "    if nums['cn2'] > 500:\n",
    "        nums['cn2'] = randint(nums['cn1'], 500)\n",
    "    \n",
    "    b = ((nums['cn2'])/nums['cn1'])\n",
    "    \n",
    "    if b%1:\n",
    "        return 0\n",
    "    if b <=0:\n",
    "        return 0\n",
    "    a = b\n",
    "    \n",
    "    return a\n",
    "\n",
    "print(gen_new(*(nums, co, q, get_answer, formula, 10000)))"
   ]
  },
  {
   "cell_type": "code",
   "execution_count": 171,
   "metadata": {},
   "outputs": [
    {
     "name": "stdout",
     "output_type": "stream",
     "text": [
      "('Общая толщина двух досок равна 487 мм. Толщина первой - 474 мм.', 'Чему равна толщина второй доски?', 13)\n"
     ]
    }
   ],
   "source": [
    "\n",
    "nums = {'cn1':0,'cn2':0, 'cn3':0, 'cn4':0, 'qn1':0}\n",
    "\n",
    "co = \"Общая толщина двух досок равна {cn1} мм. Толщина первой - {cn2} мм.\"\n",
    "q = \"Чему равна толщина второй доски?\"\n",
    "\n",
    "formula = '((сn1-cn2)'\n",
    "def get_answer(nums):\n",
    "    \n",
    "\n",
    "    if nums['cn1'] > 500:\n",
    "        nums['cn1'] = randint(2,500)\n",
    "    \n",
    "    \n",
    "    if nums['cn2'] > 500:\n",
    "        nums['cn2'] = randint(nums['cn1'], 500)\n",
    "    \n",
    "    b = (nums['cn1'])-nums['cn2']\n",
    "    \n",
    "    if b%1:\n",
    "        return 0\n",
    "    if b <=0:\n",
    "        return 0\n",
    "    a = b\n",
    "    \n",
    "    return a\n",
    "\n",
    "print(gen_new(*(nums, co, q, get_answer, formula, 10000)))"
   ]
  },
  {
   "cell_type": "code",
   "execution_count": 208,
   "metadata": {},
   "outputs": [
    {
     "name": "stdout",
     "output_type": "stream",
     "text": [
      "('Паром отправился в 17:46. А должен был отправиться в 14:54.', 'На сколько минут задержалось отправление парома?', 172)\n"
     ]
    }
   ],
   "source": [
    "\n",
    "nums = {'cn1':0,'cn2':0, 'cn3':0, 'cn4':0, 'qn1':0}\n",
    "\n",
    "co = \"Паром отправился в {cn1}:{cn2}. А должен был отправиться в {cn3}:{cn4}.\"\n",
    "q = \"На сколько минут задержалось отправление парома?\"\n",
    "\n",
    "formula = '((cn1-cn3)*60)+(cn2-cn4)'\n",
    "def get_answer(nums):\n",
    "    \n",
    "\n",
    "    nums['cn3'] = randint(0,23)\n",
    "    nums['cn1'] = randint(nums['cn3'],23)\n",
    "    nums['cn2'] = randint(10,59)\n",
    "    \n",
    "    nums['cn4'] = randint(10,59)\n",
    "    \n",
    "    b = ((nums['cn1']-nums['cn3'])*60)+(nums['cn2']-nums['cn4'])\n",
    "    \n",
    "    if b%1:\n",
    "        return 0\n",
    "    if b <=0:\n",
    "        return 0\n",
    "    a = b\n",
    "    \n",
    "    return a\n",
    "\n",
    "print(gen_new(*(nums, co, q, get_answer, formula, 10000)))"
   ]
  },
  {
   "cell_type": "code",
   "execution_count": 213,
   "metadata": {},
   "outputs": [
    {
     "name": "stdout",
     "output_type": "stream",
     "text": [
      "('В тарелке было 22 пельменей. Дима съел 3 пельменей. Витя съел 4 пельменей.', 'Сколько пельменей осталось в тарелке?', 15)\n"
     ]
    }
   ],
   "source": [
    "\n",
    "nums = {'cn1':0,'cn2':0, 'cn3':0, 'cn4':0, 'qn1':0}\n",
    "\n",
    "co = \"В тарелке было {cn1} пельменей. Дима съел {cn2} пельменей. Витя съел {cn3} пельменей.\"\n",
    "q = \"Сколько пельменей осталось в тарелке?\"\n",
    "\n",
    "formula = 'cn1-cn2-cn3'\n",
    "def get_answer(nums):\n",
    "    \n",
    "    nums['cn1'] = randint(10,70)\n",
    "    nums['cn3'] = randint(1, nums['cn1'])\n",
    "    nums['cn2'] = randint(1,nums['cn1'])\n",
    "    \n",
    "\n",
    "    \n",
    "    b = nums['cn1']-nums['cn2']-nums['cn3']\n",
    "    \n",
    "    if b%1:\n",
    "        return 0\n",
    "    if b <=0:\n",
    "        return 0\n",
    "    a = b\n",
    "    \n",
    "    return a\n",
    "\n",
    "print(gen_new(*(nums, co, q, get_answer, formula, 10000)))"
   ]
  },
  {
   "cell_type": "code",
   "execution_count": 224,
   "metadata": {},
   "outputs": [
    {
     "name": "stdout",
     "output_type": "stream",
     "text": [
      "{'cn2': 5516, 'cn3': 7123, 'cn4': 1665, 'qn1': 1428, 'cn1': 4793}\n",
      "{'cn2': 185, 'cn3': 207, 'cn4': 1665, 'qn1': 1428, 'cn1': 4793}\n",
      "('В ящике было 4793 предметов. Затем туда положили ещё 185 предметов. А после этого достали на 207 предметов больше.', 'Сколько предметов достали?', 392)\n"
     ]
    }
   ],
   "source": [
    "\n",
    "nums = {'cn1':0,'cn2':0, 'cn3':0, 'cn4':0, 'qn1':0}\n",
    "\n",
    "co = \"В ящике было {cn1} предметов. Затем туда положили ещё {cn2} предметов. А после этого достали на {cn3} предметов больше.\"\n",
    "q = \"Сколько предметов достали?\"\n",
    "\n",
    "formula = 'cn2+cn3'\n",
    "def get_answer(nums):\n",
    "    \n",
    "    nums['cn3'] = randint(5,517)\n",
    "    nums['cn2'] = randint(3,221)\n",
    "    \n",
    "\n",
    "    \n",
    "    b = nums['cn3']+nums['cn2']\n",
    "    if b%1:\n",
    "        return 0\n",
    "    if b <=0:\n",
    "        return 0\n",
    "    a = b\n",
    "    \n",
    "    return a\n",
    "\n",
    "print(gen_new(*(nums, co, q, get_answer, formula, 10000)))"
   ]
  },
  {
   "cell_type": "code",
   "execution_count": null,
   "metadata": {},
   "outputs": [],
   "source": [
    "\n",
    "nums = {'cn1':0,'cn2':0, 'cn3':0, 'cn4':0, 'qn1':0}\n",
    "\n",
    "co = \"В ящике было {cn1} предметов. Затем туда положили ещё {cn2} предметов. А после этого достали на {cn3} предметов больше.\"\n",
    "q = \"Сколько предметов достали?\"\n",
    "\n",
    "formula = 'cn2+cn3'\n",
    "def get_answer(nums):\n",
    "    \n",
    "    nums['cn3'] = randint(5,517)\n",
    "    nums['cn2'] = randint(3,221)\n",
    "    \n",
    "\n",
    "    \n",
    "    b = nums['cn3']+nums['cn2']\n",
    "    if b%1:\n",
    "        return 0\n",
    "    if b <=0:\n",
    "        return 0\n",
    "    a = b\n",
    "    \n",
    "    return a\n",
    "\n",
    "print(gen_new(*(nums, co, q, get_answer, formula, 10000)))"
   ]
  },
  {
   "cell_type": "code",
   "execution_count": 240,
   "metadata": {},
   "outputs": [
    {
     "name": "stdout",
     "output_type": "stream",
     "text": [
      "('Виктор купил журналов на 3025 рублей.', 'Сколько журналов он купил, если один журнал стоит 25 рублей?', 121)\n"
     ]
    }
   ],
   "source": [
    "\n",
    "nums = {'cn1':0,'cn2':0, 'cn3':0, 'cn4':0, 'qn1':0}\n",
    "\n",
    "co = \"Виктор купил журналов на {cn1} рублей.\"\n",
    "q = \"Сколько журналов он купил, если один журнал стоит {qn1} рублей?\"\n",
    "\n",
    "formula = 'cn1/qn1'\n",
    "def get_answer(nums):\n",
    "    \n",
    "    nums['cn1'] = randint(100, 5100)\n",
    "    nums['qn1'] = randint(10,220)\n",
    "    \n",
    "\n",
    "    \n",
    "    b = nums['cn1']/nums['qn1']\n",
    "    if b%1:\n",
    "        return 0\n",
    "    if b <=0:\n",
    "        return 0\n",
    "    a = b\n",
    "    \n",
    "    return a\n",
    "\n",
    "print(gen_new(*(nums, co, q, get_answer, formula, 10000)))"
   ]
  },
  {
   "cell_type": "code",
   "execution_count": 263,
   "metadata": {},
   "outputs": [
    {
     "name": "stdout",
     "output_type": "stream",
     "text": [
      "('Маргарита обменяла доллары на рубли по курсу 32 рублей за доллар. Изначально у неё было 20 тысяч рублей.', 'Сколько долларов получила Маргарита?', 625)\n"
     ]
    }
   ],
   "source": [
    "\n",
    "# nums = {'cn1':0,'cn2':0, 'cn3':0, 'cn4':0, 'qn1':0}\n",
    "\n",
    "co = \"Маргарита обменяла доллары на рубли по курсу {cn1} рублей за доллар. Изначально у неё было {cn2} тысяч рублей.\"\n",
    "q = \"Сколько долларов получила Маргарита?\"\n",
    "\n",
    "formula = '(cn2*1000)/сn1'\n",
    "def get_answer(nums):\n",
    "    \n",
    "    nums['cn1'] = randint(20, 98)\n",
    "    nums['cn2'] = randint(2,30)\n",
    "\n",
    "    \n",
    "    b = (nums['cn2']*1000)/nums['cn1']\n",
    "    if b%1:\n",
    "        return 0\n",
    "    if b <=0:\n",
    "        return 0\n",
    "    a = b\n",
    "    \n",
    "    return a\n",
    "\n",
    "print(gen_new(*(nums, co, q, get_answer, formula, 10000)))"
   ]
  },
  {
   "cell_type": "code",
   "execution_count": 283,
   "metadata": {},
   "outputs": [
    {
     "name": "stdout",
     "output_type": "stream",
     "text": [
      "('', 'Во сколько раз 3744 превосходит 12?', 312)\n"
     ]
    }
   ],
   "source": [
    "\n",
    "# nums = {'cn1':0,'cn2':0, 'cn3':0, 'cn4':0, 'qn1':0}\n",
    "\n",
    "co = \"\"\n",
    "q = \"Во сколько раз {qn1} превосходит {qn2}?\"\n",
    "\n",
    "formula = 'qn1/qn2'\n",
    "def get_answer(nums):\n",
    "    \n",
    "    nums['qn1'] = randint(20, 100000)\n",
    "    nums['qn2'] = randint(3,nums['qn1']/2)\n",
    "\n",
    "    b = nums['qn1']/nums['qn2']\n",
    "    if b%1:\n",
    "        return 0\n",
    "    if b <=0:\n",
    "        return 0\n",
    "    a = b\n",
    "    \n",
    "    return a\n",
    "\n",
    "print(gen_new(*(nums, co, q, get_answer, formula, 10000)))"
   ]
  },
  {
   "cell_type": "code",
   "execution_count": null,
   "metadata": {},
   "outputs": [],
   "source": [
    "\n",
    "# nums = {'cn1':0,'cn2':0, 'cn3':0, 'cn4':0, 'qn1':0}\n",
    "\n",
    "co = \"\"\n",
    "q = \"Во сколько раз {qn1} превосходит {qn2}?\"\n",
    "\n",
    "formula = 'qn1/qn2'\n",
    "def get_answer(nums):\n",
    "    \n",
    "    nums['qn1'] = randint(20, 100000)\n",
    "    nums['qn2'] = randint(3,nums['qn1']/2)\n",
    "\n",
    "    b = nums['qn1']/nums['qn2']\n",
    "    if b%1:\n",
    "        return 0\n",
    "    if b <=0:\n",
    "        return 0\n",
    "    a = b\n",
    "    \n",
    "    return a\n",
    "\n",
    "print(gen_new(*(nums, co, q, get_answer, formula, 10000)))"
   ]
  },
  {
   "cell_type": "code",
   "execution_count": 303,
   "metadata": {},
   "outputs": [
    {
     "name": "stdout",
     "output_type": "stream",
     "text": [
      "('В первый день выставку посетило 188 человек. Во второй день - в 3 раза больше, чем в первый. А в третий - на 368 больше, чем во второй.', 'Сколько человек посетило выставку в третий день?', 932)\n"
     ]
    }
   ],
   "source": [
    "\n",
    "# nums = {'cn1':0,'cn2':0, 'cn3':0, 'cn4':0, 'qn1':0}\n",
    "\n",
    "co = \"В первый день выставку посетило {cn1} человек. Во второй день - в {cn2} раза больше, чем в первый. А в третий - на {cn3} больше, чем во второй.\"\n",
    "q = \"Сколько человек посетило выставку в третий день?\" \n",
    "\n",
    "formula = '(cn1*cn2)+cn3'\n",
    "def get_answer(nums):\n",
    "    \n",
    "    nums['cn1'] = randint(20, 500)\n",
    "    nums['cn2'] = randint(2, 10)\n",
    "    nums['cn3'] = randint(5, 500)\n",
    "\n",
    "    b = (nums['cn1']*nums['cn2'])+nums['cn3']\n",
    "    if b%1:\n",
    "        return 0\n",
    "    if b <=0:\n",
    "        return 0\n",
    "    a = b\n",
    "    \n",
    "    return a\n",
    "\n",
    "print(gen_new(*(nums, co, q, get_answer, formula, 10000)))"
   ]
  },
  {
   "cell_type": "code",
   "execution_count": 318,
   "metadata": {},
   "outputs": [
    {
     "name": "stdout",
     "output_type": "stream",
     "text": [
      "('Полина сделала 10 упражнений. Петя сделал в 2 раза больше упражнений, чем Полина. А Саша сделала на 30 больше, чем Петя и Полина вместе.', 'Сколько всего упражнений они сделали?', 90)\n"
     ]
    }
   ],
   "source": [
    "\n",
    "# nums = {'cn1':0,'cn2':0, 'cn3':0, 'cn4':0, 'qn1':0}\n",
    "\n",
    "co = \"Полина сделала {cn1} упражнений. Петя сделал в {cn2} раза больше упражнений, чем Полина. А Саша сделала на {cn3} больше, чем Петя и Полина вместе.\"\n",
    "q = \"Сколько всего упражнений они сделали?\" \n",
    "\n",
    "formula = '((cn1+(cn1*cn2))*2)+cn3'\n",
    "def get_answer(nums):\n",
    "    \n",
    "    nums['cn1'] = randint(10, 50)\n",
    "    nums['cn2'] = randint(2, 5)\n",
    "    nums['cn3'] = randint(10, 50)\n",
    "\n",
    "\n",
    "    b = ((nums['cn1']+(nums['cn1']*nums['cn2']))*2)+nums['cn3']\n",
    "    if b%1:\n",
    "        return 0\n",
    "    if b <=0:\n",
    "        return 0\n",
    "    a = b\n",
    "    \n",
    "    return a\n",
    "\n",
    "print(gen_new(*(nums, co, q, get_answer, formula, 10000)))"
   ]
  },
  {
   "cell_type": "code",
   "execution_count": 325,
   "metadata": {},
   "outputs": [
    {
     "name": "stdout",
     "output_type": "stream",
     "text": [
      "('Фотограф городского журнала сделал 23 снимков парада Победы. В журнале опубликовали 13 его снимков, заплатив ему за каждый по 475 рублей.', 'Сколько денег получил фотограф?', 6175)\n"
     ]
    }
   ],
   "source": [
    "\n",
    "# nums = {'cn1':0,'cn2':0, 'cn3':0, 'cn4':0, 'qn1':0}\n",
    "\n",
    "co = \"Фотограф городского журнала сделал {cn1} снимков парада Победы. В журнале опубликовали {cn2} его снимков, заплатив ему за каждый по {cn3} рублей.\"\n",
    "q = \"Сколько денег получил фотограф?\" \n",
    "\n",
    "formula = 'cn2*cn3'\n",
    "def get_answer(nums):\n",
    "    \n",
    "    nums['cn1'] = randint(10, 500)\n",
    "    nums['cn2'] = randint(10, nums['cn1'])\n",
    "    nums['cn3'] = randint(100, 5000)\n",
    "\n",
    "\n",
    "    b = nums['cn2']*nums['cn3']\n",
    "    if b%1:\n",
    "        return 0\n",
    "    if b <=0:\n",
    "        return 0\n",
    "    a = b\n",
    "    \n",
    "    return a\n",
    "\n",
    "print(gen_new(*(nums, co, q, get_answer, formula, 10000)))"
   ]
  },
  {
   "cell_type": "code",
   "execution_count": 337,
   "metadata": {},
   "outputs": [
    {
     "name": "stdout",
     "output_type": "stream",
     "text": [
      "('Мне 22 лет, а моему брату 13 лет.', 'Сколько лет нашей маме, если она старше нас вместе взятых на 8 лет?', 43)\n"
     ]
    }
   ],
   "source": [
    "\n",
    "# nums = {'cn1':0,'cn2':0, 'cn3':0, 'cn4':0, 'qn1':0}\n",
    "\n",
    "co = \"Мне {cn1} лет, а моему брату {cn2} лет.\"\n",
    "q = \"Сколько лет нашей маме, если она старше нас вместе взятых на {qn1} лет?\" \n",
    "\n",
    "formula = '(cn1+cn2)+qn1'\n",
    "def get_answer(nums):\n",
    "    \n",
    "    nums['cn1'] = randint(5, 25)\n",
    "    nums['cn2'] = randint(3, 15)\n",
    "    nums['qn1'] = randint(3, 10)\n",
    "    if nums['cn1'] == nums['cn2']:\n",
    "        nums['cn1'] += randint(1, 3)\n",
    "\n",
    "    b = nums['cn1']+nums['cn2']+nums['qn1']\n",
    "    if (b - nums['cn1']) < 18 or (b - nums['cn2']) < 18:\n",
    "        return 0\n",
    "    if b%1:\n",
    "        return 0\n",
    "    if b <=0:\n",
    "        return 0\n",
    "    a = b\n",
    "    \n",
    "    return a\n",
    "\n",
    "print(gen_new(*(nums, co, q, get_answer, formula, 10000)))"
   ]
  },
  {
   "cell_type": "code",
   "execution_count": 356,
   "metadata": {},
   "outputs": [
    {
     "name": "stdout",
     "output_type": "stream",
     "text": [
      "('', 'Чему равна разница 38745 и 33218?', 5527)\n"
     ]
    }
   ],
   "source": [
    "\n",
    "# nums = {'cn1':0,'cn2':0, 'cn3':0, 'cn4':0, 'qn1':0}\n",
    "\n",
    "co = \"\"\n",
    "q = \"Чему равна разница {qn1} и {qn2}?\" \n",
    "\n",
    "formula = 'qn1-qn2'\n",
    "def get_answer(nums):\n",
    "    \n",
    "    nums['qn1'] = randint(1, 200000)\n",
    "    nums['qn2'] = randint(3, 323111)\n",
    "    \n",
    "    b = nums['qn1']-nums['qn2']\n",
    "    \n",
    "    if b%1:\n",
    "        return 0\n",
    "    if b <=0:\n",
    "        return 0\n",
    "    a = b\n",
    "    \n",
    "    return a\n",
    "\n",
    "print(gen_new(*(nums, co, q, get_answer, formula, 10000)))"
   ]
  },
  {
   "cell_type": "code",
   "execution_count": 401,
   "metadata": {},
   "outputs": [
    {
     "name": "stdout",
     "output_type": "stream",
     "text": [
      "('', 'Что получится, если разделить 70 на 14 и умножить результат на 50?', 250)\n"
     ]
    }
   ],
   "source": [
    "\n",
    "co = \"\"\n",
    "q = \"Что получится, если разделить {qn1} на {qn2} и умножить результат на {qn3}?\" \n",
    "\n",
    "formula = '(qn1/qn2)*qn3'\n",
    "def get_answer(nums):\n",
    "    \n",
    "    nums['qn1'] = randint(20, 100)\n",
    "    nums['qn2'] = randint(3, nums['qn1']/2)\n",
    "    nums['qn3'] = randint(1, 100)\n",
    "    if nums['qn1']%nums['qn2']:\n",
    "        return 0\n",
    "    \n",
    "    b = (nums['qn1']/nums['qn2'])*nums['qn3']\n",
    "    \n",
    "    if b%1:\n",
    "        return 0\n",
    "    if b <=0:\n",
    "        return 0\n",
    "    a = b\n",
    "    \n",
    "    return a\n",
    "\n",
    "print(gen_new(*(nums, co, q, get_answer, formula, 100000)))"
   ]
  },
  {
   "cell_type": "code",
   "execution_count": 413,
   "metadata": {},
   "outputs": [
    {
     "name": "stdout",
     "output_type": "stream",
     "text": [
      "('', 'Какое число мы получим, если из 8862 вычтем 3206 и прибавим к результату 408?', 6064)\n"
     ]
    }
   ],
   "source": [
    "\n",
    "co = \"\"\n",
    "q = \"Какое число мы получим, если из {qn1} вычтем {qn2} и прибавим к результату {qn3}?\" \n",
    "\n",
    "formula = '(qn1-qn2)+qn3'\n",
    "def get_answer(nums):\n",
    "    \n",
    "    nums['qn1'] = randint(2, 10000)\n",
    "    nums['qn2'] = randint(3, nums['qn1']-100)\n",
    "    nums['qn3'] = randint(2, 500)\n",
    "    \n",
    "    \n",
    "    b = (nums['qn1']-nums['qn2'])+nums['qn3']\n",
    "    \n",
    "    if b%1:\n",
    "        return 0\n",
    "    if b <=0:\n",
    "        return 0\n",
    "    a = b\n",
    "    \n",
    "    return a\n",
    "\n",
    "print(gen_new(*(nums, co, q, get_answer, formula, 100000)))"
   ]
  },
  {
   "cell_type": "code",
   "execution_count": 406,
   "metadata": {},
   "outputs": [
    {
     "data": {
      "text/plain": [
       "1667"
      ]
     },
     "execution_count": 406,
     "metadata": {},
     "output_type": "execute_result"
    }
   ],
   "source": [
    "1261+406"
   ]
  },
  {
   "cell_type": "code",
   "execution_count": 420,
   "metadata": {},
   "outputs": [
    {
     "data": {
      "text/plain": [
       "510"
      ]
     },
     "execution_count": 420,
     "metadata": {},
     "output_type": "execute_result"
    }
   ],
   "source": [
    "len(fpat)*15"
   ]
  },
  {
   "cell_type": "code",
   "execution_count": 414,
   "metadata": {},
   "outputs": [],
   "source": [
    "fpat.append((nums, co, q, get_answer, formula))"
   ]
  },
  {
   "cell_type": "code",
   "execution_count": 415,
   "metadata": {},
   "outputs": [],
   "source": [
    "pickle.dump(fpat, open('pattern_dev.pkl', 'wb'))"
   ]
  },
  {
   "cell_type": "code",
   "execution_count": null,
   "metadata": {},
   "outputs": [],
   "source": []
  },
  {
   "cell_type": "code",
   "execution_count": 473,
   "metadata": {},
   "outputs": [
    {
     "data": {
      "text/plain": [
       "({'cn1': 0, 'cn2': 0, 'cn3': 0, 'cn4': 0, 'qn1': 0},\n",
       " 'На прошлой неделе Женя весила {cn1} кг. Сейчас она весит {cn2} кг.',\n",
       " 'На сколько кг похудела Женя?',\n",
       " <function __main__.get_answer>,\n",
       " 'cn1-cn2')"
      ]
     },
     "execution_count": 473,
     "metadata": {},
     "output_type": "execute_result"
    }
   ],
   "source": [
    "ip = 5\n",
    "fpat[ip]"
   ]
  },
  {
   "cell_type": "code",
   "execution_count": 471,
   "metadata": {},
   "outputs": [
    {
     "data": {
      "text/plain": [
       "('В первом тайме футбольная команда забила 25 голов. А во втором - 1',\n",
       " 'Сколько голов команда забила за весь матч?',\n",
       " 26)"
      ]
     },
     "execution_count": 471,
     "metadata": {},
     "output_type": "execute_result"
    }
   ],
   "source": [
    "gen_new(*fpat[ip], 100000)"
   ]
  },
  {
   "cell_type": "code",
   "execution_count": 495,
   "metadata": {},
   "outputs": [
    {
     "data": {
      "text/plain": [
       "('Общая толщина двух досок равна 399 мм. Толщина первой - 313 мм.',\n",
       " 'Чему равна толщина второй доски?',\n",
       " 86)"
      ]
     },
     "execution_count": 495,
     "metadata": {},
     "output_type": "execute_result"
    }
   ],
   "source": [
    "gen_new(*fpat[ip], 100000)"
   ]
  },
  {
   "cell_type": "code",
   "execution_count": null,
   "metadata": {},
   "outputs": [],
   "source": [
    "def gen_n_new(pat, rang):\n",
    "    "
   ]
  },
  {
   "cell_type": "code",
   "execution_count": 499,
   "metadata": {
    "scrolled": true
   },
   "outputs": [
    {
     "name": "stdout",
     "output_type": "stream",
     "text": [
      "dce\n",
      "dce\n",
      "dce\n",
      "dce\n",
      "dce\n",
      "dce\n",
      "dce\n",
      "dce\n",
      "dce\n",
      "dce\n",
      "dce\n",
      "dce\n",
      "dce\n",
      "dce\n",
      "dce\n",
      "dce\n",
      "dce\n",
      "dce\n",
      "dce\n",
      "dce\n",
      "dce\n",
      "dce\n",
      "dce\n",
      "dce\n",
      "dce\n",
      "dce\n",
      "dce\n",
      "dce\n",
      "dce\n",
      "dce\n",
      "dce\n"
     ]
    }
   ],
   "source": [
    "problems = []\n",
    "exc = []\n",
    "for ip in range(len(fpat)):\n",
    "    pr = []\n",
    "    try:\n",
    "        for i in range(30):\n",
    "            pr.append(gen_new(*fpat[ip], 1000000))\n",
    "            if len(set(pr)) > 15:\n",
    "                problems += pr\n",
    "                print('dce')\n",
    "                break\n",
    "    except:\n",
    "        exc.append(ip)\n",
    "        continue"
   ]
  },
  {
   "cell_type": "code",
   "execution_count": 544,
   "metadata": {
    "scrolled": true
   },
   "outputs": [],
   "source": [
    "# pr = []\n",
    "for i in range(30):\n",
    "    pr.append(gen_new(*fpat[24], 1000))\n",
    "    if len(set(pr)) >=30:\n",
    "        \n",
    "        break"
   ]
  },
  {
   "cell_type": "code",
   "execution_count": 543,
   "metadata": {},
   "outputs": [
    {
     "data": {
      "text/plain": [
       "29"
      ]
     },
     "execution_count": 543,
     "metadata": {},
     "output_type": "execute_result"
    }
   ],
   "source": [
    "len(pr)"
   ]
  },
  {
   "cell_type": "code",
   "execution_count": 451,
   "metadata": {},
   "outputs": [
    {
     "data": {
      "text/plain": [
       "[('Каждый день мандарин вырастает на 8 мм.',\n",
       "  'На сколько мм вырастет мандарин за 23 дней?',\n",
       "  184),\n",
       " ('Каждый день мандарин вырастает на 3 мм.',\n",
       "  'На сколько мм вырастет мандарин за 74 дней?',\n",
       "  222),\n",
       " ('Каждый день мандарин вырастает на 3 мм.',\n",
       "  'На сколько мм вырастет мандарин за 40 дней?',\n",
       "  120),\n",
       " ('Каждый день мандарин вырастает на 5 мм.',\n",
       "  'На сколько мм вырастет мандарин за 45 дней?',\n",
       "  225),\n",
       " ('За 1 день гортензия вырастает на 1 миллиметров.',\n",
       "  'На сколько миллиметров вырастет гортензия за 67 дней?',\n",
       "  67)]"
      ]
     },
     "execution_count": 451,
     "metadata": {},
     "output_type": "execute_result"
    }
   ],
   "source": [
    "problems[-5:]"
   ]
  },
  {
   "cell_type": "code",
   "execution_count": 546,
   "metadata": {},
   "outputs": [],
   "source": [
    "problems += pr"
   ]
  },
  {
   "cell_type": "code",
   "execution_count": 556,
   "metadata": {},
   "outputs": [],
   "source": [
    "f = open('augmented_sents_dev.txt', 'a')\n",
    "def write_augments(problems, f):\n",
    "    for problem in problems:\n",
    "        f.write('\\t'.join(map(str, problem)) + '\\n')\n",
    "    f.close()\n",
    "write_augments(problems, f)"
   ]
  },
  {
   "cell_type": "code",
   "execution_count": 552,
   "metadata": {},
   "outputs": [],
   "source": [
    "f.close()"
   ]
  },
  {
   "cell_type": "code",
   "execution_count": null,
   "metadata": {},
   "outputs": [],
   "source": []
  },
  {
   "cell_type": "code",
   "execution_count": 548,
   "metadata": {},
   "outputs": [],
   "source": [
    "import pandas as pd"
   ]
  },
  {
   "cell_type": "code",
   "execution_count": 557,
   "metadata": {},
   "outputs": [],
   "source": [
    "data = pd.read_csv('augmented_sents_dev.txt', sep='\\t')"
   ]
  },
  {
   "cell_type": "code",
   "execution_count": 558,
   "metadata": {},
   "outputs": [
    {
     "data": {
      "text/plain": [
       "(527, 3)"
      ]
     },
     "execution_count": 558,
     "metadata": {},
     "output_type": "execute_result"
    }
   ],
   "source": [
    "data.shape"
   ]
  },
  {
   "cell_type": "markdown",
   "metadata": {},
   "source": [
    "## NO ANSWER QS"
   ]
  },
  {
   "cell_type": "code",
   "execution_count": 561,
   "metadata": {},
   "outputs": [],
   "source": [
    "def gen_new_bad(nums, c, q, get_answer, form, rang=10000):\n",
    "    c_len = len([n for n in nums if 'c' in n])\n",
    "    q_len = len([n for n in nums if 'q' in n])\n",
    "    \n",
    "    g_nums = {}\n",
    "#     names_d = {}\n",
    "#     for name in names:\n",
    "#         if 'fname' in name:\n",
    "#             names_d[name] = choice(fnames)\n",
    "#         elif 'mname' in name:\n",
    "#             names_d[name] = choice(mnames)\n",
    "            \n",
    "#     names = names_d\n",
    "    \n",
    "    for i in range(c_len):\n",
    "        g_nums['cn' + str(i+1)] = randint(2, rang)\n",
    "    \n",
    "    for i in range(q_len):\n",
    "        g_nums['qn' + str(i+1)] = randint(2, rang)\n",
    "    \n",
    "#     print(g_nums)\n",
    "    a = get_answer(g_nums)\n",
    "#     print(g_nums)\n",
    "    return c.format(**g_nums), q.format(**g_nums), int(a)\n",
    "    "
   ]
  },
  {
   "cell_type": "code",
   "execution_count": 570,
   "metadata": {},
   "outputs": [],
   "source": [
    "fpat_bad = []"
   ]
  },
  {
   "cell_type": "code",
   "execution_count": 569,
   "metadata": {},
   "outputs": [
    {
     "name": "stdout",
     "output_type": "stream",
     "text": [
      "('', 'На сколько 944 меньше 42107?', -1)\n"
     ]
    }
   ],
   "source": [
    "\n",
    "co = \"\"\n",
    "q = \"На сколько {qn1} меньше {qn2}?\" \n",
    "\n",
    "formula = 'nan'\n",
    "def get_answer(nums):\n",
    "    \n",
    "    nums['qn1'] = randint(2, 1000)\n",
    "    nums['qn2'] = randint(nums['qn1'], 100000)\n",
    "\n",
    "    return -1\n",
    "    \n",
    "    \n",
    "\n",
    "print(gen_new_bad(*(nums, co, q, get_answer, formula, 100000)))"
   ]
  },
  {
   "cell_type": "code",
   "execution_count": 579,
   "metadata": {},
   "outputs": [
    {
     "name": "stdout",
     "output_type": "stream",
     "text": [
      "('На полке лежит 69 книг.', 'Сколько всего страниц в этих книгах?', -1)\n"
     ]
    }
   ],
   "source": [
    "\n",
    "co = \"На полке лежит {cn1} книг.\"\n",
    "q = \"Сколько всего страниц в этих книгах?\" \n",
    "\n",
    "formula = 'nan'\n",
    "def get_answer(nums):\n",
    "    \n",
    "    nums['cn1'] = randint(2, 100)\n",
    "    \n",
    "\n",
    "    return -1\n",
    "    \n",
    "    \n",
    "\n",
    "print(gen_new_bad(*(nums, co, q, get_answer, formula, 100000)))"
   ]
  },
  {
   "cell_type": "code",
   "execution_count": 584,
   "metadata": {},
   "outputs": [
    {
     "name": "stdout",
     "output_type": "stream",
     "text": [
      "('У Альбины на 27 друзей больше, чем у Антона.', 'Сколько друзей у Альбины?', -1)\n"
     ]
    }
   ],
   "source": [
    "\n",
    "co = \"У Альбины на {cn1} друзей больше, чем у Антона.\"\n",
    "q = \"Сколько друзей у Альбины?\" \n",
    "\n",
    "formula = 'nan'\n",
    "def get_answer(nums):\n",
    "    \n",
    "    nums['cn1'] = randint(2, 30)\n",
    "    \n",
    "\n",
    "    return -1\n",
    "    \n",
    "    \n",
    "\n",
    "print(gen_new_bad(*(nums, co, q, get_answer, formula, 100000)))"
   ]
  },
  {
   "cell_type": "code",
   "execution_count": 588,
   "metadata": {},
   "outputs": [
    {
     "name": "stdout",
     "output_type": "stream",
     "text": [
      "('Петька съел 3 ягод смордины. А Мишка съел на 12 ягод больше.', 'Сколько лет Петьке и Мишке в сумме?', -1)\n"
     ]
    }
   ],
   "source": [
    "\n",
    "co = \"Петька съел {cn1} ягод смордины. А Мишка съел на {cn2} ягод больше.\"\n",
    "q = \"Сколько лет Петьке и Мишке в сумме?\" \n",
    "\n",
    "formula = 'nan'\n",
    "def get_answer(nums):\n",
    "    \n",
    "    nums['cn1'] = randint(2, 40)\n",
    "    nums['cn2'] = randint(2, 40)\n",
    "\n",
    "    return -1\n",
    "    \n",
    "    \n",
    "\n",
    "print(gen_new_bad(*(nums, co, q, get_answer, formula, 100000)))"
   ]
  },
  {
   "cell_type": "code",
   "execution_count": 591,
   "metadata": {},
   "outputs": [
    {
     "name": "stdout",
     "output_type": "stream",
     "text": [
      "('Первый автобус проезжает маршрут за 8 часов. А второй автобус едет со скоростью 70 км/ч.', 'На сколько км/ч второй автобус быстрее?', -1)\n"
     ]
    }
   ],
   "source": [
    "\n",
    "co = \"Первый автобус проезжает маршрут за {cn1} часов. А второй автобус едет со скоростью {cn2} км/ч.\"\n",
    "q = \"На сколько км/ч второй автобус быстрее?\" \n",
    "\n",
    "formula = 'nan'\n",
    "def get_answer(nums):\n",
    "    \n",
    "    nums['cn1'] = randint(2, 10)\n",
    "    nums['cn2'] = randint(2, 120)\n",
    "\n",
    "    return -1\n",
    "    \n",
    "    \n",
    "\n",
    "print(gen_new_bad(*(nums, co, q, get_answer, formula, 100000)))"
   ]
  },
  {
   "cell_type": "code",
   "execution_count": 595,
   "metadata": {},
   "outputs": [
    {
     "name": "stdout",
     "output_type": "stream",
     "text": [
      "('Виктор взял 19 конфетки. Аня взяла только 14.', 'Сколько всего кофт у ребятишек??', -1)\n"
     ]
    }
   ],
   "source": [
    "\n",
    "\n",
    "\n",
    "\n",
    "co = \"Виктор взял {cn1} конфетки. Аня взяла только {cn2}.\"\n",
    "q = \"Сколько всего кофт у ребятишек??\" \n",
    "\n",
    "formula = 'nan'\n",
    "def get_answer(nums):\n",
    "    \n",
    "    nums['cn1'] = randint(2, 30)\n",
    "    nums['cn2'] = randint(1, nums['cn1'])\n",
    "\n",
    "    return -1\n",
    "    \n",
    "    \n",
    "\n",
    "print(gen_new_bad(*(nums, co, q, get_answer, formula, 100000)))"
   ]
  },
  {
   "cell_type": "code",
   "execution_count": 600,
   "metadata": {},
   "outputs": [
    {
     "name": "stdout",
     "output_type": "stream",
     "text": [
      "('Семен скушал 10 вафли. А Аня съела 15 конфеты.', 'Сколько лет Ане и Семену вместе?', -1)\n"
     ]
    }
   ],
   "source": [
    "\n",
    "\n",
    "\n",
    "\n",
    "co = \"Семен скушал {cn1} вафли. А Аня съела {cn2} конфеты.\"\n",
    "q = \"Сколько лет Ане и Семену вместе?\" \n",
    "\n",
    "formula = 'nan'\n",
    "def get_answer(nums):\n",
    "    \n",
    "    nums['cn1'] = randint(2, 30)\n",
    "    nums['cn2'] = randint(1, 30)\n",
    "\n",
    "    return -1\n",
    "    \n",
    "    \n",
    "\n",
    "print(gen_new_bad(*(nums, co, q, get_answer, formula, 100000)))"
   ]
  },
  {
   "cell_type": "code",
   "execution_count": 603,
   "metadata": {},
   "outputs": [
    {
     "name": "stdout",
     "output_type": "stream",
     "text": [
      "('У Коли было на 10 наклеек больше, чем у Кати.', 'Сколько наклеек было у Кати?', -1)\n"
     ]
    }
   ],
   "source": [
    "\n",
    "\n",
    "\n",
    "\n",
    "co = \"У Коли было на {cn1} наклеек больше, чем у Кати.\"\n",
    "q = \"Сколько наклеек было у Кати?\" \n",
    "\n",
    "formula = 'nan'\n",
    "def get_answer(nums):\n",
    "    \n",
    "    nums['cn1'] = randint(2, 300)\n",
    "\n",
    "    return -1\n",
    "    \n",
    "    \n",
    "\n",
    "print(gen_new_bad(*(nums, co, q, get_answer, formula, 100000)))"
   ]
  },
  {
   "cell_type": "code",
   "execution_count": 607,
   "metadata": {},
   "outputs": [
    {
     "name": "stdout",
     "output_type": "stream",
     "text": [
      "('Ширина первой комнаты - 13 метра. Вторая комната шире её ровно в 8 раз.', 'Сколько в ширину кухня?', -1)\n"
     ]
    }
   ],
   "source": [
    "\n",
    "\n",
    "\n",
    "\n",
    "co = \"Ширина первой комнаты - {cn1} метра. Вторая комната шире её ровно в {cn2} раз.\"\n",
    "q = \"Сколько в ширину кухня?\" \n",
    "\n",
    "formula = 'nan'\n",
    "def get_answer(nums):\n",
    "    \n",
    "    nums['cn1'] = randint(2, 50)\n",
    "    nums['cn2'] = randint(2, 10)\n",
    "    \n",
    "    return -1\n",
    "    \n",
    "    \n",
    "\n",
    "print(gen_new_bad(*(nums, co, q, get_answer, formula, 100000)))"
   ]
  },
  {
   "cell_type": "code",
   "execution_count": 609,
   "metadata": {},
   "outputs": [
    {
     "name": "stdout",
     "output_type": "stream",
     "text": [
      "('Высота первой комнаты - 3 метра. Вторая комната шире её ровно в 5 раз.', 'Чему равна высота второй комнаты?', -1)\n"
     ]
    }
   ],
   "source": [
    "\n",
    "\n",
    "\n",
    "\n",
    "co = \"Высота первой комнаты - {cn1} метра. Вторая комната шире её ровно в {cn2} раз.\"\n",
    "q = \"Какова высота второй комнаты?\" \n",
    "\n",
    "formula = 'nan'\n",
    "def get_answer(nums):\n",
    "    \n",
    "    nums['cn1'] = randint(2, 50)\n",
    "    nums['cn2'] = randint(2, 10)\n",
    "    \n",
    "    return -1\n",
    "    \n",
    "    \n",
    "\n",
    "print(gen_new_bad(*(nums, co, q, get_answer, formula, 100000)))"
   ]
  },
  {
   "cell_type": "code",
   "execution_count": 612,
   "metadata": {},
   "outputs": [
    {
     "name": "stdout",
     "output_type": "stream",
     "text": [
      "('30 декабря в 6 часов вечера на катке каталось 45 ребят. Через один час какое-то количество ребят ушли домой. На катке осталось 18 ребят.', 'Сколько девочек было среди них?', -1)\n"
     ]
    }
   ],
   "source": [
    "\n",
    "\n",
    "\n",
    "\n",
    "co = \"{cn1} декабря в {cn2} часов вечера на катке каталось {cn3} ребят. Через один час какое-то количество ребят ушли домой. На катке осталось {cn4} ребят.\"\n",
    "q = \"Сколько девочек было среди них?\" \n",
    "\n",
    "formula = 'nan'\n",
    "def get_answer(nums):\n",
    "    \n",
    "    nums['cn1'] = randint(1, 31)\n",
    "    nums['cn2'] = randint(6, 9)\n",
    "    nums['cn3'] = randint(10, 50)\n",
    "    nums['cn4'] = randint(3, nums['cn3']-5)\n",
    "    \n",
    "    return -1\n",
    "    \n",
    "    \n",
    "\n",
    "print(gen_new_bad(*(nums, co, q, get_answer, formula, 100000)))"
   ]
  },
  {
   "cell_type": "code",
   "execution_count": 616,
   "metadata": {},
   "outputs": [
    {
     "name": "stdout",
     "output_type": "stream",
     "text": [
      "('В супермаркете Коля купил 3 стаканчика мороженого за 47, 83 и 25 руб.', 'Сколько сдачи дали Коле?', -1)\n"
     ]
    }
   ],
   "source": [
    "co = \"В супермаркете Коля купил 3 стаканчика мороженого за {cn1}, {cn2} и {cn3} руб.\"\n",
    "q = \"Сколько сдачи дали Коле?\" \n",
    "\n",
    "formula = 'nan'\n",
    "def get_answer(nums):\n",
    "    \n",
    "    nums['cn1'] = randint(10, 50)\n",
    "    nums['cn2'] = randint(10, 90)\n",
    "    nums['cn3'] = randint(20, 100)\n",
    "    \n",
    "    \n",
    "    return -1\n",
    "    \n",
    "    \n",
    "\n",
    "print(gen_new_bad(*(nums, co, q, get_answer, formula, 100000)))"
   ]
  },
  {
   "cell_type": "code",
   "execution_count": null,
   "metadata": {},
   "outputs": [],
   "source": [
    "co = \"В супермаркете Коля купил 3 стаканчика мороженого за {cn1}, {cn2} и {cn3} руб.\"\n",
    "q = \"Сколько сдачи дали Коле?\" \n",
    "\n",
    "formula = 'nan'\n",
    "def get_answer(nums):\n",
    "    \n",
    "    nums['cn1'] = randint(10, 50)\n",
    "    nums['cn2'] = randint(10, 90)\n",
    "    nums['cn3'] = randint(20, 100)\n",
    "    \n",
    "    \n",
    "    return -1\n",
    "    \n",
    "    \n",
    "\n",
    "print(gen_new_bad(*(nums, co, q, get_answer, formula, 100000)))"
   ]
  },
  {
   "cell_type": "code",
   "execution_count": 621,
   "metadata": {},
   "outputs": [
    {
     "name": "stdout",
     "output_type": "stream",
     "text": [
      "('', 'Какое число получится, если вычесть 3313 и прибавить 53911?', -1)\n"
     ]
    }
   ],
   "source": [
    "co = \"\"\n",
    "q = \"Какое число получится, если вычесть {qn1} и прибавить {qn2}?\" \n",
    "\n",
    "formula = 'nan'\n",
    "def get_answer(nums):\n",
    "    \n",
    "    nums['qn1'] = randint(1, 5000)\n",
    "    nums['qn2'] = randint(1, 90000)\n",
    "#     nums['cn3'] = randint(20, 100)\n",
    "    \n",
    "    \n",
    "    return -1\n",
    "    \n",
    "    \n",
    "\n",
    "print(gen_new_bad(*(nums, co, q, get_answer, formula, 100000)))"
   ]
  },
  {
   "cell_type": "code",
   "execution_count": 630,
   "metadata": {},
   "outputs": [
    {
     "name": "stdout",
     "output_type": "stream",
     "text": [
      "('', 'В какое число раз 217 больше 2402?', -1)\n"
     ]
    }
   ],
   "source": [
    "co = \"\"\n",
    "q = \"В какое число раз {qn1} больше {qn2}?\" \n",
    "\n",
    "formula = 'nan'\n",
    "def get_answer(nums):\n",
    "    \n",
    "    nums['qn2'] = randint(1, 5000)\n",
    "    nums['qn1'] = randint(1, nums['qn2'])\n",
    "#     nums['cn3'] = randint(20, 100)\n",
    "    \n",
    "    \n",
    "    return -1\n",
    "    \n",
    "    \n",
    "\n",
    "print(gen_new_bad(*(nums, co, q, get_answer, formula, 100000)))"
   ]
  },
  {
   "cell_type": "code",
   "execution_count": 635,
   "metadata": {},
   "outputs": [
    {
     "name": "stdout",
     "output_type": "stream",
     "text": [
      "('Сегодня Лара купила в магазине 7 конфет. 1 она съела.', 'Сколько конфет она купила вчера?', -1)\n"
     ]
    }
   ],
   "source": [
    "co = \"Сегодня Лара купила в магазине {cn1} конфет. {cn2} она съела.\"\n",
    "q = \"Сколько конфет она купила вчера?\" \n",
    "\n",
    "formula = 'nan'\n",
    "def get_answer(nums):\n",
    "    \n",
    "    nums['cn1'] = randint(1, 100)\n",
    "    nums['cn2'] = randint(1, nums['cn1'])\n",
    "#     nums['cn3'] = randint(20, 100)\n",
    "    \n",
    "    \n",
    "    return -1\n",
    "    \n",
    "    \n",
    "\n",
    "print(gen_new_bad(*(nums, co, q, get_answer, formula, 100000)))"
   ]
  },
  {
   "cell_type": "code",
   "execution_count": 640,
   "metadata": {},
   "outputs": [
    {
     "name": "stdout",
     "output_type": "stream",
     "text": [
      "('У Ани 55 яиц. Под них у неё есть 9 пустые коробки. В каждую коробку входит по 11 яиц.', 'Сколько яиц разбилось, когда она укладывала их в коробки?', -1)\n"
     ]
    }
   ],
   "source": [
    "co = \"У Ани {cn1} яиц. Под них у неё есть {cn2} пустые коробки. В каждую коробку входит по {cn3} яиц.\"\n",
    "q = \"Сколько яиц разбилось, когда она укладывала их в коробки?\" \n",
    "\n",
    "formula = 'nan'\n",
    "def get_answer(nums):\n",
    "    \n",
    "    nums['cn1'] = randint(5, 100)\n",
    "    nums['cn2'] = randint(5, 10)\n",
    "    nums['cn3'] = randint(3, 20)\n",
    "    \n",
    "    \n",
    "    return -1\n",
    "    \n",
    "    \n",
    "\n",
    "print(gen_new_bad(*(nums, co, q, get_answer, formula, 100000)))"
   ]
  },
  {
   "cell_type": "code",
   "execution_count": 645,
   "metadata": {},
   "outputs": [
    {
     "name": "stdout",
     "output_type": "stream",
     "text": [
      "('Коля купил 76 тетрадей и 26 ручек. ', 'Сколько он заплатил за покупку, если одна тетрадь стоит 13 рублей?', -1)\n"
     ]
    }
   ],
   "source": [
    "co = \"Коля купил {cn1} тетрадей и {cn2} ручек. \"\n",
    "q = \"Сколько он заплатил за покупку, если одна тетрадь стоит {qn1} рублей?\" \n",
    "\n",
    "formula = 'nan'\n",
    "def get_answer(nums):\n",
    "    \n",
    "    nums['cn1'] = randint(5, 100)\n",
    "    nums['cn2'] = randint(5, 100)\n",
    "    nums['qn1'] = randint(3, 20)\n",
    "    \n",
    "    \n",
    "    return -1\n",
    "    \n",
    "    \n",
    "\n",
    "print(gen_new_bad(*(nums, co, q, get_answer, formula, 100000)))"
   ]
  },
  {
   "cell_type": "code",
   "execution_count": 661,
   "metadata": {},
   "outputs": [
    {
     "name": "stdout",
     "output_type": "stream",
     "text": [
      "('Алексею 16 лет. Сергей моложе его на 9 лет.', 'Сколько было лет Сергею, когда Алексей родился?', -1)\n"
     ]
    }
   ],
   "source": [
    "\n",
    "\n",
    "co = \"Алексею {cn1} лет. Сергей моложе его на {cn2} лет.\"\n",
    "q = \"Сколько было лет Сергею, когда Алексей родился?\" \n",
    "\n",
    "formula = 'nan'\n",
    "def get_answer(nums):\n",
    "    \n",
    "    nums['cn1'] = randint(15, 60)\n",
    "    nums['cn2'] = randint(5, 14)\n",
    "#     nums['qn1'] = randint(3, 20)\n",
    "    \n",
    "    \n",
    "    return -1\n",
    "    \n",
    "    \n",
    "\n",
    "print(gen_new_bad(*(nums, co, q, get_answer, formula, 100000)))"
   ]
  },
  {
   "cell_type": "code",
   "execution_count": 673,
   "metadata": {},
   "outputs": [
    {
     "name": "stdout",
     "output_type": "stream",
     "text": [
      "('На мультфильме в кинотеатре во втором ряду сидело на 19 мальчиков больше, чем девочек. ', 'Сколько мальчиков и девочек вместе сидело на втором ряду?', -1)\n"
     ]
    }
   ],
   "source": [
    "\n",
    "\n",
    "co = \"На мультфильме в кинотеатре во втором ряду сидело на {cn1} мальчиков больше, чем девочек. \"\n",
    "q = \"Сколько мальчиков и девочек вместе сидело на втором ряду?\" \n",
    "\n",
    "formula = 'nan'\n",
    "def get_answer(nums):\n",
    "    \n",
    "    nums['cn1'] = randint(10, 50)\n",
    "#     nums['cn2'] = randint(5, 14)\n",
    "#     nums['qn1'] = randint(3, 20)\n",
    "    \n",
    "    \n",
    "    return -1\n",
    "    \n",
    "    \n",
    "\n",
    "print(gen_new_bad(*(nums, co, q, get_answer, formula, 100000)))"
   ]
  },
  {
   "cell_type": "code",
   "execution_count": null,
   "metadata": {},
   "outputs": [],
   "source": []
  },
  {
   "cell_type": "code",
   "execution_count": 685,
   "metadata": {},
   "outputs": [
    {
     "data": {
      "text/plain": [
       "300"
      ]
     },
     "execution_count": 685,
     "metadata": {},
     "output_type": "execute_result"
    }
   ],
   "source": [
    "len(fpat_bad)*15"
   ]
  },
  {
   "cell_type": "code",
   "execution_count": 674,
   "metadata": {},
   "outputs": [],
   "source": [
    "fpat_bad.append((nums, co, q, get_answer, formula))"
   ]
  },
  {
   "cell_type": "code",
   "execution_count": 675,
   "metadata": {},
   "outputs": [],
   "source": [
    "pickle.dump(fpat_bad, open('pattern_bad.pkl', 'wb'))"
   ]
  },
  {
   "cell_type": "code",
   "execution_count": 679,
   "metadata": {},
   "outputs": [
    {
     "ename": "RecursionError",
     "evalue": "maximum recursion depth exceeded while calling a Python object",
     "output_type": "error",
     "traceback": [
      "\u001b[0;31m---------------------------------------------------------------------------\u001b[0m",
      "\u001b[0;31mRecursionError\u001b[0m                            Traceback (most recent call last)",
      "\u001b[0;32m<ipython-input-679-f05271b66214>\u001b[0m in \u001b[0;36m<module>\u001b[0;34m()\u001b[0m\n\u001b[0;32m----> 1\u001b[0;31m \u001b[0mgen_new\u001b[0m\u001b[0;34m(\u001b[0m\u001b[0;34m*\u001b[0m\u001b[0mfpat_bad\u001b[0m\u001b[0;34m[\u001b[0m\u001b[0mip\u001b[0m\u001b[0;34m]\u001b[0m\u001b[0;34m,\u001b[0m \u001b[0;36m1000000\u001b[0m\u001b[0;34m)\u001b[0m\u001b[0;34m\u001b[0m\u001b[0m\n\u001b[0m",
      "\u001b[0;32m<ipython-input-226-4e8d96a617ed>\u001b[0m in \u001b[0;36mgen_new\u001b[0;34m(nums, c, q, get_answer, form, rang)\u001b[0m\n\u001b[1;32m     25\u001b[0m         \u001b[0;32mreturn\u001b[0m \u001b[0mc\u001b[0m\u001b[0;34m.\u001b[0m\u001b[0mformat\u001b[0m\u001b[0;34m(\u001b[0m\u001b[0;34m**\u001b[0m\u001b[0mg_nums\u001b[0m\u001b[0;34m)\u001b[0m\u001b[0;34m,\u001b[0m \u001b[0mq\u001b[0m\u001b[0;34m.\u001b[0m\u001b[0mformat\u001b[0m\u001b[0;34m(\u001b[0m\u001b[0;34m**\u001b[0m\u001b[0mg_nums\u001b[0m\u001b[0;34m)\u001b[0m\u001b[0;34m,\u001b[0m \u001b[0mint\u001b[0m\u001b[0;34m(\u001b[0m\u001b[0ma\u001b[0m\u001b[0;34m)\u001b[0m\u001b[0;34m\u001b[0m\u001b[0m\n\u001b[1;32m     26\u001b[0m     \u001b[0;32melse\u001b[0m\u001b[0;34m:\u001b[0m\u001b[0;34m\u001b[0m\u001b[0m\n\u001b[0;32m---> 27\u001b[0;31m         \u001b[0;32mreturn\u001b[0m \u001b[0mgen_new\u001b[0m\u001b[0;34m(\u001b[0m\u001b[0mnums\u001b[0m\u001b[0;34m,\u001b[0m \u001b[0mc\u001b[0m\u001b[0;34m,\u001b[0m \u001b[0mq\u001b[0m\u001b[0;34m,\u001b[0m \u001b[0mget_answer\u001b[0m\u001b[0;34m,\u001b[0m \u001b[0m_\u001b[0m\u001b[0;34m,\u001b[0m \u001b[0mrang\u001b[0m\u001b[0;34m)\u001b[0m\u001b[0;34m\u001b[0m\u001b[0m\n\u001b[0m\u001b[1;32m     28\u001b[0m \u001b[0;34m\u001b[0m\u001b[0m\n",
      "... last 1 frames repeated, from the frame below ...\n",
      "\u001b[0;32m<ipython-input-226-4e8d96a617ed>\u001b[0m in \u001b[0;36mgen_new\u001b[0;34m(nums, c, q, get_answer, form, rang)\u001b[0m\n\u001b[1;32m     25\u001b[0m         \u001b[0;32mreturn\u001b[0m \u001b[0mc\u001b[0m\u001b[0;34m.\u001b[0m\u001b[0mformat\u001b[0m\u001b[0;34m(\u001b[0m\u001b[0;34m**\u001b[0m\u001b[0mg_nums\u001b[0m\u001b[0;34m)\u001b[0m\u001b[0;34m,\u001b[0m \u001b[0mq\u001b[0m\u001b[0;34m.\u001b[0m\u001b[0mformat\u001b[0m\u001b[0;34m(\u001b[0m\u001b[0;34m**\u001b[0m\u001b[0mg_nums\u001b[0m\u001b[0;34m)\u001b[0m\u001b[0;34m,\u001b[0m \u001b[0mint\u001b[0m\u001b[0;34m(\u001b[0m\u001b[0ma\u001b[0m\u001b[0;34m)\u001b[0m\u001b[0;34m\u001b[0m\u001b[0m\n\u001b[1;32m     26\u001b[0m     \u001b[0;32melse\u001b[0m\u001b[0;34m:\u001b[0m\u001b[0;34m\u001b[0m\u001b[0m\n\u001b[0;32m---> 27\u001b[0;31m         \u001b[0;32mreturn\u001b[0m \u001b[0mgen_new\u001b[0m\u001b[0;34m(\u001b[0m\u001b[0mnums\u001b[0m\u001b[0;34m,\u001b[0m \u001b[0mc\u001b[0m\u001b[0;34m,\u001b[0m \u001b[0mq\u001b[0m\u001b[0;34m,\u001b[0m \u001b[0mget_answer\u001b[0m\u001b[0;34m,\u001b[0m \u001b[0m_\u001b[0m\u001b[0;34m,\u001b[0m \u001b[0mrang\u001b[0m\u001b[0;34m)\u001b[0m\u001b[0;34m\u001b[0m\u001b[0m\n\u001b[0m\u001b[1;32m     28\u001b[0m \u001b[0;34m\u001b[0m\u001b[0m\n",
      "\u001b[0;31mRecursionError\u001b[0m: maximum recursion depth exceeded while calling a Python object"
     ]
    }
   ],
   "source": [
    "gen_new(*fpat_bad[ip], 1000000)"
   ]
  },
  {
   "cell_type": "code",
   "execution_count": null,
   "metadata": {},
   "outputs": [],
   "source": []
  },
  {
   "cell_type": "code",
   "execution_count": 680,
   "metadata": {
    "scrolled": true
   },
   "outputs": [
    {
     "name": "stdout",
     "output_type": "stream",
     "text": [
      "dce\n",
      "dce\n",
      "dce\n",
      "dce\n",
      "dce\n",
      "dce\n",
      "dce\n",
      "dce\n",
      "dce\n",
      "dce\n",
      "dce\n",
      "dce\n",
      "dce\n",
      "dce\n",
      "dce\n",
      "dce\n",
      "dce\n",
      "dce\n",
      "dce\n",
      "dce\n"
     ]
    }
   ],
   "source": [
    "problems_bad = []\n",
    "exc = []\n",
    "for ip in range(len(fpat_bad)):\n",
    "    pr = []\n",
    "    try:\n",
    "        for i in range(30):\n",
    "            pr.append(gen_new_bad(*fpat_bad[ip], 1000000))\n",
    "            if len(set(pr)) > 15:\n",
    "                problems_bad += pr\n",
    "                print('dce')\n",
    "                break\n",
    "    except Exception as e:\n",
    "        print(e)\n",
    "        exc.append(ip)\n",
    "        continue"
   ]
  },
  {
   "cell_type": "code",
   "execution_count": 681,
   "metadata": {},
   "outputs": [],
   "source": [
    "f = open('augmented_sents_bad.txt', 'a')\n",
    "def write_augments(problems, f):\n",
    "    for problem in problems:\n",
    "        f.write('\\t'.join(map(str, problem)) + '\\n')\n",
    "    f.close()\n",
    "write_augments(problems_bad, f)"
   ]
  },
  {
   "cell_type": "code",
   "execution_count": 684,
   "metadata": {},
   "outputs": [
    {
     "data": {
      "text/plain": [
       "[('', 'На сколько 178 меньше 96841?', -1),\n",
       " ('', 'На сколько 308 меньше 85103?', -1),\n",
       " ('', 'На сколько 37 меньше 65506?', -1),\n",
       " ('', 'На сколько 740 меньше 32543?', -1),\n",
       " ('', 'На сколько 874 меньше 19053?', -1),\n",
       " ('', 'На сколько 915 меньше 25556?', -1),\n",
       " ('', 'На сколько 62 меньше 69022?', -1),\n",
       " ('', 'На сколько 941 меньше 52867?', -1),\n",
       " ('', 'На сколько 98 меньше 34774?', -1),\n",
       " ('', 'На сколько 629 меньше 22855?', -1),\n",
       " ('', 'На сколько 317 меньше 16718?', -1),\n",
       " ('', 'На сколько 439 меньше 15561?', -1),\n",
       " ('', 'На сколько 713 меньше 24415?', -1),\n",
       " ('', 'На сколько 737 меньше 10348?', -1),\n",
       " ('', 'На сколько 476 меньше 58531?', -1),\n",
       " ('', 'На сколько 502 меньше 14293?', -1),\n",
       " ('На полке лежит 11 книг.', 'Сколько всего страниц в этих книгах?', -1),\n",
       " ('На полке лежит 93 книг.', 'Сколько всего страниц в этих книгах?', -1),\n",
       " ('На полке лежит 22 книг.', 'Сколько всего страниц в этих книгах?', -1),\n",
       " ('На полке лежит 57 книг.', 'Сколько всего страниц в этих книгах?', -1),\n",
       " ('На полке лежит 40 книг.', 'Сколько всего страниц в этих книгах?', -1),\n",
       " ('На полке лежит 44 книг.', 'Сколько всего страниц в этих книгах?', -1),\n",
       " ('На полке лежит 24 книг.', 'Сколько всего страниц в этих книгах?', -1),\n",
       " ('На полке лежит 61 книг.', 'Сколько всего страниц в этих книгах?', -1),\n",
       " ('На полке лежит 6 книг.', 'Сколько всего страниц в этих книгах?', -1),\n",
       " ('На полке лежит 46 книг.', 'Сколько всего страниц в этих книгах?', -1),\n",
       " ('На полке лежит 65 книг.', 'Сколько всего страниц в этих книгах?', -1),\n",
       " ('На полке лежит 80 книг.', 'Сколько всего страниц в этих книгах?', -1),\n",
       " ('На полке лежит 83 книг.', 'Сколько всего страниц в этих книгах?', -1),\n",
       " ('На полке лежит 58 книг.', 'Сколько всего страниц в этих книгах?', -1),\n",
       " ('На полке лежит 52 книг.', 'Сколько всего страниц в этих книгах?', -1),\n",
       " ('На полке лежит 33 книг.', 'Сколько всего страниц в этих книгах?', -1),\n",
       " ('У Альбины на 28 друзей больше, чем у Антона.',\n",
       "  'Сколько друзей у Альбины?',\n",
       "  -1),\n",
       " ('У Альбины на 25 друзей больше, чем у Антона.',\n",
       "  'Сколько друзей у Альбины?',\n",
       "  -1),\n",
       " ('У Альбины на 7 друзей больше, чем у Антона.',\n",
       "  'Сколько друзей у Альбины?',\n",
       "  -1),\n",
       " ('У Альбины на 8 друзей больше, чем у Антона.',\n",
       "  'Сколько друзей у Альбины?',\n",
       "  -1),\n",
       " ('У Альбины на 21 друзей больше, чем у Антона.',\n",
       "  'Сколько друзей у Альбины?',\n",
       "  -1),\n",
       " ('У Альбины на 28 друзей больше, чем у Антона.',\n",
       "  'Сколько друзей у Альбины?',\n",
       "  -1),\n",
       " ('У Альбины на 4 друзей больше, чем у Антона.',\n",
       "  'Сколько друзей у Альбины?',\n",
       "  -1),\n",
       " ('У Альбины на 23 друзей больше, чем у Антона.',\n",
       "  'Сколько друзей у Альбины?',\n",
       "  -1),\n",
       " ('У Альбины на 15 друзей больше, чем у Антона.',\n",
       "  'Сколько друзей у Альбины?',\n",
       "  -1),\n",
       " ('У Альбины на 24 друзей больше, чем у Антона.',\n",
       "  'Сколько друзей у Альбины?',\n",
       "  -1),\n",
       " ('У Альбины на 3 друзей больше, чем у Антона.',\n",
       "  'Сколько друзей у Альбины?',\n",
       "  -1),\n",
       " ('У Альбины на 27 друзей больше, чем у Антона.',\n",
       "  'Сколько друзей у Альбины?',\n",
       "  -1),\n",
       " ('У Альбины на 25 друзей больше, чем у Антона.',\n",
       "  'Сколько друзей у Альбины?',\n",
       "  -1),\n",
       " ('У Альбины на 15 друзей больше, чем у Антона.',\n",
       "  'Сколько друзей у Альбины?',\n",
       "  -1),\n",
       " ('У Альбины на 23 друзей больше, чем у Антона.',\n",
       "  'Сколько друзей у Альбины?',\n",
       "  -1),\n",
       " ('У Альбины на 18 друзей больше, чем у Антона.',\n",
       "  'Сколько друзей у Альбины?',\n",
       "  -1),\n",
       " ('У Альбины на 4 друзей больше, чем у Антона.',\n",
       "  'Сколько друзей у Альбины?',\n",
       "  -1),\n",
       " ('У Альбины на 8 друзей больше, чем у Антона.',\n",
       "  'Сколько друзей у Альбины?',\n",
       "  -1),\n",
       " ('У Альбины на 11 друзей больше, чем у Антона.',\n",
       "  'Сколько друзей у Альбины?',\n",
       "  -1),\n",
       " ('У Альбины на 17 друзей больше, чем у Антона.',\n",
       "  'Сколько друзей у Альбины?',\n",
       "  -1),\n",
       " ('У Альбины на 14 друзей больше, чем у Антона.',\n",
       "  'Сколько друзей у Альбины?',\n",
       "  -1),\n",
       " ('У Альбины на 15 друзей больше, чем у Антона.',\n",
       "  'Сколько друзей у Альбины?',\n",
       "  -1),\n",
       " ('У Альбины на 18 друзей больше, чем у Антона.',\n",
       "  'Сколько друзей у Альбины?',\n",
       "  -1),\n",
       " ('У Альбины на 21 друзей больше, чем у Антона.',\n",
       "  'Сколько друзей у Альбины?',\n",
       "  -1),\n",
       " ('У Альбины на 9 друзей больше, чем у Антона.',\n",
       "  'Сколько друзей у Альбины?',\n",
       "  -1),\n",
       " ('Петька съел 36 ягод смордины. А Мишка съел на 30 ягод больше.',\n",
       "  'Сколько лет Петьке и Мишке в сумме?',\n",
       "  -1),\n",
       " ('Петька съел 6 ягод смордины. А Мишка съел на 12 ягод больше.',\n",
       "  'Сколько лет Петьке и Мишке в сумме?',\n",
       "  -1),\n",
       " ('Петька съел 33 ягод смордины. А Мишка съел на 7 ягод больше.',\n",
       "  'Сколько лет Петьке и Мишке в сумме?',\n",
       "  -1),\n",
       " ('Петька съел 17 ягод смордины. А Мишка съел на 10 ягод больше.',\n",
       "  'Сколько лет Петьке и Мишке в сумме?',\n",
       "  -1),\n",
       " ('Петька съел 30 ягод смордины. А Мишка съел на 25 ягод больше.',\n",
       "  'Сколько лет Петьке и Мишке в сумме?',\n",
       "  -1),\n",
       " ('Петька съел 18 ягод смордины. А Мишка съел на 17 ягод больше.',\n",
       "  'Сколько лет Петьке и Мишке в сумме?',\n",
       "  -1),\n",
       " ('Петька съел 38 ягод смордины. А Мишка съел на 13 ягод больше.',\n",
       "  'Сколько лет Петьке и Мишке в сумме?',\n",
       "  -1),\n",
       " ('Петька съел 2 ягод смордины. А Мишка съел на 34 ягод больше.',\n",
       "  'Сколько лет Петьке и Мишке в сумме?',\n",
       "  -1),\n",
       " ('Петька съел 35 ягод смордины. А Мишка съел на 36 ягод больше.',\n",
       "  'Сколько лет Петьке и Мишке в сумме?',\n",
       "  -1),\n",
       " ('Петька съел 39 ягод смордины. А Мишка съел на 6 ягод больше.',\n",
       "  'Сколько лет Петьке и Мишке в сумме?',\n",
       "  -1),\n",
       " ('Петька съел 28 ягод смордины. А Мишка съел на 34 ягод больше.',\n",
       "  'Сколько лет Петьке и Мишке в сумме?',\n",
       "  -1),\n",
       " ('Петька съел 23 ягод смордины. А Мишка съел на 34 ягод больше.',\n",
       "  'Сколько лет Петьке и Мишке в сумме?',\n",
       "  -1),\n",
       " ('Петька съел 5 ягод смордины. А Мишка съел на 22 ягод больше.',\n",
       "  'Сколько лет Петьке и Мишке в сумме?',\n",
       "  -1),\n",
       " ('Петька съел 20 ягод смордины. А Мишка съел на 35 ягод больше.',\n",
       "  'Сколько лет Петьке и Мишке в сумме?',\n",
       "  -1),\n",
       " ('Петька съел 3 ягод смордины. А Мишка съел на 9 ягод больше.',\n",
       "  'Сколько лет Петьке и Мишке в сумме?',\n",
       "  -1),\n",
       " ('Петька съел 14 ягод смордины. А Мишка съел на 36 ягод больше.',\n",
       "  'Сколько лет Петьке и Мишке в сумме?',\n",
       "  -1),\n",
       " ('Первый автобус проезжает маршрут за 4 часов. А второй автобус едет со скоростью 8 км/ч.',\n",
       "  'На сколько км/ч второй автобус быстрее?',\n",
       "  -1),\n",
       " ('Первый автобус проезжает маршрут за 9 часов. А второй автобус едет со скоростью 10 км/ч.',\n",
       "  'На сколько км/ч второй автобус быстрее?',\n",
       "  -1),\n",
       " ('Первый автобус проезжает маршрут за 3 часов. А второй автобус едет со скоростью 117 км/ч.',\n",
       "  'На сколько км/ч второй автобус быстрее?',\n",
       "  -1),\n",
       " ('Первый автобус проезжает маршрут за 4 часов. А второй автобус едет со скоростью 63 км/ч.',\n",
       "  'На сколько км/ч второй автобус быстрее?',\n",
       "  -1),\n",
       " ('Первый автобус проезжает маршрут за 5 часов. А второй автобус едет со скоростью 34 км/ч.',\n",
       "  'На сколько км/ч второй автобус быстрее?',\n",
       "  -1),\n",
       " ('Первый автобус проезжает маршрут за 2 часов. А второй автобус едет со скоростью 67 км/ч.',\n",
       "  'На сколько км/ч второй автобус быстрее?',\n",
       "  -1),\n",
       " ('Первый автобус проезжает маршрут за 9 часов. А второй автобус едет со скоростью 61 км/ч.',\n",
       "  'На сколько км/ч второй автобус быстрее?',\n",
       "  -1),\n",
       " ('Первый автобус проезжает маршрут за 9 часов. А второй автобус едет со скоростью 65 км/ч.',\n",
       "  'На сколько км/ч второй автобус быстрее?',\n",
       "  -1),\n",
       " ('Первый автобус проезжает маршрут за 2 часов. А второй автобус едет со скоростью 44 км/ч.',\n",
       "  'На сколько км/ч второй автобус быстрее?',\n",
       "  -1),\n",
       " ('Первый автобус проезжает маршрут за 9 часов. А второй автобус едет со скоростью 92 км/ч.',\n",
       "  'На сколько км/ч второй автобус быстрее?',\n",
       "  -1),\n",
       " ('Первый автобус проезжает маршрут за 2 часов. А второй автобус едет со скоростью 74 км/ч.',\n",
       "  'На сколько км/ч второй автобус быстрее?',\n",
       "  -1),\n",
       " ('Первый автобус проезжает маршрут за 8 часов. А второй автобус едет со скоростью 97 км/ч.',\n",
       "  'На сколько км/ч второй автобус быстрее?',\n",
       "  -1),\n",
       " ('Первый автобус проезжает маршрут за 4 часов. А второй автобус едет со скоростью 23 км/ч.',\n",
       "  'На сколько км/ч второй автобус быстрее?',\n",
       "  -1),\n",
       " ('Первый автобус проезжает маршрут за 2 часов. А второй автобус едет со скоростью 41 км/ч.',\n",
       "  'На сколько км/ч второй автобус быстрее?',\n",
       "  -1),\n",
       " ('Первый автобус проезжает маршрут за 9 часов. А второй автобус едет со скоростью 46 км/ч.',\n",
       "  'На сколько км/ч второй автобус быстрее?',\n",
       "  -1),\n",
       " ('Первый автобус проезжает маршрут за 4 часов. А второй автобус едет со скоростью 49 км/ч.',\n",
       "  'На сколько км/ч второй автобус быстрее?',\n",
       "  -1),\n",
       " ('Виктор взял 29 конфетки. Аня взяла только 12.',\n",
       "  'Сколько всего кофт у ребятишек??',\n",
       "  -1),\n",
       " ('Виктор взял 27 конфетки. Аня взяла только 16.',\n",
       "  'Сколько всего кофт у ребятишек??',\n",
       "  -1),\n",
       " ('Виктор взял 4 конфетки. Аня взяла только 1.',\n",
       "  'Сколько всего кофт у ребятишек??',\n",
       "  -1),\n",
       " ('Виктор взял 20 конфетки. Аня взяла только 3.',\n",
       "  'Сколько всего кофт у ребятишек??',\n",
       "  -1),\n",
       " ('Виктор взял 5 конфетки. Аня взяла только 4.',\n",
       "  'Сколько всего кофт у ребятишек??',\n",
       "  -1),\n",
       " ('Виктор взял 23 конфетки. Аня взяла только 8.',\n",
       "  'Сколько всего кофт у ребятишек??',\n",
       "  -1),\n",
       " ('Виктор взял 18 конфетки. Аня взяла только 14.',\n",
       "  'Сколько всего кофт у ребятишек??',\n",
       "  -1),\n",
       " ('Виктор взял 22 конфетки. Аня взяла только 15.',\n",
       "  'Сколько всего кофт у ребятишек??',\n",
       "  -1),\n",
       " ('Виктор взял 5 конфетки. Аня взяла только 4.',\n",
       "  'Сколько всего кофт у ребятишек??',\n",
       "  -1),\n",
       " ('Виктор взял 8 конфетки. Аня взяла только 6.',\n",
       "  'Сколько всего кофт у ребятишек??',\n",
       "  -1),\n",
       " ('Виктор взял 25 конфетки. Аня взяла только 16.',\n",
       "  'Сколько всего кофт у ребятишек??',\n",
       "  -1),\n",
       " ('Виктор взял 28 конфетки. Аня взяла только 13.',\n",
       "  'Сколько всего кофт у ребятишек??',\n",
       "  -1),\n",
       " ('Виктор взял 23 конфетки. Аня взяла только 6.',\n",
       "  'Сколько всего кофт у ребятишек??',\n",
       "  -1),\n",
       " ('Виктор взял 29 конфетки. Аня взяла только 19.',\n",
       "  'Сколько всего кофт у ребятишек??',\n",
       "  -1),\n",
       " ('Виктор взял 23 конфетки. Аня взяла только 11.',\n",
       "  'Сколько всего кофт у ребятишек??',\n",
       "  -1),\n",
       " ('Виктор взял 15 конфетки. Аня взяла только 3.',\n",
       "  'Сколько всего кофт у ребятишек??',\n",
       "  -1),\n",
       " ('Виктор взял 17 конфетки. Аня взяла только 16.',\n",
       "  'Сколько всего кофт у ребятишек??',\n",
       "  -1),\n",
       " ('Семен скушал 22 вафли. А Аня съела 25 конфеты.',\n",
       "  'Сколько лет Ане и Семену вместе?',\n",
       "  -1),\n",
       " ('Семен скушал 29 вафли. А Аня съела 14 конфеты.',\n",
       "  'Сколько лет Ане и Семену вместе?',\n",
       "  -1),\n",
       " ('Семен скушал 8 вафли. А Аня съела 15 конфеты.',\n",
       "  'Сколько лет Ане и Семену вместе?',\n",
       "  -1),\n",
       " ('Семен скушал 14 вафли. А Аня съела 9 конфеты.',\n",
       "  'Сколько лет Ане и Семену вместе?',\n",
       "  -1),\n",
       " ('Семен скушал 8 вафли. А Аня съела 25 конфеты.',\n",
       "  'Сколько лет Ане и Семену вместе?',\n",
       "  -1),\n",
       " ('Семен скушал 25 вафли. А Аня съела 1 конфеты.',\n",
       "  'Сколько лет Ане и Семену вместе?',\n",
       "  -1),\n",
       " ('Семен скушал 29 вафли. А Аня съела 23 конфеты.',\n",
       "  'Сколько лет Ане и Семену вместе?',\n",
       "  -1),\n",
       " ('Семен скушал 27 вафли. А Аня съела 8 конфеты.',\n",
       "  'Сколько лет Ане и Семену вместе?',\n",
       "  -1),\n",
       " ('Семен скушал 12 вафли. А Аня съела 1 конфеты.',\n",
       "  'Сколько лет Ане и Семену вместе?',\n",
       "  -1),\n",
       " ('Семен скушал 22 вафли. А Аня съела 8 конфеты.',\n",
       "  'Сколько лет Ане и Семену вместе?',\n",
       "  -1),\n",
       " ('Семен скушал 27 вафли. А Аня съела 10 конфеты.',\n",
       "  'Сколько лет Ане и Семену вместе?',\n",
       "  -1),\n",
       " ('Семен скушал 7 вафли. А Аня съела 20 конфеты.',\n",
       "  'Сколько лет Ане и Семену вместе?',\n",
       "  -1),\n",
       " ('Семен скушал 18 вафли. А Аня съела 3 конфеты.',\n",
       "  'Сколько лет Ане и Семену вместе?',\n",
       "  -1),\n",
       " ('Семен скушал 11 вафли. А Аня съела 8 конфеты.',\n",
       "  'Сколько лет Ане и Семену вместе?',\n",
       "  -1),\n",
       " ('Семен скушал 11 вафли. А Аня съела 27 конфеты.',\n",
       "  'Сколько лет Ане и Семену вместе?',\n",
       "  -1),\n",
       " ('Семен скушал 11 вафли. А Аня съела 13 конфеты.',\n",
       "  'Сколько лет Ане и Семену вместе?',\n",
       "  -1),\n",
       " ('У Коли было на 80 наклеек больше, чем у Кати.',\n",
       "  'Сколько наклеек было у Кати?',\n",
       "  -1),\n",
       " ('У Коли было на 112 наклеек больше, чем у Кати.',\n",
       "  'Сколько наклеек было у Кати?',\n",
       "  -1),\n",
       " ('У Коли было на 137 наклеек больше, чем у Кати.',\n",
       "  'Сколько наклеек было у Кати?',\n",
       "  -1),\n",
       " ('У Коли было на 34 наклеек больше, чем у Кати.',\n",
       "  'Сколько наклеек было у Кати?',\n",
       "  -1),\n",
       " ('У Коли было на 20 наклеек больше, чем у Кати.',\n",
       "  'Сколько наклеек было у Кати?',\n",
       "  -1),\n",
       " ('У Коли было на 200 наклеек больше, чем у Кати.',\n",
       "  'Сколько наклеек было у Кати?',\n",
       "  -1),\n",
       " ('У Коли было на 96 наклеек больше, чем у Кати.',\n",
       "  'Сколько наклеек было у Кати?',\n",
       "  -1),\n",
       " ('У Коли было на 237 наклеек больше, чем у Кати.',\n",
       "  'Сколько наклеек было у Кати?',\n",
       "  -1),\n",
       " ('У Коли было на 175 наклеек больше, чем у Кати.',\n",
       "  'Сколько наклеек было у Кати?',\n",
       "  -1),\n",
       " ('У Коли было на 32 наклеек больше, чем у Кати.',\n",
       "  'Сколько наклеек было у Кати?',\n",
       "  -1),\n",
       " ('У Коли было на 188 наклеек больше, чем у Кати.',\n",
       "  'Сколько наклеек было у Кати?',\n",
       "  -1),\n",
       " ('У Коли было на 39 наклеек больше, чем у Кати.',\n",
       "  'Сколько наклеек было у Кати?',\n",
       "  -1),\n",
       " ('У Коли было на 247 наклеек больше, чем у Кати.',\n",
       "  'Сколько наклеек было у Кати?',\n",
       "  -1),\n",
       " ('У Коли было на 286 наклеек больше, чем у Кати.',\n",
       "  'Сколько наклеек было у Кати?',\n",
       "  -1),\n",
       " ('У Коли было на 15 наклеек больше, чем у Кати.',\n",
       "  'Сколько наклеек было у Кати?',\n",
       "  -1),\n",
       " ('У Коли было на 257 наклеек больше, чем у Кати.',\n",
       "  'Сколько наклеек было у Кати?',\n",
       "  -1),\n",
       " ('Ширина первой комнаты - 34 метра. Вторая комната шире её ровно в 5 раз.',\n",
       "  'Сколько в ширину кухня?',\n",
       "  -1),\n",
       " ('Ширина первой комнаты - 9 метра. Вторая комната шире её ровно в 3 раз.',\n",
       "  'Сколько в ширину кухня?',\n",
       "  -1),\n",
       " ('Ширина первой комнаты - 9 метра. Вторая комната шире её ровно в 8 раз.',\n",
       "  'Сколько в ширину кухня?',\n",
       "  -1),\n",
       " ('Ширина первой комнаты - 26 метра. Вторая комната шире её ровно в 7 раз.',\n",
       "  'Сколько в ширину кухня?',\n",
       "  -1),\n",
       " ('Ширина первой комнаты - 28 метра. Вторая комната шире её ровно в 3 раз.',\n",
       "  'Сколько в ширину кухня?',\n",
       "  -1),\n",
       " ('Ширина первой комнаты - 3 метра. Вторая комната шире её ровно в 6 раз.',\n",
       "  'Сколько в ширину кухня?',\n",
       "  -1),\n",
       " ('Ширина первой комнаты - 49 метра. Вторая комната шире её ровно в 5 раз.',\n",
       "  'Сколько в ширину кухня?',\n",
       "  -1),\n",
       " ('Ширина первой комнаты - 19 метра. Вторая комната шире её ровно в 7 раз.',\n",
       "  'Сколько в ширину кухня?',\n",
       "  -1),\n",
       " ('Ширина первой комнаты - 42 метра. Вторая комната шире её ровно в 4 раз.',\n",
       "  'Сколько в ширину кухня?',\n",
       "  -1),\n",
       " ('Ширина первой комнаты - 19 метра. Вторая комната шире её ровно в 2 раз.',\n",
       "  'Сколько в ширину кухня?',\n",
       "  -1),\n",
       " ('Ширина первой комнаты - 28 метра. Вторая комната шире её ровно в 4 раз.',\n",
       "  'Сколько в ширину кухня?',\n",
       "  -1),\n",
       " ('Ширина первой комнаты - 11 метра. Вторая комната шире её ровно в 4 раз.',\n",
       "  'Сколько в ширину кухня?',\n",
       "  -1),\n",
       " ('Ширина первой комнаты - 20 метра. Вторая комната шире её ровно в 4 раз.',\n",
       "  'Сколько в ширину кухня?',\n",
       "  -1),\n",
       " ('Ширина первой комнаты - 16 метра. Вторая комната шире её ровно в 8 раз.',\n",
       "  'Сколько в ширину кухня?',\n",
       "  -1),\n",
       " ('Ширина первой комнаты - 19 метра. Вторая комната шире её ровно в 6 раз.',\n",
       "  'Сколько в ширину кухня?',\n",
       "  -1),\n",
       " ('Ширина первой комнаты - 40 метра. Вторая комната шире её ровно в 9 раз.',\n",
       "  'Сколько в ширину кухня?',\n",
       "  -1),\n",
       " ('Высота первой комнаты - 24 метра. Вторая комната шире её ровно в 2 раз.',\n",
       "  'Чему равна высота второй комнаты?',\n",
       "  -1),\n",
       " ('Высота первой комнаты - 9 метра. Вторая комната шире её ровно в 8 раз.',\n",
       "  'Чему равна высота второй комнаты?',\n",
       "  -1),\n",
       " ('Высота первой комнаты - 5 метра. Вторая комната шире её ровно в 3 раз.',\n",
       "  'Чему равна высота второй комнаты?',\n",
       "  -1),\n",
       " ('Высота первой комнаты - 19 метра. Вторая комната шире её ровно в 6 раз.',\n",
       "  'Чему равна высота второй комнаты?',\n",
       "  -1),\n",
       " ('Высота первой комнаты - 26 метра. Вторая комната шире её ровно в 3 раз.',\n",
       "  'Чему равна высота второй комнаты?',\n",
       "  -1),\n",
       " ('Высота первой комнаты - 12 метра. Вторая комната шире её ровно в 7 раз.',\n",
       "  'Чему равна высота второй комнаты?',\n",
       "  -1),\n",
       " ('Высота первой комнаты - 4 метра. Вторая комната шире её ровно в 8 раз.',\n",
       "  'Чему равна высота второй комнаты?',\n",
       "  -1),\n",
       " ('Высота первой комнаты - 25 метра. Вторая комната шире её ровно в 3 раз.',\n",
       "  'Чему равна высота второй комнаты?',\n",
       "  -1),\n",
       " ('Высота первой комнаты - 29 метра. Вторая комната шире её ровно в 7 раз.',\n",
       "  'Чему равна высота второй комнаты?',\n",
       "  -1),\n",
       " ('Высота первой комнаты - 20 метра. Вторая комната шире её ровно в 6 раз.',\n",
       "  'Чему равна высота второй комнаты?',\n",
       "  -1),\n",
       " ('Высота первой комнаты - 49 метра. Вторая комната шире её ровно в 2 раз.',\n",
       "  'Чему равна высота второй комнаты?',\n",
       "  -1),\n",
       " ('Высота первой комнаты - 29 метра. Вторая комната шире её ровно в 2 раз.',\n",
       "  'Чему равна высота второй комнаты?',\n",
       "  -1),\n",
       " ('Высота первой комнаты - 3 метра. Вторая комната шире её ровно в 2 раз.',\n",
       "  'Чему равна высота второй комнаты?',\n",
       "  -1),\n",
       " ('Высота первой комнаты - 4 метра. Вторая комната шире её ровно в 9 раз.',\n",
       "  'Чему равна высота второй комнаты?',\n",
       "  -1),\n",
       " ('Высота первой комнаты - 30 метра. Вторая комната шире её ровно в 6 раз.',\n",
       "  'Чему равна высота второй комнаты?',\n",
       "  -1),\n",
       " ('Высота первой комнаты - 14 метра. Вторая комната шире её ровно в 4 раз.',\n",
       "  'Чему равна высота второй комнаты?',\n",
       "  -1),\n",
       " ('15 декабря в 7 часов вечера на катке каталось 17 ребят. Через один час какое-то количество ребят ушли домой. На катке осталось 9 ребят.',\n",
       "  'Сколько девочек было среди них?',\n",
       "  -1),\n",
       " ('15 декабря в 8 часов вечера на катке каталось 19 ребят. Через один час какое-то количество ребят ушли домой. На катке осталось 4 ребят.',\n",
       "  'Сколько девочек было среди них?',\n",
       "  -1),\n",
       " ('22 декабря в 7 часов вечера на катке каталось 44 ребят. Через один час какое-то количество ребят ушли домой. На катке осталось 27 ребят.',\n",
       "  'Сколько девочек было среди них?',\n",
       "  -1),\n",
       " ('9 декабря в 8 часов вечера на катке каталось 22 ребят. Через один час какое-то количество ребят ушли домой. На катке осталось 6 ребят.',\n",
       "  'Сколько девочек было среди них?',\n",
       "  -1),\n",
       " ('4 декабря в 6 часов вечера на катке каталось 37 ребят. Через один час какое-то количество ребят ушли домой. На катке осталось 15 ребят.',\n",
       "  'Сколько девочек было среди них?',\n",
       "  -1),\n",
       " ('11 декабря в 8 часов вечера на катке каталось 37 ребят. Через один час какое-то количество ребят ушли домой. На катке осталось 12 ребят.',\n",
       "  'Сколько девочек было среди них?',\n",
       "  -1),\n",
       " ('8 декабря в 6 часов вечера на катке каталось 41 ребят. Через один час какое-то количество ребят ушли домой. На катке осталось 9 ребят.',\n",
       "  'Сколько девочек было среди них?',\n",
       "  -1),\n",
       " ('5 декабря в 6 часов вечера на катке каталось 16 ребят. Через один час какое-то количество ребят ушли домой. На катке осталось 5 ребят.',\n",
       "  'Сколько девочек было среди них?',\n",
       "  -1),\n",
       " ('24 декабря в 7 часов вечера на катке каталось 24 ребят. Через один час какое-то количество ребят ушли домой. На катке осталось 15 ребят.',\n",
       "  'Сколько девочек было среди них?',\n",
       "  -1),\n",
       " ('9 декабря в 6 часов вечера на катке каталось 23 ребят. Через один час какое-то количество ребят ушли домой. На катке осталось 8 ребят.',\n",
       "  'Сколько девочек было среди них?',\n",
       "  -1),\n",
       " ('19 декабря в 6 часов вечера на катке каталось 37 ребят. Через один час какое-то количество ребят ушли домой. На катке осталось 11 ребят.',\n",
       "  'Сколько девочек было среди них?',\n",
       "  -1),\n",
       " ('6 декабря в 6 часов вечера на катке каталось 26 ребят. Через один час какое-то количество ребят ушли домой. На катке осталось 9 ребят.',\n",
       "  'Сколько девочек было среди них?',\n",
       "  -1),\n",
       " ('22 декабря в 6 часов вечера на катке каталось 16 ребят. Через один час какое-то количество ребят ушли домой. На катке осталось 7 ребят.',\n",
       "  'Сколько девочек было среди них?',\n",
       "  -1),\n",
       " ('19 декабря в 7 часов вечера на катке каталось 40 ребят. Через один час какое-то количество ребят ушли домой. На катке осталось 16 ребят.',\n",
       "  'Сколько девочек было среди них?',\n",
       "  -1),\n",
       " ('7 декабря в 6 часов вечера на катке каталось 48 ребят. Через один час какое-то количество ребят ушли домой. На катке осталось 9 ребят.',\n",
       "  'Сколько девочек было среди них?',\n",
       "  -1),\n",
       " ('11 декабря в 7 часов вечера на катке каталось 17 ребят. Через один час какое-то количество ребят ушли домой. На катке осталось 6 ребят.',\n",
       "  'Сколько девочек было среди них?',\n",
       "  -1),\n",
       " ('В супермаркете Коля купил 3 стаканчика мороженого за 45, 38 и 43 руб.',\n",
       "  'Сколько сдачи дали Коле?',\n",
       "  -1),\n",
       " ('В супермаркете Коля купил 3 стаканчика мороженого за 41, 38 и 79 руб.',\n",
       "  'Сколько сдачи дали Коле?',\n",
       "  -1),\n",
       " ('В супермаркете Коля купил 3 стаканчика мороженого за 35, 25 и 64 руб.',\n",
       "  'Сколько сдачи дали Коле?',\n",
       "  -1),\n",
       " ('В супермаркете Коля купил 3 стаканчика мороженого за 15, 63 и 73 руб.',\n",
       "  'Сколько сдачи дали Коле?',\n",
       "  -1),\n",
       " ('В супермаркете Коля купил 3 стаканчика мороженого за 26, 87 и 23 руб.',\n",
       "  'Сколько сдачи дали Коле?',\n",
       "  -1),\n",
       " ('В супермаркете Коля купил 3 стаканчика мороженого за 34, 82 и 85 руб.',\n",
       "  'Сколько сдачи дали Коле?',\n",
       "  -1),\n",
       " ('В супермаркете Коля купил 3 стаканчика мороженого за 34, 75 и 87 руб.',\n",
       "  'Сколько сдачи дали Коле?',\n",
       "  -1),\n",
       " ('В супермаркете Коля купил 3 стаканчика мороженого за 16, 87 и 69 руб.',\n",
       "  'Сколько сдачи дали Коле?',\n",
       "  -1),\n",
       " ('В супермаркете Коля купил 3 стаканчика мороженого за 46, 54 и 57 руб.',\n",
       "  'Сколько сдачи дали Коле?',\n",
       "  -1),\n",
       " ('В супермаркете Коля купил 3 стаканчика мороженого за 24, 32 и 44 руб.',\n",
       "  'Сколько сдачи дали Коле?',\n",
       "  -1),\n",
       " ('В супермаркете Коля купил 3 стаканчика мороженого за 31, 77 и 76 руб.',\n",
       "  'Сколько сдачи дали Коле?',\n",
       "  -1),\n",
       " ('В супермаркете Коля купил 3 стаканчика мороженого за 23, 26 и 40 руб.',\n",
       "  'Сколько сдачи дали Коле?',\n",
       "  -1),\n",
       " ('В супермаркете Коля купил 3 стаканчика мороженого за 27, 27 и 51 руб.',\n",
       "  'Сколько сдачи дали Коле?',\n",
       "  -1),\n",
       " ('В супермаркете Коля купил 3 стаканчика мороженого за 25, 18 и 39 руб.',\n",
       "  'Сколько сдачи дали Коле?',\n",
       "  -1),\n",
       " ('В супермаркете Коля купил 3 стаканчика мороженого за 45, 61 и 73 руб.',\n",
       "  'Сколько сдачи дали Коле?',\n",
       "  -1),\n",
       " ('В супермаркете Коля купил 3 стаканчика мороженого за 14, 41 и 27 руб.',\n",
       "  'Сколько сдачи дали Коле?',\n",
       "  -1),\n",
       " ('', 'Какое число получится, если вычесть 4334 и прибавить 73224?', -1),\n",
       " ('', 'Какое число получится, если вычесть 3950 и прибавить 68282?', -1),\n",
       " ('', 'Какое число получится, если вычесть 3172 и прибавить 39750?', -1),\n",
       " ('', 'Какое число получится, если вычесть 728 и прибавить 36119?', -1),\n",
       " ('', 'Какое число получится, если вычесть 1770 и прибавить 67114?', -1),\n",
       " ('', 'Какое число получится, если вычесть 781 и прибавить 7962?', -1),\n",
       " ('', 'Какое число получится, если вычесть 810 и прибавить 33508?', -1),\n",
       " ('', 'Какое число получится, если вычесть 991 и прибавить 35880?', -1),\n",
       " ('', 'Какое число получится, если вычесть 545 и прибавить 54013?', -1),\n",
       " ('', 'Какое число получится, если вычесть 1753 и прибавить 29009?', -1),\n",
       " ('', 'Какое число получится, если вычесть 2431 и прибавить 70169?', -1),\n",
       " ('', 'Какое число получится, если вычесть 3361 и прибавить 37906?', -1),\n",
       " ('', 'Какое число получится, если вычесть 196 и прибавить 10224?', -1),\n",
       " ('', 'Какое число получится, если вычесть 526 и прибавить 28652?', -1),\n",
       " ('', 'Какое число получится, если вычесть 312 и прибавить 50580?', -1),\n",
       " ('', 'Какое число получится, если вычесть 2528 и прибавить 78652?', -1),\n",
       " ('', 'В какое число раз 284 больше 361?', -1),\n",
       " ('', 'В какое число раз 3416 больше 4899?', -1),\n",
       " ('', 'В какое число раз 4079 больше 4756?', -1),\n",
       " ('', 'В какое число раз 1683 больше 2628?', -1),\n",
       " ('', 'В какое число раз 673 больше 1237?', -1),\n",
       " ('', 'В какое число раз 1083 больше 3130?', -1),\n",
       " ('', 'В какое число раз 2877 больше 4739?', -1),\n",
       " ('', 'В какое число раз 116 больше 229?', -1),\n",
       " ('', 'В какое число раз 422 больше 779?', -1),\n",
       " ('', 'В какое число раз 1031 больше 2236?', -1),\n",
       " ('', 'В какое число раз 92 больше 356?', -1),\n",
       " ('', 'В какое число раз 790 больше 1058?', -1),\n",
       " ('', 'В какое число раз 2510 больше 4579?', -1),\n",
       " ('', 'В какое число раз 378 больше 1707?', -1),\n",
       " ('', 'В какое число раз 2469 больше 2802?', -1),\n",
       " ('', 'В какое число раз 797 больше 1668?', -1),\n",
       " ('Сегодня Лара купила в магазине 28 конфет. 4 она съела.',\n",
       "  'Сколько конфет она купила вчера?',\n",
       "  -1),\n",
       " ('Сегодня Лара купила в магазине 48 конфет. 2 она съела.',\n",
       "  'Сколько конфет она купила вчера?',\n",
       "  -1),\n",
       " ('Сегодня Лара купила в магазине 56 конфет. 10 она съела.',\n",
       "  'Сколько конфет она купила вчера?',\n",
       "  -1),\n",
       " ('Сегодня Лара купила в магазине 87 конфет. 69 она съела.',\n",
       "  'Сколько конфет она купила вчера?',\n",
       "  -1),\n",
       " ('Сегодня Лара купила в магазине 73 конфет. 17 она съела.',\n",
       "  'Сколько конфет она купила вчера?',\n",
       "  -1),\n",
       " ('Сегодня Лара купила в магазине 31 конфет. 11 она съела.',\n",
       "  'Сколько конфет она купила вчера?',\n",
       "  -1),\n",
       " ('Сегодня Лара купила в магазине 46 конфет. 24 она съела.',\n",
       "  'Сколько конфет она купила вчера?',\n",
       "  -1),\n",
       " ('Сегодня Лара купила в магазине 70 конфет. 15 она съела.',\n",
       "  'Сколько конфет она купила вчера?',\n",
       "  -1),\n",
       " ('Сегодня Лара купила в магазине 36 конфет. 11 она съела.',\n",
       "  'Сколько конфет она купила вчера?',\n",
       "  -1),\n",
       " ('Сегодня Лара купила в магазине 66 конфет. 16 она съела.',\n",
       "  'Сколько конфет она купила вчера?',\n",
       "  -1),\n",
       " ('Сегодня Лара купила в магазине 37 конфет. 22 она съела.',\n",
       "  'Сколько конфет она купила вчера?',\n",
       "  -1),\n",
       " ('Сегодня Лара купила в магазине 90 конфет. 61 она съела.',\n",
       "  'Сколько конфет она купила вчера?',\n",
       "  -1),\n",
       " ('Сегодня Лара купила в магазине 83 конфет. 68 она съела.',\n",
       "  'Сколько конфет она купила вчера?',\n",
       "  -1),\n",
       " ('Сегодня Лара купила в магазине 93 конфет. 65 она съела.',\n",
       "  'Сколько конфет она купила вчера?',\n",
       "  -1),\n",
       " ('Сегодня Лара купила в магазине 23 конфет. 11 она съела.',\n",
       "  'Сколько конфет она купила вчера?',\n",
       "  -1),\n",
       " ('Сегодня Лара купила в магазине 2 конфет. 1 она съела.',\n",
       "  'Сколько конфет она купила вчера?',\n",
       "  -1),\n",
       " ('У Ани 79 яиц. Под них у неё есть 7 пустые коробки. В каждую коробку входит по 16 яиц.',\n",
       "  'Сколько яиц разбилось, когда она укладывала их в коробки?',\n",
       "  -1),\n",
       " ('У Ани 95 яиц. Под них у неё есть 9 пустые коробки. В каждую коробку входит по 19 яиц.',\n",
       "  'Сколько яиц разбилось, когда она укладывала их в коробки?',\n",
       "  -1),\n",
       " ('У Ани 24 яиц. Под них у неё есть 5 пустые коробки. В каждую коробку входит по 3 яиц.',\n",
       "  'Сколько яиц разбилось, когда она укладывала их в коробки?',\n",
       "  -1),\n",
       " ('У Ани 96 яиц. Под них у неё есть 7 пустые коробки. В каждую коробку входит по 14 яиц.',\n",
       "  'Сколько яиц разбилось, когда она укладывала их в коробки?',\n",
       "  -1),\n",
       " ('У Ани 17 яиц. Под них у неё есть 5 пустые коробки. В каждую коробку входит по 12 яиц.',\n",
       "  'Сколько яиц разбилось, когда она укладывала их в коробки?',\n",
       "  -1),\n",
       " ('У Ани 42 яиц. Под них у неё есть 8 пустые коробки. В каждую коробку входит по 14 яиц.',\n",
       "  'Сколько яиц разбилось, когда она укладывала их в коробки?',\n",
       "  -1),\n",
       " ('У Ани 77 яиц. Под них у неё есть 5 пустые коробки. В каждую коробку входит по 4 яиц.',\n",
       "  'Сколько яиц разбилось, когда она укладывала их в коробки?',\n",
       "  -1),\n",
       " ('У Ани 99 яиц. Под них у неё есть 5 пустые коробки. В каждую коробку входит по 15 яиц.',\n",
       "  'Сколько яиц разбилось, когда она укладывала их в коробки?',\n",
       "  -1),\n",
       " ('У Ани 80 яиц. Под них у неё есть 9 пустые коробки. В каждую коробку входит по 12 яиц.',\n",
       "  'Сколько яиц разбилось, когда она укладывала их в коробки?',\n",
       "  -1),\n",
       " ('У Ани 83 яиц. Под них у неё есть 6 пустые коробки. В каждую коробку входит по 9 яиц.',\n",
       "  'Сколько яиц разбилось, когда она укладывала их в коробки?',\n",
       "  -1),\n",
       " ('У Ани 53 яиц. Под них у неё есть 5 пустые коробки. В каждую коробку входит по 4 яиц.',\n",
       "  'Сколько яиц разбилось, когда она укладывала их в коробки?',\n",
       "  -1),\n",
       " ('У Ани 81 яиц. Под них у неё есть 9 пустые коробки. В каждую коробку входит по 16 яиц.',\n",
       "  'Сколько яиц разбилось, когда она укладывала их в коробки?',\n",
       "  -1),\n",
       " ('У Ани 30 яиц. Под них у неё есть 5 пустые коробки. В каждую коробку входит по 15 яиц.',\n",
       "  'Сколько яиц разбилось, когда она укладывала их в коробки?',\n",
       "  -1),\n",
       " ('У Ани 69 яиц. Под них у неё есть 7 пустые коробки. В каждую коробку входит по 18 яиц.',\n",
       "  'Сколько яиц разбилось, когда она укладывала их в коробки?',\n",
       "  -1),\n",
       " ('У Ани 16 яиц. Под них у неё есть 7 пустые коробки. В каждую коробку входит по 3 яиц.',\n",
       "  'Сколько яиц разбилось, когда она укладывала их в коробки?',\n",
       "  -1),\n",
       " ('У Ани 80 яиц. Под них у неё есть 8 пустые коробки. В каждую коробку входит по 16 яиц.',\n",
       "  'Сколько яиц разбилось, когда она укладывала их в коробки?',\n",
       "  -1),\n",
       " ('В коллекции Коли есть марки 20 и 21 веков. Марок 20 века у него 672.',\n",
       "  'Сколько у него марок 21 века?',\n",
       "  -1),\n",
       " ('В коллекции Коли есть марки 20 и 21 веков. Марок 20 века у него 178.',\n",
       "  'Сколько у него марок 21 века?',\n",
       "  -1),\n",
       " ('В коллекции Коли есть марки 20 и 21 веков. Марок 20 века у него 780.',\n",
       "  'Сколько у него марок 21 века?',\n",
       "  -1),\n",
       " ('В коллекции Коли есть марки 20 и 21 веков. Марок 20 века у него 105.',\n",
       "  'Сколько у него марок 21 века?',\n",
       "  -1),\n",
       " ('В коллекции Коли есть марки 20 и 21 веков. Марок 20 века у него 987.',\n",
       "  'Сколько у него марок 21 века?',\n",
       "  -1),\n",
       " ('В коллекции Коли есть марки 20 и 21 веков. Марок 20 века у него 218.',\n",
       "  'Сколько у него марок 21 века?',\n",
       "  -1),\n",
       " ('В коллекции Коли есть марки 20 и 21 веков. Марок 20 века у него 849.',\n",
       "  'Сколько у него марок 21 века?',\n",
       "  -1),\n",
       " ('В коллекции Коли есть марки 20 и 21 веков. Марок 20 века у него 677.',\n",
       "  'Сколько у него марок 21 века?',\n",
       "  -1),\n",
       " ('В коллекции Коли есть марки 20 и 21 веков. Марок 20 века у него 954.',\n",
       "  'Сколько у него марок 21 века?',\n",
       "  -1),\n",
       " ('В коллекции Коли есть марки 20 и 21 веков. Марок 20 века у него 630.',\n",
       "  'Сколько у него марок 21 века?',\n",
       "  -1),\n",
       " ('В коллекции Коли есть марки 20 и 21 веков. Марок 20 века у него 457.',\n",
       "  'Сколько у него марок 21 века?',\n",
       "  -1),\n",
       " ('В коллекции Коли есть марки 20 и 21 веков. Марок 20 века у него 232.',\n",
       "  'Сколько у него марок 21 века?',\n",
       "  -1),\n",
       " ('В коллекции Коли есть марки 20 и 21 веков. Марок 20 века у него 745.',\n",
       "  'Сколько у него марок 21 века?',\n",
       "  -1),\n",
       " ('В коллекции Коли есть марки 20 и 21 веков. Марок 20 века у него 736.',\n",
       "  'Сколько у него марок 21 века?',\n",
       "  -1),\n",
       " ('В коллекции Коли есть марки 20 и 21 веков. Марок 20 века у него 686.',\n",
       "  'Сколько у него марок 21 века?',\n",
       "  -1),\n",
       " ('В коллекции Коли есть марки 20 и 21 веков. Марок 20 века у него 638.',\n",
       "  'Сколько у него марок 21 века?',\n",
       "  -1),\n",
       " ('Коля купил 32 тетрадей и 25 ручек. ',\n",
       "  'Сколько он заплатил за покупку, если одна тетрадь стоит 7 рублей?',\n",
       "  -1),\n",
       " ('Коля купил 76 тетрадей и 61 ручек. ',\n",
       "  'Сколько он заплатил за покупку, если одна тетрадь стоит 13 рублей?',\n",
       "  -1),\n",
       " ('Коля купил 90 тетрадей и 48 ручек. ',\n",
       "  'Сколько он заплатил за покупку, если одна тетрадь стоит 8 рублей?',\n",
       "  -1),\n",
       " ('Коля купил 15 тетрадей и 99 ручек. ',\n",
       "  'Сколько он заплатил за покупку, если одна тетрадь стоит 18 рублей?',\n",
       "  -1),\n",
       " ('Коля купил 9 тетрадей и 57 ручек. ',\n",
       "  'Сколько он заплатил за покупку, если одна тетрадь стоит 19 рублей?',\n",
       "  -1),\n",
       " ('Коля купил 78 тетрадей и 66 ручек. ',\n",
       "  'Сколько он заплатил за покупку, если одна тетрадь стоит 3 рублей?',\n",
       "  -1),\n",
       " ('Коля купил 55 тетрадей и 97 ручек. ',\n",
       "  'Сколько он заплатил за покупку, если одна тетрадь стоит 4 рублей?',\n",
       "  -1),\n",
       " ('Коля купил 18 тетрадей и 17 ручек. ',\n",
       "  'Сколько он заплатил за покупку, если одна тетрадь стоит 8 рублей?',\n",
       "  -1),\n",
       " ('Коля купил 87 тетрадей и 35 ручек. ',\n",
       "  'Сколько он заплатил за покупку, если одна тетрадь стоит 4 рублей?',\n",
       "  -1),\n",
       " ('Коля купил 59 тетрадей и 9 ручек. ',\n",
       "  'Сколько он заплатил за покупку, если одна тетрадь стоит 19 рублей?',\n",
       "  -1),\n",
       " ('Коля купил 65 тетрадей и 86 ручек. ',\n",
       "  'Сколько он заплатил за покупку, если одна тетрадь стоит 19 рублей?',\n",
       "  -1),\n",
       " ('Коля купил 55 тетрадей и 99 ручек. ',\n",
       "  'Сколько он заплатил за покупку, если одна тетрадь стоит 4 рублей?',\n",
       "  -1),\n",
       " ('Коля купил 56 тетрадей и 37 ручек. ',\n",
       "  'Сколько он заплатил за покупку, если одна тетрадь стоит 5 рублей?',\n",
       "  -1),\n",
       " ('Коля купил 45 тетрадей и 10 ручек. ',\n",
       "  'Сколько он заплатил за покупку, если одна тетрадь стоит 9 рублей?',\n",
       "  -1),\n",
       " ('Коля купил 86 тетрадей и 6 ручек. ',\n",
       "  'Сколько он заплатил за покупку, если одна тетрадь стоит 16 рублей?',\n",
       "  -1),\n",
       " ('Коля купил 27 тетрадей и 20 ручек. ',\n",
       "  'Сколько он заплатил за покупку, если одна тетрадь стоит 10 рублей?',\n",
       "  -1),\n",
       " ('Алексею 40 лет. Сергей моложе его на 10 лет.',\n",
       "  'Сколько было лет Сергею, когда Алексей родился?',\n",
       "  -1),\n",
       " ('Алексею 59 лет. Сергей моложе его на 8 лет.',\n",
       "  'Сколько было лет Сергею, когда Алексей родился?',\n",
       "  -1),\n",
       " ('Алексею 54 лет. Сергей моложе его на 13 лет.',\n",
       "  'Сколько было лет Сергею, когда Алексей родился?',\n",
       "  -1),\n",
       " ('Алексею 50 лет. Сергей моложе его на 12 лет.',\n",
       "  'Сколько было лет Сергею, когда Алексей родился?',\n",
       "  -1),\n",
       " ('Алексею 16 лет. Сергей моложе его на 6 лет.',\n",
       "  'Сколько было лет Сергею, когда Алексей родился?',\n",
       "  -1),\n",
       " ('Алексею 48 лет. Сергей моложе его на 6 лет.',\n",
       "  'Сколько было лет Сергею, когда Алексей родился?',\n",
       "  -1),\n",
       " ('Алексею 21 лет. Сергей моложе его на 13 лет.',\n",
       "  'Сколько было лет Сергею, когда Алексей родился?',\n",
       "  -1),\n",
       " ('Алексею 41 лет. Сергей моложе его на 8 лет.',\n",
       "  'Сколько было лет Сергею, когда Алексей родился?',\n",
       "  -1),\n",
       " ('Алексею 20 лет. Сергей моложе его на 5 лет.',\n",
       "  'Сколько было лет Сергею, когда Алексей родился?',\n",
       "  -1),\n",
       " ('Алексею 55 лет. Сергей моложе его на 13 лет.',\n",
       "  'Сколько было лет Сергею, когда Алексей родился?',\n",
       "  -1),\n",
       " ('Алексею 58 лет. Сергей моложе его на 9 лет.',\n",
       "  'Сколько было лет Сергею, когда Алексей родился?',\n",
       "  -1),\n",
       " ('Алексею 58 лет. Сергей моложе его на 7 лет.',\n",
       "  'Сколько было лет Сергею, когда Алексей родился?',\n",
       "  -1),\n",
       " ('Алексею 20 лет. Сергей моложе его на 9 лет.',\n",
       "  'Сколько было лет Сергею, когда Алексей родился?',\n",
       "  -1),\n",
       " ('Алексею 58 лет. Сергей моложе его на 7 лет.',\n",
       "  'Сколько было лет Сергею, когда Алексей родился?',\n",
       "  -1),\n",
       " ('Алексею 19 лет. Сергей моложе его на 6 лет.',\n",
       "  'Сколько было лет Сергею, когда Алексей родился?',\n",
       "  -1),\n",
       " ('Алексею 30 лет. Сергей моложе его на 12 лет.',\n",
       "  'Сколько было лет Сергею, когда Алексей родился?',\n",
       "  -1),\n",
       " ('Алексею 48 лет. Сергей моложе его на 13 лет.',\n",
       "  'Сколько было лет Сергею, когда Алексей родился?',\n",
       "  -1),\n",
       " ('На мультфильме в кинотеатре во втором ряду сидело на 27 мальчиков больше, чем девочек. ',\n",
       "  'Сколько мальчиков и девочек вместе сидело на втором ряду?',\n",
       "  -1),\n",
       " ('На мультфильме в кинотеатре во втором ряду сидело на 41 мальчиков больше, чем девочек. ',\n",
       "  'Сколько мальчиков и девочек вместе сидело на втором ряду?',\n",
       "  -1),\n",
       " ('На мультфильме в кинотеатре во втором ряду сидело на 22 мальчиков больше, чем девочек. ',\n",
       "  'Сколько мальчиков и девочек вместе сидело на втором ряду?',\n",
       "  -1),\n",
       " ('На мультфильме в кинотеатре во втором ряду сидело на 48 мальчиков больше, чем девочек. ',\n",
       "  'Сколько мальчиков и девочек вместе сидело на втором ряду?',\n",
       "  -1),\n",
       " ('На мультфильме в кинотеатре во втором ряду сидело на 34 мальчиков больше, чем девочек. ',\n",
       "  'Сколько мальчиков и девочек вместе сидело на втором ряду?',\n",
       "  -1),\n",
       " ('На мультфильме в кинотеатре во втором ряду сидело на 17 мальчиков больше, чем девочек. ',\n",
       "  'Сколько мальчиков и девочек вместе сидело на втором ряду?',\n",
       "  -1),\n",
       " ('На мультфильме в кинотеатре во втором ряду сидело на 26 мальчиков больше, чем девочек. ',\n",
       "  'Сколько мальчиков и девочек вместе сидело на втором ряду?',\n",
       "  -1),\n",
       " ('На мультфильме в кинотеатре во втором ряду сидело на 48 мальчиков больше, чем девочек. ',\n",
       "  'Сколько мальчиков и девочек вместе сидело на втором ряду?',\n",
       "  -1),\n",
       " ('На мультфильме в кинотеатре во втором ряду сидело на 11 мальчиков больше, чем девочек. ',\n",
       "  'Сколько мальчиков и девочек вместе сидело на втором ряду?',\n",
       "  -1),\n",
       " ('На мультфильме в кинотеатре во втором ряду сидело на 36 мальчиков больше, чем девочек. ',\n",
       "  'Сколько мальчиков и девочек вместе сидело на втором ряду?',\n",
       "  -1),\n",
       " ('На мультфильме в кинотеатре во втором ряду сидело на 31 мальчиков больше, чем девочек. ',\n",
       "  'Сколько мальчиков и девочек вместе сидело на втором ряду?',\n",
       "  -1),\n",
       " ('На мультфильме в кинотеатре во втором ряду сидело на 11 мальчиков больше, чем девочек. ',\n",
       "  'Сколько мальчиков и девочек вместе сидело на втором ряду?',\n",
       "  -1),\n",
       " ('На мультфильме в кинотеатре во втором ряду сидело на 49 мальчиков больше, чем девочек. ',\n",
       "  'Сколько мальчиков и девочек вместе сидело на втором ряду?',\n",
       "  -1),\n",
       " ('На мультфильме в кинотеатре во втором ряду сидело на 22 мальчиков больше, чем девочек. ',\n",
       "  'Сколько мальчиков и девочек вместе сидело на втором ряду?',\n",
       "  -1),\n",
       " ('На мультфильме в кинотеатре во втором ряду сидело на 38 мальчиков больше, чем девочек. ',\n",
       "  'Сколько мальчиков и девочек вместе сидело на втором ряду?',\n",
       "  -1),\n",
       " ('На мультфильме в кинотеатре во втором ряду сидело на 13 мальчиков больше, чем девочек. ',\n",
       "  'Сколько мальчиков и девочек вместе сидело на втором ряду?',\n",
       "  -1),\n",
       " ('На мультфильме в кинотеатре во втором ряду сидело на 36 мальчиков больше, чем девочек. ',\n",
       "  'Сколько мальчиков и девочек вместе сидело на втором ряду?',\n",
       "  -1),\n",
       " ('На мультфильме в кинотеатре во втором ряду сидело на 29 мальчиков больше, чем девочек. ',\n",
       "  'Сколько мальчиков и девочек вместе сидело на втором ряду?',\n",
       "  -1),\n",
       " ('На мультфильме в кинотеатре во втором ряду сидело на 29 мальчиков больше, чем девочек. ',\n",
       "  'Сколько мальчиков и девочек вместе сидело на втором ряду?',\n",
       "  -1),\n",
       " ('На мультфильме в кинотеатре во втором ряду сидело на 15 мальчиков больше, чем девочек. ',\n",
       "  'Сколько мальчиков и девочек вместе сидело на втором ряду?',\n",
       "  -1),\n",
       " ('На мультфильме в кинотеатре во втором ряду сидело на 31 мальчиков больше, чем девочек. ',\n",
       "  'Сколько мальчиков и девочек вместе сидело на втором ряду?',\n",
       "  -1),\n",
       " ('На мультфильме в кинотеатре во втором ряду сидело на 40 мальчиков больше, чем девочек. ',\n",
       "  'Сколько мальчиков и девочек вместе сидело на втором ряду?',\n",
       "  -1)]"
      ]
     },
     "execution_count": 684,
     "metadata": {},
     "output_type": "execute_result"
    }
   ],
   "source": [
    "problems_bad"
   ]
  },
  {
   "cell_type": "code",
   "execution_count": 683,
   "metadata": {},
   "outputs": [
    {
     "data": {
      "text/html": [
       "<div>\n",
       "<style scoped>\n",
       "    .dataframe tbody tr th:only-of-type {\n",
       "        vertical-align: middle;\n",
       "    }\n",
       "\n",
       "    .dataframe tbody tr th {\n",
       "        vertical-align: top;\n",
       "    }\n",
       "\n",
       "    .dataframe thead th {\n",
       "        text-align: right;\n",
       "    }\n",
       "</style>\n",
       "<table border=\"1\" class=\"dataframe\">\n",
       "  <thead>\n",
       "    <tr style=\"text-align: right;\">\n",
       "      <th></th>\n",
       "      <th>0</th>\n",
       "      <th>1</th>\n",
       "      <th>2</th>\n",
       "    </tr>\n",
       "  </thead>\n",
       "  <tbody>\n",
       "    <tr>\n",
       "      <th>0</th>\n",
       "      <td>NaN</td>\n",
       "      <td>На сколько 178 меньше 96841?</td>\n",
       "      <td>-1</td>\n",
       "    </tr>\n",
       "    <tr>\n",
       "      <th>1</th>\n",
       "      <td>NaN</td>\n",
       "      <td>На сколько 308 меньше 85103?</td>\n",
       "      <td>-1</td>\n",
       "    </tr>\n",
       "    <tr>\n",
       "      <th>2</th>\n",
       "      <td>NaN</td>\n",
       "      <td>На сколько 37 меньше 65506?</td>\n",
       "      <td>-1</td>\n",
       "    </tr>\n",
       "    <tr>\n",
       "      <th>3</th>\n",
       "      <td>NaN</td>\n",
       "      <td>На сколько 740 меньше 32543?</td>\n",
       "      <td>-1</td>\n",
       "    </tr>\n",
       "    <tr>\n",
       "      <th>4</th>\n",
       "      <td>NaN</td>\n",
       "      <td>На сколько 874 меньше 19053?</td>\n",
       "      <td>-1</td>\n",
       "    </tr>\n",
       "    <tr>\n",
       "      <th>5</th>\n",
       "      <td>NaN</td>\n",
       "      <td>На сколько 915 меньше 25556?</td>\n",
       "      <td>-1</td>\n",
       "    </tr>\n",
       "    <tr>\n",
       "      <th>6</th>\n",
       "      <td>NaN</td>\n",
       "      <td>На сколько 62 меньше 69022?</td>\n",
       "      <td>-1</td>\n",
       "    </tr>\n",
       "    <tr>\n",
       "      <th>7</th>\n",
       "      <td>NaN</td>\n",
       "      <td>На сколько 941 меньше 52867?</td>\n",
       "      <td>-1</td>\n",
       "    </tr>\n",
       "    <tr>\n",
       "      <th>8</th>\n",
       "      <td>NaN</td>\n",
       "      <td>На сколько 98 меньше 34774?</td>\n",
       "      <td>-1</td>\n",
       "    </tr>\n",
       "    <tr>\n",
       "      <th>9</th>\n",
       "      <td>NaN</td>\n",
       "      <td>На сколько 629 меньше 22855?</td>\n",
       "      <td>-1</td>\n",
       "    </tr>\n",
       "    <tr>\n",
       "      <th>10</th>\n",
       "      <td>NaN</td>\n",
       "      <td>На сколько 317 меньше 16718?</td>\n",
       "      <td>-1</td>\n",
       "    </tr>\n",
       "    <tr>\n",
       "      <th>11</th>\n",
       "      <td>NaN</td>\n",
       "      <td>На сколько 439 меньше 15561?</td>\n",
       "      <td>-1</td>\n",
       "    </tr>\n",
       "    <tr>\n",
       "      <th>12</th>\n",
       "      <td>NaN</td>\n",
       "      <td>На сколько 713 меньше 24415?</td>\n",
       "      <td>-1</td>\n",
       "    </tr>\n",
       "    <tr>\n",
       "      <th>13</th>\n",
       "      <td>NaN</td>\n",
       "      <td>На сколько 737 меньше 10348?</td>\n",
       "      <td>-1</td>\n",
       "    </tr>\n",
       "    <tr>\n",
       "      <th>14</th>\n",
       "      <td>NaN</td>\n",
       "      <td>На сколько 476 меньше 58531?</td>\n",
       "      <td>-1</td>\n",
       "    </tr>\n",
       "    <tr>\n",
       "      <th>15</th>\n",
       "      <td>NaN</td>\n",
       "      <td>На сколько 502 меньше 14293?</td>\n",
       "      <td>-1</td>\n",
       "    </tr>\n",
       "    <tr>\n",
       "      <th>16</th>\n",
       "      <td>На полке лежит 11 книг.</td>\n",
       "      <td>Сколько всего страниц в этих книгах?</td>\n",
       "      <td>-1</td>\n",
       "    </tr>\n",
       "    <tr>\n",
       "      <th>17</th>\n",
       "      <td>На полке лежит 93 книг.</td>\n",
       "      <td>Сколько всего страниц в этих книгах?</td>\n",
       "      <td>-1</td>\n",
       "    </tr>\n",
       "    <tr>\n",
       "      <th>18</th>\n",
       "      <td>На полке лежит 22 книг.</td>\n",
       "      <td>Сколько всего страниц в этих книгах?</td>\n",
       "      <td>-1</td>\n",
       "    </tr>\n",
       "    <tr>\n",
       "      <th>19</th>\n",
       "      <td>На полке лежит 57 книг.</td>\n",
       "      <td>Сколько всего страниц в этих книгах?</td>\n",
       "      <td>-1</td>\n",
       "    </tr>\n",
       "    <tr>\n",
       "      <th>20</th>\n",
       "      <td>На полке лежит 40 книг.</td>\n",
       "      <td>Сколько всего страниц в этих книгах?</td>\n",
       "      <td>-1</td>\n",
       "    </tr>\n",
       "    <tr>\n",
       "      <th>21</th>\n",
       "      <td>На полке лежит 44 книг.</td>\n",
       "      <td>Сколько всего страниц в этих книгах?</td>\n",
       "      <td>-1</td>\n",
       "    </tr>\n",
       "    <tr>\n",
       "      <th>22</th>\n",
       "      <td>На полке лежит 24 книг.</td>\n",
       "      <td>Сколько всего страниц в этих книгах?</td>\n",
       "      <td>-1</td>\n",
       "    </tr>\n",
       "    <tr>\n",
       "      <th>23</th>\n",
       "      <td>На полке лежит 61 книг.</td>\n",
       "      <td>Сколько всего страниц в этих книгах?</td>\n",
       "      <td>-1</td>\n",
       "    </tr>\n",
       "    <tr>\n",
       "      <th>24</th>\n",
       "      <td>На полке лежит 6 книг.</td>\n",
       "      <td>Сколько всего страниц в этих книгах?</td>\n",
       "      <td>-1</td>\n",
       "    </tr>\n",
       "    <tr>\n",
       "      <th>25</th>\n",
       "      <td>На полке лежит 46 книг.</td>\n",
       "      <td>Сколько всего страниц в этих книгах?</td>\n",
       "      <td>-1</td>\n",
       "    </tr>\n",
       "    <tr>\n",
       "      <th>26</th>\n",
       "      <td>На полке лежит 65 книг.</td>\n",
       "      <td>Сколько всего страниц в этих книгах?</td>\n",
       "      <td>-1</td>\n",
       "    </tr>\n",
       "    <tr>\n",
       "      <th>27</th>\n",
       "      <td>На полке лежит 80 книг.</td>\n",
       "      <td>Сколько всего страниц в этих книгах?</td>\n",
       "      <td>-1</td>\n",
       "    </tr>\n",
       "    <tr>\n",
       "      <th>28</th>\n",
       "      <td>На полке лежит 83 книг.</td>\n",
       "      <td>Сколько всего страниц в этих книгах?</td>\n",
       "      <td>-1</td>\n",
       "    </tr>\n",
       "    <tr>\n",
       "      <th>29</th>\n",
       "      <td>На полке лежит 58 книг.</td>\n",
       "      <td>Сколько всего страниц в этих книгах?</td>\n",
       "      <td>-1</td>\n",
       "    </tr>\n",
       "    <tr>\n",
       "      <th>...</th>\n",
       "      <td>...</td>\n",
       "      <td>...</td>\n",
       "      <td>...</td>\n",
       "    </tr>\n",
       "    <tr>\n",
       "      <th>307</th>\n",
       "      <td>Алексею 55 лет. Сергей моложе его на 13 лет.</td>\n",
       "      <td>Сколько было лет Сергею, когда Алексей родился?</td>\n",
       "      <td>-1</td>\n",
       "    </tr>\n",
       "    <tr>\n",
       "      <th>308</th>\n",
       "      <td>Алексею 58 лет. Сергей моложе его на 9 лет.</td>\n",
       "      <td>Сколько было лет Сергею, когда Алексей родился?</td>\n",
       "      <td>-1</td>\n",
       "    </tr>\n",
       "    <tr>\n",
       "      <th>309</th>\n",
       "      <td>Алексею 58 лет. Сергей моложе его на 7 лет.</td>\n",
       "      <td>Сколько было лет Сергею, когда Алексей родился?</td>\n",
       "      <td>-1</td>\n",
       "    </tr>\n",
       "    <tr>\n",
       "      <th>310</th>\n",
       "      <td>Алексею 20 лет. Сергей моложе его на 9 лет.</td>\n",
       "      <td>Сколько было лет Сергею, когда Алексей родился?</td>\n",
       "      <td>-1</td>\n",
       "    </tr>\n",
       "    <tr>\n",
       "      <th>311</th>\n",
       "      <td>Алексею 58 лет. Сергей моложе его на 7 лет.</td>\n",
       "      <td>Сколько было лет Сергею, когда Алексей родился?</td>\n",
       "      <td>-1</td>\n",
       "    </tr>\n",
       "    <tr>\n",
       "      <th>312</th>\n",
       "      <td>Алексею 19 лет. Сергей моложе его на 6 лет.</td>\n",
       "      <td>Сколько было лет Сергею, когда Алексей родился?</td>\n",
       "      <td>-1</td>\n",
       "    </tr>\n",
       "    <tr>\n",
       "      <th>313</th>\n",
       "      <td>Алексею 30 лет. Сергей моложе его на 12 лет.</td>\n",
       "      <td>Сколько было лет Сергею, когда Алексей родился?</td>\n",
       "      <td>-1</td>\n",
       "    </tr>\n",
       "    <tr>\n",
       "      <th>314</th>\n",
       "      <td>Алексею 48 лет. Сергей моложе его на 13 лет.</td>\n",
       "      <td>Сколько было лет Сергею, когда Алексей родился?</td>\n",
       "      <td>-1</td>\n",
       "    </tr>\n",
       "    <tr>\n",
       "      <th>315</th>\n",
       "      <td>На мультфильме в кинотеатре во втором ряду сид...</td>\n",
       "      <td>Сколько мальчиков и девочек вместе сидело на в...</td>\n",
       "      <td>-1</td>\n",
       "    </tr>\n",
       "    <tr>\n",
       "      <th>316</th>\n",
       "      <td>На мультфильме в кинотеатре во втором ряду сид...</td>\n",
       "      <td>Сколько мальчиков и девочек вместе сидело на в...</td>\n",
       "      <td>-1</td>\n",
       "    </tr>\n",
       "    <tr>\n",
       "      <th>317</th>\n",
       "      <td>На мультфильме в кинотеатре во втором ряду сид...</td>\n",
       "      <td>Сколько мальчиков и девочек вместе сидело на в...</td>\n",
       "      <td>-1</td>\n",
       "    </tr>\n",
       "    <tr>\n",
       "      <th>318</th>\n",
       "      <td>На мультфильме в кинотеатре во втором ряду сид...</td>\n",
       "      <td>Сколько мальчиков и девочек вместе сидело на в...</td>\n",
       "      <td>-1</td>\n",
       "    </tr>\n",
       "    <tr>\n",
       "      <th>319</th>\n",
       "      <td>На мультфильме в кинотеатре во втором ряду сид...</td>\n",
       "      <td>Сколько мальчиков и девочек вместе сидело на в...</td>\n",
       "      <td>-1</td>\n",
       "    </tr>\n",
       "    <tr>\n",
       "      <th>320</th>\n",
       "      <td>На мультфильме в кинотеатре во втором ряду сид...</td>\n",
       "      <td>Сколько мальчиков и девочек вместе сидело на в...</td>\n",
       "      <td>-1</td>\n",
       "    </tr>\n",
       "    <tr>\n",
       "      <th>321</th>\n",
       "      <td>На мультфильме в кинотеатре во втором ряду сид...</td>\n",
       "      <td>Сколько мальчиков и девочек вместе сидело на в...</td>\n",
       "      <td>-1</td>\n",
       "    </tr>\n",
       "    <tr>\n",
       "      <th>322</th>\n",
       "      <td>На мультфильме в кинотеатре во втором ряду сид...</td>\n",
       "      <td>Сколько мальчиков и девочек вместе сидело на в...</td>\n",
       "      <td>-1</td>\n",
       "    </tr>\n",
       "    <tr>\n",
       "      <th>323</th>\n",
       "      <td>На мультфильме в кинотеатре во втором ряду сид...</td>\n",
       "      <td>Сколько мальчиков и девочек вместе сидело на в...</td>\n",
       "      <td>-1</td>\n",
       "    </tr>\n",
       "    <tr>\n",
       "      <th>324</th>\n",
       "      <td>На мультфильме в кинотеатре во втором ряду сид...</td>\n",
       "      <td>Сколько мальчиков и девочек вместе сидело на в...</td>\n",
       "      <td>-1</td>\n",
       "    </tr>\n",
       "    <tr>\n",
       "      <th>325</th>\n",
       "      <td>На мультфильме в кинотеатре во втором ряду сид...</td>\n",
       "      <td>Сколько мальчиков и девочек вместе сидело на в...</td>\n",
       "      <td>-1</td>\n",
       "    </tr>\n",
       "    <tr>\n",
       "      <th>326</th>\n",
       "      <td>На мультфильме в кинотеатре во втором ряду сид...</td>\n",
       "      <td>Сколько мальчиков и девочек вместе сидело на в...</td>\n",
       "      <td>-1</td>\n",
       "    </tr>\n",
       "    <tr>\n",
       "      <th>327</th>\n",
       "      <td>На мультфильме в кинотеатре во втором ряду сид...</td>\n",
       "      <td>Сколько мальчиков и девочек вместе сидело на в...</td>\n",
       "      <td>-1</td>\n",
       "    </tr>\n",
       "    <tr>\n",
       "      <th>328</th>\n",
       "      <td>На мультфильме в кинотеатре во втором ряду сид...</td>\n",
       "      <td>Сколько мальчиков и девочек вместе сидело на в...</td>\n",
       "      <td>-1</td>\n",
       "    </tr>\n",
       "    <tr>\n",
       "      <th>329</th>\n",
       "      <td>На мультфильме в кинотеатре во втором ряду сид...</td>\n",
       "      <td>Сколько мальчиков и девочек вместе сидело на в...</td>\n",
       "      <td>-1</td>\n",
       "    </tr>\n",
       "    <tr>\n",
       "      <th>330</th>\n",
       "      <td>На мультфильме в кинотеатре во втором ряду сид...</td>\n",
       "      <td>Сколько мальчиков и девочек вместе сидело на в...</td>\n",
       "      <td>-1</td>\n",
       "    </tr>\n",
       "    <tr>\n",
       "      <th>331</th>\n",
       "      <td>На мультфильме в кинотеатре во втором ряду сид...</td>\n",
       "      <td>Сколько мальчиков и девочек вместе сидело на в...</td>\n",
       "      <td>-1</td>\n",
       "    </tr>\n",
       "    <tr>\n",
       "      <th>332</th>\n",
       "      <td>На мультфильме в кинотеатре во втором ряду сид...</td>\n",
       "      <td>Сколько мальчиков и девочек вместе сидело на в...</td>\n",
       "      <td>-1</td>\n",
       "    </tr>\n",
       "    <tr>\n",
       "      <th>333</th>\n",
       "      <td>На мультфильме в кинотеатре во втором ряду сид...</td>\n",
       "      <td>Сколько мальчиков и девочек вместе сидело на в...</td>\n",
       "      <td>-1</td>\n",
       "    </tr>\n",
       "    <tr>\n",
       "      <th>334</th>\n",
       "      <td>На мультфильме в кинотеатре во втором ряду сид...</td>\n",
       "      <td>Сколько мальчиков и девочек вместе сидело на в...</td>\n",
       "      <td>-1</td>\n",
       "    </tr>\n",
       "    <tr>\n",
       "      <th>335</th>\n",
       "      <td>На мультфильме в кинотеатре во втором ряду сид...</td>\n",
       "      <td>Сколько мальчиков и девочек вместе сидело на в...</td>\n",
       "      <td>-1</td>\n",
       "    </tr>\n",
       "    <tr>\n",
       "      <th>336</th>\n",
       "      <td>На мультфильме в кинотеатре во втором ряду сид...</td>\n",
       "      <td>Сколько мальчиков и девочек вместе сидело на в...</td>\n",
       "      <td>-1</td>\n",
       "    </tr>\n",
       "  </tbody>\n",
       "</table>\n",
       "<p>337 rows × 3 columns</p>\n",
       "</div>"
      ],
      "text/plain": [
       "                                                     0  \\\n",
       "0                                                  NaN   \n",
       "1                                                  NaN   \n",
       "2                                                  NaN   \n",
       "3                                                  NaN   \n",
       "4                                                  NaN   \n",
       "5                                                  NaN   \n",
       "6                                                  NaN   \n",
       "7                                                  NaN   \n",
       "8                                                  NaN   \n",
       "9                                                  NaN   \n",
       "10                                                 NaN   \n",
       "11                                                 NaN   \n",
       "12                                                 NaN   \n",
       "13                                                 NaN   \n",
       "14                                                 NaN   \n",
       "15                                                 NaN   \n",
       "16                             На полке лежит 11 книг.   \n",
       "17                             На полке лежит 93 книг.   \n",
       "18                             На полке лежит 22 книг.   \n",
       "19                             На полке лежит 57 книг.   \n",
       "20                             На полке лежит 40 книг.   \n",
       "21                             На полке лежит 44 книг.   \n",
       "22                             На полке лежит 24 книг.   \n",
       "23                             На полке лежит 61 книг.   \n",
       "24                              На полке лежит 6 книг.   \n",
       "25                             На полке лежит 46 книг.   \n",
       "26                             На полке лежит 65 книг.   \n",
       "27                             На полке лежит 80 книг.   \n",
       "28                             На полке лежит 83 книг.   \n",
       "29                             На полке лежит 58 книг.   \n",
       "..                                                 ...   \n",
       "307       Алексею 55 лет. Сергей моложе его на 13 лет.   \n",
       "308        Алексею 58 лет. Сергей моложе его на 9 лет.   \n",
       "309        Алексею 58 лет. Сергей моложе его на 7 лет.   \n",
       "310        Алексею 20 лет. Сергей моложе его на 9 лет.   \n",
       "311        Алексею 58 лет. Сергей моложе его на 7 лет.   \n",
       "312        Алексею 19 лет. Сергей моложе его на 6 лет.   \n",
       "313       Алексею 30 лет. Сергей моложе его на 12 лет.   \n",
       "314       Алексею 48 лет. Сергей моложе его на 13 лет.   \n",
       "315  На мультфильме в кинотеатре во втором ряду сид...   \n",
       "316  На мультфильме в кинотеатре во втором ряду сид...   \n",
       "317  На мультфильме в кинотеатре во втором ряду сид...   \n",
       "318  На мультфильме в кинотеатре во втором ряду сид...   \n",
       "319  На мультфильме в кинотеатре во втором ряду сид...   \n",
       "320  На мультфильме в кинотеатре во втором ряду сид...   \n",
       "321  На мультфильме в кинотеатре во втором ряду сид...   \n",
       "322  На мультфильме в кинотеатре во втором ряду сид...   \n",
       "323  На мультфильме в кинотеатре во втором ряду сид...   \n",
       "324  На мультфильме в кинотеатре во втором ряду сид...   \n",
       "325  На мультфильме в кинотеатре во втором ряду сид...   \n",
       "326  На мультфильме в кинотеатре во втором ряду сид...   \n",
       "327  На мультфильме в кинотеатре во втором ряду сид...   \n",
       "328  На мультфильме в кинотеатре во втором ряду сид...   \n",
       "329  На мультфильме в кинотеатре во втором ряду сид...   \n",
       "330  На мультфильме в кинотеатре во втором ряду сид...   \n",
       "331  На мультфильме в кинотеатре во втором ряду сид...   \n",
       "332  На мультфильме в кинотеатре во втором ряду сид...   \n",
       "333  На мультфильме в кинотеатре во втором ряду сид...   \n",
       "334  На мультфильме в кинотеатре во втором ряду сид...   \n",
       "335  На мультфильме в кинотеатре во втором ряду сид...   \n",
       "336  На мультфильме в кинотеатре во втором ряду сид...   \n",
       "\n",
       "                                                     1  2  \n",
       "0                         На сколько 178 меньше 96841? -1  \n",
       "1                         На сколько 308 меньше 85103? -1  \n",
       "2                          На сколько 37 меньше 65506? -1  \n",
       "3                         На сколько 740 меньше 32543? -1  \n",
       "4                         На сколько 874 меньше 19053? -1  \n",
       "5                         На сколько 915 меньше 25556? -1  \n",
       "6                          На сколько 62 меньше 69022? -1  \n",
       "7                         На сколько 941 меньше 52867? -1  \n",
       "8                          На сколько 98 меньше 34774? -1  \n",
       "9                         На сколько 629 меньше 22855? -1  \n",
       "10                        На сколько 317 меньше 16718? -1  \n",
       "11                        На сколько 439 меньше 15561? -1  \n",
       "12                        На сколько 713 меньше 24415? -1  \n",
       "13                        На сколько 737 меньше 10348? -1  \n",
       "14                        На сколько 476 меньше 58531? -1  \n",
       "15                        На сколько 502 меньше 14293? -1  \n",
       "16                Сколько всего страниц в этих книгах? -1  \n",
       "17                Сколько всего страниц в этих книгах? -1  \n",
       "18                Сколько всего страниц в этих книгах? -1  \n",
       "19                Сколько всего страниц в этих книгах? -1  \n",
       "20                Сколько всего страниц в этих книгах? -1  \n",
       "21                Сколько всего страниц в этих книгах? -1  \n",
       "22                Сколько всего страниц в этих книгах? -1  \n",
       "23                Сколько всего страниц в этих книгах? -1  \n",
       "24                Сколько всего страниц в этих книгах? -1  \n",
       "25                Сколько всего страниц в этих книгах? -1  \n",
       "26                Сколько всего страниц в этих книгах? -1  \n",
       "27                Сколько всего страниц в этих книгах? -1  \n",
       "28                Сколько всего страниц в этих книгах? -1  \n",
       "29                Сколько всего страниц в этих книгах? -1  \n",
       "..                                                 ... ..  \n",
       "307    Сколько было лет Сергею, когда Алексей родился? -1  \n",
       "308    Сколько было лет Сергею, когда Алексей родился? -1  \n",
       "309    Сколько было лет Сергею, когда Алексей родился? -1  \n",
       "310    Сколько было лет Сергею, когда Алексей родился? -1  \n",
       "311    Сколько было лет Сергею, когда Алексей родился? -1  \n",
       "312    Сколько было лет Сергею, когда Алексей родился? -1  \n",
       "313    Сколько было лет Сергею, когда Алексей родился? -1  \n",
       "314    Сколько было лет Сергею, когда Алексей родился? -1  \n",
       "315  Сколько мальчиков и девочек вместе сидело на в... -1  \n",
       "316  Сколько мальчиков и девочек вместе сидело на в... -1  \n",
       "317  Сколько мальчиков и девочек вместе сидело на в... -1  \n",
       "318  Сколько мальчиков и девочек вместе сидело на в... -1  \n",
       "319  Сколько мальчиков и девочек вместе сидело на в... -1  \n",
       "320  Сколько мальчиков и девочек вместе сидело на в... -1  \n",
       "321  Сколько мальчиков и девочек вместе сидело на в... -1  \n",
       "322  Сколько мальчиков и девочек вместе сидело на в... -1  \n",
       "323  Сколько мальчиков и девочек вместе сидело на в... -1  \n",
       "324  Сколько мальчиков и девочек вместе сидело на в... -1  \n",
       "325  Сколько мальчиков и девочек вместе сидело на в... -1  \n",
       "326  Сколько мальчиков и девочек вместе сидело на в... -1  \n",
       "327  Сколько мальчиков и девочек вместе сидело на в... -1  \n",
       "328  Сколько мальчиков и девочек вместе сидело на в... -1  \n",
       "329  Сколько мальчиков и девочек вместе сидело на в... -1  \n",
       "330  Сколько мальчиков и девочек вместе сидело на в... -1  \n",
       "331  Сколько мальчиков и девочек вместе сидело на в... -1  \n",
       "332  Сколько мальчиков и девочек вместе сидело на в... -1  \n",
       "333  Сколько мальчиков и девочек вместе сидело на в... -1  \n",
       "334  Сколько мальчиков и девочек вместе сидело на в... -1  \n",
       "335  Сколько мальчиков и девочек вместе сидело на в... -1  \n",
       "336  Сколько мальчиков и девочек вместе сидело на в... -1  \n",
       "\n",
       "[337 rows x 3 columns]"
      ]
     },
     "execution_count": 683,
     "metadata": {},
     "output_type": "execute_result"
    }
   ],
   "source": [
    "pd.read_csv('augmented_sents_bad.txt', sep='\\t', header=None)"
   ]
  }
 ],
 "metadata": {
  "kernelspec": {
   "display_name": "Python 3",
   "language": "python",
   "name": "python3"
  },
  "language_info": {
   "codemirror_mode": {
    "name": "ipython",
    "version": 3
   },
   "file_extension": ".py",
   "mimetype": "text/x-python",
   "name": "python",
   "nbconvert_exporter": "python",
   "pygments_lexer": "ipython3",
   "version": "3.5.2"
  }
 },
 "nbformat": 4,
 "nbformat_minor": 2
}
