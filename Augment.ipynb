{
 "cells": [
  {
   "cell_type": "code",
   "execution_count": 4,
   "metadata": {},
   "outputs": [],
   "source": [
    "from numpy.random import randint\n",
    "from random import choice\n",
    "# import pickle\n",
    "import dill as pickle"
   ]
  },
  {
   "cell_type": "code",
   "execution_count": 5,
   "metadata": {},
   "outputs": [],
   "source": [
    "# mnames = list(open('names_male_imeniteln.txt').read().splitlines())\n",
    "# fnames = list(open('names_female_imeniteln.txt').read().splitlines())"
   ]
  },
  {
   "cell_type": "code",
   "execution_count": 6,
   "metadata": {},
   "outputs": [],
   "source": [
    "fpat = pickle.load(open('pattern.pkl', 'rb'))"
   ]
  },
  {
   "cell_type": "code",
   "execution_count": 93,
   "metadata": {},
   "outputs": [],
   "source": [
    "fpat = []"
   ]
  },
  {
   "cell_type": "code",
   "execution_count": 7,
   "metadata": {},
   "outputs": [
    {
     "data": {
      "text/plain": [
       "103"
      ]
     },
     "execution_count": 7,
     "metadata": {},
     "output_type": "execute_result"
    }
   ],
   "source": [
    "len(fpat)"
   ]
  },
  {
   "cell_type": "code",
   "execution_count": 103,
   "metadata": {},
   "outputs": [],
   "source": [
    "\n",
    "# nums = {'cn1':0, 'qn1':0}\n",
    "# # names = ['mname', 'fname']\n",
    "# co = 'Полина и Петя сорвали с дерева {cn1} орехов.'\n",
    "# q = 'Сколько орехов у Пети, если Полина сорвала {qn1}?'\n",
    "# formula = 'cn1 - qn1'\n",
    "\n",
    "# def get_answer(nums):\n",
    "#     a = nums['cn1'] - nums['qn1']\n",
    "#     return a\n",
    "# fpat.append((nums, co, q, get_answer, formula))"
   ]
  },
  {
   "cell_type": "code",
   "execution_count": 114,
   "metadata": {},
   "outputs": [
    {
     "name": "stdout",
     "output_type": "stream",
     "text": [
      "('У Маши было 42 брелков. У Насти было 160 брелков.', 'Сколько у них брелков?', 202)\n"
     ]
    }
   ],
   "source": [
    "\n",
    "nums = {'cn1':0, 'cn2':0}\n",
    "\n",
    "co = \"У Маши было {cn1} брелков. У Насти было {cn2} брелков.\"\n",
    "q = \"Сколько у них брелков?\"\n",
    "\n",
    "formula = 'cn1 + cn2'\n",
    "def get_answer(nums):\n",
    "    a = nums['cn1'] + nums['cn2']\n",
    "    return a\n",
    "print(gen_new(*(nums, co, q, get_answer, formula)))\n"
   ]
  },
  {
   "cell_type": "code",
   "execution_count": 115,
   "metadata": {},
   "outputs": [],
   "source": [
    "fpat.append((nums, co, q, get_answer, formula))"
   ]
  },
  {
   "cell_type": "code",
   "execution_count": 120,
   "metadata": {},
   "outputs": [
    {
     "name": "stdout",
     "output_type": "stream",
     "text": [
      "('Юля собрала 161 яблок, а Андрей собрал 156.', 'Сколько яблок у Юли и Андрея?', 317)\n"
     ]
    }
   ],
   "source": [
    "\n",
    "nums = {'cn1':0, 'cn2':0}\n",
    "\n",
    "co = \"Юля собрала {cn1} яблок, а Андрей собрал {cn2}.\"\n",
    "q = \"Сколько яблок у Юли и Андрея?\"\n",
    "\n",
    "formula = 'cn1 + cn2'\n",
    "def get_answer(nums):\n",
    "    a = nums['cn1'] + nums['cn2']\n",
    "    return a\n",
    "print(gen_new(*(nums, co, q, get_answer, formula)))"
   ]
  },
  {
   "cell_type": "code",
   "execution_count": 123,
   "metadata": {},
   "outputs": [
    {
     "name": "stdout",
     "output_type": "stream",
     "text": [
      "('Виктор и Кристина вместе взяли из коробки 127 конфет.', 'Сколько взял Виктор, если Кристина взяла 9?', 118)\n"
     ]
    }
   ],
   "source": [
    "\n",
    "nums = {'cn1':0, 'qn1':0}\n",
    "\n",
    "co = \"Виктор и Кристина вместе взяли из коробки {cn1} конфет.\"\n",
    "q = \"Сколько взял Виктор, если Кристина взяла {qn1}?\"\n",
    "\n",
    "formula = 'cn1 - qn1'\n",
    "def get_answer(nums):\n",
    "    a = nums['cn1'] - nums['qn1']\n",
    "    return a\n",
    "print(gen_new(*(nums, co, q, get_answer, formula)))"
   ]
  },
  {
   "cell_type": "code",
   "execution_count": 138,
   "metadata": {},
   "outputs": [
    {
     "name": "stdout",
     "output_type": "stream",
     "text": [
      "('У Коли было 138 рублей. Он дал своему однокласснику 70 рублей.', 'Сколько у него осталось?', 68)\n"
     ]
    }
   ],
   "source": [
    "\n",
    "nums = {'cn1':0, 'cn2':0}\n",
    "\n",
    "co = \"У Коли было {cn1} рублей. Он дал своему однокласснику {cn2} рублей.\"\n",
    "q = \"Сколько у него осталось?\"\n",
    "\n",
    "formula = 'cn1 - cn2'\n",
    "def get_answer(nums):\n",
    "    a = nums['cn1'] - nums['cn2']\n",
    "    return a\n",
    "print(gen_new(*(nums, co, q, get_answer, formula)))"
   ]
  },
  {
   "cell_type": "code",
   "execution_count": 35,
   "metadata": {},
   "outputs": [
    {
     "name": "stdout",
     "output_type": "stream",
     "text": [
      "('', 'Какое число превосходит 104 в 49 раз', 5096)\n"
     ]
    }
   ],
   "source": [
    "\n",
    "nums = {'qn1':0, 'qn2':0}\n",
    "\n",
    "co = \"\"\n",
    "q = \"Какое число превосходит {qn1} в {qn2} раз\"\n",
    "\n",
    "formula = 'qn1*qn2'\n",
    "def get_answer(nums):\n",
    "    a = nums['qn1']*nums['qn2']\n",
    "    return a\n",
    "\n",
    "print(gen_new(*(nums, co, q, get_answer, formula)))"
   ]
  },
  {
   "cell_type": "code",
   "execution_count": 48,
   "metadata": {},
   "outputs": [
    {
     "name": "stdout",
     "output_type": "stream",
     "text": [
      "('Обед в столовой обошелся Семёну в 346 рублей. После этого у него осталось ещё 169 рублей.', 'Сколько рублей было у Семёна до похода в столовую?', 515)\n"
     ]
    }
   ],
   "source": [
    "\n",
    "nums = {'cn1':0, 'cn2':0}\n",
    "\n",
    "co = \"Обед в столовой обошелся Семёну в {cn1} рублей. После этого у него осталось ещё {cn2} рублей.\"\n",
    "q = \"Сколько рублей было у Семёна до похода в столовую?\"\n",
    "\n",
    "\n",
    "formula = 'cn1+cn2'\n",
    "def get_answer(nums):\n",
    "    a = nums['cn1']+nums['cn2']\n",
    "    return a\n",
    "\n",
    "print(gen_new(*(nums, co, q, get_answer, formula)))"
   ]
  },
  {
   "cell_type": "code",
   "execution_count": 55,
   "metadata": {},
   "outputs": [
    {
     "name": "stdout",
     "output_type": "stream",
     "text": [
      "('У Толи было 174 рублей. После похода в кафе у него осталось 113.', 'Сколько он потратил?', 61)\n"
     ]
    }
   ],
   "source": [
    "\n",
    "nums = {'cn1':0, 'cn2':0}\n",
    "\n",
    "co = \"У Толи было {cn1} рублей. После похода в кафе у него осталось {cn2}.\"\n",
    "q = \"Сколько он потратил?\"\n",
    "\n",
    "\n",
    "formula = 'cn1-cn2'\n",
    "def get_answer(nums):\n",
    "    a = nums['cn1']-nums['cn2']\n",
    "    return a\n",
    "\n",
    "print(gen_new(*(nums, co, q, get_answer, formula)))"
   ]
  },
  {
   "cell_type": "code",
   "execution_count": 66,
   "metadata": {},
   "outputs": [
    {
     "name": "stdout",
     "output_type": "stream",
     "text": [
      "('Вечером 22 декабря на катке в парке каталось 328 людей.  К 9 вечера часть людей разошлась по домам. На катке осталось 320 людей.', 'Сколько людей ушло к 9 вечера?', 8)\n"
     ]
    }
   ],
   "source": [
    "\n",
    "nums = {'cn1':0, 'cn2':0}\n",
    "\n",
    "co = \"Вечером 22 декабря на катке в парке каталось {cn1} людей.  К 9 вечера часть людей разошлась по домам. На катке осталось {cn2} людей.\"\n",
    "q = \"Сколько людей ушло к 9 вечера?\"\n",
    "\n",
    "\n",
    "formula = 'cn1-cn2'\n",
    "def get_answer(nums):\n",
    "    a = nums['cn1']-nums['cn2']\n",
    "    return a\n",
    "\n",
    "print(gen_new(*(nums, co, q, get_answer, formula)))"
   ]
  },
  {
   "cell_type": "code",
   "execution_count": 76,
   "metadata": {},
   "outputs": [
    {
     "name": "stdout",
     "output_type": "stream",
     "text": [
      "('На цирковой арене выступали собаки, кошки и дрессировщик. Всего на арене находилось 394 животных.', 'Сколько кошек выступало на арене, если собак было на 210 больше?', 92)\n"
     ]
    }
   ],
   "source": [
    "\n",
    "\n",
    "nums = {'cn1':0, 'qn1':0}\n",
    "\n",
    "co = \"На цирковой арене выступали собаки, кошки и дрессировщик. Всего на арене находилось {cn1} животных.\"\n",
    "q = \"Сколько кошек выступало на арене, если собак было на {qn1} больше?\"\n",
    "\n",
    "\n",
    "formula = '(cn1-qn1)/2'\n",
    "def get_answer(nums):\n",
    "    a = (nums['cn1']-nums['qn1'])/2\n",
    "    return a\n",
    "\n",
    "print(gen_new(*(nums, co, q, get_answer, formula)))"
   ]
  },
  {
   "cell_type": "code",
   "execution_count": 117,
   "metadata": {},
   "outputs": [
    {
     "name": "stdout",
     "output_type": "stream",
     "text": [
      "('Длина первой комнаты - 16 метра. Вторая комната в 2 раза длиннее.', 'Чему равна сумма их длин?', 48)\n"
     ]
    }
   ],
   "source": [
    "\n",
    "\n",
    "\n",
    "\n",
    "nums = {'cn1':0, 'cn2':0,}\n",
    "\n",
    "co = \"Длина первой комнаты - {cn1} метра. Вторая комната в {cn2} раза длиннее.\"\n",
    "q = \"Чему равна сумма их длин?\"\n",
    "\n",
    "\n",
    "formula = 'cn1 + (cn1 * cn2)'\n",
    "def get_answer(nums):\n",
    "    a = (nums['cn1']+(nums['cn2']*nums['cn1']))\n",
    "    return a\n",
    "\n",
    "print(gen_new(*(nums, co, q, get_answer, formula, 100)))"
   ]
  },
  {
   "cell_type": "code",
   "execution_count": 136,
   "metadata": {},
   "outputs": [
    {
     "name": "stdout",
     "output_type": "stream",
     "text": [
      "('Вторая палка в 20 раза длинее первой.', 'Чему равна сумма длин двух палок, если длина второй равна 60 м?', 63)\n"
     ]
    }
   ],
   "source": [
    "\n",
    "\n",
    "\n",
    "\n",
    "nums = {'cn1':0, 'qn1':0,}\n",
    "\n",
    "co = \"Вторая палка в {cn1} раза длинее первой.\"\n",
    "q = \"Чему равна сумма длин двух палок, если длина второй равна {qn1} м?\"\n",
    "\n",
    "\n",
    "formula = 'qn1 + (qn1/cn1)'\n",
    "def get_answer(nums):\n",
    "    a = (nums['qn1']+(nums['qn1']/nums['cn1']))\n",
    "    return a\n",
    "\n",
    "print(gen_new(*(nums, co, q, get_answer, formula, 200)))"
   ]
  },
  {
   "cell_type": "code",
   "execution_count": 164,
   "metadata": {},
   "outputs": [
    {
     "name": "stdout",
     "output_type": "stream",
     "text": [
      "('На огороде 6 грядок с морковкой. На каждой грядке 4 рядов. В каждом ряде 24 морковок.', 'Сколько всего морковок растён на огороде?', 576)\n"
     ]
    }
   ],
   "source": [
    "\n",
    "\n",
    "\n",
    "nums = {'cn1':0, 'cn2':0, \"cn3\":0}\n",
    "\n",
    "co = \"На огороде {cn1} грядок с капустой. На каждой грядке {cn2} рядов. В каждом ряде {cn3} морковок.\"\n",
    "q = \"Сколько всего морковок растён на огороде?\"\n",
    "\n",
    "\n",
    "formula = 'cn1*cn2*cn3'\n",
    "def get_answer(nums):\n",
    "    a = (nums['cn1']*nums['cn2']*nums[\"cn3\"])\n",
    "    return a\n",
    "\n",
    "print(gen_new(*(nums, co, q, get_answer, formula, 600)))"
   ]
  },
  {
   "cell_type": "code",
   "execution_count": 201,
   "metadata": {},
   "outputs": [
    {
     "name": "stdout",
     "output_type": "stream",
     "text": [
      "('', 'Сколько получится, если 396 поделить на 132, а затем прибавить 10?', 13)\n"
     ]
    }
   ],
   "source": [
    "\n",
    "\n",
    "\n",
    "nums = {'qn1':0, 'qn2':0, \"qn3\":0}\n",
    "\n",
    "co = \"\"\n",
    "q = \"Сколько получится, если {qn1} поделить на {qn2}, а затем прибавить {qn3}?\"\n",
    "\n",
    "\n",
    "formula = '(qn1/qn2)+qn3'\n",
    "def get_answer(nums):\n",
    "    a = (nums['qn1']/nums['qn2'])+nums['qn3']\n",
    "    return a\n",
    "\n",
    "print(gen_new(*(nums, co, q, get_answer, formula, 200)))"
   ]
  },
  {
   "cell_type": "code",
   "execution_count": 163,
   "metadata": {},
   "outputs": [
    {
     "name": "stdout",
     "output_type": "stream",
     "text": [
      "('У Ани 10 листочков. А у Димы в 5 раз больше.', 'Сколько листочков у них вместе?', 60)\n"
     ]
    }
   ],
   "source": [
    "\n",
    "\n",
    "\n",
    "nums = {'cn2':0, 'cn1':0}\n",
    "\n",
    "co = \"У Ани {cn1} листочков. А у Димы в {cn2} раз больше.\"\n",
    "q = \"Сколько листочков у них вместе?\"\n",
    "\n",
    "\n",
    "formula = '(cn1*cn2)+cn1'\n",
    "def get_answer(nums):\n",
    "    a = (nums['cn1']*nums['cn2'])+nums['cn1']\n",
    "    return a\n",
    "\n",
    "print(gen_new(*(nums, co, q, get_answer, formula, 200)))"
   ]
  },
  {
   "cell_type": "code",
   "execution_count": 183,
   "metadata": {},
   "outputs": [
    {
     "name": "stdout",
     "output_type": "stream",
     "text": [
      "('Аня, Витя и Майа строили домики из конструктора. Аня использовала 191 деталей, Витя использовал на 168 деталей меньше, чем Аня, а Майа - на 65 больше, чем Витя.', 'Какое количество деталей использовала Майа?', 88)\n"
     ]
    }
   ],
   "source": [
    "\n",
    "\n",
    "\n",
    "\n",
    "\n",
    "nums = {'cn2':0, 'cn1':0, 'cn3':0}\n",
    "\n",
    "co = \"Аня, Витя и Майа строили домики из конструктора. Аня использовала {cn1} деталей, Витя использовал на {cn2} деталей меньше, чем Аня, а Майа - на {cn3} больше, чем Витя.\"\n",
    "q = \"Какое количество деталей использовала Майа?\"\n",
    "\n",
    "\n",
    "formula = '(cn1-cn2)+cn3'\n",
    "def get_answer(nums):\n",
    "    b = (nums['cn1']-nums['cn2'])\n",
    "    if not b:\n",
    "        return 0\n",
    "    a = b+nums['cn3']\n",
    "    return a\n",
    "\n",
    "print(gen_new(*(nums, co, q, get_answer, formula, 200)))"
   ]
  },
  {
   "cell_type": "code",
   "execution_count": 194,
   "metadata": {},
   "outputs": [
    {
     "name": "stdout",
     "output_type": "stream",
     "text": [
      "('Сергею сейчас 3 лет. Ане - 13 года. А Марии - 1.', 'Сколько лет Мите, если известно, что ему столько, сколько остальным ребятам вместе взятым?', 17)\n"
     ]
    }
   ],
   "source": [
    "\n",
    "\n",
    "\n",
    "\n",
    "\n",
    "\n",
    "nums = {'cn2':0, 'cn1':0, 'cn3':0}\n",
    "\n",
    "co = \"Сергею сейчас {cn1} лет. Ане - {cn2} года. А Марии - {cn3}.\"\n",
    "q = \"Сколько лет Мите, если известно, что ему столько, сколько остальным ребятам вместе взятым?\"\n",
    "\n",
    "\n",
    "formula = '(cn1+cn2)+cn3'\n",
    "def get_answer(nums):\n",
    "    \n",
    "    \n",
    "    a = nums['cn1']+nums['cn2']+nums['cn3']\n",
    "    return a\n",
    "\n",
    "print(gen_new(*(nums, co, q, get_answer, formula, 30)))"
   ]
  },
  {
   "cell_type": "code",
   "execution_count": 210,
   "metadata": {},
   "outputs": [
    {
     "name": "stdout",
     "output_type": "stream",
     "text": [
      "('Тузик съел 16 граммов корма в субботу и 185 граммов корма в воскресенье.', 'Сколько корма съел Тузик за субботу и воскресенье?', 201)\n"
     ]
    }
   ],
   "source": [
    "\n",
    "nums = {'cn1':0, 'cn2':0}\n",
    "\n",
    "co = \"Тузик съел {cn1} граммов корма в субботу и {cn2} граммов корма в воскресенье.\"\n",
    "q = \"Сколько корма съел Тузик за субботу и воскресенье?\"\n",
    "\n",
    "\n",
    "formula = 'cn1+cn2'\n",
    "def get_answer(nums):\n",
    "    \n",
    "    \n",
    "    a = nums['cn1']+nums['cn2']\n",
    "    return a\n",
    "\n",
    "print(gen_new(*(nums, co, q, get_answer, formula, 500)))"
   ]
  },
  {
   "cell_type": "code",
   "execution_count": 221,
   "metadata": {},
   "outputs": [
    {
     "name": "stdout",
     "output_type": "stream",
     "text": [
      "('Костя и Миша купили 4 пломбира (по два каждому), стоимостью 10 руб, 1 руб, 58 руб и 7 руб.', 'Сколько мальчики заплатили за мороженое?', 76)\n"
     ]
    }
   ],
   "source": [
    "\t\t210\n",
    "\n",
    "nums = {'cn1':0, 'cn2':0, \"cn3\":0, \"cn4\":0}\n",
    "\n",
    "co = \"Костя и Миша купили 4 пломбира (по два каждому), стоимостью {cn1} руб, {cn2} руб, {cn3} руб и {cn4} руб.\"\n",
    "q = \"Сколько мальчики заплатили за мороженое?\"\n",
    "\n",
    "\n",
    "formula = 'cn1+cn2+cn3+cn4'\n",
    "def get_answer(nums):\n",
    "    \n",
    "    \n",
    "    a = nums['cn1']+nums['cn2']+nums[\"cn3\"]+nums[\"cn4\"]\n",
    "    return a\n",
    "\n",
    "print(gen_new(*(nums, co, q, get_answer, formula, 100)))"
   ]
  },
  {
   "cell_type": "code",
   "execution_count": 247,
   "metadata": {},
   "outputs": [
    {
     "name": "stdout",
     "output_type": "stream",
     "text": [
      "('У первого видеоролика 50 просмотров. У второго - 25 просмотров.', 'Чему равно общее количество просмотров этих двух роликов?', 75)\n"
     ]
    }
   ],
   "source": [
    "\n",
    "nums = {'cn1':0, 'cn2':0}\n",
    "\n",
    "co = \"У первого видеоролика {cn1} просмотров. У второго - {cn2} просмотров.\"\n",
    "q = \"Чему равно общее количество просмотров этих двух роликов?\"\n",
    "\n",
    "\n",
    "formula = 'cn1+сn2'\n",
    "def get_answer(nums):\n",
    "    \n",
    "    \n",
    "    a = nums['cn1']+nums['cn2']\n",
    "    return a\n",
    "\n",
    "print(gen_new(*(nums, co, q, get_answer, formula, 100)))"
   ]
  },
  {
   "cell_type": "code",
   "execution_count": 261,
   "metadata": {},
   "outputs": [
    {
     "name": "stdout",
     "output_type": "stream",
     "text": [
      "('Алик собрал 61 яиц. Под них у него было заготовлено 4 пустыx коробок. В каждую коробку помещается 20 яиц.', 'Сколько яиц не хватает Алику, чтобы заполнить все коробки?', 19)\n"
     ]
    }
   ],
   "source": [
    "\n",
    "nums = {'cn1':0, 'cn2':0, 'cn3':0}\n",
    "\n",
    "co = \"Алик собрал {cn1} яиц. Под них у него было заготовлено {cn2} пустыx коробок. В каждую коробку помещается {cn3} яиц.\"\n",
    "q = \"Сколько яиц не хватает Алику, чтобы заполнить все коробки?\"\n",
    "\n",
    "\n",
    "formula = '(cn2*сn3)-cn1'\n",
    "def get_answer(nums):\n",
    "    \n",
    "    \n",
    "    a = (nums['cn2']*nums['cn3'])-nums['cn1']\n",
    "    return a\n",
    "\n",
    "print(gen_new(*(nums, co, q, get_answer, formula, 100)))"
   ]
  },
  {
   "cell_type": "code",
   "execution_count": 271,
   "metadata": {},
   "outputs": [
    {
     "name": "stdout",
     "output_type": "stream",
     "text": [
      "('Из ёмкости, в которой было 86 л воды, зачерпнули два ведра для полива.', 'Сколько литров воды осталось в ёмкости, если в каждом ведре было 19 л?', 48)\n"
     ]
    }
   ],
   "source": [
    "\n",
    "nums = {'cn1':0, 'qn1':0, }\n",
    "\n",
    "co = \"Из ёмкости, в которой было {cn1} л воды, зачерпнули два ведра для полива.\"\n",
    "q = \"Сколько литров воды осталось в ёмкости, если в каждом ведре было {qn1} л?\"\n",
    "\n",
    "\n",
    "formula = ''\n",
    "def get_answer(nums):\n",
    "    \n",
    "    \n",
    "    a = nums['cn1']-(nums['qn1']*2)\n",
    "    return a\n",
    "\n",
    "print(gen_new(*(nums, co, q, get_answer, formula, 100)))"
   ]
  },
  {
   "cell_type": "code",
   "execution_count": 287,
   "metadata": {},
   "outputs": [
    {
     "name": "stdout",
     "output_type": "stream",
     "text": [
      "('В книжный магазин поступило 269 экземпляров сказок Пушкина. В первый день большую часть раскупили и в книжном осталось всего 75 экземпляров.', 'Сколько сказок купили в первый день?', 194)\n"
     ]
    }
   ],
   "source": [
    "\n",
    "\n",
    "\n",
    "nums = {'cn1':0, 'cn2':0 }\n",
    "\n",
    "co = \"В книжный магазин поступило {cn1} экземпляров сказок Пушкина. В первый день большую часть раскупили и в книжном осталось всего {cn2} экземпляров.\"\n",
    "q = \"Сколько сказок купили в первый день?\"\n",
    "\n",
    "\n",
    "formula = 'cn1-cn2'\n",
    "def get_answer(nums):\n",
    "    \n",
    "    \n",
    "    a = nums['cn1']-nums['cn2']\n",
    "    if (a-10) < nums['cn2']:\n",
    "        return 0\n",
    "    \n",
    "    return a\n",
    "\n",
    "print(gen_new(*(nums, co, q, get_answer, formula, 300)))"
   ]
  },
  {
   "cell_type": "code",
   "execution_count": 298,
   "metadata": {},
   "outputs": [
    {
     "name": "stdout",
     "output_type": "stream",
     "text": [
      "('У мамы в наборе для шитья лежало 283 пуговицы. Дочка взяла у мамы 267 пуговиц, но потом 168 вернула.', 'Сколько пуговиц осталось в наборе у мамы?', 184)\n"
     ]
    }
   ],
   "source": [
    "\n",
    "nums = {'cn1':0, 'cn2':0, 'cn3':0}\n",
    "\n",
    "co = \"У мамы в наборе для шитья лежало {cn1} пуговицы. Дочка взяла у мамы {cn2} пуговиц, но потом {cn3} вернула.\"\n",
    "q = \"Сколько пуговиц осталось в наборе у мамы?\"\n",
    "\n",
    "\n",
    "formula = 'cn1-cn2+cn3'\n",
    "def get_answer(nums):\n",
    "    \n",
    "    if nums['cn3'] > nums['cn2'] or nums['cn2'] > nums['cn1']:\n",
    "        return 0\n",
    "    a = nums['cn1']-nums['cn2']+nums['cn3']\n",
    "    \n",
    "    \n",
    "    return a\n",
    "\n",
    "print(gen_new(*(nums, co, q, get_answer, formula, 300)))"
   ]
  },
  {
   "cell_type": "code",
   "execution_count": 222,
   "metadata": {},
   "outputs": [
    {
     "name": "stdout",
     "output_type": "stream",
     "text": [
      "('Хоккейная команда сыграла 12 матчей в рамках турнира. В 7 команда одержала победу, а в 1 - потерпела поражение.', 'Сколько матчей она провела вничью?', 4)\n"
     ]
    }
   ],
   "source": [
    "\n",
    "nums = {'cn1':0, 'cn2':0, 'cn3':0}\n",
    "\n",
    "co = \"Хоккейная команда сыграла {cn1} матчей в рамках турнира. В {cn2} команда одержала победу, а в {cn3} - потерпела поражение.\"\n",
    "q = \"Сколько матчей она провела вничью?\"\n",
    "\n",
    "\n",
    "formula = 'cn1-(cn2+cn3)'\n",
    "def get_answer(nums):\n",
    "    \n",
    "\n",
    "    a = nums['cn1']-(nums['cn2']+nums['cn3'])    \n",
    "    \n",
    "    return a\n",
    "\n",
    "print(gen_new(*(nums, co, q, get_answer, formula, 100)))"
   ]
  },
  {
   "cell_type": "code",
   "execution_count": 232,
   "metadata": {},
   "outputs": [
    {
     "name": "stdout",
     "output_type": "stream",
     "text": [
      "('Поезд должен был прибыть на вокзал в 7 часов 37 минут.', 'На сколько минут поезд опоздал, если в действительности он приехал только в 8 часов 34 минут?', 57)\n"
     ]
    }
   ],
   "source": [
    "\n",
    "\n",
    "nums = {'cn1':0, 'qn1':0,}\n",
    "\n",
    "co = \"Поезд должен был прибыть на вокзал в 7 часов {cn1} минут.\"\n",
    "q = \"На сколько минут поезд опоздал, если в действительности он приехал только в 8 часов {qn1} минут?\"\n",
    "\n",
    "\n",
    "formula = '(60-cn1)+qn1'\n",
    "def get_answer(nums):\n",
    "    \n",
    "    if nums['cn1'] > 59 or nums['qn1'] > 59:\n",
    "        return 0\n",
    "    \n",
    "        \n",
    "    a = (60-nums['cn1'])+nums['qn1']\n",
    "    \n",
    "    return a\n",
    "\n",
    "print(gen_new(*(nums, co, q, get_answer, formula, 100)))"
   ]
  },
  {
   "cell_type": "code",
   "execution_count": 252,
   "metadata": {},
   "outputs": [
    {
     "name": "stdout",
     "output_type": "stream",
     "text": [
      "('В шкафу 2 полок. На каждой полке лежит одинаковое количество рубашек. Всего в шкафу 8 рубашек.', 'Сколько рубашек лежит на каждой полке?', 4)\n"
     ]
    }
   ],
   "source": [
    "\n",
    "\n",
    "\n",
    "\n",
    "nums = {'cn1':0, 'cn2':0}\n",
    "\n",
    "co = \"В шкафу {cn1} полок. На каждой полке лежит одинаковое количество рубашек. Всего в шкафу {cn2} рубашек.\"\n",
    "q = \"Сколько рубашек лежит на каждой полке?\"\n",
    "\n",
    "\n",
    "formula = 'cn2/сn1'\n",
    "def get_answer(nums):\n",
    "    \n",
    "    if nums['cn1'] > 10:\n",
    "        return 0\n",
    "    \n",
    "    \n",
    "    a = nums['cn2']/nums['cn1']\n",
    "    \n",
    "    return a\n",
    "\n",
    "print(gen_new(*(nums, co, q, get_answer, formula, 100)))"
   ]
  },
  {
   "cell_type": "code",
   "execution_count": 265,
   "metadata": {},
   "outputs": [
    {
     "name": "stdout",
     "output_type": "stream",
     "text": [
      "('В главном зале театра 34 рядов. А в каждом ряду 22 кресел.', 'Сколько людей вмещает этот зал?', 748)\n"
     ]
    }
   ],
   "source": [
    "\n",
    "\n",
    "\n",
    "nums = {'cn1':0, 'cn2':0}\n",
    "\n",
    "co = \"В главном зале театра {cn1} рядов. А в каждом ряду {cn2} кресел.\"\n",
    "q = \"Сколько людей вмещает этот зал?\"\n",
    "\n",
    "\n",
    "formula = 'cn2*сn1'\n",
    "def get_answer(nums):\n",
    "    \n",
    "    if nums['cn1'] < 30 or nums['cn2'] < 10:\n",
    "        return 0\n",
    "    a = nums['cn2']*nums['cn1']\n",
    "    \n",
    "    return a\n",
    "\n",
    "print(gen_new(*(nums, co, q, get_answer, formula, 1000)))"
   ]
  },
  {
   "cell_type": "code",
   "execution_count": 307,
   "metadata": {},
   "outputs": [
    {
     "ename": "RecursionError",
     "evalue": "maximum recursion depth exceeded in comparison",
     "output_type": "error",
     "traceback": [
      "\u001b[0;31m---------------------------------------------------------------------------\u001b[0m",
      "\u001b[0;31mRecursionError\u001b[0m                            Traceback (most recent call last)",
      "\u001b[0;32m<ipython-input-307-26ca642fe45d>\u001b[0m in \u001b[0;36m<module>\u001b[0;34m()\u001b[0m\n\u001b[1;32m     16\u001b[0m     \u001b[0;32mreturn\u001b[0m \u001b[0ma\u001b[0m\u001b[0;34m\u001b[0m\u001b[0m\n\u001b[1;32m     17\u001b[0m \u001b[0;34m\u001b[0m\u001b[0m\n\u001b[0;32m---> 18\u001b[0;31m \u001b[0mprint\u001b[0m\u001b[0;34m(\u001b[0m\u001b[0mgen_new\u001b[0m\u001b[0;34m(\u001b[0m\u001b[0;34m*\u001b[0m\u001b[0;34m(\u001b[0m\u001b[0mnums\u001b[0m\u001b[0;34m,\u001b[0m \u001b[0mco\u001b[0m\u001b[0;34m,\u001b[0m \u001b[0mq\u001b[0m\u001b[0;34m,\u001b[0m \u001b[0mget_answer\u001b[0m\u001b[0;34m,\u001b[0m \u001b[0mformula\u001b[0m\u001b[0;34m,\u001b[0m \u001b[0;36m150\u001b[0m\u001b[0;34m)\u001b[0m\u001b[0;34m)\u001b[0m\u001b[0;34m)\u001b[0m\u001b[0;34m\u001b[0m\u001b[0m\n\u001b[0m",
      "\u001b[0;32m<ipython-input-213-3745fafa298b>\u001b[0m in \u001b[0;36mgen_new\u001b[0;34m(nums, c, q, get_answer, form, rang)\u001b[0m\n\u001b[1;32m     25\u001b[0m         \u001b[0;32mreturn\u001b[0m \u001b[0mc\u001b[0m\u001b[0;34m.\u001b[0m\u001b[0mformat\u001b[0m\u001b[0;34m(\u001b[0m\u001b[0;34m**\u001b[0m\u001b[0mg_nums\u001b[0m\u001b[0;34m)\u001b[0m\u001b[0;34m,\u001b[0m \u001b[0mq\u001b[0m\u001b[0;34m.\u001b[0m\u001b[0mformat\u001b[0m\u001b[0;34m(\u001b[0m\u001b[0;34m**\u001b[0m\u001b[0mg_nums\u001b[0m\u001b[0;34m)\u001b[0m\u001b[0;34m,\u001b[0m \u001b[0mint\u001b[0m\u001b[0;34m(\u001b[0m\u001b[0ma\u001b[0m\u001b[0;34m)\u001b[0m\u001b[0;34m\u001b[0m\u001b[0m\n\u001b[1;32m     26\u001b[0m     \u001b[0;32melse\u001b[0m\u001b[0;34m:\u001b[0m\u001b[0;34m\u001b[0m\u001b[0m\n\u001b[0;32m---> 27\u001b[0;31m         \u001b[0;32mreturn\u001b[0m \u001b[0mgen_new\u001b[0m\u001b[0;34m(\u001b[0m\u001b[0mnums\u001b[0m\u001b[0;34m,\u001b[0m \u001b[0mc\u001b[0m\u001b[0;34m,\u001b[0m \u001b[0mq\u001b[0m\u001b[0;34m,\u001b[0m \u001b[0mget_answer\u001b[0m\u001b[0;34m,\u001b[0m \u001b[0m_\u001b[0m\u001b[0;34m,\u001b[0m \u001b[0mrang\u001b[0m\u001b[0;34m)\u001b[0m\u001b[0;34m\u001b[0m\u001b[0m\n\u001b[0m\u001b[1;32m     28\u001b[0m \u001b[0;34m\u001b[0m\u001b[0m\n",
      "... last 1 frames repeated, from the frame below ...\n",
      "\u001b[0;32m<ipython-input-213-3745fafa298b>\u001b[0m in \u001b[0;36mgen_new\u001b[0;34m(nums, c, q, get_answer, form, rang)\u001b[0m\n\u001b[1;32m     25\u001b[0m         \u001b[0;32mreturn\u001b[0m \u001b[0mc\u001b[0m\u001b[0;34m.\u001b[0m\u001b[0mformat\u001b[0m\u001b[0;34m(\u001b[0m\u001b[0;34m**\u001b[0m\u001b[0mg_nums\u001b[0m\u001b[0;34m)\u001b[0m\u001b[0;34m,\u001b[0m \u001b[0mq\u001b[0m\u001b[0;34m.\u001b[0m\u001b[0mformat\u001b[0m\u001b[0;34m(\u001b[0m\u001b[0;34m**\u001b[0m\u001b[0mg_nums\u001b[0m\u001b[0;34m)\u001b[0m\u001b[0;34m,\u001b[0m \u001b[0mint\u001b[0m\u001b[0;34m(\u001b[0m\u001b[0ma\u001b[0m\u001b[0;34m)\u001b[0m\u001b[0;34m\u001b[0m\u001b[0m\n\u001b[1;32m     26\u001b[0m     \u001b[0;32melse\u001b[0m\u001b[0;34m:\u001b[0m\u001b[0;34m\u001b[0m\u001b[0m\n\u001b[0;32m---> 27\u001b[0;31m         \u001b[0;32mreturn\u001b[0m \u001b[0mgen_new\u001b[0m\u001b[0;34m(\u001b[0m\u001b[0mnums\u001b[0m\u001b[0;34m,\u001b[0m \u001b[0mc\u001b[0m\u001b[0;34m,\u001b[0m \u001b[0mq\u001b[0m\u001b[0;34m,\u001b[0m \u001b[0mget_answer\u001b[0m\u001b[0;34m,\u001b[0m \u001b[0m_\u001b[0m\u001b[0;34m,\u001b[0m \u001b[0mrang\u001b[0m\u001b[0;34m)\u001b[0m\u001b[0;34m\u001b[0m\u001b[0m\n\u001b[0m\u001b[1;32m     28\u001b[0m \u001b[0;34m\u001b[0m\u001b[0m\n",
      "\u001b[0;31mRecursionError\u001b[0m: maximum recursion depth exceeded in comparison"
     ]
    }
   ],
   "source": [
    "\t\t18\n",
    "nums = {'cn1':0,'cn2':0, 'qn1':0}\n",
    "\n",
    "co = \"Чтобы полить {cn2} грядок с редисом, Коле нужно {cn1} литров воды.\"\n",
    "q = \"Сколько литров воды нужно Коле, чтобы полить {qn1} таких грядок?\"\n",
    "\n",
    "\n",
    "formula = '(cn2/cn1)*qn1'\n",
    "def get_answer(nums):\n",
    "    \n",
    "    b = (nums['cn2']/nums['cn1'])\n",
    "    if b%1 or b==1 or nums['cn2']>nums['qn1']:\n",
    "        return 0\n",
    "    a = b*nums['qn1']\n",
    "    \n",
    "    return a\n",
    "\n",
    "print(gen_new(*(nums, co, q, get_answer, formula, 150)))"
   ]
  },
  {
   "cell_type": "code",
   "execution_count": 320,
   "metadata": {},
   "outputs": [
    {
     "name": "stdout",
     "output_type": "stream",
     "text": [
      "('В урожайные годы у белки в запасах находили до 132 грибов, а желудей — только 2.', 'Во сколько раз меньше белка заготавливает желудей, чем грибов?', 66)\n"
     ]
    }
   ],
   "source": [
    "\t\t500\n",
    "\n"
   ]
  },
  {
   "cell_type": "code",
   "execution_count": 332,
   "metadata": {},
   "outputs": [
    {
     "name": "stdout",
     "output_type": "stream",
     "text": [
      "('Рекомендуемое расстояние от глаз до экрана телевизора в 5 раза больше его диагонали.', 'Чему равняется рекомендуемое расстояние, если диагональ экрана равна 40 дюймов?', 200)\n"
     ]
    }
   ],
   "source": [
    "nums = {'cn1':0,'cn2':0, 'qn1':0}\n",
    "\n",
    "co = \"Рекомендуемое расстояние от глаз до экрана телевизора в {cn1} раза больше его диагонали.\"\n",
    "q = \"Чему равняется рекомендуемое расстояние, если диагональ экрана равна {qn1} дюймов?\"\n",
    "\n",
    "\n",
    "formula = '(cn1*qn1)'\n",
    "def get_answer(nums):\n",
    "    \n",
    "    b = (nums['cn1']*nums['qn1'])\n",
    "    if b%1 or b==nums['qn1'] or nums['cn1']>5:\n",
    "        return 0\n",
    "    a = b\n",
    "    \n",
    "    return a\n",
    "\n",
    "print(gen_new(*(nums, co, q, get_answer, formula, 500)))"
   ]
  },
  {
   "cell_type": "code",
   "execution_count": 339,
   "metadata": {},
   "outputs": [
    {
     "name": "stdout",
     "output_type": "stream",
     "text": [
      "('Акула за 2 минут проплывает 208 м. ', 'Какое расстояние она проплывает за 1 минуту?', 104)\n"
     ]
    }
   ],
   "source": [
    "\t\t100\n",
    "\n",
    "nums = {'cn1':0,'cn2':0, 'qn1':0}\n",
    "\n",
    "co = \"Акула за {cn1} минут проплывает {cn2} м. \"\n",
    "q = \"Какое расстояние она проплывает за 1 минуту?\"\n",
    "\n",
    "\n",
    "formula = '(cn2/cn1)'\n",
    "def get_answer(nums):\n",
    "    \n",
    "    b = (nums['cn2']/nums['cn1'])\n",
    "    if b%1 or b==nums['cn2']:\n",
    "        return 0\n",
    "    a = b\n",
    "    \n",
    "    return a\n",
    "\n",
    "print(gen_new(*(nums, co, q, get_answer, formula, 500)))"
   ]
  },
  {
   "cell_type": "code",
   "execution_count": 353,
   "metadata": {},
   "outputs": [
    {
     "name": "stdout",
     "output_type": "stream",
     "text": [
      "('Ахилес за час пробегает 74 км, а черепаха — на 49 км меньше. ', 'Сколько километров может пробежать черепаха за 1 час?', 25)\n"
     ]
    }
   ],
   "source": [
    "\n",
    "\n",
    "nums = {'cn1':0,'cn2':0, 'qn1':0}\n",
    "\n",
    "co = \"Ахилес за час пробегает {cn1} км, а черепаха — на {cn2} км меньше. \"\n",
    "q = \"Сколько километров может пробежать черепаха за 1 час?\"\n",
    "\n",
    "\n",
    "formula = '(cn2-cn1)'\n",
    "def get_answer(nums):\n",
    "    \n",
    "    b = (nums['cn1']-nums['cn2'])\n",
    "    if b==nums['cn1'] or nums['cn2'] < 30:\n",
    "        return 0\n",
    "    a = b\n",
    "    \n",
    "    return a\n",
    "\n",
    "print(gen_new(*(nums, co, q, get_answer, formula, 100)))"
   ]
  },
  {
   "cell_type": "code",
   "execution_count": 376,
   "metadata": {},
   "outputs": [
    {
     "name": "stdout",
     "output_type": "stream",
     "text": [
      "('В персональной коллекции Евгения собраны марки XIX и XX веков. Марок XX у него 453.', 'Сколько марок XIX века у него в коллекции, если всего марок 1239?', 786)\n"
     ]
    }
   ],
   "source": [
    "\t\t2\n",
    "\n",
    "nums = {'cn1':0,'cn2':0, 'qn1':0}\n",
    "\n",
    "co = \"В персональной коллекции Евгения собраны марки XIX и XX веков. Марок XX у него {cn1}.\"\n",
    "q = \"Сколько марок XIX века у него в коллекции, если всего марок {qn1}?\"\n",
    "\n",
    "\n",
    "formula = '(qn1-cn1)'\n",
    "def get_answer(nums):\n",
    "    \n",
    "    b = (nums['qn1']-nums['cn1'])\n",
    "    if b==nums['qn1']:\n",
    "        return 0\n",
    "    a = b\n",
    "    \n",
    "    return a\n",
    "\n",
    "print(gen_new(*(nums, co, q, get_answer, formula, 1500)))"
   ]
  },
  {
   "cell_type": "code",
   "execution_count": null,
   "metadata": {},
   "outputs": [],
   "source": [
    " \t159"
   ]
  },
  {
   "cell_type": "code",
   "execution_count": null,
   "metadata": {},
   "outputs": [],
   "source": []
  },
  {
   "cell_type": "code",
   "execution_count": null,
   "metadata": {},
   "outputs": [],
   "source": [
    "nums = {'cn1':0,'cn2':0, 'cn3':0, 'cn4':0}\n",
    "\n",
    "co = \"Утром в продуктовый магазин завезли {cn1} л яблочного сока и {cn2} л апельсинового. За день купили {cn3} л яблочного сока, а апельнового только {cn4} л.\"\n",
    "q = \"Сколько литров сока осталось в магазине? \"\n",
    "\n",
    "\n",
    "formula = '(cn1-cn3)+(cn2-cn4)'\n",
    "def get_answer(nums):\n",
    "    if (nums['cn3']-100) < nums['cn4']:\n",
    "        return 0\n",
    "    b = (nums['cn1']-nums['cn3'])+(nums['cn2']-nums['cn4'])\n",
    "    if b==(nums['cn1']+nums['cn2']) or nums['cn1'] < nums['cn3'] or  nums['cn2'] < nums['cn4']:\n",
    "        return 0\n",
    "    a = b\n",
    "    \n",
    "    return a\n",
    "\n",
    "print(gen_new(*(nums, co, q, get_answer, formula, 1500)))"
   ]
  },
  {
   "cell_type": "code",
   "execution_count": 31,
   "metadata": {},
   "outputs": [
    {
     "name": "stdout",
     "output_type": "stream",
     "text": [
      "('Каждый день в пекарне пекут 108 булочек с изюмом и 84 булочек с корицей.', 'Сколько всего булочек выпекают в пекарне за неделю?', 1344)\n"
     ]
    }
   ],
   "source": [
    "\n",
    "\n",
    "nums = {'cn1':0,'cn2':0, 'cn3':0, 'cn4':0}\n",
    "\n",
    "co = \"Каждый день в пекарне пекут {cn1} булочек с изюмом и {cn2} булочек с корицей.\"\n",
    "q = \"Сколько всего булочек выпекают в пекарне за неделю?\"\n",
    "\n",
    "\n",
    "formula = 'cn1+cn2'\n",
    "def get_answer(nums):\n",
    "    if (nums['cn1']) < 5 or nums['cn2'] < 5:\n",
    "        return 0\n",
    "    b = (nums['cn1']+nums['cn2'])*7\n",
    "    \n",
    "    a = b\n",
    "    \n",
    "    return a\n",
    "\n",
    "print(gen_new(*(nums, co, q, get_answer, formula, 1500)))"
   ]
  },
  {
   "cell_type": "code",
   "execution_count": 73,
   "metadata": {},
   "outputs": [
    {
     "name": "stdout",
     "output_type": "stream",
     "text": [
      "('Каждые 75 минут на канале показывают 3 рекламных роликов.', 'Сколько рекламных роликов покажут на канале за 5 часов?', 12)\n"
     ]
    }
   ],
   "source": [
    "\n",
    "nums = {'cn1':0,'cn2':0, 'cn3':0, 'cn4':0, 'qn1':0}\n",
    "\n",
    "co = \"Каждые {cn1} минут на канале показывают {cn2} рекламных роликов.\"\n",
    "q = \"Сколько рекламных роликов покажут на канале за {qn1} часов?\"\n",
    "\n",
    "\n",
    "formula = '(60/cn1)*qn1*cn2'\n",
    "def get_answer(nums):\n",
    "    \n",
    "    if nums['qn1'] > 24:\n",
    "        nums['qn1'] = randint(2, 24)\n",
    "    \n",
    "    if nums['cn2'] > 10:\n",
    "        nums['cn2'] = randint(2, 10)\n",
    "        \n",
    "    if nums['cn1'] > 100:\n",
    "        nums['cn1'] = randint(10, 100)\n",
    "        \n",
    "    b = (60/nums['cn1'])*nums['qn1']*nums['cn2']\n",
    "    if b%1:\n",
    "        return 0\n",
    "    if b <=0:\n",
    "        return 0\n",
    "    a = b\n",
    "    \n",
    "    return a\n",
    "\n",
    "print(gen_new(*(nums, co, q, get_answer, formula, 10000)))"
   ]
  },
  {
   "cell_type": "code",
   "execution_count": 53,
   "metadata": {},
   "outputs": [
    {
     "data": {
      "text/plain": [
       "0"
      ]
     },
     "execution_count": 53,
     "metadata": {},
     "output_type": "execute_result"
    }
   ],
   "source": [
    "12%1"
   ]
  },
  {
   "cell_type": "code",
   "execution_count": 13,
   "metadata": {},
   "outputs": [
    {
     "data": {
      "text/plain": [
       "('Виктор и Кристина вместе взяли из коробки 3060 конфет.',\n",
       " 'Сколько взял Виктор, если Кристина взяла 2694?',\n",
       " 366)"
      ]
     },
     "execution_count": 13,
     "metadata": {},
     "output_type": "execute_result"
    }
   ],
   "source": [
    "gen_new(*fpat[9])"
   ]
  },
  {
   "cell_type": "code",
   "execution_count": 166,
   "metadata": {},
   "outputs": [
    {
     "data": {
      "text/plain": [
       "382"
      ]
     },
     "execution_count": 166,
     "metadata": {},
     "output_type": "execute_result"
    }
   ],
   "source": [
    "176+127+79"
   ]
  },
  {
   "cell_type": "code",
   "execution_count": 74,
   "metadata": {},
   "outputs": [],
   "source": [
    "fpat.append((nums, co, q, get_answer, formula))"
   ]
  },
  {
   "cell_type": "code",
   "execution_count": 75,
   "metadata": {},
   "outputs": [
    {
     "data": {
      "text/plain": [
       "3330"
      ]
     },
     "execution_count": 75,
     "metadata": {},
     "output_type": "execute_result"
    }
   ],
   "source": [
    "len(fpat)*30"
   ]
  },
  {
   "cell_type": "code",
   "execution_count": 172,
   "metadata": {},
   "outputs": [],
   "source": [
    "fpat = fpat[:-1]"
   ]
  },
  {
   "cell_type": "code",
   "execution_count": 60,
   "metadata": {},
   "outputs": [
    {
     "data": {
      "text/plain": [
       "({'cn1': 0, 'cn2': 0},\n",
       " 'У Толи было {cn1} рублей. После похода в кафе у него осталось {cn2}.',\n",
       " 'Сколько он потратил?',\n",
       " <function __main__.get_answer>,\n",
       " 'cn1-cn2')"
      ]
     },
     "execution_count": 60,
     "metadata": {},
     "output_type": "execute_result"
    }
   ],
   "source": [
    "256=(X+24)+x; x=(256-24)/2"
   ]
  },
  {
   "cell_type": "code",
   "execution_count": 73,
   "metadata": {},
   "outputs": [
    {
     "data": {
      "text/plain": [
       "116.0"
      ]
     },
     "execution_count": 73,
     "metadata": {},
     "output_type": "execute_result"
    }
   ],
   "source": [
    "(256-24)/2"
   ]
  },
  {
   "cell_type": "code",
   "execution_count": 75,
   "metadata": {},
   "outputs": [
    {
     "data": {
      "text/plain": [
       "256.0"
      ]
     },
     "execution_count": 75,
     "metadata": {},
     "output_type": "execute_result"
    }
   ],
   "source": [
    "116.0+24+116"
   ]
  },
  {
   "cell_type": "code",
   "execution_count": 103,
   "metadata": {},
   "outputs": [
    {
     "data": {
      "text/plain": [
       "('Длина первой комнаты - 2 метра. Вторая комната в 384 раза длиннее.',\n",
       " 'Какова длина второй комнаты?',\n",
       " 10)"
      ]
     },
     "execution_count": 103,
     "metadata": {},
     "output_type": "execute_result"
    }
   ],
   "source": [
    "gen_new(*(nums, co, q, get_answer, formula, 10))"
   ]
  },
  {
   "cell_type": "code",
   "execution_count": 77,
   "metadata": {},
   "outputs": [
    {
     "data": {
      "text/plain": [
       "3330"
      ]
     },
     "execution_count": 77,
     "metadata": {},
     "output_type": "execute_result"
    }
   ],
   "source": [
    "len(fpat)*30"
   ]
  },
  {
   "cell_type": "code",
   "execution_count": 78,
   "metadata": {},
   "outputs": [],
   "source": [
    "pickle.dump(fpat, open('pattern.pkl', 'wb'))"
   ]
  },
  {
   "cell_type": "code",
   "execution_count": 8,
   "metadata": {},
   "outputs": [],
   "source": [
    "def gen_new(nums, c, q, get_answer, form, rang=10000):\n",
    "    c_len = len([n for n in nums if 'c' in n])\n",
    "    q_len = len([n for n in nums if 'q' in n])\n",
    "    \n",
    "    g_nums = {}\n",
    "#     names_d = {}\n",
    "#     for name in names:\n",
    "#         if 'fname' in name:\n",
    "#             names_d[name] = choice(fnames)\n",
    "#         elif 'mname' in name:\n",
    "#             names_d[name] = choice(mnames)\n",
    "            \n",
    "#     names = names_d\n",
    "    \n",
    "    for i in range(c_len):\n",
    "        g_nums['cn' + str(i+1)] = randint(1, rang)\n",
    "    \n",
    "    for i in range(q_len):\n",
    "        g_nums['qn' + str(i+1)] = randint(1, rang)\n",
    "    \n",
    "    \n",
    "    a = get_answer(g_nums)\n",
    "    \n",
    "    if (a > 1) and (not a%1) and (a <= rang):\n",
    "        return c.format(**g_nums), q.format(**g_nums), int(a)\n",
    "    else:\n",
    "        return gen_new(nums, c, q, get_answer, _, rang)\n",
    "    "
   ]
  },
  {
   "cell_type": "code",
   "execution_count": 114,
   "metadata": {},
   "outputs": [],
   "source": [
    "f = open('augmented_sents.txt', 'a')\n",
    "for i in range(5):\n",
    "    z = gen_new(c, q, nums)\n",
    "    f.write('\\t'.join(map(str, z)) + '\\n')\n",
    "\n",
    "    "
   ]
  },
  {
   "cell_type": "code",
   "execution_count": 115,
   "metadata": {},
   "outputs": [],
   "source": [
    "f.close()"
   ]
  },
  {
   "cell_type": "code",
   "execution_count": 160,
   "metadata": {},
   "outputs": [
    {
     "data": {
      "text/plain": [
       "[]"
      ]
     },
     "execution_count": 160,
     "metadata": {},
     "output_type": "execute_result"
    }
   ],
   "source": [
    "fnames"
   ]
  },
  {
   "cell_type": "code",
   "execution_count": null,
   "metadata": {},
   "outputs": [],
   "source": []
  }
 ],
 "metadata": {
  "kernelspec": {
   "display_name": "Python 3",
   "language": "python",
   "name": "python3"
  },
  "language_info": {
   "codemirror_mode": {
    "name": "ipython",
    "version": 3
   },
   "file_extension": ".py",
   "mimetype": "text/x-python",
   "name": "python",
   "nbconvert_exporter": "python",
   "pygments_lexer": "ipython3",
   "version": "3.5.2"
  }
 },
 "nbformat": 4,
 "nbformat_minor": 2
}
